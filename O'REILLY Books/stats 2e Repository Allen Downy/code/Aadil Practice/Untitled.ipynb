{
 "cells": [
  {
   "cell_type": "code",
   "execution_count": 1,
   "id": "5bb39e51",
   "metadata": {},
   "outputs": [
    {
     "name": "stdout",
     "output_type": "stream",
     "text": [
      "Requirement already satisfied: thinkx in c:\\users\\todays\\appdata\\local\\programs\\python\\python37\\lib\\site-packages (1.1.3)\n",
      "Requirement already satisfied: matplotlib in c:\\users\\todays\\appdata\\local\\programs\\python\\python37\\lib\\site-packages (from thinkx) (3.4.2)\n",
      "Requirement already satisfied: numpy in c:\\users\\todays\\appdata\\local\\programs\\python\\python37\\lib\\site-packages (from thinkx) (1.20.3)\n",
      "Requirement already satisfied: pandas in c:\\users\\todays\\appdata\\local\\programs\\python\\python37\\lib\\site-packages (from thinkx) (1.2.4)\n",
      "Requirement already satisfied: scipy in c:\\users\\todays\\appdata\\local\\programs\\python\\python37\\lib\\site-packages (from thinkx) (1.7.0)\n",
      "Requirement already satisfied: markdown in c:\\users\\todays\\appdata\\local\\programs\\python\\python37\\lib\\site-packages (from thinkx) (3.3.4)\n",
      "Requirement already satisfied: importlib-metadata in c:\\users\\todays\\appdata\\local\\programs\\python\\python37\\lib\\site-packages (from markdown->thinkx) (3.10.1)\n",
      "Requirement already satisfied: zipp>=0.5 in c:\\users\\todays\\appdata\\local\\programs\\python\\python37\\lib\\site-packages (from importlib-metadata->markdown->thinkx) (3.4.1)\n",
      "Requirement already satisfied: typing-extensions>=3.6.4 in c:\\users\\todays\\appdata\\local\\programs\\python\\python37\\lib\\site-packages (from importlib-metadata->markdown->thinkx) (3.10.0.0)\n",
      "Requirement already satisfied: cycler>=0.10 in c:\\users\\todays\\appdata\\local\\programs\\python\\python37\\lib\\site-packages (from matplotlib->thinkx) (0.10.0)\n",
      "Requirement already satisfied: pillow>=6.2.0 in c:\\users\\todays\\appdata\\local\\programs\\python\\python37\\lib\\site-packages (from matplotlib->thinkx) (8.3.1)\n",
      "Requirement already satisfied: kiwisolver>=1.0.1 in c:\\users\\todays\\appdata\\local\\programs\\python\\python37\\lib\\site-packages (from matplotlib->thinkx) (1.3.1)\n",
      "Requirement already satisfied: python-dateutil>=2.7 in c:\\users\\todays\\appdata\\local\\programs\\python\\python37\\lib\\site-packages (from matplotlib->thinkx) (2.8.1)\n",
      "Requirement already satisfied: pyparsing>=2.2.1 in c:\\users\\todays\\appdata\\local\\programs\\python\\python37\\lib\\site-packages (from matplotlib->thinkx) (2.4.7)\n",
      "Requirement already satisfied: six in c:\\users\\todays\\appdata\\local\\programs\\python\\python37\\lib\\site-packages (from cycler>=0.10->matplotlib->thinkx) (1.16.0)\n",
      "Requirement already satisfied: pytz>=2017.3 in c:\\users\\todays\\appdata\\local\\programs\\python\\python37\\lib\\site-packages (from pandas->thinkx) (2021.1)\n",
      "Note: you may need to restart the kernel to use updated packages.\n"
     ]
    },
    {
     "name": "stderr",
     "output_type": "stream",
     "text": [
      "WARNING: Ignoring invalid distribution -ymongo (c:\\users\\todays\\appdata\\local\\programs\\python\\python37\\lib\\site-packages)\n",
      "WARNING: Ignoring invalid distribution -ymongo (c:\\users\\todays\\appdata\\local\\programs\\python\\python37\\lib\\site-packages)\n",
      "WARNING: Ignoring invalid distribution -ymongo (c:\\users\\todays\\appdata\\local\\programs\\python\\python37\\lib\\site-packages)\n",
      "WARNING: Ignoring invalid distribution -ymongo (c:\\users\\todays\\appdata\\local\\programs\\python\\python37\\lib\\site-packages)\n",
      "WARNING: Ignoring invalid distribution -ymongo (c:\\users\\todays\\appdata\\local\\programs\\python\\python37\\lib\\site-packages)\n",
      "WARNING: Ignoring invalid distribution -ymongo (c:\\users\\todays\\appdata\\local\\programs\\python\\python37\\lib\\site-packages)\n",
      "WARNING: You are using pip version 21.1.2; however, version 21.2.2 is available.\n",
      "You should consider upgrading via the 'c:\\users\\todays\\appdata\\local\\programs\\python\\python37\\python.exe -m pip install --upgrade pip' command.\n"
     ]
    }
   ],
   "source": [
    "pip install thinkx"
   ]
  },
  {
   "cell_type": "code",
   "execution_count": 2,
   "id": "02d40abf",
   "metadata": {},
   "outputs": [],
   "source": [
    "from __future__ import print_function, division\n",
    "\n",
    "import sys\n",
    "import numpy as np\n",
    "import thinkstats2\n",
    "\n",
    "from collections import defaultdict\n",
    "\n",
    "\n",
    "def ReadFemResp(dct_file='2002FemResp.dct',\n",
    "                dat_file='2002FemResp.dat.gz',\n",
    "                nrows=None):\n",
    "    \"\"\"Reads the NSFG respondent data.\n",
    "\n",
    "    dct_file: string file name\n",
    "    dat_file: string file name\n",
    "\n",
    "    returns: DataFrame\n",
    "    \"\"\"\n",
    "    dct = thinkstats2.ReadStataDct(dct_file)\n",
    "    df = dct.ReadFixedWidth(dat_file, compression='gzip', nrows=nrows)\n",
    "    CleanFemResp(df)\n",
    "    return df"
   ]
  },
  {
   "cell_type": "code",
   "execution_count": null,
   "id": "efdf54d1",
   "metadata": {},
   "outputs": [],
   "source": []
  }
 ],
 "metadata": {
  "kernelspec": {
   "display_name": "Python 3",
   "language": "python",
   "name": "python3"
  },
  "language_info": {
   "codemirror_mode": {
    "name": "ipython",
    "version": 3
   },
   "file_extension": ".py",
   "mimetype": "text/x-python",
   "name": "python",
   "nbconvert_exporter": "python",
   "pygments_lexer": "ipython3",
   "version": "3.7.4"
  }
 },
 "nbformat": 4,
 "nbformat_minor": 5
}
