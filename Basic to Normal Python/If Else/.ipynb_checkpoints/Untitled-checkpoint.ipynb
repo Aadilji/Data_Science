{
 "cells": [
  {
   "cell_type": "markdown",
   "id": "17b94e6a",
   "metadata": {},
   "source": [
    "### Geekys Shows YT Channel  "
   ]
  },
  {
   "cell_type": "markdown",
   "id": "17cd0fa0",
   "metadata": {},
   "source": [
    "# IF - ELSE STATEMENTS "
   ]
  },
  {
   "cell_type": "raw",
   "id": "82e302ef",
   "metadata": {},
   "source": [
    "# if the condition in if statement, is true then the statement is executed.\n",
    "\n",
    "if(condition):\n",
    "    statment       # indentation is of 4 space\n",
    "Rest of the Code.\n",
    "\n",
    "if(condition):\n",
    "    statment1\n",
    "    statement2     # indentation is of 4 space\n",
    "Rest of the Code."
   ]
  },
  {
   "cell_type": "code",
   "execution_count": 1,
   "id": "87dddd40",
   "metadata": {},
   "outputs": [
    {
     "name": "stdout",
     "output_type": "stream",
     "text": [
      "Aadil\n"
     ]
    }
   ],
   "source": [
    "if 5>2:\n",
    "    print(\"Aadil\") "
   ]
  },
  {
   "cell_type": "code",
   "execution_count": 2,
   "id": "9eafa24b",
   "metadata": {},
   "outputs": [],
   "source": [
    "if 5<2:\n",
    "    print(\"Aadil\")    # False Condition, Code will not get executed."
   ]
  },
  {
   "cell_type": "code",
   "execution_count": 3,
   "id": "8ebe6eb0",
   "metadata": {},
   "outputs": [
    {
     "name": "stdout",
     "output_type": "stream",
     "text": [
      "Aadil\n"
     ]
    }
   ],
   "source": [
    "if 5>2:print(\"Aadil\")     # For single statement, this code can be executed. "
   ]
  },
  {
   "cell_type": "code",
   "execution_count": 4,
   "id": "a73f3ccf",
   "metadata": {},
   "outputs": [
    {
     "name": "stdout",
     "output_type": "stream",
     "text": [
      "Aadil\n",
      "5 is greater than 2\n",
      "rest of the code\n"
     ]
    }
   ],
   "source": [
    "if 5>2:\n",
    "    print(\"Aadil\")\n",
    "    print(\"5 is greater than 2\") \n",
    "print(\"rest of the code\") "
   ]
  },
  {
   "cell_type": "code",
   "execution_count": 5,
   "id": "687ff650",
   "metadata": {},
   "outputs": [
    {
     "name": "stdout",
     "output_type": "stream",
     "text": [
      "rest of the code\n"
     ]
    }
   ],
   "source": [
    "if 5<2:\n",
    "    print(\"Aadil\")\n",
    "    print(\"5 is greater than 2\") \n",
    "print(\"rest of the code\")"
   ]
  },
  {
   "cell_type": "code",
   "execution_count": 6,
   "id": "7913419b",
   "metadata": {},
   "outputs": [
    {
     "name": "stdout",
     "output_type": "stream",
     "text": [
      "Enter number greater than 27\n"
     ]
    }
   ],
   "source": [
    "a = int(input(\"Enter number greater than 2\"))\n",
    "if(a>10):\n",
    "    print(f'{a} is greater than 10') "
   ]
  },
  {
   "cell_type": "code",
   "execution_count": 7,
   "id": "8aaa4b9f",
   "metadata": {},
   "outputs": [
    {
     "name": "stdout",
     "output_type": "stream",
     "text": [
      "Enter number greater than 2: 22\n",
      "22 is greater than 10\n"
     ]
    }
   ],
   "source": [
    "a = int(input(\"Enter number greater than 2: \"))\n",
    "if(a>10):\n",
    "    print(f'{a} is greater than 10')"
   ]
  },
  {
   "cell_type": "markdown",
   "id": "d33631ba",
   "metadata": {},
   "source": [
    "# NESTED IF STATEMENT  "
   ]
  },
  {
   "cell_type": "raw",
   "id": "6abc8073",
   "metadata": {},
   "source": [
    "if(condition):                            1.\n",
    "    block of statement                      1.1\n",
    "    if(condition):                          1.2\n",
    "        block of statement                  1.2.1\n",
    "    if(condition):                          1.3\n",
    "        block of statement                  1.3.1\n",
    "if(condition):                            2\n",
    "    block of statement                      2.1\n",
    "Rest of the Code.                         3"
   ]
  },
  {
   "cell_type": "code",
   "execution_count": 8,
   "id": "43eb2882",
   "metadata": {},
   "outputs": [
    {
     "name": "stdout",
     "output_type": "stream",
     "text": [
      "Greater\n",
      "5 is greater than 2\n",
      "6 is greater than 2\n",
      "Rest of the code \n"
     ]
    }
   ],
   "source": [
    "if 5>2:\n",
    "    print(\"Greater\")\n",
    "    print(\"5 is greater than 2\")\n",
    "    if(6>2):\n",
    "        print(\"6 is greater than 2\")\n",
    "print(\"Rest of the code \") "
   ]
  },
  {
   "cell_type": "code",
   "execution_count": 9,
   "id": "8f5f2ac0",
   "metadata": {},
   "outputs": [
    {
     "name": "stdout",
     "output_type": "stream",
     "text": [
      "Greater\n",
      "5 is greater than 2\n",
      "Rest of the code \n"
     ]
    }
   ],
   "source": [
    "if 5>2:\n",
    "    print(\"Greater\")\n",
    "    print(\"5 is greater than 2\")\n",
    "    if(6<2):\n",
    "        print(\"6 is greater than 2\")\n",
    "print(\"Rest of the code \")"
   ]
  },
  {
   "cell_type": "code",
   "execution_count": 10,
   "id": "0935aa8e",
   "metadata": {},
   "outputs": [
    {
     "name": "stdout",
     "output_type": "stream",
     "text": [
      "Rest of the code \n"
     ]
    }
   ],
   "source": [
    "if 5<2:\n",
    "    print(\"Greater\")\n",
    "    print(\"5 is greater than 2\")\n",
    "    if(6<2):\n",
    "        print(\"6 is greater than 2\")\n",
    "print(\"Rest of the code \")"
   ]
  },
  {
   "cell_type": "code",
   "execution_count": 11,
   "id": "95bbe81a",
   "metadata": {},
   "outputs": [
    {
     "name": "stdout",
     "output_type": "stream",
     "text": [
      "Rest of the code \n"
     ]
    }
   ],
   "source": [
    "if 5<2:\n",
    "    print(\"Greater\")\n",
    "    print(\"5 is greater than 2\")\n",
    "    if(6>2):\n",
    "        print(\"6 is greater than 2\")\n",
    "print(\"Rest of the code \")"
   ]
  },
  {
   "cell_type": "markdown",
   "id": "d02d2140",
   "metadata": {},
   "source": [
    "# IF STATEMENT WITH LOGICAL OPERATOR "
   ]
  },
  {
   "cell_type": "raw",
   "id": "d31a6316",
   "metadata": {},
   "source": [
    "if((condition1) and (condition2)):\n",
    "    statement\n",
    "Rest Of the Code                        \n",
    "                                            T  T  T\n",
    "# WHEN THE CONDITION IS TRUE THEN           T  F  F\n",
    "# oNLY THE IF WILL GET EXECUTED.            F  T  F\n",
    "                                            F  F  F\n",
    "    \n",
    "if((condition1) and (condition2)):\n",
    "    block of the statement\n",
    "Rest Of the Code\n",
    "\n",
    "if((condition1) or (condition2)):          \n",
    "    block of the statement                 T  T  T\n",
    "Rest Of the Code                           T  F  T\n",
    "                                           F  T  T\n",
    "                                           F  F  F\n",
    "    "
   ]
  },
  {
   "cell_type": "code",
   "execution_count": 12,
   "id": "2d158623",
   "metadata": {},
   "outputs": [
    {
     "name": "stdout",
     "output_type": "stream",
     "text": [
      "if statement with logical operator\n",
      "rest of the code\n"
     ]
    }
   ],
   "source": [
    "if 5>2 and 7>3:\n",
    "    print(\"if statement with logical operator\")\n",
    "print(\"rest of the code\") "
   ]
  },
  {
   "cell_type": "code",
   "execution_count": 13,
   "id": "d58788bf",
   "metadata": {},
   "outputs": [
    {
     "name": "stdout",
     "output_type": "stream",
     "text": [
      "if statement with logical operator\n",
      "statement2\n",
      "rest of the code\n"
     ]
    }
   ],
   "source": [
    "if 5>2 and 7>3:\n",
    "    print(\"if statement with logical operator\")\n",
    "    print(\"statement2\") \n",
    "print(\"rest of the code\")"
   ]
  },
  {
   "cell_type": "code",
   "execution_count": 14,
   "id": "448b97ca",
   "metadata": {},
   "outputs": [
    {
     "name": "stdout",
     "output_type": "stream",
     "text": [
      "rest of the code\n"
     ]
    }
   ],
   "source": [
    "if 5>2 and 7<3:\n",
    "    print(\"if statement with logical operator\")\n",
    "    print(\"statement2\") \n",
    "print(\"rest of the code\")"
   ]
  },
  {
   "cell_type": "code",
   "execution_count": 15,
   "id": "81971049",
   "metadata": {},
   "outputs": [
    {
     "name": "stdout",
     "output_type": "stream",
     "text": [
      "if statement with logical operator\n",
      "statement2\n",
      "rest of the code\n"
     ]
    }
   ],
   "source": [
    "if 5>2 or 7<3:\n",
    "    print(\"if statement with logical operator\")\n",
    "    print(\"statement2\") \n",
    "print(\"rest of the code\")"
   ]
  },
  {
   "cell_type": "markdown",
   "id": "bb6febcd",
   "metadata": {},
   "source": [
    "# IF ELSE STATEMENT "
   ]
  },
  {
   "cell_type": "raw",
   "id": "6c4ecefa",
   "metadata": {},
   "source": [
    "if(condition):\n",
    "    Statement1                # if, if is false execute else.\n",
    "else:\n",
    "    Statement2\n",
    "Rest Of The Code\n",
    "\n",
    "if(condition):\n",
    "    Statement1\n",
    "    Statement2\n",
    "else:\n",
    "    Statement1\n",
    "    Statement2\n",
    "Rest Of The Code"
   ]
  },
  {
   "cell_type": "code",
   "execution_count": 16,
   "id": "eea2e82e",
   "metadata": {},
   "outputs": [
    {
     "name": "stdout",
     "output_type": "stream",
     "text": [
      "enter your no. to check the no. value wrt to 7: 78\n",
      "greater\n",
      "statment1\n",
      "rest of the code\n"
     ]
    }
   ],
   "source": [
    "a = int(input(f'enter your no. to check the no. value wrt to 7: '))\n",
    "if a>=7:\n",
    "    print(\"greater\")\n",
    "    print(\"statment1\") \n",
    "else:\n",
    "    print(\"smaller\")\n",
    "    print(\"statement2\") \n",
    "print(f'rest of the code')"
   ]
  },
  {
   "cell_type": "markdown",
   "id": "0e080b1a",
   "metadata": {},
   "source": [
    "# Nested IF-ELSE STATEMENT "
   ]
  },
  {
   "cell_type": "raw",
   "id": "e3f5a9fd",
   "metadata": {},
   "source": [
    "# suppose humko yeh check karna hai ki agar file1 ka naam aa se shuru hota hai to check kro \n",
    "  ki agar aa se shuru ho rha hai aur end z se ho rha hai toh perticular file ko open kro.\n",
    "    aur agar z se koi file end nhi ho rhi hai toh  print krdo no such file found.\n",
    "# aur agar system mai koi bhi aa se file hai hi nhi toh print ke do ki aa se koi file nhi hai present.\n",
    "\n",
    "if(condition1):\n",
    "    if(condition 2):\n",
    "        Statement 1\n",
    "    else:\n",
    "        Statement 2\n",
    "else:\n",
    "    Statement 3 \n",
    "Rest of the code\n",
    "\n",
    "--------------------------\n",
    "\n",
    "if(condition1):\n",
    "    if(condition 2):\n",
    "        Statement 1\n",
    "    else:\n",
    "        Statement 2\n",
    "else:\n",
    "    if(condition 3):\n",
    "        Statement 3\n",
    "    else:\n",
    "        Statement 4 \n",
    "Rest of the code"
   ]
  },
  {
   "cell_type": "code",
   "execution_count": 17,
   "id": "f244f393",
   "metadata": {},
   "outputs": [
    {
     "name": "stdout",
     "output_type": "stream",
     "text": [
      "a is greater than b\n",
      " c is greater than b\n",
      "Rest of the code\n"
     ]
    }
   ],
   "source": [
    "a = 5\n",
    "b = 2\n",
    "c = 6\n",
    "d = 3\n",
    "if(a>b):\n",
    "    print(f'a is greater than b')\n",
    "    if(6>2):\n",
    "        print(f' c is greater than b')\n",
    "    else:\n",
    "        print(f'd is greater')\n",
    "else:\n",
    "    print(f'Rest Of the code') \n",
    "print(\"Rest of the code\")"
   ]
  },
  {
   "cell_type": "code",
   "execution_count": 18,
   "id": "3e199b1e",
   "metadata": {},
   "outputs": [
    {
     "name": "stdout",
     "output_type": "stream",
     "text": [
      "b is greater than a\n",
      "Rest of the code\n"
     ]
    }
   ],
   "source": [
    "a = 5\n",
    "b = 8\n",
    "c = 6\n",
    "d = 3\n",
    "if(a>b):\n",
    "    print(f'a is greater than b')\n",
    "    if(c>d):\n",
    "        print(f' c is greater than b')\n",
    "    else:\n",
    "        print(f'd is greater')\n",
    "else:\n",
    "    print(f'b is greater than a') \n",
    "print(\"Rest of the code\")"
   ]
  },
  {
   "cell_type": "markdown",
   "id": "bb353001",
   "metadata": {},
   "source": [
    "# If - elif - Statement "
   ]
  },
  {
   "cell_type": "raw",
   "id": "91ea3f33",
   "metadata": {},
   "source": [
    "if(condition_1):<br>\n",
    "    <\\t>Statement 1<br>\n",
    "elif(condition_2):<br>\n",
    "   <\\t> Statement 2<br>\n",
    "elif(condition_3):\n",
    "   <\\t> Statement 3<br>\n",
    "elif(condition_n):<br>\n",
    "   <\\t> Statement n<br>\n",
    "Rest Of The Code "
   ]
  },
  {
   "cell_type": "code",
   "execution_count": 19,
   "id": "8dd65dcd",
   "metadata": {},
   "outputs": [],
   "source": [
    "# Only First Code is Executed"
   ]
  },
  {
   "cell_type": "code",
   "execution_count": 20,
   "id": "62eda3af",
   "metadata": {},
   "outputs": [
    {
     "name": "stdout",
     "output_type": "stream",
     "text": [
      "enter your no. a: 56\n",
      "enter your no. b: 41\n",
      "a is greater\n"
     ]
    }
   ],
   "source": [
    "a = int(input(\"enter your no. a: \"))\n",
    "b= int(input(\"enter your no. b: \"))\n",
    "if a>b:\n",
    "    print(\"a is greater\")\n",
    "elif a==b:\n",
    "    print(\"a and b are equal\")\n",
    "elif a<b:\n",
    "    print(\"b is greater\")\n",
    "else:\n",
    "    None  "
   ]
  },
  {
   "cell_type": "code",
   "execution_count": 27,
   "id": "633ee44f",
   "metadata": {},
   "outputs": [
    {
     "name": "stdout",
     "output_type": "stream",
     "text": [
      "enter current Day: TuEsDay\n",
      "today is Tuesday\n"
     ]
    }
   ],
   "source": [
    "a = input(\"enter current Day: \") \n",
    "if a.lower() == \"monday\":\n",
    "    print(f\"today is monday\")\n",
    "elif a.lower() == \"tuesday\":\n",
    "    print(\"today is Tuesday\")\n",
    "else:\n",
    "    print(\"Holiday \")  "
   ]
  },
  {
   "cell_type": "code",
   "execution_count": 31,
   "id": "db67a9c5",
   "metadata": {},
   "outputs": [
    {
     "name": "stdout",
     "output_type": "stream",
     "text": [
      "enter current Day: Wed\n",
      "today is Wednesday\n"
     ]
    }
   ],
   "source": [
    "a = input(\"enter current Day: \") \n",
    "if a.lower() == \"monday\":\n",
    "    print(f\"today is monday\")\n",
    "elif a.lower() == \"tuesday\":\n",
    "    print(\"today is Tuesday\")\n",
    "elif a == \"wed\" or a == \"WED\" or \"Wed\":\n",
    "    print(\"today is Wednesday\")\n",
    "else:\n",
    "    print(\"Holiday \") "
   ]
  }
 ],
 "metadata": {
  "kernelspec": {
   "display_name": "Python 3",
   "language": "python",
   "name": "python3"
  },
  "language_info": {
   "codemirror_mode": {
    "name": "ipython",
    "version": 3
   },
   "file_extension": ".py",
   "mimetype": "text/x-python",
   "name": "python",
   "nbconvert_exporter": "python",
   "pygments_lexer": "ipython3",
   "version": "3.7.4"
  }
 },
 "nbformat": 4,
 "nbformat_minor": 5
}
