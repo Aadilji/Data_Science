{
 "cells": [
  {
   "cell_type": "markdown",
   "id": "b1a0ef6c",
   "metadata": {},
   "source": [
    "# Multi Threading In Threading"
   ]
  },
  {
   "cell_type": "markdown",
   "id": "0c4e1abc",
   "metadata": {},
   "source": [
    "**what is Thread ?** "
   ]
  },
  {
   "cell_type": "markdown",
   "id": "91ccb3ca",
   "metadata": {},
   "source": [
    "*In MS-WORD we can type text, change the fonts, Save in Various FILE Formats.\n",
    "So, Here we have a task to create a file, write some data in it and change its font and save it \n",
    "into a text file format.\n",
    "so, In MS-WORD\n",
    "we have basically distributed a task into smaller process, this small parts is called Threads.\n",
    "A single light process is called as a Thread.* "
   ]
  },
  {
   "cell_type": "markdown",
   "id": "e13793ea",
   "metadata": {},
   "source": [
    "*SO, this threads when works simultaneously is known as multi threading.\n",
    "suppose we have  octa core processor,and we have 8 threads,\n",
    "so each thread works on each core.(8-8).\n",
    "But if the no. of threads are 16, so 2-threads runs on 1 core.(1-2). \n",
    "here the time of thread management is divided between 2 threads on 1 core.* \n"
   ]
  },
  {
   "cell_type": "code",
   "execution_count": 1,
   "id": "f93c77a6",
   "metadata": {},
   "outputs": [],
   "source": [
    "class Hello:\n",
    "    def run(self):\n",
    "        for i in range(5):\n",
    "            print(\"hello\")"
   ]
  },
  {
   "cell_type": "code",
   "execution_count": 2,
   "id": "bba63eeb",
   "metadata": {},
   "outputs": [],
   "source": [
    "class Hi:\n",
    "    def run(self):\n",
    "        for i in range(5):\n",
    "            print(\"hi\")"
   ]
  },
  {
   "cell_type": "code",
   "execution_count": 3,
   "id": "2859b652",
   "metadata": {},
   "outputs": [],
   "source": [
    "# object of Classes.\n",
    "t1  = Hello()\n",
    "t2 = Hi() "
   ]
  },
  {
   "cell_type": "code",
   "execution_count": 4,
   "id": "38e74d4f",
   "metadata": {},
   "outputs": [
    {
     "name": "stdout",
     "output_type": "stream",
     "text": [
      "hello\n",
      "hello\n",
      "hello\n",
      "hello\n",
      "hello\n",
      "hi\n",
      "hi\n",
      "hi\n",
      "hi\n",
      "hi\n"
     ]
    }
   ],
   "source": [
    "# calling functions\n",
    "t1.run()\n",
    "t2.run() "
   ]
  },
  {
   "cell_type": "raw",
   "id": "d2a0574f",
   "metadata": {},
   "source": [
    "So, here what is happening.\n",
    "first the t1.run() is executing then t2.run() is executing, \n",
    "so suppose t1.run() is taking 2 sec to execute\n",
    "and t2.run() is taking another 2 sec to execute. so total it is taking 4 sec.\n",
    "this both function may be running on a single core or multiple core.\n",
    "\n",
    "So, what if we try both function to run simultaneously and parallelly.\n",
    "\n",
    "\n",
    "# POINT TO BE REMEMBER \n",
    "BY Default Every Execution has one thread called a Main Thread.\n"
   ]
  },
  {
   "cell_type": "code",
   "execution_count": 1,
   "id": "601ff3b4",
   "metadata": {},
   "outputs": [
    {
     "name": "stderr",
     "output_type": "stream",
     "text": [
      "WARNING: Ignoring invalid distribution -ymongo (c:\\users\\todays\\appdata\\local\\programs\\python\\python37\\lib\\site-packages)\n",
      "WARNING: Ignoring invalid distribution -ymongo (c:\\users\\todays\\appdata\\local\\programs\\python\\python37\\lib\\site-packages)\n",
      "ERROR: Could not find a version that satisfies the requirement thread (from versions: none)\n",
      "ERROR: No matching distribution found for thread\n",
      "WARNING: Ignoring invalid distribution -ymongo (c:\\users\\todays\\appdata\\local\\programs\\python\\python37\\lib\\site-packages)\n",
      "WARNING: Ignoring invalid distribution -ymongo (c:\\users\\todays\\appdata\\local\\programs\\python\\python37\\lib\\site-packages)\n"
     ]
    }
   ],
   "source": [
    "!pip install thread  "
   ]
  },
  {
   "cell_type": "code",
   "execution_count": 2,
   "id": "9d66d7eb",
   "metadata": {},
   "outputs": [
    {
     "name": "stdout",
     "output_type": "stream",
     "text": [
      "hello\n",
      "hi\n",
      "hello\n",
      "hi\n",
      "hello\n",
      "hi\n",
      "hello\n",
      "hi\n",
      "hello\n",
      "hi\n",
      "Bye\n"
     ]
    }
   ],
   "source": [
    "from threading import *           # thread ka pura module import kar lo\n",
    "from time import sleep            # time mai se sleep import kar lo\n",
    "\n",
    "                      # sleep bolta hai ki fast fast execute mt ho,\n",
    "                      # thorda ruk i.e. for 1 sec phr execute ho\n",
    "                   ## sleep isiliye bhi lagaya taaki printing mix naa ho threading mai.\n",
    "class Hello(Thread):\n",
    "    def run(self):\n",
    "        for i in range(5):\n",
    "            print(\"hello\")\n",
    "            sleep(1)\n",
    "class Hi(Thread):              # hello and hi must be the sub-class of the thread.\n",
    "    def run(self):\n",
    "        for i in range(5):\n",
    "            print(\"hi\")\n",
    "            sleep(1)\n",
    "            \n",
    "t1  = Hello()\n",
    "t2 = Hi() \n",
    "\n",
    "t1.start()      # t1.run()\n",
    "sleep(0.2)     # -------------> # to stop collision.          \n",
    "t2.start()     # t2.run() \n",
    "\n",
    "#              start() isiliye lagaya becoz threading mai pehle se hi ek module present hai run(),\n",
    "#              so problem se bachne ke liye humne start use kiya\n",
    "\n",
    "#              pehle main thread mai 2 thread process the t1 & t2, bugt jaise hi humne, start kiya \n",
    "#              threads ko toh now there is 3 threads:- 1. main thread.\n",
    "#                                                      2. t1 thread.\n",
    "#                                                      3. t2 thread.\n",
    "\n",
    "#  NOW, SUPPOSE HUMKO BYE PRINT KARNA HAI AT THE END OF THE THREADING, SO WE CANNOT DIRECTLY \n",
    "#  WRITE PRINT(\"BYE\"), BECOZ IT WILL PRINT in b/w T1 AND T2, BECOZ MAIN THREAD IS EMPTY\n",
    "#  & IT WILL EXECUTE PRINT IN b/w EXECUTION OF T1 & T2.\n",
    "# SO, WE WILL USE .join() method to run our program smoothly.\n",
    "\n",
    "t1.join()\n",
    "t2.join()\n",
    "\n",
    "print('Bye' ) "
   ]
  },
  {
   "cell_type": "markdown",
   "id": "f354cd6c",
   "metadata": {},
   "source": [
    "**______________________________THREAD KA CONCEPT AUR LAGEGA TOH SIKH LENA---------------------------**"
   ]
  },
  {
   "cell_type": "code",
   "execution_count": null,
   "id": "79476629",
   "metadata": {},
   "outputs": [],
   "source": []
  }
 ],
 "metadata": {
  "kernelspec": {
   "display_name": "Python 3",
   "language": "python",
   "name": "python3"
  },
  "language_info": {
   "codemirror_mode": {
    "name": "ipython",
    "version": 3
   },
   "file_extension": ".py",
   "mimetype": "text/x-python",
   "name": "python",
   "nbconvert_exporter": "python",
   "pygments_lexer": "ipython3",
   "version": "3.7.4"
  }
 },
 "nbformat": 4,
 "nbformat_minor": 5
}
