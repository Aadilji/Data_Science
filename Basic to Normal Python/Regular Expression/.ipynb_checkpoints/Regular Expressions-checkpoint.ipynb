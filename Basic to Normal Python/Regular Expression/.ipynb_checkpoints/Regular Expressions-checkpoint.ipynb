{
 "cells": [
  {
   "cell_type": "markdown",
   "id": "0c878453",
   "metadata": {},
   "source": [
    "# Regular Expressions"
   ]
  },
  {
   "cell_type": "markdown",
   "id": "61c246ec",
   "metadata": {},
   "source": [
    "##### CODE WITH HARRY YT CHANNEL "
   ]
  },
  {
   "cell_type": "markdown",
   "id": "5bf1d715",
   "metadata": {},
   "source": [
    "what is regular expression?<br>\n",
    "actually, regular expression helps us to find and return various pattern from a string. "
   ]
  },
  {
   "cell_type": "code",
   "execution_count": 1,
   "id": "180c2939",
   "metadata": {},
   "outputs": [],
   "source": [
    "import re\n",
    "mystr = '''Tata Limited\n",
    "Dr. David Landsman, executive director\n",
    "18, Grosvenor Place\n",
    "London SW1X 7HSc\n",
    "Phone: +44 (20) 7235 8281\n",
    "Fax: +44 (20) 7235 8727\n",
    "Email: tata@tata.co.uk\n",
    "Website: www.europe.tata.com\n",
    "Directions: View map\n",
    "\n",
    "Tata Sons, North America\n",
    "1700 North Moore St, Suite 1520\n",
    "Arlington, VA 22209-1911\n",
    "USA\n",
    "Phone: +1 (703) 243 9787\n",
    "Fax: +1 (703) 243 9791\n",
    "66-66\n",
    "455-4545\n",
    "Email: northamerica@tata.com \n",
    "Website: www.northamerica.tata.com\n",
    "Directions: View map fass\n",
    "harry bhai lekin\n",
    "bahut hi badia aadmi haiaiinaiiiiiiiiiiii'''"
   ]
  },
  {
   "cell_type": "code",
   "execution_count": 2,
   "id": "f15752de",
   "metadata": {},
   "outputs": [],
   "source": [
    "# findall, search, split, sub, finditer "
   ]
  },
  {
   "cell_type": "markdown",
   "id": "5f152651",
   "metadata": {},
   "source": [
    "## RAW STRING "
   ]
  },
  {
   "cell_type": "markdown",
   "id": "e494fd63",
   "metadata": {},
   "source": [
    "In re we always use raw string to find anything in a string."
   ]
  },
  {
   "cell_type": "code",
   "execution_count": 3,
   "id": "d51a30d8",
   "metadata": {},
   "outputs": [
    {
     "name": "stdout",
     "output_type": "stream",
     "text": [
      "\n",
      "\n"
     ]
    }
   ],
   "source": [
    "st = ('\\n')\n",
    "print(st) "
   ]
  },
  {
   "cell_type": "code",
   "execution_count": 4,
   "id": "a6c50578",
   "metadata": {},
   "outputs": [
    {
     "name": "stdout",
     "output_type": "stream",
     "text": [
      "\\n\n"
     ]
    }
   ],
   "source": [
    "st = (r'\\n') \n",
    "print(st)"
   ]
  },
  {
   "cell_type": "code",
   "execution_count": 5,
   "id": "54969365",
   "metadata": {},
   "outputs": [
    {
     "name": "stdout",
     "output_type": "stream",
     "text": [
      "<re.Match object; span=(448, 452), match='fass'>\n"
     ]
    }
   ],
   "source": [
    "patt = re.compile(r'fass') # by compile we take out a pattern from a string & store it into a variable.\n",
    "\n",
    "matches = patt.finditer(mystr)\n",
    "for match in matches:\n",
    "    print(match) \n",
    "                   # here for loop return us a match object."
   ]
  },
  {
   "cell_type": "code",
   "execution_count": 6,
   "id": "6eaa38b2",
   "metadata": {},
   "outputs": [
    {
     "name": "stdout",
     "output_type": "stream",
     "text": [
      "fass\n"
     ]
    }
   ],
   "source": [
    "print(mystr[448:452]) "
   ]
  },
  {
   "cell_type": "markdown",
   "id": "365e6c20",
   "metadata": {},
   "source": [
    "*__________________________________English Edureka Channel___________________________________________________________________*"
   ]
  },
  {
   "cell_type": "code",
   "execution_count": 7,
   "id": "d56cafe1",
   "metadata": {},
   "outputs": [],
   "source": [
    "import re\n",
    "\n",
    "NameAge = '''\n",
    "Janice is 22 and Theon is 33\n",
    "Gabriel is 44 and Jeoy is 21\n",
    "'''\n",
    "\n",
    "ages = re.findall(r'\\d{1,3}', NameAge)\n",
    "names = re.findall(r'[A-Z][a-z]*', NameAge) "
   ]
  },
  {
   "cell_type": "code",
   "execution_count": 8,
   "id": "163d0cba",
   "metadata": {},
   "outputs": [
    {
     "data": {
      "text/plain": [
       "['22', '33', '44', '21']"
      ]
     },
     "execution_count": 8,
     "metadata": {},
     "output_type": "execute_result"
    }
   ],
   "source": [
    "ages  "
   ]
  },
  {
   "cell_type": "code",
   "execution_count": 9,
   "id": "6e67deeb",
   "metadata": {},
   "outputs": [
    {
     "data": {
      "text/plain": [
       "['Janice', 'Theon', 'Gabriel', 'Jeoy']"
      ]
     },
     "execution_count": 9,
     "metadata": {},
     "output_type": "execute_result"
    }
   ],
   "source": [
    "names "
   ]
  },
  {
   "cell_type": "code",
   "execution_count": 10,
   "id": "06de3bcf",
   "metadata": {},
   "outputs": [
    {
     "name": "stdout",
     "output_type": "stream",
     "text": [
      "{'Janice': '22', 'Theon': '33', 'Gabriel': '44', 'Jeoy': '21'}\n"
     ]
    }
   ],
   "source": [
    "ageDict = {}\n",
    "x = 0\n",
    "for eachname in names:\n",
    "    ageDict[eachname] = ages[x]\n",
    "    x = x+1\n",
    "    \n",
    "print(ageDict) "
   ]
  },
  {
   "cell_type": "code",
   "execution_count": 11,
   "id": "7284855d",
   "metadata": {},
   "outputs": [
    {
     "name": "stdout",
     "output_type": "stream",
     "text": [
      "{'Janice': '22', 'Theon': '33', 'Gabriel': '44', 'Jeoy': '21'}\n"
     ]
    }
   ],
   "source": [
    "# Full Code:-\n",
    "\n",
    "import re\n",
    "\n",
    "NameAge = '''\n",
    "Janice is 22 and Theon is 33\n",
    "Gabriel is 44 and Jeoy is 21\n",
    "'''\n",
    "\n",
    "ages = re.findall(r'\\d{1,3}', NameAge)\n",
    "names = re.findall(r'[A-Z][a-z]*', NameAge)\n",
    "\n",
    "ageDict = {}\n",
    "x = 0\n",
    "for eachname in names:\n",
    "    ageDict[eachname] = ages[x]\n",
    "    x = x+1\n",
    "    \n",
    "print(ageDict) "
   ]
  },
  {
   "cell_type": "markdown",
   "id": "884a1c11",
   "metadata": {},
   "source": [
    "### re.search() "
   ]
  },
  {
   "cell_type": "code",
   "execution_count": 12,
   "id": "99e6b52f",
   "metadata": {},
   "outputs": [
    {
     "name": "stdout",
     "output_type": "stream",
     "text": [
      "there is inform\n"
     ]
    }
   ],
   "source": [
    "# Searching Inform in string.\n",
    "\n",
    "import re\n",
    "\n",
    "if re.search(\"inform\",\"we need to inform him with the latest information\"):\n",
    "    print(\"there is inform\") "
   ]
  },
  {
   "cell_type": "code",
   "execution_count": 13,
   "id": "e333eabd",
   "metadata": {},
   "outputs": [
    {
     "name": "stdout",
     "output_type": "stream",
     "text": [
      "<re.Match object; span=(8, 15), match='\\\\drogba'>\n"
     ]
    }
   ],
   "source": [
    "import re \n",
    "\n",
    "randstr = \"here is \\\\drogba\"\n",
    "\n",
    "print(re.search(r\"\\\\drogba\",randstr)) "
   ]
  },
  {
   "cell_type": "code",
   "execution_count": 14,
   "id": "93464494",
   "metadata": {},
   "outputs": [
    {
     "name": "stdout",
     "output_type": "stream",
     "text": [
      "<re.Match object; span=(0, 5), match='Start'>\n"
     ]
    }
   ],
   "source": [
    "sentence = 'Start a sentence and bring it to an end'\n",
    "\n",
    "pattern = re.compile(r'start',re.IGNORECASE)     # IGNORECASE can also be written as \"I\".         \n",
    "\n",
    "matches = pattern.search(sentence)\n",
    "\n",
    "print(matches) "
   ]
  },
  {
   "cell_type": "markdown",
   "id": "1d0559af",
   "metadata": {},
   "source": [
    "### re.finditer()`"
   ]
  },
  {
   "cell_type": "markdown",
   "id": "b985c3e0",
   "metadata": {},
   "source": [
    "It is used to generate iterator,<br>by this we get startring and the ending index for the word we are searching for. "
   ]
  },
  {
   "cell_type": "code",
   "execution_count": 15,
   "id": "c2edc685",
   "metadata": {},
   "outputs": [
    {
     "name": "stdout",
     "output_type": "stream",
     "text": [
      "(11, 17)\n",
      "(38, 44)\n"
     ]
    }
   ],
   "source": [
    "import re\n",
    "\n",
    "str = \"we need to inform him with the latest information\"\n",
    "\n",
    "for i in re.finditer(\"inform\", str):           # iter gives us index no.\n",
    "    \n",
    "    loctup = i.span()     # To get our answer in a tuple.\n",
    "    print(loctup)\n",
    "\n",
    "# re.MatchObject.span() method returns a tuple containing starting\n",
    "# and ending index of the matched string. \n",
    "# If group did not contribute to the match it returns(-1,-1) '''\n",
    "\n",
    "# Syntax: re.MatchObject.span()"
   ]
  },
  {
   "cell_type": "markdown",
   "id": "e7db6ca1",
   "metadata": {},
   "source": [
    "### re.findall() "
   ]
  },
  {
   "cell_type": "markdown",
   "id": "bc2268b5",
   "metadata": {},
   "source": [
    "It will return list of matches"
   ]
  },
  {
   "cell_type": "code",
   "execution_count": 16,
   "id": "da23d1f1",
   "metadata": {},
   "outputs": [
    {
     "name": "stdout",
     "output_type": "stream",
     "text": [
      "inform\n",
      "inform\n"
     ]
    }
   ],
   "source": [
    "import re\n",
    "\n",
    "allinform = re.findall(\"inform\",\"we need to inform him with the latest information\")\n",
    "\n",
    "for i in allinform:\n",
    "    print(i) "
   ]
  },
  {
   "cell_type": "markdown",
   "id": "d255d25e",
   "metadata": {},
   "source": [
    "Pattern "
   ]
  },
  {
   "cell_type": "code",
   "execution_count": 17,
   "id": "8f2233e5",
   "metadata": {},
   "outputs": [
    {
     "name": "stdout",
     "output_type": "stream",
     "text": [
      "Sat\n",
      "hat\n",
      "mat\n",
      "pat\n"
     ]
    }
   ],
   "source": [
    "import re \n",
    "\n",
    "str = \"Sat,hat,mat,pat\"\n",
    "\n",
    "allstr = re.findall(\"[Shmp]at\",str)\n",
    "\n",
    "for i in allstr:\n",
    "    print(i)"
   ]
  },
  {
   "cell_type": "code",
   "execution_count": 18,
   "id": "897b4954",
   "metadata": {},
   "outputs": [
    {
     "name": "stdout",
     "output_type": "stream",
     "text": [
      "hat\n",
      "mat\n"
     ]
    }
   ],
   "source": [
    "import re \n",
    "\n",
    "str = \"Sat,hat,mat,pat\"\n",
    "\n",
    "allstr = re.findall(\"[h-m]at\",str)\n",
    "\n",
    "for i in allstr:\n",
    "    print(i) "
   ]
  },
  {
   "cell_type": "code",
   "execution_count": 19,
   "id": "b08a8e00",
   "metadata": {},
   "outputs": [
    {
     "name": "stdout",
     "output_type": "stream",
     "text": [
      "hat\n",
      "mat\n",
      "pat\n"
     ]
    }
   ],
   "source": [
    "import re \n",
    "\n",
    "str = \"Sat,hat,mat,pat\"\n",
    "\n",
    "allstr = re.findall(\"[h-z]at\",str)\n",
    "\n",
    "for i in allstr:\n",
    "    print(i)"
   ]
  },
  {
   "cell_type": "code",
   "execution_count": 20,
   "id": "d0a1c9a5",
   "metadata": {},
   "outputs": [
    {
     "name": "stdout",
     "output_type": "stream",
     "text": [
      "sat\n",
      "hat\n",
      "mat\n",
      "pat\n"
     ]
    }
   ],
   "source": [
    "import re \n",
    "\n",
    "str = \"sat,hat,mat,pat\"\n",
    "\n",
    "allstr = re.findall(\"[h-z]at\",str)\n",
    "\n",
    "for i in allstr:\n",
    "    print(i)"
   ]
  },
  {
   "cell_type": "code",
   "execution_count": 21,
   "id": "5ce96cc0",
   "metadata": {},
   "outputs": [
    {
     "name": "stdout",
     "output_type": "stream",
     "text": [
      "Sat\n",
      "pat\n"
     ]
    }
   ],
   "source": [
    "# carrot symbol(^)\n",
    "\n",
    "import re \n",
    "\n",
    "str = \"Sat,hat,mat,pat\"\n",
    "\n",
    "allstr = re.findall(\"[^h-m]at\",str)    # exclude characters between (h-m)\n",
    "\n",
    "for i in allstr:\n",
    "    print(i)"
   ]
  },
  {
   "cell_type": "markdown",
   "id": "87263203",
   "metadata": {},
   "source": [
    "# Compile & Sub "
   ]
  },
  {
   "cell_type": "markdown",
   "id": "b649f9d4",
   "metadata": {},
   "source": [
    "The re.compile() method<br> \n",
    "re.compile(pattern, repl, string):\n",
    "\n",
    " We can combine a regular expression pattern into pattern objects,\n",
    "which can be used for pattern matching. It also helps to search a pattern again without rewriting it."
   ]
  },
  {
   "cell_type": "code",
   "execution_count": 22,
   "id": "ec0e15f5",
   "metadata": {},
   "outputs": [
    {
     "name": "stdout",
     "output_type": "stream",
     "text": [
      "Sat,hat,food,pat\n"
     ]
    }
   ],
   "source": [
    "import re \n",
    "\n",
    "food = \"Sat,hat,rat,pat\" \n",
    "\n",
    "regex = re.compile(\"[r]at\")    # regular expression pattern to pattern object.  \n",
    "\n",
    "food = regex.sub(\"food\",food)  \n",
    "print(food) "
   ]
  },
  {
   "cell_type": "markdown",
   "id": "c08a8765",
   "metadata": {},
   "source": [
    "# SPACES "
   ]
  },
  {
   "cell_type": "code",
   "execution_count": 23,
   "id": "eada0ba1",
   "metadata": {},
   "outputs": [
    {
     "name": "stdout",
     "output_type": "stream",
     "text": [
      "\n",
      "keep the blue flag \n",
      "flying high\n",
      "Chelsea\n",
      " keep the blue flag  flying high Chelsea\n"
     ]
    }
   ],
   "source": [
    "# remove new line and add replace it with space.\n",
    "import re\n",
    "\n",
    "randstrd = '''\n",
    "keep the blue flag \n",
    "flying high\n",
    "Chelsea'''\n",
    "\n",
    "print(randstrd)\n",
    "\n",
    "regex = re.compile(\"\\n\")\n",
    "\n",
    "randstrd = regex.sub(\" \",randstrd) \n",
    "\n",
    "print(randstrd) "
   ]
  },
  {
   "cell_type": "markdown",
   "id": "b413d06b",
   "metadata": {},
   "source": [
    "* \\b: backspace<br>\n",
    "  \\f: formfeed<br>\n",
    "  \\r: carriage return<br>\n",
    "  \\t: Tab<br>\n",
    "  \\v: Vertical tab<br>"
   ]
  },
  {
   "cell_type": "markdown",
   "id": "ff52810a",
   "metadata": {},
   "source": [
    "# \\d and \\D"
   ]
  },
  {
   "cell_type": "code",
   "execution_count": 24,
   "id": "94758d31",
   "metadata": {},
   "outputs": [
    {
     "name": "stdout",
     "output_type": "stream",
     "text": [
      "Matches: 5\n"
     ]
    }
   ],
   "source": [
    "import re\n",
    "\n",
    "randstr = \"12345\"\n",
    "print(\"Matches:\",len(re.findall(\"\\d\", randstr)))    # match every digits"
   ]
  },
  {
   "cell_type": "code",
   "execution_count": 25,
   "id": "133c5456",
   "metadata": {},
   "outputs": [
    {
     "name": "stdout",
     "output_type": "stream",
     "text": [
      "Matches: 0\n"
     ]
    }
   ],
   "source": [
    "import re\n",
    "\n",
    "randstr = \"12345\"\n",
    "print(\"Matches:\",len(re.findall(\"\\D\", randstr)))    # match everything excepts digits. "
   ]
  },
  {
   "cell_type": "code",
   "execution_count": 26,
   "id": "e98e6b9a",
   "metadata": {},
   "outputs": [
    {
     "name": "stdout",
     "output_type": "stream",
     "text": [
      "Matches: 15\n"
     ]
    }
   ],
   "source": [
    "import re\n",
    "\n",
    "randstr = \"12345 Aadil Mansoori\" \n",
    "print(\"Matches:\",len(re.findall(\"\\D\", randstr)))"
   ]
  },
  {
   "cell_type": "code",
   "execution_count": 27,
   "id": "e2517a9b",
   "metadata": {},
   "outputs": [
    {
     "name": "stdout",
     "output_type": "stream",
     "text": [
      "Matches: 1\n"
     ]
    }
   ],
   "source": [
    "# Matching a perticular int. \n",
    "import re\n",
    "\n",
    "randstr = \"12345\"\n",
    "print(\"Matches:\",len(re.findall(\"\\d{5}\", randstr))) "
   ]
  },
  {
   "cell_type": "code",
   "execution_count": 28,
   "id": "82a2d4d2",
   "metadata": {},
   "outputs": [
    {
     "name": "stdout",
     "output_type": "stream",
     "text": [
      "Matches: 3\n"
     ]
    }
   ],
   "source": [
    "# matching numbers to a range.\n",
    "import re\n",
    "\n",
    "randstr = \"12345 1234 123456 1234567\"\n",
    "print(\"Matches:\",len(re.findall(\"\\d{5,7}\", randstr))) "
   ]
  },
  {
   "cell_type": "markdown",
   "id": "4fa9a380",
   "metadata": {},
   "source": [
    "# APPLICATIONS OF REGULAR EXPRESSIONS "
   ]
  },
  {
   "cell_type": "markdown",
   "id": "85fdf9d9",
   "metadata": {},
   "source": [
    "\\w = [a-z,A-Z,0-9,_]        # it matches all the things present into the boxes.<br>\n",
    "\n",
    "\\W = [^a-z,A-Z,0-9]         # it matches all the thing except present in the boxes"
   ]
  },
  {
   "cell_type": "code",
   "execution_count": 29,
   "id": "0ced5cf5",
   "metadata": {},
   "outputs": [
    {
     "name": "stdout",
     "output_type": "stream",
     "text": [
      "it is a phone number\n"
     ]
    }
   ],
   "source": [
    "#  matching a phone number:-\n",
    "\n",
    "phn = \"412-555-1212\"\n",
    "\n",
    "if re.search(\"\\w{3}-\\w{3}-\\w{4}\",phn):\n",
    "    print(\"it is a phone number\") "
   ]
  },
  {
   "cell_type": "code",
   "execution_count": 30,
   "id": "ead5e184",
   "metadata": {},
   "outputs": [
    {
     "name": "stdout",
     "output_type": "stream",
     "text": [
      "it is a phone number\n"
     ]
    }
   ],
   "source": [
    "phn = \"412-555-1212\"\n",
    "\n",
    "if re.search(\"\\d{3}-\\d{3}-\\d{4}\",phn): \n",
    "    print(\"it is a phone number\")"
   ]
  },
  {
   "cell_type": "code",
   "execution_count": 31,
   "id": "2dcc4ec7",
   "metadata": {},
   "outputs": [
    {
     "name": "stdout",
     "output_type": "stream",
     "text": [
      "it is not a phone number\n",
      "it is not a phone number\n",
      "it is a phone number\n"
     ]
    }
   ],
   "source": [
    "phn = \"412-5551-1212\"\n",
    "if re.search(\"\\d{3}-\\d{3}-\\d{4}\",phn): \n",
    "    print(\"it is a phone number\")\n",
    "else:\n",
    "    print(\"it is not a phone number\")\n",
    "    \n",
    "phn = \"412-5515-1212\"\n",
    "if re.search(\"\\w{3}-\\w{3}-\\w{4}\",phn): \n",
    "    print(\"it is a phone number\")\n",
    "else:\n",
    "    print(\"it is not a phone number\") \n",
    "    \n",
    "phn = \"412-55a-1212\"\n",
    "if re.search(\"\\w{3}-\\w{3}-\\w{4}\",phn): \n",
    "    print(\"it is a phone number\")\n",
    "else:\n",
    "    print(\"it is not a phone number\")"
   ]
  },
  {
   "cell_type": "markdown",
   "id": "3d40d57a",
   "metadata": {},
   "source": [
    "<br>\\s = [\\f,\\n,\\r,\\t,\\v]<br>\n",
    "\\S = [^\\f,\\n\\r,\\t,\\v]"
   ]
  },
  {
   "cell_type": "code",
   "execution_count": 32,
   "id": "7362f869",
   "metadata": {},
   "outputs": [
    {
     "name": "stdout",
     "output_type": "stream",
     "text": [
      "full name is Valid\n"
     ]
    }
   ],
   "source": [
    "# Validating Full Name\n",
    "import re \n",
    "\n",
    "if re.search(\"\\w{2,20}\\s\\w{2,20}\",\"Aadil Mansoori\"):        # s is a space.\n",
    "    print(\"full name is Valid\")"
   ]
  },
  {
   "cell_type": "code",
   "execution_count": 33,
   "id": "87efe57e",
   "metadata": {},
   "outputs": [],
   "source": [
    "# Varifying the e-mail address\n",
    "import re \n",
    "\n",
    "email = \"skit@zaoaol.com md@.com @seo.com dc@.com aadil@gmail.com\" "
   ]
  },
  {
   "cell_type": "code",
   "execution_count": 34,
   "id": "11360e8e",
   "metadata": {},
   "outputs": [
    {
     "name": "stdout",
     "output_type": "stream",
     "text": [
      "EmailMatches: 0\n"
     ]
    }
   ],
   "source": [
    "print(\"EmailMatches:\", len(re.findall('[\\w._%+-]{1,20}@[\\w.-]{2-20}.[A-Za-z]{2,3}', email)))  "
   ]
  },
  {
   "cell_type": "code",
   "execution_count": 35,
   "id": "9f1f3634",
   "metadata": {},
   "outputs": [],
   "source": [
    "email = 'rahul@incognitor.com md@com @seo.com dc@com'"
   ]
  },
  {
   "cell_type": "code",
   "execution_count": 36,
   "id": "40c3949e",
   "metadata": {},
   "outputs": [
    {
     "name": "stdout",
     "output_type": "stream",
     "text": [
      "Email Matches: 1\n"
     ]
    }
   ],
   "source": [
    "print(\"Email Matches:\", len(re.findall('[\\w._%+-]{1,20}@[\\w.-]{2,20}.[A-Za-z]{2,3}',email))) \n",
    "\n",
    "                                 # [\\w._%+-] = iska mtlb  w ke saath(_%+-) bhi chalega.\n",
    "                                 # {1,20}  =  value should be b\\w 1 to 19."
   ]
  },
  {
   "cell_type": "code",
   "execution_count": 37,
   "id": "cce0d114",
   "metadata": {},
   "outputs": [
    {
     "name": "stdout",
     "output_type": "stream",
     "text": [
      "Email Matches: 2\n"
     ]
    }
   ],
   "source": [
    "email = 'rahul@incognitor.com  md@com  @seo.com  dc@com  rahul@incognitor.com'\n",
    "\n",
    "print(\"Email Matches:\", len(re.findall('[\\w._%+-]{1,20}@[\\w.-]{2,20}.[A-Za-z]{2,3}',email)))\n",
    "\n",
    "                           # space b/w emails is more than 1.  becoz 1-space prblm de rha h."
   ]
  },
  {
   "cell_type": "markdown",
   "id": "fc2a95e9",
   "metadata": {},
   "source": [
    "# WebScrap "
   ]
  },
  {
   "cell_type": "code",
   "execution_count": 38,
   "id": "d9be9c43",
   "metadata": {},
   "outputs": [],
   "source": [
    "# Code of Web Scrapping:-\n",
    "import urllib.request\n",
    "from re import findall\n",
    "\n",
    "url = \"https://www.summet.com/dmsi/html/codesamples/addresses.html\"\n",
    "\n",
    "response = urllib.request.urlopen(url)\n",
    "\n",
    "html = response.read()\n",
    "\n",
    "htmlStr = html.decode()"
   ]
  },
  {
   "cell_type": "code",
   "execution_count": 39,
   "id": "32907e58",
   "metadata": {},
   "outputs": [
    {
     "name": "stdout",
     "output_type": "stream",
     "text": [
      "(257) 563-7401\n",
      "(372) 587-2335\n",
      "(786) 713-8616\n",
      "(793) 151-6230\n",
      "(492) 709-6392\n",
      "(654) 393-5734\n",
      "(404) 960-3807\n",
      "(314) 244-6306\n",
      "(947) 278-5929\n",
      "(684) 579-1879\n",
      "(389) 737-2852\n",
      "(660) 663-4518\n",
      "(608) 265-2215\n",
      "(959) 119-8364\n",
      "(468) 353-2641\n",
      "(248) 675-4007\n",
      "(939) 353-1107\n",
      "(570) 873-7090\n",
      "(302) 259-2375\n",
      "(717) 450-4729\n",
      "(453) 391-4650\n",
      "(559) 104-5475\n",
      "(387) 142-9434\n",
      "(516) 745-4496\n",
      "(326) 677-3419\n",
      "(746) 679-2470\n",
      "(455) 430-0989\n",
      "(490) 936-4694\n",
      "(985) 834-8285\n",
      "(662) 661-1446\n",
      "(802) 668-8240\n",
      "(477) 768-9247\n",
      "(791) 239-9057\n",
      "(832) 109-0213\n",
      "(837) 196-3274\n",
      "(268) 442-2428\n",
      "(850) 676-5117\n",
      "(861) 546-5032\n",
      "(176) 805-4108\n",
      "(715) 912-6931\n",
      "(993) 554-0563\n",
      "(357) 616-5411\n",
      "(121) 347-0086\n",
      "(304) 506-6314\n",
      "(425) 288-2332\n",
      "(145) 987-4962\n",
      "(187) 582-9707\n",
      "(750) 558-3965\n",
      "(492) 467-3131\n",
      "(774) 914-2510\n",
      "(888) 106-8550\n",
      "(539) 567-3573\n",
      "(693) 337-2849\n",
      "(545) 604-9386\n",
      "(221) 156-5026\n",
      "(414) 876-0865\n",
      "(932) 726-8645\n",
      "(726) 710-9826\n",
      "(622) 594-1662\n",
      "(948) 600-8503\n",
      "(605) 900-7508\n",
      "(716) 977-5775\n",
      "(368) 239-8275\n",
      "(725) 342-0650\n",
      "(711) 993-5187\n",
      "(882) 399-5084\n",
      "(287) 755-9948\n",
      "(659) 551-3389\n",
      "(275) 730-6868\n",
      "(725) 757-4047\n",
      "(314) 882-1496\n",
      "(639) 360-7590\n",
      "(168) 222-1592\n",
      "(896) 303-1164\n",
      "(203) 982-6130\n",
      "(906) 217-1470\n",
      "(614) 514-1269\n",
      "(763) 409-5446\n",
      "(836) 292-5324\n",
      "(926) 709-3295\n",
      "(963) 356-9268\n",
      "(736) 522-8584\n",
      "(410) 483-0352\n",
      "(252) 204-1434\n",
      "(874) 886-4174\n",
      "(581) 379-7573\n",
      "(983) 632-8597\n",
      "(295) 983-3476\n",
      "(873) 392-8802\n",
      "(360) 669-3923\n",
      "(840) 987-9449\n",
      "(422) 517-6053\n",
      "(126) 940-2753\n",
      "(427) 930-5255\n",
      "(689) 721-5145\n",
      "(676) 334-2174\n",
      "(437) 994-5270\n",
      "(564) 908-6970\n",
      "(577) 333-6244\n",
      "(655) 840-6139\n"
     ]
    }
   ],
   "source": [
    "pddata = findall(\"\\(\\d{3}\\) \\d{3}-\\d{4}\", htmlStr)   # (r'\\d\\d\\d-\\d\\d\\d-\\d\\d\\d\\d) == d{3}-d{3}-d{4}\n",
    "\n",
    "for i in pddata:\n",
    "    print(i) "
   ]
  },
  {
   "cell_type": "markdown",
   "id": "2eb204b0",
   "metadata": {},
   "source": [
    "### YT CHANNEL Crack Concept"
   ]
  },
  {
   "cell_type": "code",
   "execution_count": 40,
   "id": "5206e11d",
   "metadata": {},
   "outputs": [
    {
     "data": {
      "image/jpeg": "[encoded data removed]",
      "text/plain": [
       "<IPython.core.display.Image object>"
      ]
     },
     "execution_count": 40,
     "metadata": {},
     "output_type": "execute_result"
    }
   ],
   "source": [
    "from IPython.display import Image\n",
    "Image(filename='My Docs_1.jpg')   "
   ]
  },
  {
   "cell_type": "code",
   "execution_count": 41,
   "id": "36da9649",
   "metadata": {},
   "outputs": [
    {
     "data": {
      "image/jpeg": "[encoded data removed]",
      "text/plain": [
       "<IPython.core.display.Image object>"
      ]
     },
     "execution_count": 41,
     "metadata": {},
     "output_type": "execute_result"
    }
   ],
   "source": [
    "from IPython.display import Image\n",
    "Image(filename='My Docs_2.jpg') "
   ]
  },
  {
   "cell_type": "code",
   "execution_count": 42,
   "id": "66ac0584",
   "metadata": {},
   "outputs": [
    {
     "data": {
      "image/jpeg": "[encoded data removed]",
      "text/plain": [
       "<IPython.core.display.Image object>"
      ]
     },
     "execution_count": 42,
     "metadata": {},
     "output_type": "execute_result"
    }
   ],
   "source": [
    "from IPython.display import Image\n",
    "Image(filename='My Docs_3.jpg') "
   ]
  },
  {
   "cell_type": "markdown",
   "id": "a73adc34",
   "metadata": {},
   "source": [
    "# Examples:-\n",
    "1) Mobile No. --> start with 8 or 9 and total digit should be 10<br>\n",
    "Ans:- [89][0-9]{9}<br> \n",
    "    \n",
    "    first digit shoul be 8 or 9\n",
    "    then remaining 9 digit can be from 0-9,\n",
    "    and this should be repeat for 9 times"
   ]
  },
  {
   "cell_type": "markdown",
   "id": "69831a73",
   "metadata": {},
   "source": [
    "2) First Character should be upper case, contains lower case alphabates, only one digit allowed in between.<br>\n",
    "Ans:- [A-Z][a-z]*[0-9][a-z]*<br>\n",
    "    \n",
    "                    * = this box can be repeated for 0 or n no. of times.\n",
    "    [a-z]*[0-9][a-z]* = this means that only 1 digit is allowed between smaller case.(a-z)\n",
    "               [a-z]* = [a-z] can be repeated for 0 or n no. of times."
   ]
  },
  {
   "cell_type": "markdown",
   "id": "1df43d64",
   "metadata": {},
   "source": [
    "3) Email ID :- sadia123@gmail.com<br>\n",
    "\n",
    "First part of email can have [0-9][A-Z][a-z][-,_,.] etc.<br>\n",
    "In second part we want @<br>\n",
    "In Third Part we want [a-z]<br>\n",
    "In Forth part we need .<br>\n",
    "In last part we need [a-z]<br>\n",
    "\n",
    "Ans:- [a-zA-Z0-9\\-\\_\\,]+[@][a-z]+[\\.][a-z]{2,4}<br> \n",
    "                                               \n",
    "        {2,4}= basically means that it can allow 2 to 3 characters. i.e.:- .in and .com\n",
    "            "
   ]
  },
  {
   "cell_type": "markdown",
   "id": "3115b804",
   "metadata": {},
   "source": [
    "## Searching special characters."
   ]
  },
  {
   "cell_type": "markdown",
   "id": "7b86e579",
   "metadata": {},
   "source": [
    "To search a special characters we have to write that character after backslash \\\\. \\\\- \\\\_ etc."
   ]
  },
  {
   "cell_type": "code",
   "execution_count": 43,
   "id": "0bbe2e9b",
   "metadata": {},
   "outputs": [
    {
     "name": "stdout",
     "output_type": "stream",
     "text": [
      "<re.Match object; span=(6, 17), match='coreyms.com'>\n"
     ]
    }
   ],
   "source": [
    "email = \"aadil_coreyms.com\"\n",
    "\n",
    "pattern = re.compile(r'coreyms\\.com')\n",
    "\n",
    "matches = pattern.finditer(email)\n",
    "\n",
    "for match in matches:\n",
    "    print(match) "
   ]
  },
  {
   "cell_type": "markdown",
   "id": "7e11e991",
   "metadata": {},
   "source": [
    "## word Boundry \\\\b "
   ]
  },
  {
   "cell_type": "markdown",
   "id": "d0b83b6d",
   "metadata": {},
   "source": [
    "\\b = matlab esa word find kro jiski boundry space ya newline(\\n) se milti ho.<br>\n",
    "\\B = [^b]"
   ]
  },
  {
   "cell_type": "code",
   "execution_count": 44,
   "id": "7a3ea2d4",
   "metadata": {},
   "outputs": [
    {
     "name": "stdout",
     "output_type": "stream",
     "text": [
      "<re.Match object; span=(20, 22), match='ha'>\n",
      "<re.Match object; span=(23, 25), match='ha'>\n"
     ]
    }
   ],
   "source": [
    "email = '''\n",
    "aadil_coreyms.com\n",
    "\n",
    "ha haha\n",
    "'''\n",
    "\n",
    "pattern = re.compile(r'\\bha') \n",
    "\n",
    "matches = pattern.finditer(email)\n",
    "\n",
    "for match in matches:\n",
    "    print(match) \n",
    "    \n",
    "    # basically yeh  first and second ha de rha hai, becoz one has new line and second has space."
   ]
  },
  {
   "cell_type": "code",
   "execution_count": 45,
   "id": "13f469df",
   "metadata": {},
   "outputs": [
    {
     "name": "stdout",
     "output_type": "stream",
     "text": [
      "<re.Match object; span=(25, 27), match='ha'>\n"
     ]
    }
   ],
   "source": [
    "email = '''\n",
    "aadil_coreyms.com\n",
    "\n",
    "ha haha\n",
    "'''\n",
    "\n",
    "pattern = re.compile(r'\\Bha') \n",
    "\n",
    "matches = pattern.finditer(email)\n",
    "\n",
    "for match in matches:\n",
    "    print(match) \n",
    "                 # third 'ha' hai yeh which does not touch with any space and new line."
   ]
  },
  {
   "cell_type": "code",
   "execution_count": 46,
   "id": "072e7993",
   "metadata": {},
   "outputs": [],
   "source": [
    "### start & end matching (^,$)"
   ]
  },
  {
   "cell_type": "code",
   "execution_count": 47,
   "id": "bb635a7b",
   "metadata": {},
   "outputs": [
    {
     "name": "stdout",
     "output_type": "stream",
     "text": [
      "<re.Match object; span=(0, 5), match='start'>\n",
      "<re.Match object; span=(21, 24), match='end'>\n"
     ]
    }
   ],
   "source": [
    "email = \"start a sentence and end\"\n",
    "pattern = re.compile(r'^start')\n",
    "matches = pattern.finditer(email)\n",
    "for match in matches:\n",
    "    print(match)\n",
    "\n",
    "pattern = re.compile(r'end$') \n",
    "matches = pattern.finditer(email)\n",
    "for match in matches:\n",
    "    print(match)"
   ]
  },
  {
   "cell_type": "code",
   "execution_count": 48,
   "id": "8584ebb3",
   "metadata": {},
   "outputs": [
    {
     "name": "stdout",
     "output_type": "stream",
     "text": [
      "<re.Match object; span=(1, 12), match='Mr. Schafer'>\n",
      "<re.Match object; span=(13, 21), match='Mr Smith'>\n",
      "<re.Match object; span=(45, 50), match='Mr. T'>\n"
     ]
    }
   ],
   "source": [
    "# how to match Names havig different parameters or Period.\n",
    "str = '''\n",
    "Mr. Schafer\n",
    "Mr Smith\n",
    "Ms Davis\n",
    "Mrs. Robinson\n",
    "Mr. T\n",
    "'''\n",
    "                                                 # | = Or or Either.\n",
    "pattern = re.compile(r'Mr\\.?\\s[A-Z]\\w*')\n",
    "matches = pattern.finditer(str)\n",
    "\n",
    "for match in matches:\n",
    "    print(match) "
   ]
  },
  {
   "cell_type": "code",
   "execution_count": 49,
   "id": "6b15e26d",
   "metadata": {},
   "outputs": [
    {
     "name": "stdout",
     "output_type": "stream",
     "text": [
      "<re.Match object; span=(1, 12), match='Mr. Schafer'>\n",
      "<re.Match object; span=(13, 21), match='Mr Smith'>\n",
      "<re.Match object; span=(22, 30), match='Ms Davis'>\n",
      "<re.Match object; span=(31, 44), match='Mrs. Robinson'>\n",
      "<re.Match object; span=(45, 50), match='Mr. T'>\n"
     ]
    }
   ],
   "source": [
    "pattern = re.compile(r'M(r|s|rs)\\.?\\s[A-Z]\\w*')\n",
    "matches = pattern.finditer(str)\n",
    "\n",
    "for match in matches:\n",
    "    print(match)"
   ]
  },
  {
   "cell_type": "code",
   "execution_count": 50,
   "id": "947a8cd5",
   "metadata": {},
   "outputs": [
    {
     "name": "stdout",
     "output_type": "stream",
     "text": [
      "<re.Match object; span=(1, 12), match='Mr. Schafer'>\n",
      "<re.Match object; span=(13, 21), match='Mr Smith'>\n",
      "<re.Match object; span=(22, 30), match='Ms Davis'>\n",
      "<re.Match object; span=(31, 44), match='Mrs. Robinson'>\n",
      "<re.Match object; span=(45, 50), match='Mr. T'>\n"
     ]
    }
   ],
   "source": [
    "pattern = re.compile(r'(Mr|Ms|Mrs)\\.?\\s[A-Z]\\w*') \n",
    "matches = pattern.finditer(str)\n",
    "\n",
    "for match in matches:\n",
    "    print(match)                "
   ]
  },
  {
   "cell_type": "markdown",
   "id": "cfe57600",
   "metadata": {},
   "source": [
    "# -------------==========++++++++++++++-----------==========----"
   ]
  },
  {
   "cell_type": "markdown",
   "id": "b96792d2",
   "metadata": {},
   "source": [
    "# Capturting matches from match object by group method"
   ]
  },
  {
   "cell_type": "code",
   "execution_count": 51,
   "id": "ba99be8b",
   "metadata": {},
   "outputs": [
    {
     "name": "stdout",
     "output_type": "stream",
     "text": [
      "<re.Match object; span=(1, 23), match='https://www.google.com'>\n",
      "<re.Match object; span=(24, 42), match='http://coreyms.com'>\n",
      "<re.Match object; span=(43, 62), match='https://youtube.com'>\n",
      "<re.Match object; span=(63, 83), match='https://www.nasa.gov'>\n"
     ]
    }
   ],
   "source": [
    "import re\n",
    "\n",
    "urls = '''\n",
    "https://www.google.com\n",
    "http://coreyms.com\n",
    "https://youtube.com\n",
    "https://www.nasa.gov\n",
    "'''\n",
    "\n",
    "pattern = re.compile(r'https?://(www\\.)?\\w+\\.\\w+') \n",
    "                        # s is optional here in https?\n",
    "matches = pattern.finditer(urls)\n",
    "\n",
    "for match in matches:\n",
    "    print(match) "
   ]
  },
  {
   "cell_type": "markdown",
   "id": "ac888108",
   "metadata": {},
   "source": [
    "### Grouping  "
   ]
  },
  {
   "cell_type": "code",
   "execution_count": 52,
   "id": "96d93c7a",
   "metadata": {},
   "outputs": [
    {
     "name": "stdout",
     "output_type": "stream",
     "text": [
      "https://www.google.com\n",
      "http://coreyms.com\n",
      "https://youtube.com\n",
      "https://www.nasa.gov\n"
     ]
    }
   ],
   "source": [
    "pattern = re.compile(r'https?://(www\\.)?(\\w+)(\\.\\w+)') \n",
    "                                     # we made the groups of www. ,domain name, .com by parenthesis.\n",
    "matches = pattern.finditer(urls)\n",
    "\n",
    "for match in matches:\n",
    "    print(match.group(0))   # match has a group method, for group zero it gives all the matches found."
   ]
  },
  {
   "cell_type": "markdown",
   "id": "1fdecb33",
   "metadata": {},
   "source": [
    "### Groups Capturing"
   ]
  },
  {
   "cell_type": "code",
   "execution_count": 53,
   "id": "06fa13dd",
   "metadata": {},
   "outputs": [
    {
     "name": "stdout",
     "output_type": "stream",
     "text": [
      "www.\n",
      "None\n",
      "None\n",
      "www.\n"
     ]
    }
   ],
   "source": [
    "pattern = re.compile(r'https?://(www\\.)?(\\w+)(\\.\\w+)') \n",
    "                                     \n",
    "matches = pattern.finditer(urls)\n",
    "\n",
    "for match in matches:\n",
    "    print(match.group(1)) "
   ]
  },
  {
   "cell_type": "code",
   "execution_count": 54,
   "id": "c02d240a",
   "metadata": {},
   "outputs": [
    {
     "name": "stdout",
     "output_type": "stream",
     "text": [
      "google\n",
      "coreyms\n",
      "youtube\n",
      "nasa\n"
     ]
    }
   ],
   "source": [
    "pattern = re.compile(r'https?://(www\\.)?(\\w+)(\\.\\w+)') \n",
    "                                     \n",
    "matches = pattern.finditer(urls)\n",
    "\n",
    "for match in matches:\n",
    "    print(match.group(2)) "
   ]
  },
  {
   "cell_type": "code",
   "execution_count": 55,
   "id": "043bbfa2",
   "metadata": {},
   "outputs": [
    {
     "name": "stdout",
     "output_type": "stream",
     "text": [
      ".com\n",
      ".com\n",
      ".com\n",
      ".gov\n"
     ]
    }
   ],
   "source": [
    "pattern = re.compile(r'https?://(www\\.)?(\\w+)(\\.\\w+)') \n",
    "                                     \n",
    "matches = pattern.finditer(urls)\n",
    "\n",
    "for match in matches:\n",
    "    print(match.group(3)) "
   ]
  },
  {
   "cell_type": "markdown",
   "id": "ed880ffb",
   "metadata": {},
   "source": [
    "## Substituting the Values Of Groups"
   ]
  },
  {
   "cell_type": "code",
   "execution_count": 56,
   "id": "325819cd",
   "metadata": {},
   "outputs": [
    {
     "name": "stdout",
     "output_type": "stream",
     "text": [
      "\n",
      "google.com\n",
      "coreyms.com\n",
      "youtube.com\n",
      "nasa.gov\n",
      "\n"
     ]
    }
   ],
   "source": [
    "pattern = re.compile(r'https?://(www\\.)?(\\w+)(\\.\\w+)') \n",
    "                                     \n",
    "matches = pattern.finditer(urls)\n",
    "\n",
    "subbed_urls = pattern.sub(r'\\2\\3', urls)  \n",
    "\n",
    "print(subbed_urls)\n",
    "\n",
    "                      # yaha humne kya kiya:-\n",
    "                    # humne new variable create kiya and usme urls ka group2 and group3 ko store kiya\n",
    "                    # and phr new url ko print kiya."
   ]
  },
  {
   "cell_type": "markdown",
   "id": "0d2d5d11",
   "metadata": {},
   "source": [
    "# ----------------------------------------------------------------------------------------"
   ]
  },
  {
   "cell_type": "code",
   "execution_count": 57,
   "id": "314ba52b",
   "metadata": {},
   "outputs": [],
   "source": [
    "### Reading phone no.,from file        WRONG CODE                   :-)),:-)),:-))"
   ]
  },
  {
   "cell_type": "code",
   "execution_count": 58,
   "id": "df302282",
   "metadata": {},
   "outputs": [],
   "source": [
    "import re\n",
    "pattern = re.compile(r'[50]4[-.]d\\d\\d[-.]d\\d\\d\\d')\n",
    "with open('conatacts.txt', 'r') as f:\n",
    "    contents = f.read()\n",
    "    \n",
    "        \n",
    "    matches = pattern.finditer(contents)\n",
    "    \n",
    "   "
   ]
  },
  {
   "cell_type": "code",
   "execution_count": 59,
   "id": "2e4b6a73",
   "metadata": {},
   "outputs": [
    {
     "name": "stdout",
     "output_type": "stream",
     "text": [
      "<callable_iterator object at 0x0000000005588448>\n"
     ]
    }
   ],
   "source": [
    "print(matches)  "
   ]
  },
  {
   "cell_type": "code",
   "execution_count": 60,
   "id": "c8f2c565",
   "metadata": {},
   "outputs": [],
   "source": [
    "times = []\n",
    "for result in matches:\n",
    "    times.append(result.group('time')) "
   ]
  }
 ],
 "metadata": {
  "kernelspec": {
   "display_name": "Python 3",
   "language": "python",
   "name": "python3"
  },
  "language_info": {
   "codemirror_mode": {
    "name": "ipython",
    "version": 3
   },
   "file_extension": ".py",
   "mimetype": "text/x-python",
   "name": "python",
   "nbconvert_exporter": "python",
   "pygments_lexer": "ipython3",
   "version": "3.7.4"
  }
 },
 "nbformat": 4,
 "nbformat_minor": 5
}
