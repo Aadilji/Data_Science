{
 "cells": [
  {
   "cell_type": "markdown",
   "id": "7b700a67",
   "metadata": {},
   "source": [
    "# kwargs and args"
   ]
  },
  {
   "cell_type": "markdown",
   "id": "0617d17b",
   "metadata": {},
   "source": [
    "Actually kwargs and args are used to create a function with many arguments,<br>\n",
    "args & kwargs are optional,dena ho toh do warna mat do."
   ]
  },
  {
   "cell_type": "markdown",
   "id": "019b8483",
   "metadata": {},
   "source": [
    "suppose, agar ek function hai aur usme humne 5 arguments liye hai lekin agar humne usme 6 values daal di toh python error de dega, lekin yeh problem hamari kwargs and args se solve ho jaati hai"
   ]
  },
  {
   "cell_type": "code",
   "execution_count": 1,
   "id": "7ee6c8a5",
   "metadata": {},
   "outputs": [
    {
     "name": "stdout",
     "output_type": "stream",
     "text": [
      "5 6 7 8\n"
     ]
    }
   ],
   "source": [
    "def function_name_print(a,b,c,d):\n",
    "    print(a,b,c,d)\n",
    "\n",
    "function_name_print(5,6,7,8) "
   ]
  },
  {
   "cell_type": "code",
   "execution_count": 2,
   "id": "fcff2d35",
   "metadata": {},
   "outputs": [
    {
     "ename": "TypeError",
     "evalue": "function_name_print() takes 4 positional arguments but 5 were given",
     "output_type": "error",
     "traceback": [
      "\u001b[1;31m---------------------------------------------------------------------------\u001b[0m",
      "\u001b[1;31mTypeError\u001b[0m                                 Traceback (most recent call last)",
      "\u001b[1;32m<ipython-input-2-9c1185e8ff77>\u001b[0m in \u001b[0;36m<module>\u001b[1;34m\u001b[0m\n\u001b[0;32m      2\u001b[0m     \u001b[0mprint\u001b[0m\u001b[1;33m(\u001b[0m\u001b[0ma\u001b[0m\u001b[1;33m,\u001b[0m\u001b[0mb\u001b[0m\u001b[1;33m,\u001b[0m\u001b[0mc\u001b[0m\u001b[1;33m,\u001b[0m\u001b[0md\u001b[0m\u001b[1;33m)\u001b[0m\u001b[1;33m\u001b[0m\u001b[1;33m\u001b[0m\u001b[0m\n\u001b[0;32m      3\u001b[0m \u001b[1;33m\u001b[0m\u001b[0m\n\u001b[1;32m----> 4\u001b[1;33m \u001b[0mfunction_name_print\u001b[0m\u001b[1;33m(\u001b[0m\u001b[1;36m5\u001b[0m\u001b[1;33m,\u001b[0m\u001b[1;36m6\u001b[0m\u001b[1;33m,\u001b[0m\u001b[1;36m7\u001b[0m\u001b[1;33m,\u001b[0m\u001b[1;36m8\u001b[0m\u001b[1;33m,\u001b[0m\u001b[1;36m9\u001b[0m\u001b[1;33m)\u001b[0m\u001b[1;33m\u001b[0m\u001b[1;33m\u001b[0m\u001b[0m\n\u001b[0m",
      "\u001b[1;31mTypeError\u001b[0m: function_name_print() takes 4 positional arguments but 5 were given"
     ]
    }
   ],
   "source": [
    "def function_name_print(a,b,c,d):\n",
    "    print(a,b,c,d)\n",
    "\n",
    "function_name_print(5,6,7,8,9)  "
   ]
  },
  {
   "cell_type": "code",
   "execution_count": 3,
   "id": "5340f594",
   "metadata": {},
   "outputs": [
    {
     "name": "stdout",
     "output_type": "stream",
     "text": [
      "5\n"
     ]
    }
   ],
   "source": [
    "def functargs (*args):\n",
    "    print(args[0])\n",
    "\n",
    "har = [5,6,7,8,9,0]\n",
    "functargs(*har)  "
   ]
  },
  {
   "cell_type": "code",
   "execution_count": 4,
   "id": "76461efd",
   "metadata": {},
   "outputs": [
    {
     "name": "stdout",
     "output_type": "stream",
     "text": [
      "(5, 6, 7, 8, 9, 0)\n"
     ]
    }
   ],
   "source": [
    "def functargs (*args):\n",
    "    print(args)\n",
    "\n",
    "har = [5,6,7,8,9,0]\n",
    "functargs(*har) "
   ]
  },
  {
   "cell_type": "code",
   "execution_count": 5,
   "id": "5753363e",
   "metadata": {},
   "outputs": [
    {
     "name": "stdout",
     "output_type": "stream",
     "text": [
      "(5, 6, 7, 8, 9, 0)\n",
      "<class 'tuple'>\n"
     ]
    }
   ],
   "source": [
    "# Remember, list daalo ki tuple daalo, args ka output tuple hi rehta hai.\n",
    "\n",
    "def functargs (*args):\n",
    "    print(args)\n",
    "    print(type(args))\n",
    "\n",
    "har = [5,6,7,8,9,0]\n",
    "functargs(*har) "
   ]
  },
  {
   "cell_type": "code",
   "execution_count": 6,
   "id": "f7028f48",
   "metadata": {},
   "outputs": [
    {
     "name": "stdout",
     "output_type": "stream",
     "text": [
      "(5, 6, 7, 8, 9, 0)\n",
      "<class 'tuple'>\n"
     ]
    }
   ],
   "source": [
    "def functargs (*args):\n",
    "    print(args)\n",
    "    print(type(args))\n",
    "\n",
    "har = (5,6,7,8,9,0)\n",
    "functargs(*har)  "
   ]
  },
  {
   "cell_type": "code",
   "execution_count": 7,
   "id": "59bd4d6a",
   "metadata": {},
   "outputs": [
    {
     "name": "stdout",
     "output_type": "stream",
     "text": [
      "5\n",
      "6\n",
      "7\n",
      "8\n",
      "9\n",
      "0\n"
     ]
    }
   ],
   "source": [
    "def functargs (*args):\n",
    "    for item in args:\n",
    "        print(item)\n",
    "\n",
    "har = [5,6,7,8,9,0]\n",
    "functargs(*har) "
   ]
  },
  {
   "cell_type": "markdown",
   "id": "955d2e03",
   "metadata": {},
   "source": [
    "# Normal argument with args & kwargs"
   ]
  },
  {
   "cell_type": "markdown",
   "id": "9fd38229",
   "metadata": {},
   "source": [
    "Normal arguments, args ke pehle hi dena hai, it's compulsary"
   ]
  },
  {
   "cell_type": "code",
   "execution_count": 8,
   "id": "e1939d9c",
   "metadata": {},
   "outputs": [
    {
     "ename": "NameError",
     "evalue": "name 'normal' is not defined",
     "output_type": "error",
     "traceback": [
      "\u001b[1;31m---------------------------------------------------------------------------\u001b[0m",
      "\u001b[1;31mNameError\u001b[0m                                 Traceback (most recent call last)",
      "\u001b[1;32m<ipython-input-8-7a65af03aac7>\u001b[0m in \u001b[0;36m<module>\u001b[1;34m\u001b[0m\n\u001b[0;32m      5\u001b[0m \u001b[1;33m\u001b[0m\u001b[0m\n\u001b[0;32m      6\u001b[0m \u001b[0mhar\u001b[0m \u001b[1;33m=\u001b[0m \u001b[1;33m[\u001b[0m\u001b[1;34m\"aadil\"\u001b[0m\u001b[1;33m,\u001b[0m\u001b[1;34m\"sahib\"\u001b[0m\u001b[1;33m,\u001b[0m\u001b[1;34m\"saniya\"\u001b[0m\u001b[1;33m,\u001b[0m\u001b[1;34m\"ranu\"\u001b[0m\u001b[1;33m,\u001b[0m\u001b[1;34m\"sonu\"\u001b[0m\u001b[1;33m]\u001b[0m\u001b[1;33m\u001b[0m\u001b[1;33m\u001b[0m\u001b[0m\n\u001b[1;32m----> 7\u001b[1;33m \u001b[0mfunctargs\u001b[0m\u001b[1;33m(\u001b[0m\u001b[0mnormal\u001b[0m\u001b[1;33m,\u001b[0m\u001b[1;33m*\u001b[0m\u001b[0mhar\u001b[0m\u001b[1;33m)\u001b[0m\u001b[1;33m\u001b[0m\u001b[1;33m\u001b[0m\u001b[0m\n\u001b[0m\u001b[0;32m      8\u001b[0m \u001b[1;33m\u001b[0m\u001b[0m\n\u001b[0;32m      9\u001b[0m \u001b[0mnormal\u001b[0m \u001b[1;33m=\u001b[0m \u001b[1;34m\"This is a normal argument and the studnets are:\"\u001b[0m\u001b[1;33m\u001b[0m\u001b[1;33m\u001b[0m\u001b[0m\n",
      "\u001b[1;31mNameError\u001b[0m: name 'normal' is not defined"
     ]
    }
   ],
   "source": [
    "def functargs (normal,*args):\n",
    "    print(normal)\n",
    "    for item in args:\n",
    "        print(item)\n",
    "\n",
    "har = [\"aadil\",\"sahib\",\"saniya\",\"ranu\",\"sonu\"]\n",
    "functargs(normal,*har) \n",
    "\n",
    "normal = \"This is a normal argument and the studnets are:\" "
   ]
  },
  {
   "cell_type": "code",
   "execution_count": 9,
   "id": "7970a74b",
   "metadata": {},
   "outputs": [
    {
     "name": "stdout",
     "output_type": "stream",
     "text": [
      "This is a normal argument and the studnets are:\n",
      "aadil\n",
      "sahib\n",
      "saniya\n",
      "ranu\n",
      "sonu\n"
     ]
    }
   ],
   "source": [
    "def functargs (normal,*args):\n",
    "    print(normal)\n",
    "    for item in args:\n",
    "        print(item)\n",
    "\n",
    "har = [\"aadil\",\"sahib\",\"saniya\",\"ranu\",\"sonu\"]\n",
    "normal = \"This is a normal argument and the studnets are:\"\n",
    "functargs(normal,*har)  "
   ]
  },
  {
   "cell_type": "code",
   "execution_count": 10,
   "id": "93412720",
   "metadata": {},
   "outputs": [
    {
     "name": "stdout",
     "output_type": "stream",
     "text": [
      "This is a normal argument and the studnets are:\n",
      "aadil\n",
      "sahib\n",
      "saniya\n",
      "ranu\n",
      "sonu\n",
      "Rohan Monitor\n",
      "Harry Coder\n",
      "Aadil DS\n"
     ]
    }
   ],
   "source": [
    "def functargs (normal,*args,**kwargs):\n",
    "    print(normal)\n",
    "    for item in args:\n",
    "        print(item)\n",
    "        \n",
    "    for key, values in kwargs.items():\n",
    "        print(key,values)\n",
    "\n",
    "har = [\"aadil\",\"sahib\",\"saniya\",\"ranu\",\"sonu\"]\n",
    "normal = \"This is a normal argument and the studnets are:\"\n",
    "kw = {\"Rohan\": \"Monitor\", \"Harry\":\"Coder\", \"Aadil\":\"DS\"}\n",
    "functargs(normal,*har,**kw) "
   ]
  },
  {
   "cell_type": "code",
   "execution_count": 11,
   "id": "f0c0100c",
   "metadata": {},
   "outputs": [
    {
     "name": "stdout",
     "output_type": "stream",
     "text": [
      "This is a normal argument and the studnets are:\n",
      "aadil\n",
      "sahib\n",
      "saniya\n",
      "ranu\n",
      "sonu\n",
      "\n",
      "Now i want to itroduce some of our heroes: \n",
      "Rohan is a Monitor\n",
      "Harry is a Coder\n",
      "Aadil is a DS\n"
     ]
    }
   ],
   "source": [
    "def functargs (normal,*args,**kwargs):\n",
    "    print(normal)\n",
    "    for item in args:\n",
    "        print(item)\n",
    "    \n",
    "    print(\"\\nNow i want to itroduce some of our heroes: \")    \n",
    "    for key, value in kwargs.items():\n",
    "        print(f\"{key} is a {value}\")\n",
    "\n",
    "har = [\"aadil\",\"sahib\",\"saniya\",\"ranu\",\"sonu\"]\n",
    "normal = \"This is a normal argument and the studnets are:\"\n",
    "kw = {\"Rohan\": \"Monitor\", \"Harry\":\"Coder\", \"Aadil\":\"DS\"}\n",
    "functargs(normal,*har,**kw)  "
   ]
  },
  {
   "cell_type": "code",
   "execution_count": 12,
   "id": "6ac5331d",
   "metadata": {},
   "outputs": [
    {
     "name": "stdout",
     "output_type": "stream",
     "text": [
      "This is a normal argument and the studnets are:\n",
      "aadil\n",
      "sahib\n",
      "saniya\n",
      "ranu\n",
      "sonu\n",
      "\n",
      "Now i want to itroduce some of our heroes: \n",
      "Rohan is a Monitor\n",
      "Harry is a Coder\n",
      "Aadil is a DS\n",
      "Game is a PS5\n"
     ]
    }
   ],
   "source": [
    "def functargs (normal,*args,**kwargs):\n",
    "    print(normal)\n",
    "    for item in args:\n",
    "        print(item)\n",
    "    \n",
    "    print(\"\\nNow i want to itroduce some of our heroes: \")    \n",
    "    for key, value in kwargs.items():\n",
    "        print(f\"{key} is a {value}\")\n",
    "\n",
    "har = [\"aadil\",\"sahib\",\"saniya\",\"ranu\",\"sonu\"]\n",
    "normal = \"This is a normal argument and the studnets are:\"\n",
    "kw = {\"Rohan\": \"Monitor\", \"Harry\":\"Coder\", \"Aadil\":\"DS\",\"Game\":\"PS5\"}\n",
    "functargs(normal,*har,**kw) "
   ]
  },
  {
   "cell_type": "code",
   "execution_count": 13,
   "id": "c149f2d7",
   "metadata": {},
   "outputs": [
    {
     "name": "stdout",
     "output_type": "stream",
     "text": [
      "<class 'tuple'>\n",
      "The name of student is aadil and age is 22\n"
     ]
    }
   ],
   "source": [
    "def function_1(*args):\n",
    "    print(type(args))\n",
    "    \n",
    "    if(len(args) ==3):\n",
    "        print(f\"The name of student is\",args[0], \"and age is\",args[1], \"and rollno is\", args[2])\n",
    "    else:\n",
    "        print(f\"The name of student is\",args[0], \"and age is\",args[1])\n",
    "        \n",
    "function_1(\"aadil\", 22) "
   ]
  },
  {
   "cell_type": "code",
   "execution_count": 14,
   "id": "53ba2471",
   "metadata": {},
   "outputs": [
    {
     "name": "stdout",
     "output_type": "stream",
     "text": [
      "<class 'tuple'>\n",
      "The name of student is aadil and age is 22 and rollno is 88990\n"
     ]
    }
   ],
   "source": [
    "def function_1(*args):\n",
    "    print(type(args))\n",
    "    \n",
    "    if(len(args) ==3):\n",
    "        print(f\"The name of student is\",args[0], \"and age is\",args[1], \"and rollno is\", args[2])\n",
    "    else:\n",
    "        print(f\"The name of student is\",args[0], \"and age is\",args[1])\n",
    "\n",
    "lis = [\"aadil\", 22, 88990]\n",
    "function_1(*lis) "
   ]
  },
  {
   "cell_type": "markdown",
   "id": "d07fc57a",
   "metadata": {},
   "source": [
    "*args can accept 1 values while kwargs can accept 2 values at a time. "
   ]
  },
  {
   "cell_type": "code",
   "execution_count": 15,
   "id": "42b17fe6",
   "metadata": {},
   "outputs": [
    {
     "name": "stdout",
     "output_type": "stream",
     "text": [
      "<class 'dict'>\n",
      "Harry 100\n",
      "rohan 200\n",
      "aman 91\n",
      "aadil 90\n"
     ]
    }
   ],
   "source": [
    "def printmarks(**kwargs):\n",
    "    print(type(kwargs))\n",
    "    for key, value in kwargs.items():\n",
    "        print(key, value)\n",
    "        \n",
    "markslist = {\"Harry\": 100,\"rohan\": 200, \"aman\": 91, \"aadil\":90}\n",
    "\n",
    "printmarks(**markslist)  "
   ]
  }
 ],
 "metadata": {
  "kernelspec": {
   "display_name": "Python 3",
   "language": "python",
   "name": "python3"
  },
  "language_info": {
   "codemirror_mode": {
    "name": "ipython",
    "version": 3
   },
   "file_extension": ".py",
   "mimetype": "text/x-python",
   "name": "python",
   "nbconvert_exporter": "python",
   "pygments_lexer": "ipython3",
   "version": "3.7.4"
  }
 },
 "nbformat": 4,
 "nbformat_minor": 5
}
