{
 "cells": [
  {
   "cell_type": "markdown",
   "id": "a591d671",
   "metadata": {},
   "source": [
    "# Decorators in Python"
   ]
  },
  {
   "cell_type": "markdown",
   "id": "ebabd69f",
   "metadata": {},
   "source": [
    "#### Code with harry YT Channel:-"
   ]
  },
  {
   "cell_type": "markdown",
   "id": "c5939712",
   "metadata": {},
   "source": [
    "First Revice Some Concepts of Functions"
   ]
  },
  {
   "cell_type": "code",
   "execution_count": 1,
   "id": "e36fbe8e",
   "metadata": {},
   "outputs": [
    {
     "name": "stdout",
     "output_type": "stream",
     "text": [
      "Employed Engineers\n"
     ]
    }
   ],
   "source": [
    "# Function1 del karne ke baad bhi func2 execute hoga because func2 mai function1 pehle se hi store hai.\n",
    "\n",
    "def function1():\n",
    "    print(\"Employed Engineers\")\n",
    "    \n",
    "func2 = function1\n",
    "del function1\n",
    "func2() "
   ]
  },
  {
   "cell_type": "code",
   "execution_count": 2,
   "id": "46302c2b",
   "metadata": {},
   "outputs": [
    {
     "name": "stdout",
     "output_type": "stream",
     "text": [
      "<built-in function print>\n",
      "<built-in function sum>\n"
     ]
    }
   ],
   "source": [
    "##  Function ka andar function: hum ek function de dwara ek dusra function bhi return kar sakte hai.\n",
    "\n",
    "def func1(num):\n",
    "    if num == 0:\n",
    "        return print  # remember that print is a built-in function\n",
    "    if num == 1:\n",
    "        return sum    # remember that sum is a built-in function\n",
    "    \n",
    "a = func1(0)\n",
    "print(a)\n",
    "\n",
    "b = func1(1)\n",
    "print(b) "
   ]
  },
  {
   "cell_type": "code",
   "execution_count": 3,
   "id": "4503175b",
   "metadata": {},
   "outputs": [
    {
     "name": "stdout",
     "output_type": "stream",
     "text": [
      "Aadil\n"
     ]
    }
   ],
   "source": [
    "# Hum function ko hum ek dusra function as a argument bhi de sakte hai.\n",
    "\n",
    "def executor(fun1):\n",
    "    fun1(\"Aadil\")\n",
    "    \n",
    "executor(print)   # yaha agr print ki jagah sum use krte toh woh kaam nhi karega."
   ]
  },
  {
   "cell_type": "markdown",
   "id": "abb93c36",
   "metadata": {},
   "source": [
    "decorators are like a bluprint:-<br>\n",
    "suppose if we want to use a function again & again with various agrument(arguments as a function) we use decorators on the top of function.\n",
    "mtlab:-<br>\n",
    "agar humko ek function ko baar baar execute karwana ho different function ke saath tab hum decorators use karte hai."
   ]
  },
  {
   "cell_type": "code",
   "execution_count": 4,
   "id": "4f1d2b3b",
   "metadata": {},
   "outputs": [
    {
     "name": "stdout",
     "output_type": "stream",
     "text": [
      "executing now\n",
      "Aadil is a boy\n",
      "Executed\n"
     ]
    }
   ],
   "source": [
    "# Sandwich\n",
    "\n",
    "def dec1(funct1):           #(1)---------------<<----------------------========<<=======\n",
    "    def nowexecute():          #(1)------------<<--------------         |              |\n",
    "        print(\"executing now\") #                             |          |              |\n",
    "        funct1()               #-----------------------------|----------|-------->>----\n",
    "        print(\"Executed\")       #                            |          |\n",
    "    return nowexecute           #(1) ------------>>-----------          |\n",
    "                                #                                       |\n",
    " #decorator(argument of dec1)                                           |\n",
    "@dec1                          #                                        |\n",
    "def who_is_aadil():        # --------------------->>---------------------\n",
    "    print(\"Aadil is a boy\")     \n",
    "    \n",
    "# same as\n",
    "# who_is_aadil = dec1(who_is_aadil)\n",
    "\n",
    "who_is_aadil() "
   ]
  },
  {
   "cell_type": "code",
   "execution_count": 5,
   "id": "05a98461",
   "metadata": {},
   "outputs": [
    {
     "name": "stdout",
     "output_type": "stream",
     "text": [
      "executing now\n",
      "Aadil is a boy\n",
      "Executed\n"
     ]
    }
   ],
   "source": [
    "def dec1(funct1):           \n",
    "    def nowexecute():          \n",
    "        print(\"executing now\") \n",
    "        funct1()               \n",
    "        print(\"Executed\")       \n",
    "    return nowexecute          \n",
    "                            \n",
    "\n",
    "def who_is_aadil():        \n",
    "    print(\"Aadil is a boy\")     \n",
    "    \n",
    "reslt = dec1(who_is_aadil)\n",
    "reslt() "
   ]
  },
  {
   "cell_type": "code",
   "execution_count": 6,
   "id": "86ff42d6",
   "metadata": {},
   "outputs": [
    {
     "name": "stdout",
     "output_type": "stream",
     "text": [
      "executing now\n",
      "Aadil is a boy\n",
      "Executed\n"
     ]
    }
   ],
   "source": [
    "def dec1(funct1):           \n",
    "    def nowexecute():          \n",
    "        print(\"executing now\") \n",
    "        funct1()               \n",
    "        print(\"Executed\")       \n",
    "    return nowexecute          \n",
    "                            \n",
    "@dec1\n",
    "def who_is_aadil():        \n",
    "    print(\"Aadil is a boy\") \n",
    "    \n",
    "who_is_aadil() "
   ]
  },
  {
   "cell_type": "code",
   "execution_count": 7,
   "id": "32873278",
   "metadata": {},
   "outputs": [
    {
     "name": "stdout",
     "output_type": "stream",
     "text": [
      "15\n"
     ]
    }
   ],
   "source": [
    "def decor(num):\n",
    "    def inner():\n",
    "        a = num()\n",
    "        add = a + 5\n",
    "        return add\n",
    "    return inner\n",
    "\n",
    "def num():\n",
    "    return 10 \n",
    "\n",
    "num = decor(num)\n",
    "print(num())"
   ]
  },
  {
   "cell_type": "code",
   "execution_count": 8,
   "id": "f32ee9b2",
   "metadata": {},
   "outputs": [
    {
     "name": "stdout",
     "output_type": "stream",
     "text": [
      "15\n"
     ]
    }
   ],
   "source": [
    "def decor(num):\n",
    "    def inner():\n",
    "        a = num()\n",
    "        add = a + 5\n",
    "        return add\n",
    "    return inner\n",
    "\n",
    "@decor \n",
    "def num():\n",
    "    return 10 \n",
    "\n",
    "print(num()) "
   ]
  },
  {
   "cell_type": "code",
   "execution_count": 9,
   "id": "de7924a6",
   "metadata": {},
   "outputs": [
    {
     "name": "stdout",
     "output_type": "stream",
     "text": [
      "55\n"
     ]
    }
   ],
   "source": [
    "def decor1(num):\n",
    "    def inner():\n",
    "        b = num()\n",
    "        multi = b * 5\n",
    "        return multi\n",
    "    return inner\n",
    "\n",
    "def decor(num):\n",
    "    def inner():\n",
    "        a = num()\n",
    "        add = a + 5\n",
    "        return add\n",
    "    return inner\n",
    "\n",
    "def num():\n",
    "    return 10\n",
    "\n",
    "num = decor(decor1(num))\n",
    "print(num()) "
   ]
  },
  {
   "cell_type": "code",
   "execution_count": 10,
   "id": "ab1b4caf",
   "metadata": {},
   "outputs": [
    {
     "name": "stdout",
     "output_type": "stream",
     "text": [
      "55\n"
     ]
    }
   ],
   "source": [
    "def decor1(num):\n",
    "    def inner():\n",
    "        b = num()\n",
    "        multi = b * 5\n",
    "        return multi\n",
    "    return inner\n",
    "\n",
    "def decor(num):\n",
    "    def inner():\n",
    "        a = num()\n",
    "        add = a + 5\n",
    "        return add\n",
    "    return inner\n",
    "@decor\n",
    "@decor1\n",
    "def num():\n",
    "    return 10\n",
    "\n",
    "print(num())  "
   ]
  },
  {
   "cell_type": "markdown",
   "id": "f6b79f3c",
   "metadata": {},
   "source": [
    "### codebasics yt channel"
   ]
  },
  {
   "cell_type": "code",
   "execution_count": 11,
   "id": "fcedffa7",
   "metadata": {},
   "outputs": [],
   "source": [
    "def calc_square(numbers):\n",
    "    result = []\n",
    "    for number in numbers:\n",
    "        result.append(number*number)\n",
    "    return result\n",
    "\n",
    "def calc_cube(numbers):\n",
    "    result = []\n",
    "    for number in numbers:\n",
    "        result.append(number*number)\n",
    "    return result\n",
    "\n",
    "array = range(1,100000)\n",
    "out_square = calc_square(array)\n",
    "out_cube = calc_cube(array) "
   ]
  },
  {
   "cell_type": "code",
   "execution_count": 12,
   "id": "b7246366",
   "metadata": {},
   "outputs": [
    {
     "name": "stdout",
     "output_type": "stream",
     "text": [
      "calc_square took 36.002159118652344mil sec\n",
      "calc_cube took 19.001007080078125mil sec\n"
     ]
    }
   ],
   "source": [
    "import time \n",
    "\n",
    "def calc_square(numbers):\n",
    "    start = time.time()\n",
    "    result = []\n",
    "    for number in numbers:\n",
    "        result.append(number*number)\n",
    "    end = time.time()\n",
    "    print(\"calc_square took \" + str((end-start)* 1000) + \"mil sec\")\n",
    "    return result\n",
    "\n",
    "def calc_cube(numbers):\n",
    "    start = time.time()\n",
    "    result = []\n",
    "    for number in numbers:\n",
    "        result.append(number*number)\n",
    "    end = time.time()\n",
    "    print(\"calc_cube took \" + str((end-start)* 1000) + \"mil sec\")\n",
    "    return result\n",
    "\n",
    "array = range(1,100000)\n",
    "out_square = calc_square(array)\n",
    "out_cube = calc_cube(array) "
   ]
  },
  {
   "cell_type": "markdown",
   "id": "7fe65ec3",
   "metadata": {},
   "source": [
    "ab kya hua ki function banaya humne square and cube calculate karne ke liye and usme humne time ka logic ghusa diya iske wajah se function ki maa bhen ho gyi"
   ]
  },
  {
   "cell_type": "code",
   "execution_count": 13,
   "id": "b425a532",
   "metadata": {},
   "outputs": [
    {
     "name": "stdout",
     "output_type": "stream",
     "text": [
      "calc_squaretook20.000934600830078mil sec\n",
      "calc_cubetook23.001432418823242mil sec\n"
     ]
    }
   ],
   "source": [
    "import time\n",
    "\n",
    "def time_it(func):\n",
    "    def wrapper(*args, **kwargs):\n",
    "        start = time.time()\n",
    "        result = func(*args, **kwargs)\n",
    "        end = time.time()\n",
    "        print(func.__name__ + \"took\" + str((end-start)*1000) + \"mil sec\") #__name__ gives func. name\n",
    "        return result    \n",
    "    return wrapper\n",
    "\n",
    "@time_it\n",
    "def calc_square(numbers):\n",
    "    result = []\n",
    "    for number in numbers:\n",
    "        result.append(number*number)\n",
    "    return result\n",
    "\n",
    "@time_it\n",
    "def calc_cube(numbers):\n",
    "    result = []\n",
    "    for number in numbers:\n",
    "        result.append(number*number)\n",
    "    return result\n",
    "\n",
    "array = range(1,100000)\n",
    "out_square = calc_square(array) # it will not go to cal_square, it will go to time_it(funct)\n",
    "out_cube = calc_cube(array) "
   ]
  },
  {
   "cell_type": "markdown",
   "id": "acc353e7",
   "metadata": {},
   "source": [
    "decorators can be used for timing your function and for logging some lines "
   ]
  }
 ],
 "metadata": {
  "kernelspec": {
   "display_name": "Python 3",
   "language": "python",
   "name": "python3"
  },
  "language_info": {
   "codemirror_mode": {
    "name": "ipython",
    "version": 3
   },
   "file_extension": ".py",
   "mimetype": "text/x-python",
   "name": "python",
   "nbconvert_exporter": "python",
   "pygments_lexer": "ipython3",
   "version": "3.7.4"
  }
 },
 "nbformat": 4,
 "nbformat_minor": 5
}
