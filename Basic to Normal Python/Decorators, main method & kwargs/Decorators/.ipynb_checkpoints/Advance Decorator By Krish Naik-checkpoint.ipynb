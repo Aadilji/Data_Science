{
 "cells": [
  {
   "cell_type": "markdown",
   "id": "17955ff0",
   "metadata": {},
   "source": [
    "# Function Copy, closures and decorators "
   ]
  },
  {
   "cell_type": "markdown",
   "id": "50fe4e9d",
   "metadata": {},
   "source": [
    "### Function Copy"
   ]
  },
  {
   "cell_type": "code",
   "execution_count": 1,
   "id": "7f82b593",
   "metadata": {},
   "outputs": [],
   "source": [
    "def welcome():\n",
    "    print(\"Welcome to India\") "
   ]
  },
  {
   "cell_type": "code",
   "execution_count": 2,
   "id": "696fbc49",
   "metadata": {},
   "outputs": [
    {
     "name": "stdout",
     "output_type": "stream",
     "text": [
      "Welcome to India\n"
     ]
    }
   ],
   "source": [
    "wel = welcome() "
   ]
  },
  {
   "cell_type": "code",
   "execution_count": 3,
   "id": "7367ca9d",
   "metadata": {},
   "outputs": [],
   "source": [
    "# after executing wel it will not return anything.\n",
    "wel "
   ]
  },
  {
   "cell_type": "code",
   "execution_count": 4,
   "id": "06c45b30",
   "metadata": {},
   "outputs": [],
   "source": [
    "def welcome1():\n",
    "    return(\"Welcome to Mumbai\")  "
   ]
  },
  {
   "cell_type": "code",
   "execution_count": 5,
   "id": "16a6dd9e",
   "metadata": {},
   "outputs": [],
   "source": [
    "wel1 = welcome1"
   ]
  },
  {
   "cell_type": "code",
   "execution_count": 6,
   "id": "94a3763e",
   "metadata": {},
   "outputs": [
    {
     "data": {
      "text/plain": [
       "<function __main__.welcome1()>"
      ]
     },
     "execution_count": 6,
     "metadata": {},
     "output_type": "execute_result"
    }
   ],
   "source": [
    "wel1 "
   ]
  },
  {
   "cell_type": "code",
   "execution_count": 7,
   "id": "11ac91a6",
   "metadata": {},
   "outputs": [],
   "source": [
    "wel1 = welcome1() "
   ]
  },
  {
   "cell_type": "code",
   "execution_count": 8,
   "id": "8e629330",
   "metadata": {},
   "outputs": [
    {
     "data": {
      "text/plain": [
       "'Welcome to Mumbai'"
      ]
     },
     "execution_count": 8,
     "metadata": {},
     "output_type": "execute_result"
    }
   ],
   "source": [
    "wel1 "
   ]
  },
  {
   "cell_type": "code",
   "execution_count": 9,
   "id": "737b3af3",
   "metadata": {},
   "outputs": [],
   "source": [
    "del welcome1"
   ]
  },
  {
   "cell_type": "code",
   "execution_count": 10,
   "id": "49bccd39",
   "metadata": {},
   "outputs": [
    {
     "data": {
      "text/plain": [
       "'Welcome to Mumbai'"
      ]
     },
     "execution_count": 10,
     "metadata": {},
     "output_type": "execute_result"
    }
   ],
   "source": [
    "wel1 "
   ]
  },
  {
   "cell_type": "code",
   "execution_count": 11,
   "id": "ca8dfdf5",
   "metadata": {},
   "outputs": [
    {
     "ename": "NameError",
     "evalue": "name 'welcome1' is not defined",
     "output_type": "error",
     "traceback": [
      "\u001b[1;31m---------------------------------------------------------------------------\u001b[0m",
      "\u001b[1;31mNameError\u001b[0m                                 Traceback (most recent call last)",
      "\u001b[1;32m<ipython-input-11-d235e39d563e>\u001b[0m in \u001b[0;36m<module>\u001b[1;34m\u001b[0m\n\u001b[1;32m----> 1\u001b[1;33m \u001b[0mwelcome1\u001b[0m\u001b[1;33m(\u001b[0m\u001b[1;33m)\u001b[0m\u001b[1;33m\u001b[0m\u001b[1;33m\u001b[0m\u001b[0m\n\u001b[0m",
      "\u001b[1;31mNameError\u001b[0m: name 'welcome1' is not defined"
     ]
    }
   ],
   "source": [
    "welcome1() "
   ]
  },
  {
   "cell_type": "markdown",
   "id": "dd158e55",
   "metadata": {},
   "source": [
    "welocome1 ki value wel1 mai copy & store ho gyi hai, and humne jab welcome1 ko del kiya and wel1 ko print kiya toh yeh hume fir bhi welocome1 ki value dega, isi ko Function Copy Bolte hai."
   ]
  },
  {
   "cell_type": "markdown",
   "id": "4d9c2960",
   "metadata": {},
   "source": [
    "### Closures Function"
   ]
  },
  {
   "cell_type": "markdown",
   "id": "e39cf4eb",
   "metadata": {},
   "source": [
    "Function inside a function is called as Closures Function<br>\n",
    "Hum parent function ke parameters ya variables ko sub(child) function mai use kar sakte hai. "
   ]
  },
  {
   "cell_type": "code",
   "execution_count": 12,
   "id": "ddc42a1b",
   "metadata": {},
   "outputs": [],
   "source": [
    "def main_Welcome():\n",
    "    msg = \"Hello EveryOne\"\n",
    "    def sub_welcome_function():\n",
    "        print(\"Welcome to India\")\n",
    "        print(msg)\n",
    "        print(\"This is Mumbai\")\n",
    "    return sub_welcome_function() "
   ]
  },
  {
   "cell_type": "code",
   "execution_count": 13,
   "id": "211037d5",
   "metadata": {},
   "outputs": [
    {
     "name": "stdout",
     "output_type": "stream",
     "text": [
      "Welcome to India\n",
      "Hello EveryOne\n",
      "This is Mumbai\n"
     ]
    }
   ],
   "source": [
    "main_Welcome() "
   ]
  },
  {
   "cell_type": "code",
   "execution_count": 14,
   "id": "4b5feb15",
   "metadata": {},
   "outputs": [],
   "source": [
    "def main_Welcome(msg):\n",
    "    \n",
    "    def sub_welcome_function():\n",
    "        print(\"Welcome to India\")\n",
    "        print(msg)\n",
    "        print(\"This is Mumbai\")\n",
    "    return sub_welcome_function() "
   ]
  },
  {
   "cell_type": "code",
   "execution_count": 15,
   "id": "fb2ba5a9",
   "metadata": {},
   "outputs": [
    {
     "name": "stdout",
     "output_type": "stream",
     "text": [
      "Welcome to India\n",
      "Aadil\n",
      "This is Mumbai\n"
     ]
    }
   ],
   "source": [
    "main_Welcome(\"Aadil\") "
   ]
  },
  {
   "cell_type": "markdown",
   "id": "4dce3d68",
   "metadata": {},
   "source": [
    "Inside a Function, we can also give parameter as a Function."
   ]
  },
  {
   "cell_type": "markdown",
   "id": "1d774d5f",
   "metadata": {},
   "source": [
    "### Passing an in-built function as a parameter into a Function."
   ]
  },
  {
   "cell_type": "code",
   "execution_count": 16,
   "id": "86544c5e",
   "metadata": {},
   "outputs": [],
   "source": [
    "def main_Welcome(func):\n",
    "    \n",
    "    def sub_welcome_function():\n",
    "        print(\"Welcome to India\")\n",
    "        func(\"Aadil\")\n",
    "        print(\"This is Mumbai\")\n",
    "    return sub_welcome_function() "
   ]
  },
  {
   "cell_type": "code",
   "execution_count": 17,
   "id": "d8f5bbd3",
   "metadata": {},
   "outputs": [
    {
     "name": "stdout",
     "output_type": "stream",
     "text": [
      "Welcome to India\n",
      "Aadil\n",
      "This is Mumbai\n"
     ]
    }
   ],
   "source": [
    "main_Welcome(print)"
   ]
  },
  {
   "cell_type": "code",
   "execution_count": 18,
   "id": "d8900234",
   "metadata": {},
   "outputs": [],
   "source": [
    "def main_Welcome(func):\n",
    "    \n",
    "    def sub_welcome_function():\n",
    "        print(\"Welcome to India\")\n",
    "        print(func([1,2,3,4,5,6,7,8])) \n",
    "        print(\"This is Mumbai\")\n",
    "    return sub_welcome_function() "
   ]
  },
  {
   "cell_type": "code",
   "execution_count": 19,
   "id": "5228ce9b",
   "metadata": {},
   "outputs": [
    {
     "name": "stdout",
     "output_type": "stream",
     "text": [
      "Welcome to India\n",
      "8\n",
      "This is Mumbai\n"
     ]
    }
   ],
   "source": [
    "main_Welcome(len) "
   ]
  },
  {
   "cell_type": "markdown",
   "id": "8ffa291a",
   "metadata": {},
   "source": [
    "### Passing an user defined function as a parameter into a Function."
   ]
  },
  {
   "cell_type": "code",
   "execution_count": 20,
   "id": "fd7f1138",
   "metadata": {},
   "outputs": [],
   "source": [
    "def main_Welcome(func):\n",
    "    \n",
    "    def sub_welcome_function():\n",
    "        print(\"Welcome to India\")\n",
    "        func() \n",
    "        print(\"This is Mumbai\")\n",
    "    return sub_welcome_function() "
   ]
  },
  {
   "cell_type": "code",
   "execution_count": 21,
   "id": "b2d0cb7d",
   "metadata": {},
   "outputs": [],
   "source": [
    "def my_name():\n",
    "    print(\"My Name is Aadil\") "
   ]
  },
  {
   "cell_type": "code",
   "execution_count": 22,
   "id": "d60e658b",
   "metadata": {},
   "outputs": [
    {
     "name": "stdout",
     "output_type": "stream",
     "text": [
      "Welcome to India\n",
      "My Name is Aadil\n",
      "This is Mumbai\n"
     ]
    }
   ],
   "source": [
    "a= main_Welcome(my_name) "
   ]
  },
  {
   "cell_type": "markdown",
   "id": "77be5e72",
   "metadata": {},
   "source": [
    "## Decorators"
   ]
  },
  {
   "cell_type": "code",
   "execution_count": 23,
   "id": "3580025f",
   "metadata": {},
   "outputs": [
    {
     "name": "stdout",
     "output_type": "stream",
     "text": [
      "Welcome to India\n",
      "My Name is Aadil\n",
      "This is Mumbai\n"
     ]
    }
   ],
   "source": [
    "# a= main_Welcome(my_name)\n",
    "\n",
    "@main_Welcome\n",
    "def my_name():\n",
    "    print(\"My Name is Aadil\") \n",
    "    \n",
    "    # Suppose this function, is repeatedly used commonly everywhere, so we use decorators to use this."
   ]
  },
  {
   "cell_type": "markdown",
   "id": "73c6e427",
   "metadata": {},
   "source": [
    "This common function can be DataBase Connector.<br>\n",
    "The use of Decorators can be seen in Flask and Django. "
   ]
  }
 ],
 "metadata": {
  "kernelspec": {
   "display_name": "Python 3",
   "language": "python",
   "name": "python3"
  },
  "language_info": {
   "codemirror_mode": {
    "name": "ipython",
    "version": 3
   },
   "file_extension": ".py",
   "mimetype": "text/x-python",
   "name": "python",
   "nbconvert_exporter": "python",
   "pygments_lexer": "ipython3",
   "version": "3.7.4"
  }
 },
 "nbformat": 4,
 "nbformat_minor": 5
}
