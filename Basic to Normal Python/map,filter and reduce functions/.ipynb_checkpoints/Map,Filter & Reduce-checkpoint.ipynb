{
 "cells": [
  {
   "cell_type": "markdown",
   "id": "2c40e22a",
   "metadata": {},
   "source": [
    "# Higher Order Functions"
   ]
  },
  {
   "cell_type": "markdown",
   "id": "7a4591a7",
   "metadata": {},
   "source": [
    "### Filter Functions by krish naik"
   ]
  },
  {
   "cell_type": "markdown",
   "id": "75dd2d90",
   "metadata": {},
   "source": [
    "Filter Function Hamesha True ko filter Karta Hai."
   ]
  },
  {
   "cell_type": "code",
   "execution_count": 1,
   "id": "4dfa0cdc",
   "metadata": {},
   "outputs": [],
   "source": [
    "def even(num):\n",
    "    if num%2==0:\n",
    "        return True        "
   ]
  },
  {
   "cell_type": "code",
   "execution_count": 2,
   "id": "ef3e12a5",
   "metadata": {},
   "outputs": [],
   "source": [
    "lst = [1,2,3,4,5,6,7,8] "
   ]
  },
  {
   "cell_type": "code",
   "execution_count": 3,
   "id": "6a2df77a",
   "metadata": {},
   "outputs": [
    {
     "data": {
      "text/plain": [
       "<filter at 0x525c748>"
      ]
     },
     "execution_count": 3,
     "metadata": {},
     "output_type": "execute_result"
    }
   ],
   "source": [
    "filter(even,lst) "
   ]
  },
  {
   "cell_type": "code",
   "execution_count": 4,
   "id": "bc37d13d",
   "metadata": {},
   "outputs": [
    {
     "data": {
      "text/plain": [
       "[2, 4, 6, 8]"
      ]
     },
     "execution_count": 4,
     "metadata": {},
     "output_type": "execute_result"
    }
   ],
   "source": [
    "list(filter(even,lst)) "
   ]
  },
  {
   "cell_type": "code",
   "execution_count": 5,
   "id": "947539b8",
   "metadata": {},
   "outputs": [
    {
     "data": {
      "text/plain": [
       "[2, 4, 6, 8]"
      ]
     },
     "execution_count": 5,
     "metadata": {},
     "output_type": "execute_result"
    }
   ],
   "source": [
    "list(filter(lambda num:num%2 == 0, lst)) "
   ]
  },
  {
   "cell_type": "code",
   "execution_count": 6,
   "id": "1823ab93",
   "metadata": {},
   "outputs": [
    {
     "data": {
      "text/plain": [
       "[False, True, False, True, False, True, False, True]"
      ]
     },
     "execution_count": 6,
     "metadata": {},
     "output_type": "execute_result"
    }
   ],
   "source": [
    "list(map(lambda num:num%2==0,lst)) "
   ]
  },
  {
   "cell_type": "markdown",
   "id": "6ef8056d",
   "metadata": {},
   "source": [
    "#### filter function by geeky shows "
   ]
  },
  {
   "cell_type": "code",
   "execution_count": 7,
   "id": "5f4e7230",
   "metadata": {},
   "outputs": [],
   "source": [
    "marks = [10,50,60,80,90,5,45,65] "
   ]
  },
  {
   "cell_type": "code",
   "execution_count": 8,
   "id": "386734a6",
   "metadata": {},
   "outputs": [],
   "source": [
    "def high_marks(n):\n",
    "    if n>=60:\n",
    "        return True     "
   ]
  },
  {
   "cell_type": "code",
   "execution_count": 9,
   "id": "03ca4306",
   "metadata": {},
   "outputs": [],
   "source": [
    "result = filter(high_marks,marks)  "
   ]
  },
  {
   "cell_type": "code",
   "execution_count": 10,
   "id": "34cc17e8",
   "metadata": {},
   "outputs": [
    {
     "name": "stdout",
     "output_type": "stream",
     "text": [
      "<filter object at 0x000000000526DCC8>\n"
     ]
    }
   ],
   "source": [
    "print(result) "
   ]
  },
  {
   "cell_type": "code",
   "execution_count": 11,
   "id": "6bd0ad86",
   "metadata": {},
   "outputs": [
    {
     "name": "stdout",
     "output_type": "stream",
     "text": [
      "<class 'filter'>\n"
     ]
    }
   ],
   "source": [
    "print(type(result)) "
   ]
  },
  {
   "cell_type": "code",
   "execution_count": 12,
   "id": "da76d835",
   "metadata": {},
   "outputs": [
    {
     "name": "stdout",
     "output_type": "stream",
     "text": [
      "60\n",
      "80\n",
      "90\n",
      "65\n"
     ]
    }
   ],
   "source": [
    "for i in result:\n",
    "    print(i)  "
   ]
  },
  {
   "cell_type": "code",
   "execution_count": 13,
   "id": "2ea8546a",
   "metadata": {},
   "outputs": [
    {
     "data": {
      "text/plain": [
       "[60, 80, 90, 65]"
      ]
     },
     "execution_count": 13,
     "metadata": {},
     "output_type": "execute_result"
    }
   ],
   "source": [
    "list(filter(high_marks,marks)) "
   ]
  },
  {
   "cell_type": "code",
   "execution_count": 14,
   "id": "850314c6",
   "metadata": {},
   "outputs": [
    {
     "data": {
      "text/plain": [
       "[60, 80, 90, 65]"
      ]
     },
     "execution_count": 14,
     "metadata": {},
     "output_type": "execute_result"
    }
   ],
   "source": [
    "list(filter(lambda n: (n>=60), marks))  "
   ]
  },
  {
   "cell_type": "markdown",
   "id": "0458b77f",
   "metadata": {},
   "source": [
    "Agar hum function ke jagah pr None ko run kare toh yeh srf True statement pr run krta hai. "
   ]
  },
  {
   "cell_type": "code",
   "execution_count": 15,
   "id": "68cf8f17",
   "metadata": {},
   "outputs": [
    {
     "data": {
      "text/plain": [
       "[10, 50, 60, 80, 90, 5, 45, 65]"
      ]
     },
     "execution_count": 15,
     "metadata": {},
     "output_type": "execute_result"
    }
   ],
   "source": [
    "list(filter(None, marks)) "
   ]
  },
  {
   "cell_type": "code",
   "execution_count": 16,
   "id": "ad1fcdfe",
   "metadata": {},
   "outputs": [],
   "source": [
    "lst = [False, True, False, True, False, True, False, True] "
   ]
  },
  {
   "cell_type": "code",
   "execution_count": 17,
   "id": "4327c32f",
   "metadata": {},
   "outputs": [
    {
     "data": {
      "text/plain": [
       "[True, True, True, True]"
      ]
     },
     "execution_count": 17,
     "metadata": {},
     "output_type": "execute_result"
    }
   ],
   "source": [
    "list(filter(None, lst)) "
   ]
  },
  {
   "cell_type": "markdown",
   "id": "e66ce815",
   "metadata": {},
   "source": [
    "### Filter By Code With Harry "
   ]
  },
  {
   "cell_type": "code",
   "execution_count": 18,
   "id": "b07b826a",
   "metadata": {},
   "outputs": [],
   "source": [
    "lst = [1,2,3,4,5,6,7,8] "
   ]
  },
  {
   "cell_type": "code",
   "execution_count": 19,
   "id": "7dfc5972",
   "metadata": {},
   "outputs": [],
   "source": [
    "def is_greater_5(num):\n",
    "    return num>5     "
   ]
  },
  {
   "cell_type": "code",
   "execution_count": 20,
   "id": "1e3479a2",
   "metadata": {},
   "outputs": [],
   "source": [
    "gr_than_5 = list(filter(is_greater_5, lst)) "
   ]
  },
  {
   "cell_type": "code",
   "execution_count": 21,
   "id": "2907e438",
   "metadata": {},
   "outputs": [
    {
     "name": "stdout",
     "output_type": "stream",
     "text": [
      "[6, 7, 8]\n"
     ]
    }
   ],
   "source": [
    "print(gr_than_5) "
   ]
  },
  {
   "cell_type": "markdown",
   "id": "6a7bc4d3",
   "metadata": {},
   "source": [
    "# Map Function "
   ]
  },
  {
   "cell_type": "markdown",
   "id": "bc9528e7",
   "metadata": {},
   "source": [
    "#### Code With Harry"
   ]
  },
  {
   "cell_type": "markdown",
   "id": "c08a5ca3",
   "metadata": {},
   "source": [
    "map kisi bhi function ko ek list mai apply kr deta hai."
   ]
  },
  {
   "cell_type": "code",
   "execution_count": 22,
   "id": "957f11f9",
   "metadata": {},
   "outputs": [
    {
     "name": "stdout",
     "output_type": "stream",
     "text": [
      "4\n"
     ]
    }
   ],
   "source": [
    "numbers = [\"1\",\"2\",\"3\",\"4\",\"5\",\"6\"]\n",
    "\n",
    "for i in range(len(numbers)):\n",
    "    numbers[i] = int(numbers[i])\n",
    "               \n",
    "numbers[2] = numbers[2] + 1\n",
    "print(numbers[2]) "
   ]
  },
  {
   "cell_type": "markdown",
   "id": "83c1772a",
   "metadata": {},
   "source": [
    "Ab Hum Koi Baar Baar thodi na for loops chalayege, jab hamara kaam map functions se ek line mai ho sakta hai."
   ]
  },
  {
   "cell_type": "code",
   "execution_count": 23,
   "id": "c46bfe73",
   "metadata": {},
   "outputs": [],
   "source": [
    "numbers = list(map(int, numbers)) "
   ]
  },
  {
   "cell_type": "code",
   "execution_count": 24,
   "id": "906feb58",
   "metadata": {},
   "outputs": [
    {
     "data": {
      "text/plain": [
       "[1, 2, 4, 4, 5, 6]"
      ]
     },
     "execution_count": 24,
     "metadata": {},
     "output_type": "execute_result"
    }
   ],
   "source": [
    "numbers "
   ]
  },
  {
   "cell_type": "code",
   "execution_count": 25,
   "id": "41733047",
   "metadata": {},
   "outputs": [
    {
     "name": "stdout",
     "output_type": "stream",
     "text": [
      "[1, 4, 9, 16, 25, 36, 49, 64]\n"
     ]
    }
   ],
   "source": [
    "# Example:-2\n",
    "\n",
    "num = [1,2,3,4,5,6,7,8]\n",
    "\n",
    "def sq(a):\n",
    "    return a*a\n",
    "\n",
    "square = list(map(sq, num))\n",
    "print(square) "
   ]
  },
  {
   "cell_type": "code",
   "execution_count": 26,
   "id": "cc2156d1",
   "metadata": {},
   "outputs": [
    {
     "name": "stdout",
     "output_type": "stream",
     "text": [
      "[1, 4, 9, 16, 25, 36, 49, 64]\n"
     ]
    }
   ],
   "source": [
    "square = list(map(lambda x: x*x, num))\n",
    "print(square) "
   ]
  },
  {
   "cell_type": "code",
   "execution_count": 27,
   "id": "f8676d50",
   "metadata": {},
   "outputs": [
    {
     "name": "stdout",
     "output_type": "stream",
     "text": [
      "[0, 0]\n",
      "[1, 1]\n",
      "[4, 8]\n",
      "[9, 27]\n",
      "[16, 64]\n"
     ]
    }
   ],
   "source": [
    "# example 3\n",
    "\n",
    "def square(a):\n",
    "    return a*a\n",
    "\n",
    "def cube(a):\n",
    "    return a*a*a \n",
    "\n",
    "func = [square, cube]\n",
    "for i in range(5):\n",
    "    val = list(map(lambda x:x(i), func))\n",
    "    print(val)  "
   ]
  },
  {
   "cell_type": "markdown",
   "id": "8a5886c7",
   "metadata": {},
   "source": [
    "#### Map Function by Krish Naik"
   ]
  },
  {
   "cell_type": "code",
   "execution_count": 28,
   "id": "f8ed2a78",
   "metadata": {},
   "outputs": [],
   "source": [
    "def even_or_odd(num):\n",
    "    if num%2==0:\n",
    "        return \"The number {} is Even\".format(num)\n",
    "    else:\n",
    "        return \"The number {} is Odd\".format(num) "
   ]
  },
  {
   "cell_type": "code",
   "execution_count": 29,
   "id": "e3178785",
   "metadata": {},
   "outputs": [
    {
     "data": {
      "text/plain": [
       "'The number 24 is Even'"
      ]
     },
     "execution_count": 29,
     "metadata": {},
     "output_type": "execute_result"
    }
   ],
   "source": [
    "even_or_odd(24) "
   ]
  },
  {
   "cell_type": "code",
   "execution_count": 30,
   "id": "f88ec58b",
   "metadata": {},
   "outputs": [],
   "source": [
    "lst = [1,2,3,4,5,6,7] "
   ]
  },
  {
   "cell_type": "code",
   "execution_count": 31,
   "id": "fe249472",
   "metadata": {},
   "outputs": [
    {
     "data": {
      "text/plain": [
       "<map at 0x52a2388>"
      ]
     },
     "execution_count": 31,
     "metadata": {},
     "output_type": "execute_result"
    }
   ],
   "source": [
    "map(even_or_odd,lst) "
   ]
  },
  {
   "cell_type": "code",
   "execution_count": 32,
   "id": "d35b1419",
   "metadata": {},
   "outputs": [
    {
     "data": {
      "text/plain": [
       "['The number 1 is Odd',\n",
       " 'The number 2 is Even',\n",
       " 'The number 3 is Odd',\n",
       " 'The number 4 is Even',\n",
       " 'The number 5 is Odd',\n",
       " 'The number 6 is Even',\n",
       " 'The number 7 is Odd']"
      ]
     },
     "execution_count": 32,
     "metadata": {},
     "output_type": "execute_result"
    }
   ],
   "source": [
    "list(map(even_or_odd,lst))  "
   ]
  },
  {
   "cell_type": "markdown",
   "id": "2261d4bd",
   "metadata": {},
   "source": [
    "#### Map Fucntion by Geeky Shows"
   ]
  },
  {
   "cell_type": "code",
   "execution_count": 33,
   "id": "08304036",
   "metadata": {},
   "outputs": [],
   "source": [
    "a1 = [1,2,3,4,5,6,7,8]"
   ]
  },
  {
   "cell_type": "code",
   "execution_count": 34,
   "id": "0f54111c",
   "metadata": {},
   "outputs": [],
   "source": [
    "def inc(n):\n",
    "    return n+2 "
   ]
  },
  {
   "cell_type": "code",
   "execution_count": 35,
   "id": "5a69cddd",
   "metadata": {},
   "outputs": [],
   "source": [
    "result = map(inc,a1) "
   ]
  },
  {
   "cell_type": "code",
   "execution_count": 36,
   "id": "5202ba15",
   "metadata": {},
   "outputs": [
    {
     "name": "stdout",
     "output_type": "stream",
     "text": [
      "<map object at 0x00000000052A4C88>\n"
     ]
    }
   ],
   "source": [
    "print(result)  "
   ]
  },
  {
   "cell_type": "code",
   "execution_count": 37,
   "id": "4653dff0",
   "metadata": {},
   "outputs": [
    {
     "name": "stdout",
     "output_type": "stream",
     "text": [
      "3\n",
      "4\n",
      "5\n",
      "6\n",
      "7\n",
      "8\n",
      "9\n",
      "10\n"
     ]
    }
   ],
   "source": [
    "for i in result:\n",
    "    print(i) "
   ]
  },
  {
   "cell_type": "code",
   "execution_count": 38,
   "id": "4683e378",
   "metadata": {},
   "outputs": [
    {
     "name": "stdout",
     "output_type": "stream",
     "text": [
      "<class 'map'>\n"
     ]
    }
   ],
   "source": [
    "print(type(result))"
   ]
  },
  {
   "cell_type": "code",
   "execution_count": 39,
   "id": "77c8e094",
   "metadata": {},
   "outputs": [
    {
     "name": "stdout",
     "output_type": "stream",
     "text": [
      "[3, 4, 5, 6, 7, 8, 9, 10]\n"
     ]
    }
   ],
   "source": [
    "result = list(map(inc,a1)) \n",
    "\n",
    "print(result) "
   ]
  },
  {
   "cell_type": "code",
   "execution_count": 40,
   "id": "ebad32a1",
   "metadata": {},
   "outputs": [
    {
     "name": "stdout",
     "output_type": "stream",
     "text": [
      "<class 'list'>\n"
     ]
    }
   ],
   "source": [
    "print(type(result))"
   ]
  },
  {
   "cell_type": "code",
   "execution_count": 41,
   "id": "6dac09af",
   "metadata": {},
   "outputs": [
    {
     "name": "stdout",
     "output_type": "stream",
     "text": [
      "[3, 4, 5, 6, 7, 8, 9, 10]\n"
     ]
    }
   ],
   "source": [
    "result = list(map(lambda n: n+2 ,a1)) \n",
    "\n",
    "print(result)  "
   ]
  },
  {
   "cell_type": "markdown",
   "id": "0ede2a1c",
   "metadata": {},
   "source": [
    "Map Function mai hum ek se jyada iterable list de sakte hai"
   ]
  },
  {
   "cell_type": "code",
   "execution_count": 42,
   "id": "7a4e1fc7",
   "metadata": {},
   "outputs": [
    {
     "name": "stdout",
     "output_type": "stream",
     "text": [
      "[7, 9, 11, 13, 6]\n"
     ]
    }
   ],
   "source": [
    "# Adding 2 list,(element in both list should be same...)\n",
    "\n",
    "a = [1,2,3,4,5]\n",
    "b = [6,7,8,9,1]\n",
    "\n",
    "result = list(map(lambda n, m: n+m ,a,b)) \n",
    "                                          # here n represent a and m represent b\n",
    "print(result) "
   ]
  },
  {
   "cell_type": "code",
   "execution_count": 43,
   "id": "7b32a460",
   "metadata": {
    "scrolled": true
   },
   "outputs": [
    {
     "name": "stdout",
     "output_type": "stream",
     "text": [
      "7\n",
      "9\n",
      "11\n",
      "13\n",
      "6\n"
     ]
    }
   ],
   "source": [
    "for i in result:\n",
    "    print(i)  "
   ]
  },
  {
   "cell_type": "markdown",
   "id": "cd7aa923",
   "metadata": {},
   "source": [
    "# Reduce Function"
   ]
  },
  {
   "cell_type": "markdown",
   "id": "e12ea5c7",
   "metadata": {},
   "source": [
    "#### Reduce Function by Code with harry"
   ]
  },
  {
   "cell_type": "code",
   "execution_count": 44,
   "id": "5b135eb4",
   "metadata": {},
   "outputs": [
    {
     "name": "stdout",
     "output_type": "stream",
     "text": [
      "36\n"
     ]
    }
   ],
   "source": [
    "lst1 = [1,2,3,4,5,6,7,8]\n",
    "\n",
    "num = 0\n",
    "for i in lst1:\n",
    "    num = num + i\n",
    "print(num)  "
   ]
  },
  {
   "cell_type": "code",
   "execution_count": 45,
   "id": "2104e806",
   "metadata": {},
   "outputs": [],
   "source": [
    "from functools import reduce \n",
    "sum = reduce(lambda n,m: n+m, lst1)  "
   ]
  },
  {
   "cell_type": "code",
   "execution_count": 46,
   "id": "bc445c92",
   "metadata": {},
   "outputs": [
    {
     "name": "stdout",
     "output_type": "stream",
     "text": [
      "36\n"
     ]
    }
   ],
   "source": [
    "print(sum) "
   ]
  },
  {
   "cell_type": "markdown",
   "id": "2e05bc79",
   "metadata": {},
   "source": [
    "#### Reduce Function by Geeky Shows "
   ]
  },
  {
   "cell_type": "markdown",
   "id": "8cd2f587",
   "metadata": {},
   "source": [
    "reduce function is a function from functools, so we have to import it from functools."
   ]
  },
  {
   "cell_type": "code",
   "execution_count": 47,
   "id": "afc7ca30",
   "metadata": {},
   "outputs": [
    {
     "name": "stdout",
     "output_type": "stream",
     "text": [
      "150\n",
      "<class 'int'>\n"
     ]
    }
   ],
   "source": [
    "from functools import reduce\n",
    "\n",
    "a = [10,20,30,40,50]\n",
    "\n",
    "result = reduce(lambda n,m: n+m, a)\n",
    "\n",
    "print(result)\n",
    "\n",
    "print(type(result)) "
   ]
  },
  {
   "cell_type": "code",
   "execution_count": 48,
   "id": "b95de8e2",
   "metadata": {},
   "outputs": [
    {
     "name": "stdout",
     "output_type": "stream",
     "text": [
      "720\n",
      "<class 'int'>\n"
     ]
    }
   ],
   "source": [
    "a = [1,2,3,4,5,6]\n",
    "\n",
    "result = reduce(lambda n,m: n*m, a)\n",
    "\n",
    "print(result)\n",
    "\n",
    "print(type(result)) "
   ]
  }
 ],
 "metadata": {
  "kernelspec": {
   "display_name": "Python 3",
   "language": "python",
   "name": "python3"
  },
  "language_info": {
   "codemirror_mode": {
    "name": "ipython",
    "version": 3
   },
   "file_extension": ".py",
   "mimetype": "text/x-python",
   "name": "python",
   "nbconvert_exporter": "python",
   "pygments_lexer": "ipython3",
   "version": "3.7.4"
  }
 },
 "nbformat": 4,
 "nbformat_minor": 5
}
