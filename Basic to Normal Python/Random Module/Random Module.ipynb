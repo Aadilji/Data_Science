{
 "cells": [
  {
   "cell_type": "markdown",
   "id": "bf2bbf6f",
   "metadata": {},
   "source": [
    "# random module"
   ]
  },
  {
   "cell_type": "markdown",
   "id": "af2c815b",
   "metadata": {},
   "source": [
    "This module creates random digits eg, a throw of dices , captch codes"
   ]
  },
  {
   "cell_type": "markdown",
   "id": "ad0fa63a",
   "metadata": {},
   "source": [
    "### randrange()"
   ]
  },
  {
   "cell_type": "markdown",
   "id": "109f6287",
   "metadata": {},
   "source": [
    "This function generates an integer b/w given lower and upper limit."
   ]
  },
  {
   "cell_type": "code",
   "execution_count": 1,
   "id": "4d71fdf2",
   "metadata": {},
   "outputs": [],
   "source": [
    "import random"
   ]
  },
  {
   "cell_type": "code",
   "execution_count": 2,
   "id": "0edc0efa",
   "metadata": {},
   "outputs": [
    {
     "data": {
      "text/plain": [
       "2"
      ]
     },
     "execution_count": 2,
     "metadata": {},
     "output_type": "execute_result"
    }
   ],
   "source": [
    "random.randrange(5)"
   ]
  },
  {
   "cell_type": "code",
   "execution_count": 3,
   "id": "dfc7f1b0",
   "metadata": {},
   "outputs": [
    {
     "data": {
      "text/plain": [
       "4"
      ]
     },
     "execution_count": 3,
     "metadata": {},
     "output_type": "execute_result"
    }
   ],
   "source": [
    "random.randrange(5) "
   ]
  },
  {
   "cell_type": "code",
   "execution_count": 4,
   "id": "26cbd2ef",
   "metadata": {},
   "outputs": [
    {
     "data": {
      "text/plain": [
       "9"
      ]
     },
     "execution_count": 4,
     "metadata": {},
     "output_type": "execute_result"
    }
   ],
   "source": [
    "random.randrange(29)  "
   ]
  },
  {
   "cell_type": "code",
   "execution_count": 5,
   "id": "284662ef",
   "metadata": {},
   "outputs": [
    {
     "data": {
      "text/plain": [
       "30"
      ]
     },
     "execution_count": 5,
     "metadata": {},
     "output_type": "execute_result"
    }
   ],
   "source": [
    "random.randrange(30,40) # it can include 30 but cant include 40.   "
   ]
  },
  {
   "cell_type": "markdown",
   "id": "282d0cb4",
   "metadata": {},
   "source": [
    "### random() "
   ]
  },
  {
   "cell_type": "markdown",
   "id": "36add7d0",
   "metadata": {},
   "source": [
    "it generates floating value b\\w 0 and 1 (including 0 and excuding 1), it does not require any arguments."
   ]
  },
  {
   "cell_type": "code",
   "execution_count": 6,
   "id": "3435070d",
   "metadata": {},
   "outputs": [
    {
     "data": {
      "text/plain": [
       "0.9495471043409462"
      ]
     },
     "execution_count": 6,
     "metadata": {},
     "output_type": "execute_result"
    }
   ],
   "source": [
    "random.random() "
   ]
  },
  {
   "cell_type": "code",
   "execution_count": 7,
   "id": "1b2841ba",
   "metadata": {},
   "outputs": [
    {
     "data": {
      "text/plain": [
       "0.8223244801728292"
      ]
     },
     "execution_count": 7,
     "metadata": {},
     "output_type": "execute_result"
    }
   ],
   "source": [
    "random.random() "
   ]
  },
  {
   "cell_type": "code",
   "execution_count": 8,
   "id": "b7e1ce91",
   "metadata": {},
   "outputs": [
    {
     "data": {
      "text/plain": [
       "72.19698272856552"
      ]
     },
     "execution_count": 8,
     "metadata": {},
     "output_type": "execute_result"
    }
   ],
   "source": [
    "random.random() * 100 "
   ]
  },
  {
   "cell_type": "code",
   "execution_count": 9,
   "id": "eccc3bac",
   "metadata": {},
   "outputs": [
    {
     "data": {
      "text/plain": [
       "22.514537575521267"
      ]
     },
     "execution_count": 9,
     "metadata": {},
     "output_type": "execute_result"
    }
   ],
   "source": [
    "random.random() * 100 "
   ]
  },
  {
   "cell_type": "markdown",
   "id": "2ff57824",
   "metadata": {},
   "source": [
    "### randint() "
   ]
  },
  {
   "cell_type": "markdown",
   "id": "4aa07d61",
   "metadata": {},
   "source": [
    "this function returns any integer number between the two numbers, including both limits "
   ]
  },
  {
   "cell_type": "code",
   "execution_count": 10,
   "id": "6ed1eec3",
   "metadata": {},
   "outputs": [
    {
     "data": {
      "text/plain": [
       "6"
      ]
     },
     "execution_count": 10,
     "metadata": {},
     "output_type": "execute_result"
    }
   ],
   "source": [
    "random.randint(5,10) "
   ]
  },
  {
   "cell_type": "code",
   "execution_count": 11,
   "id": "2bde59a6",
   "metadata": {},
   "outputs": [
    {
     "data": {
      "text/plain": [
       "9"
      ]
     },
     "execution_count": 11,
     "metadata": {},
     "output_type": "execute_result"
    }
   ],
   "source": [
    "random.randint(5,10)"
   ]
  },
  {
   "cell_type": "code",
   "execution_count": 12,
   "id": "b4563c01",
   "metadata": {},
   "outputs": [
    {
     "data": {
      "text/plain": [
       "6"
      ]
     },
     "execution_count": 12,
     "metadata": {},
     "output_type": "execute_result"
    }
   ],
   "source": [
    "random.randint(5,10)"
   ]
  },
  {
   "cell_type": "code",
   "execution_count": 13,
   "id": "943c746b",
   "metadata": {},
   "outputs": [
    {
     "data": {
      "text/plain": [
       "8"
      ]
     },
     "execution_count": 13,
     "metadata": {},
     "output_type": "execute_result"
    }
   ],
   "source": [
    "random.randint(5,10)"
   ]
  },
  {
   "cell_type": "code",
   "execution_count": 14,
   "id": "00a70573",
   "metadata": {},
   "outputs": [
    {
     "data": {
      "text/plain": [
       "8"
      ]
     },
     "execution_count": 14,
     "metadata": {},
     "output_type": "execute_result"
    }
   ],
   "source": [
    "random.randint(5,10)"
   ]
  },
  {
   "cell_type": "markdown",
   "id": "5f039b8d",
   "metadata": {},
   "source": [
    "### uniform() "
   ]
  },
  {
   "cell_type": "markdown",
   "id": "f484204f",
   "metadata": {},
   "source": [
    "this method return any floating point number b/w 2 given numbers. it will include lower limit but exclude upper limit. "
   ]
  },
  {
   "cell_type": "code",
   "execution_count": 15,
   "id": "644dbc3b",
   "metadata": {},
   "outputs": [
    {
     "data": {
      "text/plain": [
       "9.803672574778016"
      ]
     },
     "execution_count": 15,
     "metadata": {},
     "output_type": "execute_result"
    }
   ],
   "source": [
    "random.uniform(5,10) "
   ]
  },
  {
   "cell_type": "code",
   "execution_count": 16,
   "id": "18ef6a2b",
   "metadata": {},
   "outputs": [
    {
     "data": {
      "text/plain": [
       "5.349607849068488"
      ]
     },
     "execution_count": 16,
     "metadata": {},
     "output_type": "execute_result"
    }
   ],
   "source": [
    "random.uniform(5,6) "
   ]
  },
  {
   "cell_type": "markdown",
   "id": "68dc100a",
   "metadata": {},
   "source": [
    "### choice()"
   ]
  },
  {
   "cell_type": "markdown",
   "id": "4141b25e",
   "metadata": {},
   "source": [
    "This method is used for random selection from list,tuple or string."
   ]
  },
  {
   "cell_type": "code",
   "execution_count": 17,
   "id": "1b7860f5",
   "metadata": {},
   "outputs": [
    {
     "data": {
      "text/plain": [
       "'person'"
      ]
     },
     "execution_count": 17,
     "metadata": {},
     "output_type": "execute_result"
    }
   ],
   "source": [
    "lst = [\"aadil\",\"is\",\"a\",\"good\",\"person\"]\n",
    "random.choice(lst) "
   ]
  },
  {
   "cell_type": "code",
   "execution_count": 18,
   "id": "5fec3e1c",
   "metadata": {},
   "outputs": [
    {
     "data": {
      "text/plain": [
       "'aadil'"
      ]
     },
     "execution_count": 18,
     "metadata": {},
     "output_type": "execute_result"
    }
   ],
   "source": [
    "random.choice(lst)"
   ]
  },
  {
   "cell_type": "code",
   "execution_count": 19,
   "id": "930e04ab",
   "metadata": {},
   "outputs": [
    {
     "data": {
      "text/plain": [
       "'person'"
      ]
     },
     "execution_count": 19,
     "metadata": {},
     "output_type": "execute_result"
    }
   ],
   "source": [
    "random.choice(lst) "
   ]
  },
  {
   "cell_type": "code",
   "execution_count": 20,
   "id": "28d08035",
   "metadata": {},
   "outputs": [
    {
     "data": {
      "text/plain": [
       "'good'"
      ]
     },
     "execution_count": 20,
     "metadata": {},
     "output_type": "execute_result"
    }
   ],
   "source": [
    "random.choice(lst)"
   ]
  },
  {
   "cell_type": "code",
   "execution_count": 21,
   "id": "ee97d056",
   "metadata": {},
   "outputs": [
    {
     "name": "stdout",
     "output_type": "stream",
     "text": [
      "my fav lang is : person\n"
     ]
    }
   ],
   "source": [
    "print(f\"my fav lang is : {random.choice(lst)}\") "
   ]
  },
  {
   "cell_type": "code",
   "execution_count": 22,
   "id": "70cc0372",
   "metadata": {},
   "outputs": [
    {
     "name": "stdout",
     "output_type": "stream",
     "text": [
      "my fav word is : good\n"
     ]
    }
   ],
   "source": [
    "print(f\"my fav word is : {random.choice(lst)}\")  "
   ]
  },
  {
   "cell_type": "code",
   "execution_count": 23,
   "id": "d0ef08b6",
   "metadata": {},
   "outputs": [],
   "source": [
    "tple = (\"aadil\",\"is\",\"a\",\"good\",\"person\") "
   ]
  },
  {
   "cell_type": "code",
   "execution_count": 24,
   "id": "0aca3328",
   "metadata": {},
   "outputs": [
    {
     "name": "stdout",
     "output_type": "stream",
     "text": [
      "my fav lang is : a\n"
     ]
    }
   ],
   "source": [
    "print(f\"my fav lang is : {random.choice(tple)}\")  "
   ]
  },
  {
   "cell_type": "code",
   "execution_count": 25,
   "id": "3d63fef3",
   "metadata": {},
   "outputs": [
    {
     "name": "stdout",
     "output_type": "stream",
     "text": [
      "l\n"
     ]
    }
   ],
   "source": [
    "str = \"Aadil\" \n",
    "print(f\"{random.choice(str)}\") "
   ]
  },
  {
   "cell_type": "code",
   "execution_count": 26,
   "id": "3fdab6aa",
   "metadata": {},
   "outputs": [
    {
     "name": "stdout",
     "output_type": "stream",
     "text": [
      "A\n"
     ]
    }
   ],
   "source": [
    "print(f\"{random.choice(str)}\") "
   ]
  },
  {
   "cell_type": "code",
   "execution_count": 27,
   "id": "0b16f404",
   "metadata": {},
   "outputs": [
    {
     "name": "stdout",
     "output_type": "stream",
     "text": [
      "d\n"
     ]
    }
   ],
   "source": [
    "print(f\"{random.choice(str)}\") "
   ]
  },
  {
   "cell_type": "code",
   "execution_count": 28,
   "id": "1b0a9513",
   "metadata": {},
   "outputs": [],
   "source": [
    "lst = [\"aadil\",\"is\",\"a\",\"good\",\"person\"]\n",
    "choice = random.choice(lst)  "
   ]
  },
  {
   "cell_type": "code",
   "execution_count": 29,
   "id": "b887fd9f",
   "metadata": {},
   "outputs": [
    {
     "data": {
      "text/plain": [
       "'is'"
      ]
     },
     "execution_count": 29,
     "metadata": {},
     "output_type": "execute_result"
    }
   ],
   "source": [
    "choice "
   ]
  },
  {
   "cell_type": "markdown",
   "id": "cd101db4",
   "metadata": {},
   "source": [
    "### shuffle() "
   ]
  },
  {
   "cell_type": "markdown",
   "id": "f0aae889",
   "metadata": {},
   "source": [
    "This method can shuffle the items of a given lst.<br>   yeh sidhe original list ko change kr deta hai. "
   ]
  },
  {
   "cell_type": "code",
   "execution_count": 30,
   "id": "970d6d82",
   "metadata": {},
   "outputs": [],
   "source": [
    "lst1 = [1,2,3,4,5,5,66,77,88,99]"
   ]
  },
  {
   "cell_type": "code",
   "execution_count": 31,
   "id": "544f13ab",
   "metadata": {},
   "outputs": [
    {
     "name": "stdout",
     "output_type": "stream",
     "text": [
      "None\n"
     ]
    }
   ],
   "source": [
    "print(random.shuffle(lst1))  "
   ]
  },
  {
   "cell_type": "code",
   "execution_count": 32,
   "id": "63de9048",
   "metadata": {},
   "outputs": [
    {
     "data": {
      "text/plain": [
       "['aadil', 'is', 'a', 'good', 'person']"
      ]
     },
     "execution_count": 32,
     "metadata": {},
     "output_type": "execute_result"
    }
   ],
   "source": [
    "lst "
   ]
  },
  {
   "cell_type": "code",
   "execution_count": 33,
   "id": "5349f1a1",
   "metadata": {},
   "outputs": [],
   "source": [
    "random.shuffle(lst) "
   ]
  },
  {
   "cell_type": "code",
   "execution_count": 34,
   "id": "38fc08f9",
   "metadata": {},
   "outputs": [
    {
     "data": {
      "text/plain": [
       "[3, 77, 66, 1, 99, 2, 5, 88, 5, 4]"
      ]
     },
     "execution_count": 34,
     "metadata": {},
     "output_type": "execute_result"
    }
   ],
   "source": [
    "lst1 "
   ]
  },
  {
   "cell_type": "code",
   "execution_count": 35,
   "id": "1a9b21ed",
   "metadata": {},
   "outputs": [
    {
     "data": {
      "text/plain": [
       "['aadil', 'good', 'a', 'is', 'person']"
      ]
     },
     "execution_count": 35,
     "metadata": {},
     "output_type": "execute_result"
    }
   ],
   "source": [
    "lst "
   ]
  },
  {
   "cell_type": "code",
   "execution_count": 36,
   "id": "05675d29",
   "metadata": {},
   "outputs": [],
   "source": [
    "random.shuffle(lst) "
   ]
  },
  {
   "cell_type": "code",
   "execution_count": 37,
   "id": "6703cd7b",
   "metadata": {},
   "outputs": [
    {
     "data": {
      "text/plain": [
       "['aadil', 'a', 'person', 'good', 'is']"
      ]
     },
     "execution_count": 37,
     "metadata": {},
     "output_type": "execute_result"
    }
   ],
   "source": [
    "lst "
   ]
  }
 ],
 "metadata": {
  "kernelspec": {
   "display_name": "Python 3",
   "language": "python",
   "name": "python3"
  },
  "language_info": {
   "codemirror_mode": {
    "name": "ipython",
    "version": 3
   },
   "file_extension": ".py",
   "mimetype": "text/x-python",
   "name": "python",
   "nbconvert_exporter": "python",
   "pygments_lexer": "ipython3",
   "version": "3.7.4"
  }
 },
 "nbformat": 4,
 "nbformat_minor": 5
}
