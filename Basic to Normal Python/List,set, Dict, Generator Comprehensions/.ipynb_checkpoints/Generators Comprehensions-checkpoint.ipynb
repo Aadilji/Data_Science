{
 "cells": [
  {
   "cell_type": "markdown",
   "id": "1284abb0",
   "metadata": {},
   "source": [
    "# Generators Comprehensions"
   ]
  },
  {
   "cell_type": "markdown",
   "id": "966dbe6c",
   "metadata": {},
   "source": [
    "List Comprehensions Banane ke liye hum square Brackets use karte hai.<br>\n",
    "Dict,list Comprehensions Banane ke liye hum Curly Brackets use karte hai.<br>\n",
    "generators Comprehensions Banane ke liye hum Parenthesis use karte hai."
   ]
  },
  {
   "cell_type": "code",
   "execution_count": 1,
   "id": "2ec3f7fd",
   "metadata": {},
   "outputs": [
    {
     "name": "stdout",
     "output_type": "stream",
     "text": [
      "<generator object <genexpr> at 0x0000000005009F48>\n"
     ]
    }
   ],
   "source": [
    "evens = (i for i in range(100) if i%2==0)\n",
    "print(evens) \n",
    "\n",
    "        # without yield function, generator object create ho rha h,this is the power of parenthesis.."
   ]
  },
  {
   "cell_type": "code",
   "execution_count": 2,
   "id": "3a289d08",
   "metadata": {},
   "outputs": [
    {
     "name": "stdout",
     "output_type": "stream",
     "text": [
      "<class 'generator'>\n"
     ]
    }
   ],
   "source": [
    "print(type(evens)) "
   ]
  },
  {
   "cell_type": "code",
   "execution_count": 3,
   "id": "b4929935",
   "metadata": {},
   "outputs": [
    {
     "name": "stdout",
     "output_type": "stream",
     "text": [
      "0\n",
      "2\n",
      "4\n",
      "6\n",
      "8\n"
     ]
    }
   ],
   "source": [
    "evens = (i for i in range(100) if i%2==0)\n",
    "print(evens.__next__())\n",
    "print(evens.__next__())\n",
    "print(evens.__next__())\n",
    "print(evens.__next__())\n",
    "print(evens.__next__()) "
   ]
  },
  {
   "cell_type": "code",
   "execution_count": 4,
   "id": "c313c16d",
   "metadata": {},
   "outputs": [
    {
     "name": "stdout",
     "output_type": "stream",
     "text": [
      "0\n",
      "2\n",
      "4\n",
      "6\n",
      "8\n"
     ]
    }
   ],
   "source": [
    "evens = (i for i in range(10) if i%2==0)\n",
    "\n",
    "for k in evens:\n",
    "    print(k)  "
   ]
  }
 ],
 "metadata": {
  "kernelspec": {
   "display_name": "Python 3",
   "language": "python",
   "name": "python3"
  },
  "language_info": {
   "codemirror_mode": {
    "name": "ipython",
    "version": 3
   },
   "file_extension": ".py",
   "mimetype": "text/x-python",
   "name": "python",
   "nbconvert_exporter": "python",
   "pygments_lexer": "ipython3",
   "version": "3.7.4"
  }
 },
 "nbformat": 4,
 "nbformat_minor": 5
}
