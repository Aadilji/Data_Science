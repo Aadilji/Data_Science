{
 "cells": [
  {
   "cell_type": "markdown",
   "id": "024d31d8",
   "metadata": {},
   "source": [
    "# List Comprehension in Python"
   ]
  },
  {
   "cell_type": "markdown",
   "id": "6e8b4b39",
   "metadata": {},
   "source": [
    "Shortening the code is called as Comprehension."
   ]
  },
  {
   "cell_type": "markdown",
   "id": "b560acc4",
   "metadata": {},
   "source": [
    "#### Krish Naik"
   ]
  },
  {
   "cell_type": "code",
   "execution_count": 1,
   "id": "16f0005f",
   "metadata": {},
   "outputs": [],
   "source": [
    "lst = [1,2,3,4,5,6,7,8,9]"
   ]
  },
  {
   "cell_type": "code",
   "execution_count": 2,
   "id": "985b245c",
   "metadata": {},
   "outputs": [
    {
     "data": {
      "text/plain": [
       "list"
      ]
     },
     "execution_count": 2,
     "metadata": {},
     "output_type": "execute_result"
    }
   ],
   "source": [
    "type(lst) "
   ]
  },
  {
   "cell_type": "code",
   "execution_count": 3,
   "id": "aa190cdb",
   "metadata": {},
   "outputs": [
    {
     "ename": "TypeError",
     "evalue": "list expected at most 1 arguments, got 9",
     "output_type": "error",
     "traceback": [
      "\u001b[1;31m---------------------------------------------------------------------------\u001b[0m",
      "\u001b[1;31mTypeError\u001b[0m                                 Traceback (most recent call last)",
      "\u001b[1;32m<ipython-input-3-8022027195f6>\u001b[0m in \u001b[0;36m<module>\u001b[1;34m\u001b[0m\n\u001b[0;32m      1\u001b[0m \u001b[1;31m# trows error of expected arguments.\u001b[0m\u001b[1;33m\u001b[0m\u001b[1;33m\u001b[0m\u001b[1;33m\u001b[0m\u001b[0m\n\u001b[1;32m----> 2\u001b[1;33m \u001b[0mlst\u001b[0m \u001b[1;33m=\u001b[0m \u001b[0mlist\u001b[0m\u001b[1;33m(\u001b[0m\u001b[1;36m1\u001b[0m\u001b[1;33m,\u001b[0m\u001b[1;36m2\u001b[0m\u001b[1;33m,\u001b[0m\u001b[1;36m3\u001b[0m\u001b[1;33m,\u001b[0m\u001b[1;36m4\u001b[0m\u001b[1;33m,\u001b[0m\u001b[1;36m5\u001b[0m\u001b[1;33m,\u001b[0m\u001b[1;36m6\u001b[0m\u001b[1;33m,\u001b[0m\u001b[1;36m7\u001b[0m\u001b[1;33m,\u001b[0m\u001b[1;36m8\u001b[0m\u001b[1;33m,\u001b[0m\u001b[1;36m9\u001b[0m\u001b[1;33m)\u001b[0m\u001b[1;33m\u001b[0m\u001b[1;33m\u001b[0m\u001b[0m\n\u001b[0m",
      "\u001b[1;31mTypeError\u001b[0m: list expected at most 1 arguments, got 9"
     ]
    }
   ],
   "source": [
    "# trows error of expected arguments.\n",
    "lst = list(1,2,3,4,5,6,7,8,9) "
   ]
  },
  {
   "cell_type": "code",
   "execution_count": 4,
   "id": "9ad26b57",
   "metadata": {},
   "outputs": [],
   "source": [
    "a = (1,2,3,4,5,6,7,8,9) "
   ]
  },
  {
   "cell_type": "code",
   "execution_count": 5,
   "id": "49f60f11",
   "metadata": {},
   "outputs": [],
   "source": [
    "lst = list(a) "
   ]
  },
  {
   "cell_type": "code",
   "execution_count": 6,
   "id": "3317b17d",
   "metadata": {},
   "outputs": [
    {
     "name": "stdout",
     "output_type": "stream",
     "text": [
      "[1, 2, 3, 4, 5, 6, 7, 8, 9]\n",
      "<class 'list'>\n"
     ]
    }
   ],
   "source": [
    "print(lst)\n",
    "print(type(lst)) "
   ]
  },
  {
   "cell_type": "code",
   "execution_count": 7,
   "id": "e5e3e90b",
   "metadata": {},
   "outputs": [
    {
     "name": "stdout",
     "output_type": "stream",
     "text": [
      "[1, 2, 3, 4, 5, 6, 7, 8, 9]\n"
     ]
    }
   ],
   "source": [
    "new_lst = []\n",
    "for i in lst:\n",
    "    new_lst.append(i)\n",
    "print(new_lst) "
   ]
  },
  {
   "cell_type": "markdown",
   "id": "6567e0af",
   "metadata": {},
   "source": [
    "#### List Comprehesnion"
   ]
  },
  {
   "cell_type": "markdown",
   "id": "855f83fd",
   "metadata": {},
   "source": [
    "for i in list return i<br>\n",
    "[return i ,for i in list (condition) ]"
   ]
  },
  {
   "cell_type": "code",
   "execution_count": 8,
   "id": "5ec7fa47",
   "metadata": {},
   "outputs": [
    {
     "data": {
      "text/plain": [
       "[1, 2, 3, 4, 5, 6, 7, 8, 9]"
      ]
     },
     "execution_count": 8,
     "metadata": {},
     "output_type": "execute_result"
    }
   ],
   "source": [
    "[i for i in lst] "
   ]
  },
  {
   "cell_type": "code",
   "execution_count": 9,
   "id": "d72f5f5c",
   "metadata": {},
   "outputs": [
    {
     "name": "stdout",
     "output_type": "stream",
     "text": [
      "[2, 4, 6, 8]\n"
     ]
    }
   ],
   "source": [
    "# Example 2:-\n",
    "\n",
    "new_lst = []\n",
    "for i in lst:\n",
    "    if i%2==0:\n",
    "        new_lst.append(i)\n",
    "\n",
    "print(new_lst) "
   ]
  },
  {
   "cell_type": "code",
   "execution_count": 10,
   "id": "dc7d6ec2",
   "metadata": {},
   "outputs": [
    {
     "data": {
      "text/plain": [
       "[2, 4, 6, 8]"
      ]
     },
     "execution_count": 10,
     "metadata": {},
     "output_type": "execute_result"
    }
   ],
   "source": [
    "[i for i in lst if i%2==0] "
   ]
  },
  {
   "cell_type": "markdown",
   "id": "7c040529",
   "metadata": {},
   "source": [
    "# Code with Harry"
   ]
  },
  {
   "cell_type": "code",
   "execution_count": 11,
   "id": "2324ce5b",
   "metadata": {},
   "outputs": [],
   "source": [
    "ls = []\n",
    "for i in range(31):\n",
    "    if i%3 == 0:\n",
    "        ls.append(i) "
   ]
  },
  {
   "cell_type": "code",
   "execution_count": 12,
   "id": "30b5d3cb",
   "metadata": {},
   "outputs": [
    {
     "name": "stdout",
     "output_type": "stream",
     "text": [
      "[0, 3, 6, 9, 12, 15, 18, 21, 24, 27, 30]\n"
     ]
    }
   ],
   "source": [
    "print(ls) "
   ]
  },
  {
   "cell_type": "code",
   "execution_count": 13,
   "id": "941395b5",
   "metadata": {},
   "outputs": [
    {
     "name": "stdout",
     "output_type": "stream",
     "text": [
      "[0, 3, 6, 9, 12, 15, 18, 21, 24, 27, 30]\n"
     ]
    }
   ],
   "source": [
    "ls = [i for i in range(31) if i%3==0] \n",
    "print(ls) "
   ]
  },
  {
   "cell_type": "markdown",
   "id": "9ceb72de",
   "metadata": {},
   "source": [
    "#### CodeBasics"
   ]
  },
  {
   "cell_type": "code",
   "execution_count": 14,
   "id": "2538f321",
   "metadata": {},
   "outputs": [],
   "source": [
    "lst = [1,2,3,4,5,6,7,8,9]"
   ]
  },
  {
   "cell_type": "code",
   "execution_count": 15,
   "id": "3def58bd",
   "metadata": {},
   "outputs": [],
   "source": [
    "sqr_numbers = [i*i for i in lst] "
   ]
  },
  {
   "cell_type": "code",
   "execution_count": 16,
   "id": "9cc7ea8a",
   "metadata": {},
   "outputs": [
    {
     "data": {
      "text/plain": [
       "[1, 4, 9, 16, 25, 36, 49, 64, 81]"
      ]
     },
     "execution_count": 16,
     "metadata": {},
     "output_type": "execute_result"
    }
   ],
   "source": [
    "sqr_numbers "
   ]
  }
 ],
 "metadata": {
  "kernelspec": {
   "display_name": "Python 3",
   "language": "python",
   "name": "python3"
  },
  "language_info": {
   "codemirror_mode": {
    "name": "ipython",
    "version": 3
   },
   "file_extension": ".py",
   "mimetype": "text/x-python",
   "name": "python",
   "nbconvert_exporter": "python",
   "pygments_lexer": "ipython3",
   "version": "3.7.4"
  }
 },
 "nbformat": 4,
 "nbformat_minor": 5
}
