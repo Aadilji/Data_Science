{
 "cells": [
  {
   "cell_type": "markdown",
   "id": "ed2eeb88",
   "metadata": {},
   "source": [
    "# Dictionary Comprehension"
   ]
  },
  {
   "cell_type": "markdown",
   "id": "52f8193d",
   "metadata": {},
   "source": [
    "#### Code With Harry"
   ]
  },
  {
   "cell_type": "markdown",
   "id": "c662d6bc",
   "metadata": {},
   "source": [
    "suppose if we want to create a dict. like this upto 100<br>\n",
    "dict = {0:\"item 0\", 1:\"item 1\", 2:\"item 2\",............,100:\"item 100\"}<br>\n",
    "lekin ese dict likhege toh humko shaam ho jaayegi."
   ]
  },
  {
   "cell_type": "code",
   "execution_count": 1,
   "id": "81cde28e",
   "metadata": {},
   "outputs": [
    {
     "name": "stdout",
     "output_type": "stream",
     "text": [
      "{0: 'item0', 1: 'item1', 2: 'item2', 3: 'item3', 4: 'item4', 5: 'item5', 6: 'item6', 7: 'item7', 8: 'item8', 9: 'item9', 10: 'item10', 11: 'item11', 12: 'item12', 13: 'item13', 14: 'item14', 15: 'item15', 16: 'item16', 17: 'item17', 18: 'item18', 19: 'item19', 20: 'item20', 21: 'item21', 22: 'item22', 23: 'item23', 24: 'item24', 25: 'item25', 26: 'item26', 27: 'item27', 28: 'item28', 29: 'item29', 30: 'item30', 31: 'item31', 32: 'item32', 33: 'item33', 34: 'item34', 35: 'item35', 36: 'item36', 37: 'item37', 38: 'item38', 39: 'item39', 40: 'item40', 41: 'item41', 42: 'item42', 43: 'item43', 44: 'item44', 45: 'item45', 46: 'item46', 47: 'item47', 48: 'item48', 49: 'item49', 50: 'item50', 51: 'item51', 52: 'item52', 53: 'item53', 54: 'item54', 55: 'item55', 56: 'item56', 57: 'item57', 58: 'item58', 59: 'item59', 60: 'item60', 61: 'item61', 62: 'item62', 63: 'item63', 64: 'item64', 65: 'item65', 66: 'item66', 67: 'item67', 68: 'item68', 69: 'item69', 70: 'item70', 71: 'item71', 72: 'item72', 73: 'item73', 74: 'item74', 75: 'item75', 76: 'item76', 77: 'item77', 78: 'item78', 79: 'item79', 80: 'item80', 81: 'item81', 82: 'item82', 83: 'item83', 84: 'item84', 85: 'item85', 86: 'item86', 87: 'item87', 88: 'item88', 89: 'item89', 90: 'item90', 91: 'item91', 92: 'item92', 93: 'item93', 94: 'item94', 95: 'item95', 96: 'item96', 97: 'item97', 98: 'item98', 99: 'item99'}\n"
     ]
    }
   ],
   "source": [
    "# Dict. Comprehension\n",
    "\n",
    "dict1 = {i:f\"item{i}\" for i in range(100)}\n",
    "print(dict1)  "
   ]
  },
  {
   "cell_type": "markdown",
   "id": "b825579b",
   "metadata": {},
   "source": [
    "Ab Esi Dict hum range(1,100000000000000000000) tak bhi bana sakte hai"
   ]
  },
  {
   "cell_type": "code",
   "execution_count": 2,
   "id": "a4083c85",
   "metadata": {},
   "outputs": [],
   "source": [
    "dict = {i:f\"item {i}\" for i in range(1,10001) if i%500==0} "
   ]
  },
  {
   "cell_type": "code",
   "execution_count": 3,
   "id": "ac2a94b0",
   "metadata": {},
   "outputs": [
    {
     "data": {
      "text/plain": [
       "{500: 'item 500',\n",
       " 1000: 'item 1000',\n",
       " 1500: 'item 1500',\n",
       " 2000: 'item 2000',\n",
       " 2500: 'item 2500',\n",
       " 3000: 'item 3000',\n",
       " 3500: 'item 3500',\n",
       " 4000: 'item 4000',\n",
       " 4500: 'item 4500',\n",
       " 5000: 'item 5000',\n",
       " 5500: 'item 5500',\n",
       " 6000: 'item 6000',\n",
       " 6500: 'item 6500',\n",
       " 7000: 'item 7000',\n",
       " 7500: 'item 7500',\n",
       " 8000: 'item 8000',\n",
       " 8500: 'item 8500',\n",
       " 9000: 'item 9000',\n",
       " 9500: 'item 9500',\n",
       " 10000: 'item 10000'}"
      ]
     },
     "execution_count": 3,
     "metadata": {},
     "output_type": "execute_result"
    }
   ],
   "source": [
    "dict "
   ]
  },
  {
   "cell_type": "markdown",
   "id": "0f2b8e4e",
   "metadata": {},
   "source": [
    "### dictionary Can Be Reversed by Dict. Comprehnsion"
   ]
  },
  {
   "cell_type": "code",
   "execution_count": 4,
   "id": "ebec5a34",
   "metadata": {},
   "outputs": [
    {
     "name": "stdout",
     "output_type": "stream",
     "text": [
      "{'Item 0': 0, 'Item 1': 1, 'Item 2': 2, 'Item 3': 3, 'Item 4': 4}\n"
     ]
    }
   ],
   "source": [
    "dict1 = {i:f\"Item {i}\" for i in range(5)}\n",
    "dict1 = {value:key for key,value in dict1.items()} \n",
    "print(dict1) "
   ]
  },
  {
   "cell_type": "code",
   "execution_count": 5,
   "id": "eb32fcd6",
   "metadata": {},
   "outputs": [
    {
     "name": "stdout",
     "output_type": "stream",
     "text": [
      "{0: 'Item 0', 1: 'Item 1', 2: 'Item 2', 3: 'Item 3', 4: 'Item 4'} \n",
      " {'Item 0': 0, 'Item 1': 1, 'Item 2': 2, 'Item 3': 3, 'Item 4': 4}\n"
     ]
    }
   ],
   "source": [
    "dict1 = {i:f\"Item {i}\" for i in range(5)}\n",
    "dict2 = {value:key for key,value in dict1.items()} \n",
    "print(dict1,\"\\n\", dict2) "
   ]
  },
  {
   "cell_type": "markdown",
   "id": "4d0272ff",
   "metadata": {},
   "source": [
    "#### if we want to add the values of 2 keys(upper case and lower case)"
   ]
  },
  {
   "cell_type": "code",
   "execution_count": 6,
   "id": "ff66aee2",
   "metadata": {},
   "outputs": [
    {
     "name": "stdout",
     "output_type": "stream",
     "text": [
      "{'a': 50, 'b': 65}\n"
     ]
    }
   ],
   "source": [
    "dict1 = {'a':45, 'b':65, 'A':5}\n",
    "print({k.lower():dict1.get(k.lower(), 0) + dict1.get(k.upper(), 0)  for k in dict1.keys()}) "
   ]
  },
  {
   "cell_type": "markdown",
   "id": "47762db5",
   "metadata": {},
   "source": [
    "yeh code ne, similar Keys(lower & upper) ko add kiya & list banayi nyi)...."
   ]
  },
  {
   "cell_type": "markdown",
   "id": "89c0fe2c",
   "metadata": {},
   "source": [
    "#### Code-Basics"
   ]
  },
  {
   "cell_type": "markdown",
   "id": "37cd0e3d",
   "metadata": {},
   "source": [
    "#### Zip - In Built Function to zip 2 lists. "
   ]
  },
  {
   "cell_type": "code",
   "execution_count": 7,
   "id": "e00ba6ef",
   "metadata": {},
   "outputs": [
    {
     "name": "stdout",
     "output_type": "stream",
     "text": [
      "<zip object at 0x0000000005523A08>\n"
     ]
    }
   ],
   "source": [
    "cities = [\"mumbai\",\"new york\",\"paris\"]\n",
    "countries = ['India',\"usa\",\"france\"]\n",
    "\n",
    "z = zip(countries,cities)\n",
    "print(z) "
   ]
  },
  {
   "cell_type": "code",
   "execution_count": 8,
   "id": "08ac6805",
   "metadata": {},
   "outputs": [
    {
     "name": "stdout",
     "output_type": "stream",
     "text": [
      "('India', 'mumbai')\n",
      "('usa', 'new york')\n",
      "('france', 'paris')\n"
     ]
    }
   ],
   "source": [
    "for a in z:\n",
    "    print(a) "
   ]
  },
  {
   "cell_type": "code",
   "execution_count": 9,
   "id": "fcc30c3a",
   "metadata": {},
   "outputs": [
    {
     "name": "stdout",
     "output_type": "stream",
     "text": [
      "<class 'tuple'>\n"
     ]
    }
   ],
   "source": [
    "print(type(a)) "
   ]
  },
  {
   "cell_type": "code",
   "execution_count": 10,
   "id": "e475a0ad",
   "metadata": {},
   "outputs": [],
   "source": [
    "d = {city:country for country,  city in zip(countries,cities)} "
   ]
  },
  {
   "cell_type": "code",
   "execution_count": 11,
   "id": "1b97b85e",
   "metadata": {},
   "outputs": [
    {
     "name": "stdout",
     "output_type": "stream",
     "text": [
      "{'mumbai': 'India', 'new york': 'usa', 'paris': 'france'}\n"
     ]
    }
   ],
   "source": [
    "print(d) "
   ]
  },
  {
   "cell_type": "code",
   "execution_count": 12,
   "id": "b0b16c4a",
   "metadata": {},
   "outputs": [],
   "source": [
    "d = {country:city for city,country in zip(cities,countries)}   "
   ]
  },
  {
   "cell_type": "code",
   "execution_count": 13,
   "id": "26b0924e",
   "metadata": {},
   "outputs": [
    {
     "name": "stdout",
     "output_type": "stream",
     "text": [
      "{'India': 'mumbai', 'usa': 'new york', 'france': 'paris'}\n"
     ]
    }
   ],
   "source": [
    "print(d)  "
   ]
  },
  {
   "cell_type": "code",
   "execution_count": null,
   "id": "f0a37c00",
   "metadata": {},
   "outputs": [],
   "source": []
  }
 ],
 "metadata": {
  "kernelspec": {
   "display_name": "Python 3",
   "language": "python",
   "name": "python3"
  },
  "language_info": {
   "codemirror_mode": {
    "name": "ipython",
    "version": 3
   },
   "file_extension": ".py",
   "mimetype": "text/x-python",
   "name": "python",
   "nbconvert_exporter": "python",
   "pygments_lexer": "ipython3",
   "version": "3.7.4"
  }
 },
 "nbformat": 4,
 "nbformat_minor": 5
}
