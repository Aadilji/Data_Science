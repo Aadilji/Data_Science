{
 "cells": [
  {
   "cell_type": "markdown",
   "id": "7f09a4fe",
   "metadata": {},
   "source": [
    "# Set Comprehension "
   ]
  },
  {
   "cell_type": "markdown",
   "id": "12a016df",
   "metadata": {},
   "source": [
    "#### CodeBasics"
   ]
  },
  {
   "cell_type": "code",
   "execution_count": 1,
   "id": "2cc2a557",
   "metadata": {},
   "outputs": [
    {
     "name": "stdout",
     "output_type": "stream",
     "text": [
      "{1, 2, 3, 4, 5, 6}\n"
     ]
    }
   ],
   "source": [
    "s = set([1,2,3,2,4,5,4,6,5])\n",
    "print(s) "
   ]
  },
  {
   "cell_type": "code",
   "execution_count": 2,
   "id": "94135e58",
   "metadata": {},
   "outputs": [
    {
     "name": "stdout",
     "output_type": "stream",
     "text": [
      "{2, 4, 6}\n",
      "<class 'set'>\n"
     ]
    }
   ],
   "source": [
    "even = {i for i in s if i%2==0} \n",
    "print(even)\n",
    "print(type(even)) "
   ]
  },
  {
   "cell_type": "markdown",
   "id": "40c2653e",
   "metadata": {},
   "source": [
    "#### Code with Harry"
   ]
  },
  {
   "cell_type": "code",
   "execution_count": 3,
   "id": "bbe42ff4",
   "metadata": {},
   "outputs": [
    {
     "name": "stdout",
     "output_type": "stream",
     "text": [
      "{1, 4, 36, 9, 16, 25}\n"
     ]
    }
   ],
   "source": [
    "squared = {x**2 for x in [1,2,3,4,4,4,4,4,5,5,5,5,5,6,6]}\n",
    "print(squared) "
   ]
  },
  {
   "cell_type": "code",
   "execution_count": 4,
   "id": "23e5ea42",
   "metadata": {},
   "outputs": [
    {
     "name": "stdout",
     "output_type": "stream",
     "text": [
      "['dress1', 'dress2', 'dress2', 'dress1', 'dress1', 'dress2']\n",
      "<class 'list'>\n"
     ]
    }
   ],
   "source": [
    "# example 2\n",
    "dresses = [dress for dress in [\"dress1\",\"dress2\",\"dress2\",\"dress1\",\"dress1\",\"dress2\"]]\n",
    "print(dresses)\n",
    "print(type(dresses)) "
   ]
  },
  {
   "cell_type": "code",
   "execution_count": 5,
   "id": "8be0260d",
   "metadata": {},
   "outputs": [
    {
     "name": "stdout",
     "output_type": "stream",
     "text": [
      "{'dress2', 'dress1'}\n",
      "<class 'set'>\n"
     ]
    }
   ],
   "source": [
    "dresses = {dress for dress in [\"dress1\",\"dress2\",\"dress2\",\"dress1\",\"dress1\",\"dress2\"]}\n",
    "print(dresses)\n",
    "print(type(dresses)) "
   ]
  },
  {
   "cell_type": "code",
   "execution_count": null,
   "id": "f6687b87",
   "metadata": {},
   "outputs": [],
   "source": []
  }
 ],
 "metadata": {
  "kernelspec": {
   "display_name": "Python 3",
   "language": "python",
   "name": "python3"
  },
  "language_info": {
   "codemirror_mode": {
    "name": "ipython",
    "version": 3
   },
   "file_extension": ".py",
   "mimetype": "text/x-python",
   "name": "python",
   "nbconvert_exporter": "python",
   "pygments_lexer": "ipython3",
   "version": "3.7.4"
  }
 },
 "nbformat": 4,
 "nbformat_minor": 5
}
