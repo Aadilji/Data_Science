{
 "cells": [
  {
   "cell_type": "code",
   "execution_count": 1,
   "id": "930888c8",
   "metadata": {},
   "outputs": [],
   "source": [
    "import math "
   ]
  },
  {
   "cell_type": "markdown",
   "id": "8a23c7f3",
   "metadata": {},
   "source": [
    "# Sqrt "
   ]
  },
  {
   "cell_type": "code",
   "execution_count": 2,
   "id": "ae41e521",
   "metadata": {},
   "outputs": [],
   "source": [
    "x = math.sqrt(25) "
   ]
  },
  {
   "cell_type": "code",
   "execution_count": 3,
   "id": "2dea0598",
   "metadata": {},
   "outputs": [
    {
     "name": "stdout",
     "output_type": "stream",
     "text": [
      "5.0\n"
     ]
    }
   ],
   "source": [
    "print(x) "
   ]
  },
  {
   "cell_type": "code",
   "execution_count": 4,
   "id": "0bf01448",
   "metadata": {},
   "outputs": [
    {
     "name": "stdout",
     "output_type": "stream",
     "text": [
      "3.872983346207417\n"
     ]
    }
   ],
   "source": [
    "x = math.sqrt(15) \n",
    "print(x) "
   ]
  },
  {
   "cell_type": "markdown",
   "id": "375e25dc",
   "metadata": {},
   "source": [
    "# Floor  "
   ]
  },
  {
   "cell_type": "code",
   "execution_count": 6,
   "id": "7a340e33",
   "metadata": {},
   "outputs": [
    {
     "name": "stdout",
     "output_type": "stream",
     "text": [
      "2\n"
     ]
    }
   ],
   "source": [
    "y = math.floor(2.6)  \n",
    "print(y) "
   ]
  },
  {
   "cell_type": "markdown",
   "id": "dc3ff9dc",
   "metadata": {},
   "source": [
    "# Ceil "
   ]
  },
  {
   "cell_type": "code",
   "execution_count": 8,
   "id": "730f2f6c",
   "metadata": {},
   "outputs": [
    {
     "name": "stdout",
     "output_type": "stream",
     "text": [
      "3\n"
     ]
    }
   ],
   "source": [
    "y = math.ceil(2.9)   \n",
    "print(y)"
   ]
  },
  {
   "cell_type": "markdown",
   "id": "12bd87fb",
   "metadata": {},
   "source": [
    "# Pow"
   ]
  },
  {
   "cell_type": "code",
   "execution_count": 10,
   "id": "ccda8a15",
   "metadata": {},
   "outputs": [
    {
     "name": "stdout",
     "output_type": "stream",
     "text": [
      "9.0\n"
     ]
    }
   ],
   "source": [
    "print(math.pow(3,2)) "
   ]
  },
  {
   "cell_type": "markdown",
   "id": "d6b76511",
   "metadata": {},
   "source": [
    "# pi "
   ]
  },
  {
   "cell_type": "code",
   "execution_count": 11,
   "id": "0d0c92ff",
   "metadata": {},
   "outputs": [
    {
     "name": "stdout",
     "output_type": "stream",
     "text": [
      "3.141592653589793\n"
     ]
    }
   ],
   "source": [
    "print(math.pi)  "
   ]
  },
  {
   "cell_type": "markdown",
   "id": "cb00a366",
   "metadata": {},
   "source": [
    "# e "
   ]
  },
  {
   "cell_type": "code",
   "execution_count": 12,
   "id": "6cea3dd8",
   "metadata": {},
   "outputs": [
    {
     "name": "stdout",
     "output_type": "stream",
     "text": [
      "2.718281828459045\n"
     ]
    }
   ],
   "source": [
    "print(math.e)  "
   ]
  },
  {
   "cell_type": "markdown",
   "id": "1ec125a0",
   "metadata": {},
   "source": [
    "# ALIAS"
   ]
  },
  {
   "cell_type": "code",
   "execution_count": 13,
   "id": "b3659c2a",
   "metadata": {},
   "outputs": [],
   "source": [
    "import math as m "
   ]
  },
  {
   "cell_type": "code",
   "execution_count": 14,
   "id": "6e845cdc",
   "metadata": {},
   "outputs": [
    {
     "data": {
      "text/plain": [
       "5.0"
      ]
     },
     "execution_count": 14,
     "metadata": {},
     "output_type": "execute_result"
    }
   ],
   "source": [
    "m.sqrt(25)  "
   ]
  },
  {
   "cell_type": "markdown",
   "id": "a406557d",
   "metadata": {},
   "source": [
    "# Importing Small Modules "
   ]
  },
  {
   "cell_type": "code",
   "execution_count": 15,
   "id": "e58e0a99",
   "metadata": {},
   "outputs": [],
   "source": [
    "from math import sqrt,pow "
   ]
  },
  {
   "cell_type": "code",
   "execution_count": 16,
   "id": "34ab7fa8",
   "metadata": {},
   "outputs": [
    {
     "data": {
      "text/plain": [
       "1024.0"
      ]
     },
     "execution_count": 16,
     "metadata": {},
     "output_type": "execute_result"
    }
   ],
   "source": [
    "pow(4,5) "
   ]
  },
  {
   "cell_type": "code",
   "execution_count": null,
   "id": "36dabcc7",
   "metadata": {},
   "outputs": [],
   "source": []
  }
 ],
 "metadata": {
  "kernelspec": {
   "display_name": "Python 3",
   "language": "python",
   "name": "python3"
  },
  "language_info": {
   "codemirror_mode": {
    "name": "ipython",
    "version": 3
   },
   "file_extension": ".py",
   "mimetype": "text/x-python",
   "name": "python",
   "nbconvert_exporter": "python",
   "pygments_lexer": "ipython3",
   "version": "3.7.4"
  }
 },
 "nbformat": 4,
 "nbformat_minor": 5
}
