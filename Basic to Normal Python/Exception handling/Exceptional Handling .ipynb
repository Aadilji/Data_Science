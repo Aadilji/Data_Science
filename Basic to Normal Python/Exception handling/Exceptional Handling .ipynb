{
 "cells": [
  {
   "cell_type": "markdown",
   "id": "2871e87f",
   "metadata": {},
   "source": [
    "# Exceptional Handling "
   ]
  },
  {
   "cell_type": "markdown",
   "id": "ff4ada3b",
   "metadata": {},
   "source": [
    "### what is difference between error and exception ?\n",
    "Ans:-) 1. An Exception is an error that can be handeled by a programmer.<br> \n",
    "    2. All exception which are not handled by programmer, becomes an error.<br> \n",
    "    3. All Exception occur only at run time.<br>  \n",
    "    4. Error may occur at compile time or runtime. "
   ]
  },
  {
   "cell_type": "markdown",
   "id": "8ff37f25",
   "metadata": {},
   "source": [
    "### Krish Naik YT Channel."
   ]
  },
  {
   "cell_type": "code",
   "execution_count": 1,
   "id": "1ac9edc0",
   "metadata": {},
   "outputs": [],
   "source": [
    "a = 10"
   ]
  },
  {
   "cell_type": "code",
   "execution_count": 2,
   "id": "e004e6ea",
   "metadata": {},
   "outputs": [
    {
     "ename": "NameError",
     "evalue": "name 'b' is not defined",
     "output_type": "error",
     "traceback": [
      "\u001b[1;31m---------------------------------------------------------------------------\u001b[0m",
      "\u001b[1;31mNameError\u001b[0m                                 Traceback (most recent call last)",
      "\u001b[1;32m<ipython-input-2-93c3829ba0f8>\u001b[0m in \u001b[0;36m<module>\u001b[1;34m\u001b[0m\n\u001b[1;32m----> 1\u001b[1;33m \u001b[0ma\u001b[0m \u001b[1;33m=\u001b[0m \u001b[0mb\u001b[0m\u001b[1;33m\u001b[0m\u001b[1;33m\u001b[0m\u001b[0m\n\u001b[0m",
      "\u001b[1;31mNameError\u001b[0m: name 'b' is not defined"
     ]
    }
   ],
   "source": [
    "a = b "
   ]
  },
  {
   "cell_type": "markdown",
   "id": "54267eff",
   "metadata": {},
   "source": [
    "Ab yeh Error Apan log Front End User and a person who dont know the programming Language ko bilkul bhi nhi dikha sakte hai.<br>\n",
    "and error ke baad program stuck ho jaata hai, aur aage nhi badhta hai.<br>\n",
    "so, we learn this concept exception handling."
   ]
  },
  {
   "cell_type": "raw",
   "id": "7fe64873",
   "metadata": {},
   "source": [
    "** Syntax\n",
    "try:\n",
    "    code block where exception can occur\n",
    "except:\n",
    "    print('Some Problem may have occured') "
   ]
  },
  {
   "cell_type": "code",
   "execution_count": 3,
   "id": "c2d16086",
   "metadata": {},
   "outputs": [
    {
     "name": "stdout",
     "output_type": "stream",
     "text": [
      "Some Problem may have occur\n"
     ]
    }
   ],
   "source": [
    "try:\n",
    "    a = b \n",
    "except:\n",
    "    print('Some Problem may have occur')  "
   ]
  },
  {
   "cell_type": "code",
   "execution_count": 4,
   "id": "b3b7a62c",
   "metadata": {},
   "outputs": [
    {
     "name": "stdout",
     "output_type": "stream",
     "text": [
      "name 'b' is not defined\n"
     ]
    }
   ],
   "source": [
    "# getting that specific error printed\n",
    "try:\n",
    "    a = b \n",
    "except Exception as ex: \n",
    "    print(ex) \n",
    "    \n",
    "                # Here,exception is Class and ex is its alias,\n",
    "                # it has 2 arguments (args, with_traceback) "
   ]
  },
  {
   "cell_type": "markdown",
   "id": "72d877ad",
   "metadata": {},
   "source": [
    "Upper Jo Name Error aa rha tha actually woh Exception class se hi abstract(derived) kiya gya hai."
   ]
  },
  {
   "cell_type": "code",
   "execution_count": 6,
   "id": "f0b376c2",
   "metadata": {},
   "outputs": [
    {
     "name": "stdout",
     "output_type": "stream",
     "text": [
      "The User have not defined the variable\n"
     ]
    }
   ],
   "source": [
    "try:\n",
    "    a = b \n",
    "except NameError as ex1:\n",
    "    print(\"The User have not defined the variable\") \n",
    "except Exception as ex: \n",
    "    print(ex)\n",
    "    \n",
    "    # Remember:-\n",
    "            # NameError is always written above the main class Exception.\n",
    "            # all the chances of child class should be written upside the Exception class."
   ]
  },
  {
   "cell_type": "code",
   "execution_count": 7,
   "id": "e2c7ac1d",
   "metadata": {},
   "outputs": [
    {
     "name": "stdout",
     "output_type": "stream",
     "text": [
      "unsupported operand type(s) for +: 'int' and 'str'\n"
     ]
    }
   ],
   "source": [
    "# TypeError is being caught by main class Exception.\n",
    "try:\n",
    "    a = 1\n",
    "    b = \"s\" \n",
    "    c = a+b\n",
    "except NameError as ex1:\n",
    "    print(\"The User have not defined the variable\") \n",
    "except Exception as ex: \n",
    "    print(ex) "
   ]
  },
  {
   "cell_type": "code",
   "execution_count": 10,
   "id": "83379f41",
   "metadata": {},
   "outputs": [
    {
     "ename": "TypeError",
     "evalue": "unsupported operand type(s) for +: 'int' and 'str'",
     "output_type": "error",
     "traceback": [
      "\u001b[1;31m---------------------------------------------------------------------------\u001b[0m",
      "\u001b[1;31mTypeError\u001b[0m                                 Traceback (most recent call last)",
      "\u001b[1;32m<ipython-input-10-2773156cb8e6>\u001b[0m in \u001b[0;36m<module>\u001b[1;34m\u001b[0m\n\u001b[0;32m      1\u001b[0m \u001b[0ma\u001b[0m \u001b[1;33m=\u001b[0m \u001b[1;36m1\u001b[0m\u001b[1;33m\u001b[0m\u001b[1;33m\u001b[0m\u001b[0m\n\u001b[0;32m      2\u001b[0m \u001b[0mb\u001b[0m \u001b[1;33m=\u001b[0m \u001b[1;34m\"s\"\u001b[0m\u001b[1;33m\u001b[0m\u001b[1;33m\u001b[0m\u001b[0m\n\u001b[1;32m----> 3\u001b[1;33m \u001b[0mc\u001b[0m \u001b[1;33m=\u001b[0m \u001b[0ma\u001b[0m\u001b[1;33m+\u001b[0m\u001b[0mb\u001b[0m\u001b[1;33m\u001b[0m\u001b[1;33m\u001b[0m\u001b[0m\n\u001b[0m",
      "\u001b[1;31mTypeError\u001b[0m: unsupported operand type(s) for +: 'int' and 'str'"
     ]
    }
   ],
   "source": [
    "a = 1\n",
    "b = \"s\" \n",
    "c = a+b"
   ]
  },
  {
   "cell_type": "code",
   "execution_count": 11,
   "id": "0310bebd",
   "metadata": {},
   "outputs": [
    {
     "name": "stdout",
     "output_type": "stream",
     "text": [
      "Try to make the data type similar\n"
     ]
    }
   ],
   "source": [
    "# type error is being caught.\n",
    "try:\n",
    "    a = 1\n",
    "    b = \"s\" \n",
    "    c = a+b\n",
    "except NameError:\n",
    "    print(\"The User have not defined the variable\")\n",
    "except TypeError:\n",
    "    print(\"Try to make the data type similar\") \n",
    "except Exception as ex: \n",
    "    print(ex) "
   ]
  },
  {
   "cell_type": "code",
   "execution_count": 13,
   "id": "cc00300b",
   "metadata": {},
   "outputs": [
    {
     "name": "stdout",
     "output_type": "stream",
     "text": [
      "enter your no. a: 12\n",
      "enter your no. b: 0\n",
      "division by zero\n"
     ]
    }
   ],
   "source": [
    "# Exception is handeled by main class Exception.\n",
    "try:\n",
    "    a = int(input(\"enter your no. a: \"))    \n",
    "    b = int(input(\"enter your no. b: \"))\n",
    "    c =  a/b\n",
    "    d = a*b\n",
    "    e = a+b\n",
    "    print(c,d,e) \n",
    "except NameError:\n",
    "    print(\"The User have not defined the variable\")\n",
    "except TypeError:\n",
    "    print(\"Try to make the data type similar\") \n",
    "except Exception as ex: \n",
    "    print(ex) "
   ]
  },
  {
   "cell_type": "code",
   "execution_count": 15,
   "id": "c429db90",
   "metadata": {},
   "outputs": [
    {
     "name": "stdout",
     "output_type": "stream",
     "text": [
      "enter your no. a: 12\n",
      "enter your no. b: 0\n"
     ]
    },
    {
     "ename": "ZeroDivisionError",
     "evalue": "division by zero",
     "output_type": "error",
     "traceback": [
      "\u001b[1;31m---------------------------------------------------------------------------\u001b[0m",
      "\u001b[1;31mZeroDivisionError\u001b[0m                         Traceback (most recent call last)",
      "\u001b[1;32m<ipython-input-15-78c71f5e6fc3>\u001b[0m in \u001b[0;36m<module>\u001b[1;34m\u001b[0m\n\u001b[0;32m      1\u001b[0m \u001b[0ma\u001b[0m \u001b[1;33m=\u001b[0m \u001b[0mint\u001b[0m\u001b[1;33m(\u001b[0m\u001b[0minput\u001b[0m\u001b[1;33m(\u001b[0m\u001b[1;34m\"enter your no. a: \"\u001b[0m\u001b[1;33m)\u001b[0m\u001b[1;33m)\u001b[0m\u001b[1;33m\u001b[0m\u001b[1;33m\u001b[0m\u001b[0m\n\u001b[0;32m      2\u001b[0m \u001b[0mb\u001b[0m \u001b[1;33m=\u001b[0m \u001b[0mint\u001b[0m\u001b[1;33m(\u001b[0m\u001b[0minput\u001b[0m\u001b[1;33m(\u001b[0m\u001b[1;34m\"enter your no. b: \"\u001b[0m\u001b[1;33m)\u001b[0m\u001b[1;33m)\u001b[0m\u001b[1;33m\u001b[0m\u001b[1;33m\u001b[0m\u001b[0m\n\u001b[1;32m----> 3\u001b[1;33m \u001b[0mc\u001b[0m \u001b[1;33m=\u001b[0m  \u001b[0ma\u001b[0m\u001b[1;33m/\u001b[0m\u001b[0mb\u001b[0m\u001b[1;33m\u001b[0m\u001b[1;33m\u001b[0m\u001b[0m\n\u001b[0m\u001b[0;32m      4\u001b[0m \u001b[0md\u001b[0m \u001b[1;33m=\u001b[0m \u001b[0ma\u001b[0m\u001b[1;33m*\u001b[0m\u001b[0mb\u001b[0m\u001b[1;33m\u001b[0m\u001b[1;33m\u001b[0m\u001b[0m\n\u001b[0;32m      5\u001b[0m \u001b[0me\u001b[0m \u001b[1;33m=\u001b[0m \u001b[0ma\u001b[0m\u001b[1;33m+\u001b[0m\u001b[0mb\u001b[0m\u001b[1;33m\u001b[0m\u001b[1;33m\u001b[0m\u001b[0m\n",
      "\u001b[1;31mZeroDivisionError\u001b[0m: division by zero"
     ]
    }
   ],
   "source": [
    "a = int(input(\"enter your no. a: \"))    \n",
    "b = int(input(\"enter your no. b: \"))\n",
    "c =  a/b\n",
    "d = a*b\n",
    "e = a+b\n",
    "print(c,d,e)"
   ]
  },
  {
   "cell_type": "code",
   "execution_count": 16,
   "id": "601660d9",
   "metadata": {},
   "outputs": [
    {
     "name": "stdout",
     "output_type": "stream",
     "text": [
      "enter your no. a: 12\n",
      "enter your no. b: 0\n",
      "pls provide no. greater than zero\n"
     ]
    }
   ],
   "source": [
    "# Exception is handeled by child class ZeroDivisionError.\n",
    "try:\n",
    "    a = int(input(\"enter your no. a: \"))    \n",
    "    b = int(input(\"enter your no. b: \"))\n",
    "    c =  a/b\n",
    "    d = a*b\n",
    "    e = a+b\n",
    "    print(c,d,e)\n",
    "except NameError:\n",
    "    print(\"The User have not defined the variable\")\n",
    "except ZeroDivisionError:\n",
    "    print(\"pls provide no. greater than zero\")\n",
    "except TypeError:\n",
    "    print(\"Try to make the data type similar\") \n",
    "except Exception as ex: \n",
    "    print(ex)"
   ]
  },
  {
   "cell_type": "markdown",
   "id": "423e2480",
   "metadata": {},
   "source": [
    "### try else:- "
   ]
  },
  {
   "cell_type": "code",
   "execution_count": 17,
   "id": "41531c2c",
   "metadata": {},
   "outputs": [
    {
     "name": "stdout",
     "output_type": "stream",
     "text": [
      "enter your no. a: 12\n",
      "enter your no. b: 0 \n",
      "pls provide no. greater than zero\n"
     ]
    }
   ],
   "source": [
    "try:\n",
    "    a = int(input(\"enter your no. a: \"))    \n",
    "    b = int(input(\"enter your no. b: \"))\n",
    "    c =  a/b\n",
    "    d = a*b\n",
    "    e = a+b\n",
    "    print(c,d,e)\n",
    "except NameError:\n",
    "    print(\"The User have not defined the variable\")\n",
    "except ZeroDivisionError:\n",
    "    print(\"pls provide no. greater than zero\")\n",
    "except TypeError:\n",
    "    print(\"Try to make the data type similar\") \n",
    "except Exception as ex: \n",
    "    print(ex)\n",
    "else:\n",
    "    print(\"operation Successfull\") "
   ]
  },
  {
   "cell_type": "code",
   "execution_count": 18,
   "id": "ee20b9dd",
   "metadata": {},
   "outputs": [
    {
     "name": "stdout",
     "output_type": "stream",
     "text": [
      "enter your no. a: 12\n",
      "enter your no. b: 4\n",
      "3.0 48 16\n",
      "operation Successfull\n"
     ]
    }
   ],
   "source": [
    "try:\n",
    "    a = int(input(\"enter your no. a: \"))    \n",
    "    b = int(input(\"enter your no. b: \"))\n",
    "    c =  a/b\n",
    "    d = a*b\n",
    "    e = a+b\n",
    "    print(c,d,e)\n",
    "except NameError:\n",
    "    print(\"The User have not defined the variable\")\n",
    "except ZeroDivisionError:\n",
    "    print(\"pls provide no. greater than zero\")\n",
    "except TypeError:\n",
    "    print(\"Try to make the data type similar\") \n",
    "except Exception as ex: \n",
    "    print(ex)\n",
    "else:\n",
    "    print(\"operation Successfull\")"
   ]
  },
  {
   "cell_type": "code",
   "execution_count": 21,
   "id": "c440cbcf",
   "metadata": {},
   "outputs": [
    {
     "name": "stdout",
     "output_type": "stream",
     "text": [
      "enter your no. a: 12\n",
      "enter your no. b: 0\n",
      "pls provide no. greater than zero\n"
     ]
    }
   ],
   "source": [
    "try:\n",
    "    a = int(input(\"enter your no. a: \"))    \n",
    "    b = int(input(\"enter your no. b: \"))\n",
    "    c =  a/b\n",
    "    d = a*b\n",
    "    e = a+b\n",
    "except NameError:\n",
    "    print(\"The User have not defined the variable\")\n",
    "except ZeroDivisionError:\n",
    "    print(\"pls provide no. greater than zero\")\n",
    "except TypeError:\n",
    "    print(\"Try to make the data type similar\") \n",
    "except Exception as ex: \n",
    "    print(ex)\n",
    "else:\n",
    "    print(c,d,e)"
   ]
  },
  {
   "cell_type": "code",
   "execution_count": 22,
   "id": "efd1d183",
   "metadata": {},
   "outputs": [
    {
     "name": "stdout",
     "output_type": "stream",
     "text": [
      "enter your no. a: 12\n",
      "enter your no. b: 4\n",
      "3.0 48 16\n"
     ]
    }
   ],
   "source": [
    "try:\n",
    "    a = int(input(\"enter your no. a: \"))    \n",
    "    b = int(input(\"enter your no. b: \"))\n",
    "    c =  a/b\n",
    "    d = a*b\n",
    "    e = a+b\n",
    "except NameError:\n",
    "    print(\"The User have not defined the variable\")\n",
    "except ZeroDivisionError:\n",
    "    print(\"pls provide no. greater than zero\")\n",
    "except TypeError:\n",
    "    print(\"Try to make the data type similar\") \n",
    "except Exception as ex: \n",
    "    print(ex)\n",
    "else:\n",
    "    print(c,d,e)"
   ]
  },
  {
   "cell_type": "markdown",
   "id": "2ed005fe",
   "metadata": {},
   "source": [
    "### try,except & finally "
   ]
  },
  {
   "cell_type": "code",
   "execution_count": 25,
   "id": "4b7bac97",
   "metadata": {},
   "outputs": [
    {
     "name": "stdout",
     "output_type": "stream",
     "text": [
      "enter your no. a: 12\n",
      "enter your no. b: 4\n",
      "3.0\n",
      "execution is done\n"
     ]
    }
   ],
   "source": [
    "try:\n",
    "    a = int(input(\"enter your no. a: \"))    \n",
    "    b = int(input(\"enter your no. b: \"))\n",
    "    c =  a/b\n",
    "except NameError:\n",
    "    print(\"The User have not defined the variable\")\n",
    "except ZeroDivisionError:\n",
    "    print(\"pls provide no. greater than zero\")\n",
    "except TypeError:\n",
    "    print(\"Try to make the data type similar\") \n",
    "except Exception as ex: \n",
    "    print(ex)\n",
    "else:\n",
    "    print(c) \n",
    "finally:\n",
    "    print(\"execution is done\") "
   ]
  },
  {
   "cell_type": "code",
   "execution_count": 26,
   "id": "6db8d16a",
   "metadata": {},
   "outputs": [
    {
     "name": "stdout",
     "output_type": "stream",
     "text": [
      "enter your no. a: 12\n",
      "enter your no. b: 0\n",
      "pls provide no. greater than zero\n",
      "execution is done\n"
     ]
    }
   ],
   "source": [
    "try:\n",
    "    a = int(input(\"enter your no. a: \"))    \n",
    "    b = int(input(\"enter your no. b: \"))\n",
    "    c =  a/b\n",
    "except NameError:\n",
    "    print(\"The User have not defined the variable\")\n",
    "except ZeroDivisionError:\n",
    "    print(\"pls provide no. greater than zero\")\n",
    "except TypeError:\n",
    "    print(\"Try to make the data type similar\") \n",
    "except Exception as ex: \n",
    "    print(ex)\n",
    "else:\n",
    "    print(c) \n",
    "finally:\n",
    "    print(\"execution is done\") "
   ]
  },
  {
   "cell_type": "markdown",
   "id": "e5012789",
   "metadata": {},
   "source": [
    "*Finally is used to close the connection of databases* "
   ]
  },
  {
   "cell_type": "markdown",
   "id": "9ce4951c",
   "metadata": {},
   "source": [
    "# Custom Exception Handling "
   ]
  },
  {
   "cell_type": "markdown",
   "id": "028a17a4",
   "metadata": {},
   "source": [
    "### Hum Khud hi Exception Create & raise Karenge & khud hi usko Catch Karenge. "
   ]
  },
  {
   "cell_type": "code",
   "execution_count": 3,
   "id": "bd2e06e2",
   "metadata": {},
   "outputs": [],
   "source": [
    "# to create custom exception, first we have to create a class & inherit from exception.\n",
    "class Error(Exception):\n",
    "    pass \n",
    "\n",
    "class dobException(Error):\n",
    "    pass\n"
   ]
  },
  {
   "cell_type": "code",
   "execution_count": 4,
   "id": "98eab543",
   "metadata": {},
   "outputs": [
    {
     "name": "stdout",
     "output_type": "stream",
     "text": [
      "enter the year of Birth: 1991\n",
      "the age is valid,you can apply for exams.\n"
     ]
    }
   ],
   "source": [
    "year = int(input(\"enter the year of Birth: \"))\n",
    "age = 2021 - year\n",
    "\n",
    "try:\n",
    "    if age<=30 & age>20:\n",
    "        print(\"the age is valid,you can apply for exams.\")\n",
    "\n",
    "    else:\n",
    "        raise dobException                     # exception raised\n",
    "except dobException:\n",
    "    print(\"the age is not valid,you can't apply for exams\")  "
   ]
  },
  {
   "cell_type": "code",
   "execution_count": 5,
   "id": "34e2981f",
   "metadata": {},
   "outputs": [
    {
     "name": "stdout",
     "output_type": "stream",
     "text": [
      "enter the year of Birth: 1987 \n",
      "the age is not valid\n"
     ]
    }
   ],
   "source": [
    "year = int(input(\"enter the year of Birth: \"))\n",
    "age = 2021 - year\n",
    "\n",
    "try:\n",
    "    if age<=30 & age>20:\n",
    "        pass \n",
    "\n",
    "    else:\n",
    "        raise dobException                     # exception raised\n",
    "except dobException:\n",
    "    print(\"the age is not valid\")"
   ]
  },
  {
   "cell_type": "code",
   "execution_count": null,
   "id": "e06b10dc",
   "metadata": {},
   "outputs": [],
   "source": []
  }
 ],
 "metadata": {
  "kernelspec": {
   "display_name": "Python 3",
   "language": "python",
   "name": "python3"
  },
  "language_info": {
   "codemirror_mode": {
    "name": "ipython",
    "version": 3
   },
   "file_extension": ".py",
   "mimetype": "text/x-python",
   "name": "python",
   "nbconvert_exporter": "python",
   "pygments_lexer": "ipython3",
   "version": "3.7.4"
  }
 },
 "nbformat": 4,
 "nbformat_minor": 5
}
