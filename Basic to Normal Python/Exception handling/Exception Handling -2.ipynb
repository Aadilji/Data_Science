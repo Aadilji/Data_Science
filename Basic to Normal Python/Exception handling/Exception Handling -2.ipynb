{
 "cells": [
  {
   "cell_type": "markdown",
   "id": "836d63c4",
   "metadata": {},
   "source": [
    "### Multiple Exception Handling by tuple"
   ]
  },
  {
   "cell_type": "code",
   "execution_count": 1,
   "id": "05ad7f95",
   "metadata": {},
   "outputs": [
    {
     "name": "stdout",
     "output_type": "stream",
     "text": [
      "Exceptional Handler\n",
      "rest of the code\n"
     ]
    }
   ],
   "source": [
    "a = 10\n",
    "b = 0\n",
    "\n",
    "try:\n",
    "    d = a/b\n",
    "    print(d)\n",
    "    \n",
    "except (NameError, ZeroDivisionError):\n",
    "    print('Exceptional Handler') \n",
    "    \n",
    "print('rest of the code') "
   ]
  },
  {
   "cell_type": "code",
   "execution_count": 2,
   "id": "61b6fbff",
   "metadata": {},
   "outputs": [
    {
     "name": "stdout",
     "output_type": "stream",
     "text": [
      "division by zero\n",
      "rest of the code\n"
     ]
    }
   ],
   "source": [
    "a = 10\n",
    "b = 0\n",
    "\n",
    "try:\n",
    "    d = a/b\n",
    "    print(d)\n",
    "    \n",
    "except (NameError, ZeroDivisionError) as obj:\n",
    "    print(obj)  \n",
    "    \n",
    "print('rest of the code')"
   ]
  },
  {
   "cell_type": "markdown",
   "id": "8ad2fec2",
   "metadata": {},
   "source": [
    "### All In One Exception Handler:-"
   ]
  },
  {
   "cell_type": "code",
   "execution_count": 3,
   "id": "db262d24",
   "metadata": {},
   "outputs": [
    {
     "name": "stdout",
     "output_type": "stream",
     "text": [
      "Exceptional Handler\n",
      "rest of the code\n"
     ]
    }
   ],
   "source": [
    "# All Exception will be handled by a Single syntax.\n",
    "a = 10\n",
    "b = 0\n",
    "\n",
    "try:\n",
    "    d = a/b\n",
    "    print(d)\n",
    "    \n",
    "except:\n",
    "    print('Exceptional Handler') \n",
    "    \n",
    "print('rest of the code')"
   ]
  },
  {
   "cell_type": "code",
   "execution_count": 4,
   "id": "470258d5",
   "metadata": {},
   "outputs": [
    {
     "name": "stdout",
     "output_type": "stream",
     "text": [
      "Zero se divide pr error milta h isiliye m isko 2 se divide kr duga\n",
      "rest of the code\n"
     ]
    }
   ],
   "source": [
    "# exception handling m hum srf print statement hi nhi likhte h ,we can also write some logic in it. \n",
    "a = 10\n",
    "b = 0\n",
    "\n",
    "try:\n",
    "    d = a/b\n",
    "    print(d)\n",
    "    \n",
    "except:\n",
    "    print('Zero se divide pr error milta h isiliye m isko 2 se divide kr duga')\n",
    "finally:\n",
    "    d = a/2 \n",
    "    \n",
    "print('rest of the code')"
   ]
  },
  {
   "cell_type": "markdown",
   "id": "29d41e9e",
   "metadata": {},
   "source": [
    "# user defined exception handling"
   ]
  },
  {
   "cell_type": "code",
   "execution_count": 5,
   "id": "f41b1eaa",
   "metadata": {},
   "outputs": [
    {
     "name": "stdout",
     "output_type": "stream",
     "text": [
      "1000\n"
     ]
    }
   ],
   "source": [
    "def checkbalance():\n",
    "    money = 10000\n",
    "    withdraw = 9000\n",
    "    balance = money - withdraw\n",
    "    print(balance) \n",
    "    \n",
    "checkbalance() "
   ]
  },
  {
   "cell_type": "code",
   "execution_count": 6,
   "id": "f70beb56",
   "metadata": {},
   "outputs": [
    {
     "name": "stdout",
     "output_type": "stream",
     "text": [
      "5000\n"
     ]
    }
   ],
   "source": [
    "# agar balance 2000 se kam bachenga witdraw ke baad to pehle hi bol do insufficient balance.\n",
    "class BalanceException(Exception): \n",
    "    pass \n",
    "\n",
    "def checkbalance():\n",
    "    money = 10000\n",
    "    withdraw = 5000 \n",
    "    try:\n",
    "        balance = money - withdraw\n",
    "        if balance<=2000:\n",
    "            raise BalanceException('Insufficient Balance')\n",
    "        print(balance)              # yeh print jab ji print hoga jab koi exception raise nhi hoga.\n",
    "    except BalanceException as be:\n",
    "        print(be) \n",
    "    \n",
    "checkbalance() "
   ]
  },
  {
   "cell_type": "code",
   "execution_count": 7,
   "id": "5d6add62",
   "metadata": {},
   "outputs": [
    {
     "name": "stdout",
     "output_type": "stream",
     "text": [
      "Insufficient Balance\n"
     ]
    }
   ],
   "source": [
    "# agar balance 2000 se kam bachenga witdraw ke baad to pehle hi bol do insufficient balance.\n",
    "class BalanceException(Exception):\n",
    "    pass \n",
    "\n",
    "def checkbalance():\n",
    "    money = 10000\n",
    "    withdraw = 9000  \n",
    "    try:\n",
    "        balance = money - withdraw\n",
    "        if balance<=2000:\n",
    "            raise BalanceException('Insufficient Balance')\n",
    "        print(balance)              # yeh print jab hi print hoga jab koi exception raise nhi hoga.\n",
    "    except BalanceException as be:\n",
    "        print(be) \n",
    "    \n",
    "checkbalance() "
   ]
  },
  {
   "cell_type": "markdown",
   "id": "28c82672",
   "metadata": {},
   "source": [
    "jaise hi balance 2000 ke neeche ho jaata hai toh exception raise hota hai 'Balance Exception', and messege<br>\n",
    "aata hai Insufficient Balance ab yeh messege 'be' ke pass jata hai<br>\n",
    "and finally messege(be) print hota hai. \"insufficient Balance\""
   ]
  },
  {
   "cell_type": "markdown",
   "id": "684786b1",
   "metadata": {},
   "source": [
    "## same code written in Different ways:- "
   ]
  },
  {
   "cell_type": "code",
   "execution_count": 8,
   "id": "920d2a75",
   "metadata": {},
   "outputs": [
    {
     "name": "stdout",
     "output_type": "stream",
     "text": [
      "Insufficient Balance\n"
     ]
    }
   ],
   "source": [
    "class BalanceException(Exception):\n",
    "    pass \n",
    "\n",
    "def checkbalance():\n",
    "    money = 10000\n",
    "    withdraw = 9000  \n",
    "    try:\n",
    "        balance = money - withdraw\n",
    "        if balance<=2000:\n",
    "            raise BalanceException\n",
    "        print(balance)              # yeh print jab hi print hoga jab koi exception raise nhi hoga.\n",
    "    except BalanceException:\n",
    "        print('Insufficient Balance')   \n",
    "    \n",
    "checkbalance()"
   ]
  },
  {
   "cell_type": "code",
   "execution_count": 9,
   "id": "0d4b6b10",
   "metadata": {},
   "outputs": [
    {
     "name": "stdout",
     "output_type": "stream",
     "text": [
      "6000\n"
     ]
    }
   ],
   "source": [
    "class BalanceException(Exception):\n",
    "    pass \n",
    "\n",
    "def checkbalance():\n",
    "    money = 10000\n",
    "    withdraw = 4000  \n",
    "    balance = money - withdraw\n",
    "    if balance<=2000:\n",
    "        raise BalanceException\n",
    "    print(balance)             # yeh print jab hi print hoga jab koi exception raise nhi hoga.\n",
    "       \n",
    "try:\n",
    "    checkbalance()\n",
    "except BalanceException:\n",
    "        print('Insufficient Balance')"
   ]
  },
  {
   "cell_type": "code",
   "execution_count": 10,
   "id": "d019c99c",
   "metadata": {},
   "outputs": [
    {
     "name": "stdout",
     "output_type": "stream",
     "text": [
      "Insufficient Balance\n"
     ]
    }
   ],
   "source": [
    "class BalanceException(Exception):\n",
    "    pass \n",
    "\n",
    "def checkbalance():\n",
    "    money = 10000\n",
    "    withdraw = 9000  \n",
    "    balance = money - withdraw\n",
    "    if balance<=2000:\n",
    "        raise BalanceException\n",
    "    print(balance)             # yeh print jab hi print hoga jab koi exception raise nhi hoga.\n",
    "       \n",
    "try:\n",
    "    checkbalance()\n",
    "except BalanceException:\n",
    "        print('Insufficient Balance')"
   ]
  },
  {
   "cell_type": "code",
   "execution_count": 11,
   "id": "763fdef4",
   "metadata": {},
   "outputs": [
    {
     "name": "stdout",
     "output_type": "stream",
     "text": [
      "6000\n"
     ]
    }
   ],
   "source": [
    "class BalanceException(Exception):\n",
    "    pass \n",
    "\n",
    "def checkbalance():\n",
    "    money = 10000\n",
    "    withdraw = 4000  \n",
    "    balance = money - withdraw\n",
    "    if balance<=2000:\n",
    "        raise BalanceException('Insufficient Balance')\n",
    "    print(balance)             # yeh print jab hi print hoga jab koi exception raise nhi hoga.\n",
    "       \n",
    "try:\n",
    "    checkbalance()\n",
    "except BalanceException as be:\n",
    "        print(be) "
   ]
  },
  {
   "cell_type": "code",
   "execution_count": 12,
   "id": "ca81a89e",
   "metadata": {},
   "outputs": [
    {
     "name": "stdout",
     "output_type": "stream",
     "text": [
      "Insufficient Balance\n"
     ]
    }
   ],
   "source": [
    "class BalanceException(Exception):\n",
    "    pass \n",
    "\n",
    "def checkbalance():\n",
    "    money = 10000\n",
    "    withdraw = 9000  \n",
    "    balance = money - withdraw\n",
    "    if balance<=2000:\n",
    "        raise BalanceException('Insufficient Balance')\n",
    "    print(balance)             # yeh print jab hi print hoga jab koi exception raise nhi hoga.\n",
    "       \n",
    "try:\n",
    "    checkbalance()\n",
    "except BalanceException as be:\n",
    "        print(be) "
   ]
  },
  {
   "cell_type": "code",
   "execution_count": null,
   "id": "2af812d6",
   "metadata": {},
   "outputs": [],
   "source": []
  }
 ],
 "metadata": {
  "kernelspec": {
   "display_name": "Python 3",
   "language": "python",
   "name": "python3"
  },
  "language_info": {
   "codemirror_mode": {
    "name": "ipython",
    "version": 3
   },
   "file_extension": ".py",
   "mimetype": "text/x-python",
   "name": "python",
   "nbconvert_exporter": "python",
   "pygments_lexer": "ipython3",
   "version": "3.7.4"
  }
 },
 "nbformat": 4,
 "nbformat_minor": 5
}
