{
 "cells": [
  {
   "cell_type": "markdown",
   "id": "4884ac26",
   "metadata": {},
   "source": [
    "# Date & Time"
   ]
  },
  {
   "cell_type": "code",
   "execution_count": 1,
   "id": "bb79dd01",
   "metadata": {},
   "outputs": [],
   "source": [
    "import time "
   ]
  },
  {
   "cell_type": "code",
   "execution_count": 2,
   "id": "0eea1a73",
   "metadata": {},
   "outputs": [
    {
     "name": "stdout",
     "output_type": "stream",
     "text": [
      "1624080017.140609\n",
      "this is harry\n",
      "this is harry\n",
      "this is harry\n",
      "this is harry\n",
      "this is harry\n",
      "this is harry\n",
      "this is harry\n",
      "this is harry\n",
      "this is harry\n",
      "this is harry\n",
      "this is harry\n",
      "this is harry\n",
      "this is harry\n",
      "this is harry\n",
      "this is harry\n",
      "this is harry\n",
      "this is harry\n",
      "this is harry\n",
      "this is harry\n",
      "this is harry\n",
      "this is harry\n",
      "this is harry\n",
      "this is harry\n",
      "this is harry\n",
      "this is harry\n",
      "this is harry\n",
      "this is harry\n",
      "this is harry\n",
      "this is harry\n",
      "this is harry\n",
      "this is harry\n",
      "this is harry\n",
      "this is harry\n",
      "this is harry\n",
      "this is harry\n",
      "this is harry\n",
      "this is harry\n",
      "this is harry\n",
      "this is harry\n",
      "this is harry\n",
      "this is harry\n",
      "this is harry\n",
      "this is harry\n",
      "this is harry\n",
      "this is harry\n",
      "while loop ran in 0.0010001659393310547 seconds\n"
     ]
    }
   ],
   "source": [
    "initial = time.time()     # time ke andar ek time function hota hai jo hame tick deta hai,\n",
    "                          # tick = 1 sec\n",
    "print(initial) \n",
    "k = 0\n",
    "while(k<45):\n",
    "    print(\"this is harry\")\n",
    "    k+=1 \n",
    "print(f\"while loop ran in {time.time()-initial} seconds\") "
   ]
  },
  {
   "cell_type": "code",
   "execution_count": 3,
   "id": "52cd380b",
   "metadata": {},
   "outputs": [
    {
     "name": "stdout",
     "output_type": "stream",
     "text": [
      "this is harry\n",
      "this is harry\n",
      "this is harry\n",
      "this is harry\n",
      "this is harry\n",
      "this is harry\n",
      "this is harry\n",
      "this is harry\n",
      "this is harry\n",
      "this is harry\n",
      "this is harry\n",
      "this is harry\n",
      "this is harry\n",
      "this is harry\n",
      "this is harry\n",
      "this is harry\n",
      "this is harry\n",
      "this is harry\n",
      "this is harry\n",
      "this is harry\n",
      "this is harry\n",
      "this is harry\n",
      "this is harry\n",
      "this is harry\n",
      "this is harry\n",
      "this is harry\n",
      "this is harry\n",
      "this is harry\n",
      "this is harry\n",
      "this is harry\n",
      "this is harry\n",
      "this is harry\n",
      "this is harry\n",
      "this is harry\n",
      "this is harry\n",
      "this is harry\n",
      "this is harry\n",
      "this is harry\n",
      "this is harry\n",
      "this is harry\n",
      "this is harry\n",
      "this is harry\n",
      "this is harry\n",
      "this is harry\n",
      "this is harry\n",
      "for loop ran in 0.0020003318786621094 seconds\n"
     ]
    }
   ],
   "source": [
    "initial2 = time.time()    # new  time reset.\n",
    "for i in range(45):\n",
    "    print(\"this is harry\") \n",
    "print(f\"for loop ran in {time.time()-initial2} seconds\")  "
   ]
  },
  {
   "cell_type": "code",
   "execution_count": 4,
   "id": "fc5b679b",
   "metadata": {},
   "outputs": [],
   "source": [
    "# some other function "
   ]
  },
  {
   "cell_type": "code",
   "execution_count": 5,
   "id": "d280a469",
   "metadata": {},
   "outputs": [],
   "source": [
    "import time "
   ]
  },
  {
   "cell_type": "code",
   "execution_count": 6,
   "id": "9bfb40db",
   "metadata": {},
   "outputs": [],
   "source": [
    "localtime = time.asctime(time.localtime(time.time()))   # time.asctime convert tuple into normal time."
   ]
  },
  {
   "cell_type": "code",
   "execution_count": 7,
   "id": "53907ce1",
   "metadata": {},
   "outputs": [
    {
     "name": "stdout",
     "output_type": "stream",
     "text": [
      "Sat Jun 19 10:50:17 2021\n"
     ]
    }
   ],
   "source": [
    "print(localtime) "
   ]
  },
  {
   "cell_type": "code",
   "execution_count": 8,
   "id": "c7404add",
   "metadata": {},
   "outputs": [],
   "source": [
    "# sleep Function"
   ]
  },
  {
   "cell_type": "code",
   "execution_count": 9,
   "id": "faf5be8c",
   "metadata": {},
   "outputs": [
    {
     "data": {
      "text/plain": [
       "' time.sleep(2) '"
      ]
     },
     "execution_count": 9,
     "metadata": {},
     "output_type": "execute_result"
    }
   ],
   "source": [
    "''' time.sleep(2) '''  \n",
    "            # yeh kuch limited given sec ke liye function ya code ko rok deta haai phr run krta hai."
   ]
  },
  {
   "cell_type": "markdown",
   "id": "00cc3caa",
   "metadata": {},
   "source": [
    "# Geeky Shows YT Channel  "
   ]
  },
  {
   "cell_type": "markdown",
   "id": "05f125f4",
   "metadata": {},
   "source": [
    "**# epoch is a time from where the time was started.<br>\n",
    "**# it is different for different platform.<br>\n",
    "**# for example. epoch for linux was started in 1970. **  "
   ]
  },
  {
   "cell_type": "code",
   "execution_count": 10,
   "id": "713738f3",
   "metadata": {},
   "outputs": [
    {
     "name": "stdout",
     "output_type": "stream",
     "text": [
      "1624080018.0146592\n"
     ]
    }
   ],
   "source": [
    "# from time import *\n",
    "from time import time,ctime,localtime\n",
    "epoch = time()\n",
    "print(epoch) "
   ]
  },
  {
   "cell_type": "code",
   "execution_count": 11,
   "id": "93633902",
   "metadata": {},
   "outputs": [
    {
     "name": "stdout",
     "output_type": "stream",
     "text": [
      "Sat Jun 19 10:50:18 2021\n"
     ]
    }
   ],
   "source": [
    "# now to convert epoch into current date & time\n",
    "et = ctime(epoch)\n",
    "print(et)"
   ]
  },
  {
   "cell_type": "code",
   "execution_count": 12,
   "id": "92694235",
   "metadata": {},
   "outputs": [
    {
     "name": "stdout",
     "output_type": "stream",
     "text": [
      "Sat Jun 19 10:50:18 2021\n"
     ]
    }
   ],
   "source": [
    "# directly getting current time without epoch \n",
    "print(ctime()) "
   ]
  },
  {
   "cell_type": "code",
   "execution_count": 13,
   "id": "467ab6e4",
   "metadata": {},
   "outputs": [
    {
     "name": "stdout",
     "output_type": "stream",
     "text": [
      "time.struct_time(tm_year=2021, tm_mon=6, tm_mday=19, tm_hour=10, tm_min=50, tm_sec=18, tm_wday=5, tm_yday=170, tm_isdst=0)\n"
     ]
    }
   ],
   "source": [
    "# tuples of localtime\n",
    "print(localtime())    "
   ]
  },
  {
   "cell_type": "code",
   "execution_count": 17,
   "id": "cd636069",
   "metadata": {},
   "outputs": [
    {
     "name": "stdout",
     "output_type": "stream",
     "text": [
      "19\n",
      "6\n",
      "2021\n"
     ]
    }
   ],
   "source": [
    "data  = localtime()\n",
    "print(data.tm_mday)\n",
    "print(data.tm_mon)\n",
    "print(data.tm_year) "
   ]
  },
  {
   "cell_type": "code",
   "execution_count": 19,
   "id": "4b662284",
   "metadata": {},
   "outputs": [
    {
     "name": "stdout",
     "output_type": "stream",
     "text": [
      "19/6/2021\n"
     ]
    }
   ],
   "source": [
    "data  = localtime()\n",
    "print(data.tm_mday,end=\"/\")\n",
    "print(data.tm_mon,end=\"/\")\n",
    "print(data.tm_year)"
   ]
  },
  {
   "cell_type": "code",
   "execution_count": 20,
   "id": "3d9cfe60",
   "metadata": {},
   "outputs": [
    {
     "name": "stdout",
     "output_type": "stream",
     "text": [
      "10/54/34\n"
     ]
    }
   ],
   "source": [
    "data  = localtime()\n",
    "print(data.tm_hour,end=\":\")\n",
    "print(data.tm_min,end=\":\")\n",
    "print(data.tm_sec) "
   ]
  },
  {
   "cell_type": "markdown",
   "id": "e4b41a67",
   "metadata": {},
   "source": [
    "### ___________________________AUR LAGEGA TOH GEEKY SHOWS SE PADH LENA YA APNI BOOK MAI SE PADH LENA_----------"
   ]
  },
  {
   "cell_type": "raw",
   "id": "ce6e0e0b",
   "metadata": {},
   "source": [
    "======================= THANKYOU++++++++++++++++++++++++++++++++++++++"
   ]
  }
 ],
 "metadata": {
  "kernelspec": {
   "display_name": "Python 3",
   "language": "python",
   "name": "python3"
  },
  "language_info": {
   "codemirror_mode": {
    "name": "ipython",
    "version": 3
   },
   "file_extension": ".py",
   "mimetype": "text/x-python",
   "name": "python",
   "nbconvert_exporter": "python",
   "pygments_lexer": "ipython3",
   "version": "3.7.4"
  }
 },
 "nbformat": 4,
 "nbformat_minor": 5
}
