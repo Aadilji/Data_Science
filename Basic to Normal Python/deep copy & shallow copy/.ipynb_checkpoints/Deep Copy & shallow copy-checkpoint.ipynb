{
 "cells": [
  {
   "cell_type": "markdown",
   "id": "3d61f813",
   "metadata": {},
   "source": [
    "### Krish Naik YT Channel "
   ]
  },
  {
   "cell_type": "code",
   "execution_count": 1,
   "id": "c5648784",
   "metadata": {},
   "outputs": [],
   "source": [
    "##  = , copy() , deepcopy() \n",
    "\n",
    "# list assigning\n",
    "lst1 = [1,2,3,4,5]\n",
    "lst2 = lst1 "
   ]
  },
  {
   "cell_type": "code",
   "execution_count": 2,
   "id": "e3c76939",
   "metadata": {},
   "outputs": [],
   "source": [
    "lst2[1] = 1000 "
   ]
  },
  {
   "cell_type": "markdown",
   "id": "eca1ca1e",
   "metadata": {},
   "source": [
    "we done changes in lst2, but it will also get replaced in lst1 becoz both of them shares same memory location. "
   ]
  },
  {
   "cell_type": "code",
   "execution_count": 3,
   "id": "84478930",
   "metadata": {},
   "outputs": [
    {
     "data": {
      "text/plain": [
       "[1, 1000, 3, 4, 5]"
      ]
     },
     "execution_count": 3,
     "metadata": {},
     "output_type": "execute_result"
    }
   ],
   "source": [
    "lst2  "
   ]
  },
  {
   "cell_type": "code",
   "execution_count": 4,
   "id": "33b96400",
   "metadata": {},
   "outputs": [
    {
     "data": {
      "text/plain": [
       "[1, 1000, 3, 4, 5]"
      ]
     },
     "execution_count": 4,
     "metadata": {},
     "output_type": "execute_result"
    }
   ],
   "source": [
    "lst1 "
   ]
  },
  {
   "cell_type": "code",
   "execution_count": 5,
   "id": "922e556e",
   "metadata": {},
   "outputs": [],
   "source": [
    "# copy \n",
    "# shallow copy >> (.copy())\n",
    "lst1 = [1,2,3,4,5]\n",
    "lst2 = lst1 .copy() "
   ]
  },
  {
   "cell_type": "markdown",
   "id": "220b4bec",
   "metadata": {},
   "source": [
    "iska matlab yeh hua ki lst1 ka saare elements lo copy karo aur paste kar do as it is, lst2  ki memory location mai.<br>\n",
    "isi ke wajah se jab bhi hum lst2 mai changes karte hai toh lst1 mai changes nhi dikhai dega."
   ]
  },
  {
   "cell_type": "code",
   "execution_count": 6,
   "id": "5b019da2",
   "metadata": {},
   "outputs": [],
   "source": [
    "lst2[1] = 100  "
   ]
  },
  {
   "cell_type": "code",
   "execution_count": 7,
   "id": "755a452d",
   "metadata": {},
   "outputs": [
    {
     "data": {
      "text/plain": [
       "[1, 100, 3, 4, 5]"
      ]
     },
     "execution_count": 7,
     "metadata": {},
     "output_type": "execute_result"
    }
   ],
   "source": [
    "lst2  "
   ]
  },
  {
   "cell_type": "code",
   "execution_count": 8,
   "id": "4a69c681",
   "metadata": {},
   "outputs": [
    {
     "data": {
      "text/plain": [
       "[1, 2, 3, 4, 5]"
      ]
     },
     "execution_count": 8,
     "metadata": {},
     "output_type": "execute_result"
    }
   ],
   "source": [
    "lst1 "
   ]
  },
  {
   "cell_type": "markdown",
   "id": "608cff34",
   "metadata": {},
   "source": [
    "## Shallow Copy in Nested List "
   ]
  },
  {
   "cell_type": "markdown",
   "id": "ab1f2d90",
   "metadata": {},
   "source": [
    "In Nested List, the variables refers to the same object inside the nested list.<br>\n",
    "\n",
    "nested list<br>\n",
    "lst1 = [[1,2,3,4,5],[6,7,8,9]]<br>\n",
    "here, lst1 and lst2 both are varaibles, they both refers to the same object inside the nested list.<br>\n",
    "lst1 = [[1,2,3,4,5],[6,7,8,9]]<br>\n",
    "lst2 = lst1 .copy()\n",
    "\n",
    "\n",
    "object of (lst1's element 1) is [[1,2,3,4,5]<br>\n",
    "object of (lst1's element 2) is [6,7,8,9]"
   ]
  },
  {
   "cell_type": "code",
   "execution_count": 9,
   "id": "d3289d21",
   "metadata": {},
   "outputs": [],
   "source": [
    "# copy \n",
    "# shallow copy >> (.copy()) in Nested List\n",
    "lst1 = [[1,2,3,4,5],[6,7,8,9]]\n",
    "lst2 = lst1 .copy() "
   ]
  },
  {
   "cell_type": "code",
   "execution_count": 10,
   "id": "e87006c3",
   "metadata": {},
   "outputs": [
    {
     "data": {
      "text/plain": [
       "[[1, 2, 3, 4, 5], [6, 7, 8, 9]]"
      ]
     },
     "execution_count": 10,
     "metadata": {},
     "output_type": "execute_result"
    }
   ],
   "source": [
    "lst1 "
   ]
  },
  {
   "cell_type": "code",
   "execution_count": 11,
   "id": "39af9c46",
   "metadata": {},
   "outputs": [
    {
     "data": {
      "text/plain": [
       "[[1, 2, 3, 4, 5], [6, 7, 8, 9]]"
      ]
     },
     "execution_count": 11,
     "metadata": {},
     "output_type": "execute_result"
    }
   ],
   "source": [
    "lst2  "
   ]
  },
  {
   "cell_type": "code",
   "execution_count": 12,
   "id": "cf187621",
   "metadata": {},
   "outputs": [
    {
     "data": {
      "text/plain": [
       "7"
      ]
     },
     "execution_count": 12,
     "metadata": {},
     "output_type": "execute_result"
    }
   ],
   "source": [
    "lst1[1][1] "
   ]
  },
  {
   "cell_type": "code",
   "execution_count": 13,
   "id": "05ca24c3",
   "metadata": {},
   "outputs": [],
   "source": [
    "lst1[1][1] = 100 "
   ]
  },
  {
   "cell_type": "code",
   "execution_count": 14,
   "id": "391f83c2",
   "metadata": {},
   "outputs": [
    {
     "data": {
      "text/plain": [
       "[[1, 2, 3, 4, 5], [6, 100, 8, 9]]"
      ]
     },
     "execution_count": 14,
     "metadata": {},
     "output_type": "execute_result"
    }
   ],
   "source": [
    "lst1 "
   ]
  },
  {
   "cell_type": "code",
   "execution_count": 15,
   "id": "e1e0ab00",
   "metadata": {},
   "outputs": [
    {
     "data": {
      "text/plain": [
       "[[1, 2, 3, 4, 5], [6, 100, 8, 9]]"
      ]
     },
     "execution_count": 15,
     "metadata": {},
     "output_type": "execute_result"
    }
   ],
   "source": [
    "lst2 "
   ]
  },
  {
   "cell_type": "code",
   "execution_count": 16,
   "id": "27d76d30",
   "metadata": {},
   "outputs": [],
   "source": [
    "# copy \n",
    "# shallow copy >> (.copy()) in Nested List\n",
    "lst1 = [[1,2,3,4,5],[6,7,8,9]]\n",
    "lst2 = lst1 .copy()  "
   ]
  },
  {
   "cell_type": "code",
   "execution_count": 17,
   "id": "623508c8",
   "metadata": {},
   "outputs": [
    {
     "data": {
      "text/plain": [
       "[[1, 2, 3, 4, 5], [6, 7, 8, 9]]"
      ]
     },
     "execution_count": 17,
     "metadata": {},
     "output_type": "execute_result"
    }
   ],
   "source": [
    "lst1  "
   ]
  },
  {
   "cell_type": "code",
   "execution_count": 18,
   "id": "5b588ce9",
   "metadata": {},
   "outputs": [
    {
     "data": {
      "text/plain": [
       "[[1, 2, 3, 4, 5], [6, 7, 8, 9]]"
      ]
     },
     "execution_count": 18,
     "metadata": {},
     "output_type": "execute_result"
    }
   ],
   "source": [
    "lst2 "
   ]
  },
  {
   "cell_type": "code",
   "execution_count": 19,
   "id": "f4044fff",
   "metadata": {},
   "outputs": [
    {
     "data": {
      "text/plain": [
       "7"
      ]
     },
     "execution_count": 19,
     "metadata": {},
     "output_type": "execute_result"
    }
   ],
   "source": [
    "lst2[1][1] "
   ]
  },
  {
   "cell_type": "code",
   "execution_count": 20,
   "id": "6c28e5b5",
   "metadata": {},
   "outputs": [],
   "source": [
    "lst2[1][1] = 100 "
   ]
  },
  {
   "cell_type": "code",
   "execution_count": 21,
   "id": "b060ec51",
   "metadata": {},
   "outputs": [
    {
     "data": {
      "text/plain": [
       "[[1, 2, 3, 4, 5], [6, 100, 8, 9]]"
      ]
     },
     "execution_count": 21,
     "metadata": {},
     "output_type": "execute_result"
    }
   ],
   "source": [
    "lst2 "
   ]
  },
  {
   "cell_type": "code",
   "execution_count": 22,
   "id": "5723f801",
   "metadata": {},
   "outputs": [
    {
     "data": {
      "text/plain": [
       "[[1, 2, 3, 4, 5], [6, 100, 8, 9]]"
      ]
     },
     "execution_count": 22,
     "metadata": {},
     "output_type": "execute_result"
    }
   ],
   "source": [
    "lst1 "
   ]
  },
  {
   "cell_type": "markdown",
   "id": "24d568d7",
   "metadata": {},
   "source": [
    "### conclusion is, whenever we do a shallow copy operation in nested list, and when we change the object of the list it gets changes in both Variables "
   ]
  },
  {
   "cell_type": "markdown",
   "id": "8801f08c",
   "metadata": {},
   "source": [
    "-----------------------------------------------------------------------------------------------"
   ]
  },
  {
   "cell_type": "code",
   "execution_count": 23,
   "id": "1e5b361c",
   "metadata": {},
   "outputs": [],
   "source": [
    "#append operation \n",
    "lst1.append([2,3,4,5])  "
   ]
  },
  {
   "cell_type": "code",
   "execution_count": 24,
   "id": "e8880358",
   "metadata": {},
   "outputs": [
    {
     "data": {
      "text/plain": [
       "[[1, 2, 3, 4, 5], [6, 100, 8, 9], [2, 3, 4, 5]]"
      ]
     },
     "execution_count": 24,
     "metadata": {},
     "output_type": "execute_result"
    }
   ],
   "source": [
    "lst1 "
   ]
  },
  {
   "cell_type": "code",
   "execution_count": 25,
   "id": "5a2bca3b",
   "metadata": {},
   "outputs": [
    {
     "data": {
      "text/plain": [
       "[[1, 2, 3, 4, 5], [6, 100, 8, 9]]"
      ]
     },
     "execution_count": 25,
     "metadata": {},
     "output_type": "execute_result"
    }
   ],
   "source": [
    "lst2 "
   ]
  },
  {
   "cell_type": "markdown",
   "id": "fdc85e94",
   "metadata": {},
   "source": [
    "Dekho yaha jab humne lst1 ke element ko change kiya toh srf lst1 m change hua,\n",
    "lekin jab bhi hum element ke object ko change karte hai, tab woh dono element mai change hota hai."
   ]
  },
  {
   "cell_type": "markdown",
   "id": "354e6ba7",
   "metadata": {},
   "source": [
    "## deep Copy  "
   ]
  },
  {
   "cell_type": "markdown",
   "id": "27d365ba",
   "metadata": {},
   "source": [
    "For single list deep copy act similar to shallow copy  "
   ]
  },
  {
   "cell_type": "code",
   "execution_count": 26,
   "id": "70881193",
   "metadata": {},
   "outputs": [],
   "source": [
    "import copy "
   ]
  },
  {
   "cell_type": "code",
   "execution_count": 27,
   "id": "7283e270",
   "metadata": {},
   "outputs": [],
   "source": [
    "lst1 = [1,2,3,4]\n",
    "lst2 = copy.deepcopy(lst1) "
   ]
  },
  {
   "cell_type": "code",
   "execution_count": 28,
   "id": "1d5abcd7",
   "metadata": {},
   "outputs": [],
   "source": [
    "lst2[1] = 100 "
   ]
  },
  {
   "cell_type": "code",
   "execution_count": 29,
   "id": "4be93bbe",
   "metadata": {},
   "outputs": [
    {
     "data": {
      "text/plain": [
       "[1, 100, 3, 4]"
      ]
     },
     "execution_count": 29,
     "metadata": {},
     "output_type": "execute_result"
    }
   ],
   "source": [
    "lst2 "
   ]
  },
  {
   "cell_type": "code",
   "execution_count": 30,
   "id": "62dd488b",
   "metadata": {},
   "outputs": [
    {
     "data": {
      "text/plain": [
       "[1, 2, 3, 4]"
      ]
     },
     "execution_count": 30,
     "metadata": {},
     "output_type": "execute_result"
    }
   ],
   "source": [
    "lst1 "
   ]
  },
  {
   "cell_type": "markdown",
   "id": "b49ad7ef",
   "metadata": {},
   "source": [
    "## deep copy in nested list "
   ]
  },
  {
   "cell_type": "code",
   "execution_count": 31,
   "id": "8678f411",
   "metadata": {},
   "outputs": [],
   "source": [
    "lst1 = [[1,2,3,4],[5,6,7,8,9],[5,6,7]]\n",
    "lst2 = copy.deepcopy(lst1) "
   ]
  },
  {
   "cell_type": "code",
   "execution_count": 32,
   "id": "981b924f",
   "metadata": {},
   "outputs": [
    {
     "data": {
      "text/plain": [
       "5"
      ]
     },
     "execution_count": 32,
     "metadata": {},
     "output_type": "execute_result"
    }
   ],
   "source": [
    "lst2[1][0] "
   ]
  },
  {
   "cell_type": "code",
   "execution_count": 33,
   "id": "8e4ae56e",
   "metadata": {},
   "outputs": [],
   "source": [
    "lst2[1][0] = 0 "
   ]
  },
  {
   "cell_type": "code",
   "execution_count": 34,
   "id": "2243053d",
   "metadata": {},
   "outputs": [
    {
     "data": {
      "text/plain": [
       "[[1, 2, 3, 4], [0, 6, 7, 8, 9], [5, 6, 7]]"
      ]
     },
     "execution_count": 34,
     "metadata": {},
     "output_type": "execute_result"
    }
   ],
   "source": [
    "lst2 "
   ]
  },
  {
   "cell_type": "code",
   "execution_count": 35,
   "id": "99613561",
   "metadata": {},
   "outputs": [
    {
     "data": {
      "text/plain": [
       "[[1, 2, 3, 4], [5, 6, 7, 8, 9], [5, 6, 7]]"
      ]
     },
     "execution_count": 35,
     "metadata": {},
     "output_type": "execute_result"
    }
   ],
   "source": [
    "lst1 "
   ]
  },
  {
   "cell_type": "markdown",
   "id": "7351d81c",
   "metadata": {},
   "source": [
    "Here, Both Variables don't refers to the same object inside the nested list.<br> \n",
    "for both variables there is different memory location."
   ]
  }
 ],
 "metadata": {
  "kernelspec": {
   "display_name": "Python 3",
   "language": "python",
   "name": "python3"
  },
  "language_info": {
   "codemirror_mode": {
    "name": "ipython",
    "version": 3
   },
   "file_extension": ".py",
   "mimetype": "text/x-python",
   "name": "python",
   "nbconvert_exporter": "python",
   "pygments_lexer": "ipython3",
   "version": "3.7.4"
  }
 },
 "nbformat": 4,
 "nbformat_minor": 5
}
