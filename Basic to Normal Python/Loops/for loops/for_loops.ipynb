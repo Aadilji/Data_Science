{
 "cells": [
  {
   "cell_type": "markdown",
   "id": "70cd3c51",
   "metadata": {},
   "source": [
    "# Geeky Shows YT Channel "
   ]
  },
  {
   "cell_type": "markdown",
   "id": "916e9823",
   "metadata": {},
   "source": [
    "# for loops "
   ]
  },
  {
   "cell_type": "markdown",
   "id": "378a162b",
   "metadata": {},
   "source": [
    "## range() functions "
   ]
  },
  {
   "cell_type": "markdown",
   "id": "c4005b49",
   "metadata": {},
   "source": [
    "*range() function is used to generate a sequence of integers starting from zero, as default,increment\n",
    "by 1 by default , till j-1.<br>\n",
    "Syntax:-<br>\n",
    "range(start,stop,stepsize)"
   ]
  },
  {
   "cell_type": "code",
   "execution_count": 1,
   "id": "8e601d29",
   "metadata": {},
   "outputs": [
    {
     "data": {
      "text/plain": [
       "range(0, 10)"
      ]
     },
     "execution_count": 1,
     "metadata": {},
     "output_type": "execute_result"
    }
   ],
   "source": [
    "range(10)         #range(j) = 0,1,2,3,4,5,......j-1"
   ]
  },
  {
   "cell_type": "code",
   "execution_count": 2,
   "id": "beeaedc6",
   "metadata": {},
   "outputs": [
    {
     "data": {
      "text/plain": [
       "range(1, 10)"
      ]
     },
     "execution_count": 2,
     "metadata": {},
     "output_type": "execute_result"
    }
   ],
   "source": [
    "range(1,10)       #range(i,j) = i,i+1,i+2......j-1"
   ]
  },
  {
   "cell_type": "code",
   "execution_count": 3,
   "id": "68cc7443",
   "metadata": {},
   "outputs": [
    {
     "name": "stdout",
     "output_type": "stream",
     "text": [
      "range(1, 10, 2)\n"
     ]
    }
   ],
   "source": [
    "print(range(1,10,2))    #range(i,j,k) = i,i+k,i+2k,i+3k......j-1"
   ]
  },
  {
   "cell_type": "code",
   "execution_count": 4,
   "id": "ce4c01d3",
   "metadata": {},
   "outputs": [
    {
     "name": "stdout",
     "output_type": "stream",
     "text": [
      "range(-1, -10, -2)\n"
     ]
    }
   ],
   "source": [
    "print(range(-1,-10,-2))     # -1,-3,-5,-7"
   ]
  },
  {
   "cell_type": "code",
   "execution_count": 5,
   "id": "ea435d94",
   "metadata": {},
   "outputs": [
    {
     "name": "stdout",
     "output_type": "stream",
     "text": [
      "range(1, 0, -1)\n"
     ]
    }
   ],
   "source": [
    "print(range(1,0,-1))      # 10,9,8,7,6,5........1"
   ]
  },
  {
   "cell_type": "markdown",
   "id": "04a4166c",
   "metadata": {},
   "source": [
    "## Rules:-\n",
    "1. all arguments must be integers,(+ve or -ve)<br>\n",
    "2. we can't pass strings, float point numbers,<br>\n",
    "3. step size can't be zero.\n",
    "4. index starts from zero."
   ]
  },
  {
   "cell_type": "code",
   "execution_count": 6,
   "id": "4b86799d",
   "metadata": {},
   "outputs": [
    {
     "name": "stdout",
     "output_type": "stream",
     "text": [
      "0\n",
      "1\n",
      "2\n",
      "3\n",
      "4\n"
     ]
    }
   ],
   "source": [
    "a = range(5)\n",
    "print(a[0])\n",
    "print(a[1])\n",
    "print(a[2])\n",
    "print(a[3])\n",
    "print(a[4])"
   ]
  },
  {
   "cell_type": "code",
   "execution_count": 7,
   "id": "1e397e8d",
   "metadata": {},
   "outputs": [
    {
     "name": "stdout",
     "output_type": "stream",
     "text": [
      "1\n",
      "2\n",
      "3\n",
      "4\n"
     ]
    }
   ],
   "source": [
    "a = range(1,5)\n",
    "print(a[0])\n",
    "print(a[1])\n",
    "print(a[2])\n",
    "print(a[3])"
   ]
  },
  {
   "cell_type": "code",
   "execution_count": 8,
   "id": "fa5a1714",
   "metadata": {},
   "outputs": [
    {
     "name": "stdout",
     "output_type": "stream",
     "text": [
      "1\n",
      "3\n",
      "5\n",
      "7\n"
     ]
    }
   ],
   "source": [
    "a = range(1,10,2)\n",
    "print(a[0])\n",
    "print(a[1])\n",
    "print(a[2])\n",
    "print(a[3])\n",
    "            # range() function retruns an immutable sequence type, which behave as a list. "
   ]
  },
  {
   "cell_type": "code",
   "execution_count": 9,
   "id": "6bc63de4",
   "metadata": {},
   "outputs": [
    {
     "data": {
      "text/plain": [
       "[0, 1, 2, 3, 4]"
      ]
     },
     "execution_count": 9,
     "metadata": {},
     "output_type": "execute_result"
    }
   ],
   "source": [
    "list(range(5)) # we can convert an immutable sequence type(object) in list."
   ]
  },
  {
   "cell_type": "code",
   "execution_count": 10,
   "id": "027bda9d",
   "metadata": {},
   "outputs": [
    {
     "name": "stdout",
     "output_type": "stream",
     "text": [
      "-1\n",
      "-3\n",
      "-5\n",
      "-7\n"
     ]
    }
   ],
   "source": [
    "a = range(-1,-10,-2)\n",
    "print(a[0])\n",
    "print(a[1])\n",
    "print(a[2])\n",
    "print(a[3])"
   ]
  },
  {
   "cell_type": "code",
   "execution_count": 11,
   "id": "d3349f18",
   "metadata": {},
   "outputs": [
    {
     "name": "stdout",
     "output_type": "stream",
     "text": [
      "5\n",
      "4\n",
      "3\n",
      "2\n",
      "1\n"
     ]
    }
   ],
   "source": [
    "a = range(5,0,-1)\n",
    "print(a[0])\n",
    "print(a[1])\n",
    "print(a[2])\n",
    "print(a[3])\n",
    "print(a[4])"
   ]
  },
  {
   "cell_type": "markdown",
   "id": "83b06425",
   "metadata": {},
   "source": [
    "# ----------------------------------------------------------------------------------"
   ]
  },
  {
   "cell_type": "markdown",
   "id": "c1e65868",
   "metadata": {},
   "source": [
    "# For LOOPS "
   ]
  },
  {
   "cell_type": "markdown",
   "id": "35a1fb5c",
   "metadata": {},
   "source": [
    "*The for loop is used to iterate over elements of sequence such as strings,list,tuple etc."
   ]
  },
  {
   "cell_type": "raw",
   "id": "8fec6450",
   "metadata": {},
   "source": [
    "Syntax:- \n",
    "for var in sequence:            \n",
    "    statements\n",
    "Rest of the Code\n",
    "                    # for & in should be as it is., var and sequence can be changed. "
   ]
  },
  {
   "cell_type": "code",
   "execution_count": 12,
   "id": "ac3dabdb",
   "metadata": {},
   "outputs": [
    {
     "name": "stdout",
     "output_type": "stream",
     "text": [
      "G\n",
      "e\n",
      "e\n",
      "k\n",
      "y\n",
      "S\n",
      "h\n",
      "o\n",
      "w\n",
      "s\n",
      "rest of the code\n"
     ]
    }
   ],
   "source": [
    "str = \"GeekyShows\"\n",
    "for i in str:\n",
    "    print(i)               \n",
    "print(\"rest of the code\")\n",
    "                        # for loop str se ek character uthata hai phr usko i mai daalta hai,\n",
    "                        # phr i ko print karta hai , phr for loop wapis execute hota hai,\n",
    "                        # phr loop ek character utahata ,i mai daalta hai and i ko print krta h,\n",
    "                        # and it continious so on,till the characters ends."
   ]
  },
  {
   "cell_type": "code",
   "execution_count": 13,
   "id": "b2b69be9",
   "metadata": {},
   "outputs": [
    {
     "name": "stdout",
     "output_type": "stream",
     "text": [
      "0\n",
      "1\n",
      "2\n",
      "3\n",
      "4\n"
     ]
    }
   ],
   "source": [
    "for i in range(5):\n",
    "    print(i)"
   ]
  },
  {
   "cell_type": "code",
   "execution_count": 14,
   "id": "3a709df6",
   "metadata": {},
   "outputs": [
    {
     "name": "stdout",
     "output_type": "stream",
     "text": [
      "0\n",
      "1\n",
      "2\n",
      "3\n",
      "4\n"
     ]
    }
   ],
   "source": [
    "a = range(5)\n",
    "for i in a: \n",
    "    print(i) "
   ]
  },
  {
   "cell_type": "code",
   "execution_count": 15,
   "id": "be5ef170",
   "metadata": {},
   "outputs": [
    {
     "name": "stdout",
     "output_type": "stream",
     "text": [
      "1\n",
      "2\n",
      "3\n",
      "4\n"
     ]
    }
   ],
   "source": [
    "a = range(1,5)\n",
    "for i in a: \n",
    "    print(i)"
   ]
  },
  {
   "cell_type": "code",
   "execution_count": 16,
   "id": "cf5e4e3e",
   "metadata": {},
   "outputs": [
    {
     "name": "stdout",
     "output_type": "stream",
     "text": [
      "1\n",
      "3\n",
      "5\n",
      "7\n",
      "9\n"
     ]
    }
   ],
   "source": [
    "a = range(1,10,2)\n",
    "for i in a: \n",
    "    print(i)"
   ]
  },
  {
   "cell_type": "code",
   "execution_count": 17,
   "id": "21b1776e",
   "metadata": {},
   "outputs": [
    {
     "name": "stdout",
     "output_type": "stream",
     "text": [
      "-1\n",
      "-3\n",
      "-5\n",
      "-7\n",
      "-9\n"
     ]
    }
   ],
   "source": [
    "a = range(-1,-10,-2) \n",
    "for i in a: \n",
    "    print(i)"
   ]
  },
  {
   "cell_type": "code",
   "execution_count": 18,
   "id": "1fe88d36",
   "metadata": {},
   "outputs": [
    {
     "name": "stdout",
     "output_type": "stream",
     "text": [
      "10\n",
      "8\n",
      "6\n",
      "4\n",
      "2\n"
     ]
    }
   ],
   "source": [
    "a = range(10,0,-2)  \n",
    "for i in a: \n",
    "    print(i)"
   ]
  },
  {
   "cell_type": "markdown",
   "id": "e9863666",
   "metadata": {},
   "source": [
    "## using range () to iterate through string in for loop"
   ]
  },
  {
   "cell_type": "markdown",
   "id": "b141d0c5",
   "metadata": {},
   "source": [
    "* but the problem is that range only iterate through integer, so we use:-<br>\n",
    "len() "
   ]
  },
  {
   "cell_type": "code",
   "execution_count": 19,
   "id": "e26a75f7",
   "metadata": {},
   "outputs": [
    {
     "name": "stdout",
     "output_type": "stream",
     "text": [
      "0 = G\n",
      "1 = e\n",
      "2 = e\n",
      "3 = k\n",
      "4 = y\n",
      "5 = S\n",
      "6 = h\n",
      "7 = o\n",
      "8 = w\n",
      "9 = s\n",
      "rest of the code\n"
     ]
    }
   ],
   "source": [
    "str = \"GeekyShows\"\n",
    "n = len(str)\n",
    "for i in range(n):\n",
    "    print(f'{i} = {str[i]}')               \n",
    "print(\"rest of the code\")"
   ]
  },
  {
   "cell_type": "code",
   "execution_count": 20,
   "id": "9e4fcd95",
   "metadata": {},
   "outputs": [
    {
     "name": "stdout",
     "output_type": "stream",
     "text": [
      "0 = G\n",
      "1 = e\n",
      "2 = e\n",
      "3 = k\n",
      "4 = y\n",
      "rest of the code\n"
     ]
    }
   ],
   "source": [
    "str = \"Geeky\"\n",
    "for i in range(len(str)):\n",
    "    print(f'{i} = {str[i]}')               \n",
    "print(\"rest of the code\")"
   ]
  },
  {
   "cell_type": "code",
   "execution_count": 21,
   "id": "43479af4",
   "metadata": {},
   "outputs": [
    {
     "name": "stdout",
     "output_type": "stream",
     "text": [
      "G\n",
      "e\n",
      "e\n",
      "k\n",
      "y\n",
      "rest of the code\n"
     ]
    }
   ],
   "source": [
    "str = \"Geeky\"\n",
    "for i in range(len(str)):\n",
    "    print(f'{str[i]}')               \n",
    "print(\"rest of the code\")"
   ]
  },
  {
   "cell_type": "markdown",
   "id": "afdcb263",
   "metadata": {},
   "source": [
    "# For loop with Else "
   ]
  },
  {
   "cell_type": "markdown",
   "id": "51df1ddb",
   "metadata": {},
   "source": [
    "* The else statement will always get executed irrespective of loop execute or not   "
   ]
  },
  {
   "cell_type": "code",
   "execution_count": 22,
   "id": "82eecda8",
   "metadata": {},
   "outputs": [
    {
     "name": "stdout",
     "output_type": "stream",
     "text": [
      "g\n",
      "e\n",
      "e\n",
      "k\n",
      "y\n",
      "else always gets executed\n",
      "rest of the code\n"
     ]
    }
   ],
   "source": [
    "st = \"geeky\"\n",
    "for i in st:\n",
    "    print(i)\n",
    "else:\n",
    "    print(\"else always gets executed\")\n",
    "print('rest of the code') "
   ]
  },
  {
   "cell_type": "code",
   "execution_count": 23,
   "id": "af175ee8",
   "metadata": {},
   "outputs": [
    {
     "name": "stdout",
     "output_type": "stream",
     "text": [
      "else always gets executed\n",
      "rest of the code\n"
     ]
    }
   ],
   "source": [
    "st = \"\"\n",
    "for i in st:\n",
    "    print(i)\n",
    "else:\n",
    "    print(\"else always gets executed\")\n",
    "print('rest of the code')             # loop nhi challa, becoz their is no element present to iterate"
   ]
  },
  {
   "cell_type": "markdown",
   "id": "49025cf8",
   "metadata": {},
   "source": [
    "# Nested for Loop "
   ]
  },
  {
   "cell_type": "markdown",
   "id": "7b3b6e50",
   "metadata": {},
   "source": [
    "*loop inside a loop is called nested loop"
   ]
  },
  {
   "cell_type": "raw",
   "id": "089c0dd9",
   "metadata": {},
   "source": [
    "Syntax:-\n",
    "\n",
    "for i in range(n):\n",
    "    statement_1       ----------\n",
    "    for j in range(y):          |___\\  Same Statement, can be written anywhere according to condition\n",
    "        statement_2             |   /\n",
    "    statement_1       ----------"
   ]
  },
  {
   "cell_type": "code",
   "execution_count": 24,
   "id": "ac858492",
   "metadata": {},
   "outputs": [
    {
     "name": "stdout",
     "output_type": "stream",
     "text": [
      "outer loop -- 0\n",
      "inner loop    0\n",
      "inner loop    1\n",
      "inner loop    2\n",
      "outer loop -- 1\n",
      "inner loop    0\n",
      "inner loop    1\n",
      "inner loop    2\n",
      "else part\n",
      "rest of the code\n"
     ]
    }
   ],
   "source": [
    "for i in range(2):\n",
    "    print(\"outer loop\"+\" --\",i)\n",
    "    for j in range(3):\n",
    "        print(\"inner loop   \", j)\n",
    "else:\n",
    "    print(\"else part\")\n",
    "print(\"rest of the code\") "
   ]
  },
  {
   "cell_type": "code",
   "execution_count": 25,
   "id": "28f34607",
   "metadata": {},
   "outputs": [
    {
     "name": "stdout",
     "output_type": "stream",
     "text": [
      "inner loop    0\n",
      "inner loop    1\n",
      "inner loop    2\n",
      "outer loop -- 0\n",
      "inner loop    0\n",
      "inner loop    1\n",
      "inner loop    2\n",
      "outer loop -- 1\n",
      "else part\n",
      "rest of the code\n"
     ]
    }
   ],
   "source": [
    "for i in range(2):\n",
    "    for j in range(3):\n",
    "        print(\"inner loop   \", j)\n",
    "    print(\"outer loop\"+\" --\",i)\n",
    "else:\n",
    "    print(\"else part\")\n",
    "print(\"rest of the code\")"
   ]
  },
  {
   "cell_type": "markdown",
   "id": "9d9e20ac",
   "metadata": {},
   "source": [
    "# Break Statement "
   ]
  },
  {
   "cell_type": "markdown",
   "id": "6c054a01",
   "metadata": {},
   "source": [
    "* Break Statement is used to jump  out of loop to process next statement in the program"
   ]
  },
  {
   "cell_type": "raw",
   "id": "0c06561a",
   "metadata": {},
   "source": [
    "Syntax:-\n",
    "while condition:\n",
    "    if(condition):\n",
    "        break \n",
    "Rest of Code"
   ]
  },
  {
   "cell_type": "markdown",
   "id": "36a23a4d",
   "metadata": {},
   "source": [
    "# Continue Statement"
   ]
  },
  {
   "cell_type": "markdown",
   "id": "cf83e8a4",
   "metadata": {},
   "source": [
    "*continue statement is use in a loop to go back to the beginning of loop."
   ]
  },
  {
   "cell_type": "raw",
   "id": "47ae0543",
   "metadata": {},
   "source": [
    "Syntax:-\n",
    "while condition:\n",
    "    if(condition):\n",
    "        continue\n",
    "Rest of the Code"
   ]
  },
  {
   "cell_type": "markdown",
   "id": "19ab1d75",
   "metadata": {},
   "source": [
    "## Break Statement examples"
   ]
  },
  {
   "cell_type": "code",
   "execution_count": 26,
   "id": "fde0eb2a",
   "metadata": {},
   "outputs": [
    {
     "name": "stdout",
     "output_type": "stream",
     "text": [
      "0\n",
      "1\n",
      "2\n",
      "3\n",
      "4\n",
      "Rest Of the Code\n"
     ]
    }
   ],
   "source": [
    "for i in range(10):\n",
    "    if (i == 5):\n",
    "        break \n",
    "    print(i)\n",
    "print(\"Rest Of the Code\") "
   ]
  },
  {
   "cell_type": "code",
   "execution_count": 27,
   "id": "01a222f1",
   "metadata": {},
   "outputs": [
    {
     "name": "stdout",
     "output_type": "stream",
     "text": [
      "0\n",
      "1\n",
      "2\n",
      "3\n",
      "4\n",
      "5\n",
      "Rest Of the Code\n"
     ]
    }
   ],
   "source": [
    "for i in range(10):\n",
    "    print(i)\n",
    "    if (i == 5):\n",
    "        break \n",
    "print(\"Rest Of the Code\")"
   ]
  },
  {
   "cell_type": "markdown",
   "id": "6874226e",
   "metadata": {},
   "source": [
    "## Continue Statement Examples "
   ]
  },
  {
   "cell_type": "code",
   "execution_count": 28,
   "id": "f3cbf229",
   "metadata": {},
   "outputs": [
    {
     "name": "stdout",
     "output_type": "stream",
     "text": [
      "0\n",
      "1\n",
      "2\n",
      "3\n",
      "4\n",
      "6\n",
      "7\n",
      "8\n",
      "9\n",
      "Rest Of the Code\n"
     ]
    }
   ],
   "source": [
    "for i in range(10):\n",
    "    if (i == 5):\n",
    "        continue     \n",
    "    print(i)\n",
    "print(\"Rest Of the Code\") \n",
    "         # continue statement code ko wapis upper loop ke paas bhej deta hai,it doesn't reset i value."
   ]
  },
  {
   "cell_type": "code",
   "execution_count": 29,
   "id": "2aeda9e4",
   "metadata": {},
   "outputs": [
    {
     "name": "stdout",
     "output_type": "stream",
     "text": [
      "0\n",
      "1\n",
      "2\n",
      "3\n",
      "4\n",
      "5\n",
      "6\n",
      "7\n",
      "8\n",
      "9\n",
      "Rest Of the Code\n"
     ]
    }
   ],
   "source": [
    "for i in range(10):\n",
    "    print(i)\n",
    "    if (i == 5):\n",
    "        continue     \n",
    "print(\"Rest Of the Code\")\n",
    "                         # yaha tum bol sakte ho ki bhai loop yaha pr infinite loop mai kyu convert \n",
    "                         # nhi hua,since print(i), ke baad humne continue likha hai toh isko wapis \n",
    "                        # upper jaana chahiye, actually yeh wapis upper gya, lekin koi faayda nhi hua,\n",
    "                    # becoz ab range ki saari value iteraye ho gyi hai, and list khal;i ho chuki hai."
   ]
  },
  {
   "cell_type": "markdown",
   "id": "d4662782",
   "metadata": {},
   "source": [
    "# Pass Statement"
   ]
  },
  {
   "cell_type": "markdown",
   "id": "e3c98c13",
   "metadata": {},
   "source": [
    "*pass statement does nothing,it is used with if,else statements and loops."
   ]
  },
  {
   "cell_type": "code",
   "execution_count": 30,
   "id": "75221192",
   "metadata": {},
   "outputs": [
    {
     "name": "stdout",
     "output_type": "stream",
     "text": [
      "rest of the code\n"
     ]
    }
   ],
   "source": [
    "if 5 >2:\n",
    "    pass\n",
    "else:\n",
    "    print(\"else is executed\")\n",
    "print(\"rest of the code\")"
   ]
  },
  {
   "cell_type": "code",
   "execution_count": 31,
   "id": "7c8689dd",
   "metadata": {},
   "outputs": [
    {
     "name": "stdout",
     "output_type": "stream",
     "text": [
      "else is executed\n",
      "rest of the code\n"
     ]
    }
   ],
   "source": [
    "if 5<2:\n",
    "    pass\n",
    "else:\n",
    "    print(\"else is executed\")\n",
    "print(\"rest of the code\")"
   ]
  },
  {
   "cell_type": "code",
   "execution_count": 32,
   "id": "acd26bff",
   "metadata": {},
   "outputs": [
    {
     "name": "stdout",
     "output_type": "stream",
     "text": [
      "1\n",
      "2\n",
      "3\n",
      "4\n",
      "5\n",
      "6\n",
      "7\n",
      "8\n",
      "9\n",
      "10\n",
      "rest of the code\n"
     ]
    }
   ],
   "source": [
    "i = 1\n",
    "while i<= 10:\n",
    "    if(i==5):\n",
    "        pass \n",
    "    print(i)\n",
    "    i+=1 \n",
    "print(\"rest of the code\") \n",
    "        "
   ]
  },
  {
   "cell_type": "markdown",
   "id": "dc79e95c",
   "metadata": {},
   "source": [
    "# Accessing List Via For Loops(iterating through list) "
   ]
  },
  {
   "cell_type": "code",
   "execution_count": 33,
   "id": "0dd0b28c",
   "metadata": {},
   "outputs": [
    {
     "name": "stdout",
     "output_type": "stream",
     "text": [
      "10\n"
     ]
    }
   ],
   "source": [
    "a = [10,20,30,40,50]\n",
    "print(a[0]) "
   ]
  },
  {
   "cell_type": "code",
   "execution_count": 34,
   "id": "5bc71508",
   "metadata": {},
   "outputs": [
    {
     "name": "stdout",
     "output_type": "stream",
     "text": [
      "10\n",
      "20\n",
      "30\n",
      "40\n",
      "50\n",
      "Aadil\n"
     ]
    }
   ],
   "source": [
    "a = [10,20,30,40,50,\"Aadil\"]\n",
    "for elements in a:\n",
    "    print(elements) "
   ]
  },
  {
   "cell_type": "code",
   "execution_count": 35,
   "id": "f4bfee40",
   "metadata": {},
   "outputs": [
    {
     "name": "stdout",
     "output_type": "stream",
     "text": [
      "10\n",
      "20\n",
      "-30\n",
      "40\n",
      "50\n",
      "Aadil\n"
     ]
    }
   ],
   "source": [
    "a = [10,20,-30,40,50,\"Aadil\"]\n",
    "for i in range(len(a)):\n",
    "    print(a[i]) "
   ]
  },
  {
   "cell_type": "code",
   "execution_count": 36,
   "id": "df993940",
   "metadata": {},
   "outputs": [
    {
     "name": "stdout",
     "output_type": "stream",
     "text": [
      "10\n",
      "20\n",
      "-30\n",
      "40\n",
      "50\n",
      "Aadil\n"
     ]
    }
   ],
   "source": [
    "a = [10,20,-30,40,50,\"Aadil\"]\n",
    "n = len(a) \n",
    "for i in range(n):\n",
    "    print(a[i])"
   ]
  },
  {
   "cell_type": "code",
   "execution_count": 37,
   "id": "4ff77399",
   "metadata": {},
   "outputs": [
    {
     "name": "stdout",
     "output_type": "stream",
     "text": [
      "0 = 10\n",
      "1 = 20\n",
      "2 = -30\n",
      "3 = 40\n",
      "4 = 50\n",
      "5 = Aadil\n"
     ]
    }
   ],
   "source": [
    "a = [10,20,-30,40,50,\"Aadil\"]\n",
    "n = len(a) \n",
    "for i in range(n):\n",
    "    print(i,\"=\",a[i])"
   ]
  },
  {
   "cell_type": "markdown",
   "id": "d556b978",
   "metadata": {},
   "source": [
    "# Accessing array using for loop "
   ]
  },
  {
   "cell_type": "code",
   "execution_count": 38,
   "id": "e2e0f041",
   "metadata": {},
   "outputs": [],
   "source": [
    "from array import * "
   ]
  },
  {
   "cell_type": "code",
   "execution_count": 39,
   "id": "c9821dc9",
   "metadata": {},
   "outputs": [
    {
     "name": "stdout",
     "output_type": "stream",
     "text": [
      "i\n",
      "[101, 102, 103, 104, 105]\n"
     ]
    }
   ],
   "source": [
    "stu_rol = ('i',[101,102,103,104,105])\n",
    "# without index:-\n",
    "for i in stu_rol:\n",
    "    print(i)  "
   ]
  },
  {
   "cell_type": "code",
   "execution_count": 40,
   "id": "62b84835",
   "metadata": {},
   "outputs": [
    {
     "name": "stdout",
     "output_type": "stream",
     "text": [
      "0 i\n",
      "1 [101, 102, 103, 104, 105]\n"
     ]
    }
   ],
   "source": [
    "stu_rol = ('i',[101,102,103,104,105])\n",
    "# with index:-\n",
    "for i in range(len(stu_rol)):\n",
    "    print(i, stu_rol[i])"
   ]
  },
  {
   "cell_type": "code",
   "execution_count": 41,
   "id": "ad554deb",
   "metadata": {},
   "outputs": [
    {
     "name": "stdout",
     "output_type": "stream",
     "text": [
      "101\n",
      "102\n",
      "103\n",
      "104\n",
      "105\n"
     ]
    }
   ],
   "source": [
    "for i in stu_rol[1]:\n",
    "    print(i) "
   ]
  },
  {
   "cell_type": "markdown",
   "id": "53e39b75",
   "metadata": {},
   "source": [
    "# Enumerate Function "
   ]
  },
  {
   "cell_type": "code",
   "execution_count": 46,
   "id": "43aefa3a",
   "metadata": {
    "scrolled": true
   },
   "outputs": [
    {
     "name": "stdout",
     "output_type": "stream",
     "text": [
      "Jarvis pls buy bhindi\n",
      "Jarvis pls buy chopstick\n"
     ]
    }
   ],
   "source": [
    "lst=[\"bhindi\",\"aloo\",\"chopstick\",\"chowmin\"]\n",
    "\n",
    "i = 1\n",
    "for item in lst:\n",
    "    if i%2 is not 0:                    # i%2!=0\n",
    "        print(f'Jarvis pls buy {item}')\n",
    "    i+=1\n"
   ]
  },
  {
   "cell_type": "code",
   "execution_count": 48,
   "id": "d88a5776",
   "metadata": {},
   "outputs": [
    {
     "name": "stdout",
     "output_type": "stream",
     "text": [
      "t-series\n",
      "pen\n"
     ]
    }
   ],
   "source": [
    "a = ['codewithharry',\"t-series\",\"mixer-grinder\",\"pen\"]\n",
    "i = 0\n",
    "for item in a:\n",
    "    i = i + 1\n",
    "    if i%2==0:\n",
    "        print(item)"
   ]
  },
  {
   "cell_type": "code",
   "execution_count": 44,
   "id": "bd768299",
   "metadata": {},
   "outputs": [
    {
     "name": "stdout",
     "output_type": "stream",
     "text": [
      "jarvis pls buy bhindi\n",
      "jarvis pls buy chopstick\n"
     ]
    }
   ],
   "source": [
    "lst=[\"bhindi\",\"aloo\",\"chopstick\",\"chowmin\"] \n",
    "for index, item in enumerate(lst):\n",
    "    if index%2==0:\n",
    "        print(f\"jarvis pls buy {item}\")"
   ]
  },
  {
   "cell_type": "code",
   "execution_count": 49,
   "id": "6ee4fb30",
   "metadata": {},
   "outputs": [
    {
     "name": "stdout",
     "output_type": "stream",
     "text": [
      "t-series\n",
      "pen\n"
     ]
    }
   ],
   "source": [
    "a = ['codewithharry',\"t-series\",\"mixer-grinder\",\"pen\"]\n",
    "for i, item in enumerate(a):\n",
    "    if (i+1)%2==0:\n",
    "        print(item)"
   ]
  }
 ],
 "metadata": {
  "kernelspec": {
   "display_name": "Python 3",
   "language": "python",
   "name": "python3"
  },
  "language_info": {
   "codemirror_mode": {
    "name": "ipython",
    "version": 3
   },
   "file_extension": ".py",
   "mimetype": "text/x-python",
   "name": "python",
   "nbconvert_exporter": "python",
   "pygments_lexer": "ipython3",
   "version": "3.7.4"
  }
 },
 "nbformat": 4,
 "nbformat_minor": 5
}
