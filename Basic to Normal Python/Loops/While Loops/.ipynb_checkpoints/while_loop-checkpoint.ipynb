{
 "cells": [
  {
   "cell_type": "markdown",
   "id": "e0ab646b",
   "metadata": {},
   "source": [
    "# LOOPS "
   ]
  },
  {
   "cell_type": "markdown",
   "id": "c4113ec1",
   "metadata": {},
   "source": [
    "Loops control statements are used to execute a section of code for a fixed numbers of time,\n",
    "for a given condition to be true...\n",
    "1. while loops \n",
    "2. for loops"
   ]
  },
  {
   "cell_type": "markdown",
   "id": "07cbf641",
   "metadata": {},
   "source": [
    "# While Loops "
   ]
  },
  {
   "cell_type": "markdown",
   "id": "28c60d09",
   "metadata": {},
   "source": [
    "The while loop keeps repeatating a code untill a condition becomes False or return False. "
   ]
  },
  {
   "cell_type": "raw",
   "id": "d5866ed2",
   "metadata": {},
   "source": [
    "Syntax:-\n",
    "while (condition):\n",
    "    Statement\n",
    "Rest Of Code.\n",
    "\n",
    "Python Check Karenga, agar condition True hai toh woh while loop ko execute karenga,\n",
    "phr while loop wapis aayega aur condition ko check karega, agar phr se condition true hai toh \n",
    "while loop set of code ko wapis execute karege , and this process goes on.....untill condition \n",
    "becomes False."
   ]
  },
  {
   "cell_type": "code",
   "execution_count": 1,
   "id": "26fe3dfc",
   "metadata": {},
   "outputs": [
    {
     "name": "stdout",
     "output_type": "stream",
     "text": [
      "1\n",
      "2\n",
      "3\n",
      "4\n",
      "5\n",
      "6\n",
      "7\n",
      "8\n",
      "9\n",
      "10\n",
      "Rest of The Code\n"
     ]
    }
   ],
   "source": [
    "a = 1\n",
    "while a<=10:\n",
    "    print(a)\n",
    "    a+=1        # ------------> a = a+ 1\n",
    "print(\"Rest of The Code\") "
   ]
  },
  {
   "cell_type": "code",
   "execution_count": 2,
   "id": "45b60a9e",
   "metadata": {},
   "outputs": [
    {
     "name": "stdout",
     "output_type": "stream",
     "text": [
      "1\n",
      "2\n",
      "3\n",
      "4\n",
      "Done\n"
     ]
    }
   ],
   "source": [
    "a = 1\n",
    "while a<=4:\n",
    "    print(a)\n",
    "    a = a+1      # ----------> Incrimenter\n",
    "print(\"Done\")"
   ]
  },
  {
   "cell_type": "markdown",
   "id": "f5335203",
   "metadata": {},
   "source": [
    "## 2 ka Table"
   ]
  },
  {
   "cell_type": "code",
   "execution_count": 3,
   "id": "478740fe",
   "metadata": {},
   "outputs": [
    {
     "name": "stdout",
     "output_type": "stream",
     "text": [
      "2\n",
      "4\n",
      "6\n",
      "8\n",
      "10\n",
      "12\n",
      "14\n",
      "16\n",
      "18\n",
      "20\n",
      "Done\n"
     ]
    }
   ],
   "source": [
    "a = 2\n",
    "while a<=20:\n",
    "    print(a)\n",
    "    a = a + 2 \n",
    "print(\"Done\") "
   ]
  },
  {
   "cell_type": "markdown",
   "id": "ba0ed32d",
   "metadata": {},
   "source": [
    "# Infinite Loop "
   ]
  },
  {
   "cell_type": "raw",
   "id": "e5a2c50d",
   "metadata": {},
   "source": [
    "# Condition Is Always True\n",
    "a = 2\n",
    "while a<=2:\n",
    "    print(a) \n",
    "              # To Terminate Infinite Loop,Press Ctrl + C  OR Kernel Interupt (I,I)"
   ]
  },
  {
   "cell_type": "markdown",
   "id": "d587131d",
   "metadata": {},
   "source": [
    "# While Loops with Else "
   ]
  },
  {
   "cell_type": "code",
   "execution_count": 5,
   "id": "30d632ef",
   "metadata": {},
   "outputs": [
    {
     "name": "stdout",
     "output_type": "stream",
     "text": [
      "1\n",
      "2\n",
      "3\n",
      "4\n",
      "5\n",
      "while condition False is Executed\n",
      "Rest Of The Code\n"
     ]
    }
   ],
   "source": [
    "# Else Statement Run Hoga hi Hoga. Irresepective Of Execution of while Loops.\n",
    "# True\n",
    "\n",
    "a = 1\n",
    "while a<=5:\n",
    "    print(a)\n",
    "    a = a + 1\n",
    "else:\n",
    "    print(\"while condition False, so it is Executed\")\n",
    "\n",
    "print(\"Rest Of The Code\") "
   ]
  },
  {
   "cell_type": "code",
   "execution_count": 6,
   "id": "5e306bb2",
   "metadata": {},
   "outputs": [
    {
     "name": "stdout",
     "output_type": "stream",
     "text": [
      "while condition True, so it is Executed\n",
      "Rest Of The Code\n"
     ]
    }
   ],
   "source": [
    "# True\n",
    "\n",
    "a = 1\n",
    "while a>=5:\n",
    "    print(a)\n",
    "    a = a + 1\n",
    "else:\n",
    "    print(\"while condition True, so it is Executed\")\n",
    "\n",
    "print(\"Rest Of The Code\") "
   ]
  },
  {
   "cell_type": "markdown",
   "id": "edd4e780",
   "metadata": {},
   "source": [
    "# True In While Loops "
   ]
  },
  {
   "cell_type": "code",
   "execution_count": 7,
   "id": "0999ecc2",
   "metadata": {},
   "outputs": [
    {
     "name": "stdout",
     "output_type": "stream",
     "text": [
      "1\n",
      "2\n",
      "3\n",
      "Rest Of the Code\n"
     ]
    }
   ],
   "source": [
    "i = 0\n",
    "while True:  # 1) i=0,true hai,0 ko loop m mt count kro, 2)agr true lagaoge toh if & break bhi likhna.\n",
    "    i+=1          #3) incrimenter +1 hai\n",
    "    print(i)\n",
    "    if(i == 3):           # jaise hi i ki value 3 hogi, loop ko break kr doo.\n",
    "        break \n",
    "print(\"Rest Of the Code\")"
   ]
  },
  {
   "cell_type": "markdown",
   "id": "8f56b2fa",
   "metadata": {},
   "source": [
    "## Without True "
   ]
  },
  {
   "cell_type": "code",
   "execution_count": 10,
   "id": "307021e5",
   "metadata": {},
   "outputs": [
    {
     "name": "stdout",
     "output_type": "stream",
     "text": [
      "0\n",
      "1\n",
      "2\n",
      "3\n",
      "Rest Of the Code\n"
     ]
    }
   ],
   "source": [
    "i = 0\n",
    "while (i<=3):\n",
    "    print(i)\n",
    "    i+=1\n",
    "print(\"Rest Of the Code\")"
   ]
  },
  {
   "cell_type": "markdown",
   "id": "e06e87c0",
   "metadata": {},
   "source": [
    "# Nested While Loops "
   ]
  },
  {
   "cell_type": "raw",
   "id": "1cd90ced",
   "metadata": {},
   "source": [
    "# Syntax-->\n",
    "while(condition):\n",
    "    Statement1   ------------------\n",
    "    while(condition):              |_______\\   DONO JAGAH STATEMENT1 LIKH SAKTE HAI,              \n",
    "        Statements                 |       /   DONO JAGAH BHI LIKH SAKTE HAI alag alag...\n",
    "    Statement1    ------------------\n",
    "Rest Of The Code."
   ]
  },
  {
   "cell_type": "code",
   "execution_count": 12,
   "id": "924c0e71",
   "metadata": {},
   "outputs": [
    {
     "name": "stdout",
     "output_type": "stream",
     "text": [
      "Outer Loop,--1\n",
      "inner loop,  1\n",
      "inner loop,  2\n",
      "inner loop,  3\n",
      "inner loop,  4\n",
      "inner loop,  5\n",
      "Outer Loop,--2\n",
      "inner loop,  1\n",
      "inner loop,  2\n",
      "inner loop,  3\n",
      "inner loop,  4\n",
      "inner loop,  5\n",
      "Outer Loop,--3\n",
      "inner loop,  1\n",
      "inner loop,  2\n",
      "inner loop,  3\n",
      "inner loop,  4\n",
      "inner loop,  5\n",
      "The Rest OF The COde\n"
     ]
    }
   ],
   "source": [
    "i = 1\n",
    "while i<=3:\n",
    "    print(f'Outer Loop,--{i}')\n",
    "    i+=1\n",
    "    j = 1\n",
    "    while j<=5:\n",
    "        print(f'inner loop,  {j}')\n",
    "        j+=1\n",
    "print(\"The Rest OF The COde\")  \n",
    "\n",
    "            #Remember that j ki value (inner loop) reset hoti hai, lekin outer ki nhi hoti hai. "
   ]
  },
  {
   "cell_type": "code",
   "execution_count": 13,
   "id": "3284bfaa",
   "metadata": {},
   "outputs": [
    {
     "name": "stdout",
     "output_type": "stream",
     "text": [
      "inner loop,  1\n",
      "inner loop,  2\n",
      "inner loop,  3\n",
      "inner loop,  4\n",
      "inner loop,  5\n",
      "Outer Loop,--1\n",
      "inner loop,  1\n",
      "inner loop,  2\n",
      "inner loop,  3\n",
      "inner loop,  4\n",
      "inner loop,  5\n",
      "Outer Loop,--2\n",
      "inner loop,  1\n",
      "inner loop,  2\n",
      "inner loop,  3\n",
      "inner loop,  4\n",
      "inner loop,  5\n",
      "Outer Loop,--3\n",
      "The Rest OF The COde\n"
     ]
    }
   ],
   "source": [
    "i = 1\n",
    "while i<=3:\n",
    "    j = 1\n",
    "    while j<=5:\n",
    "        print(f'inner loop,  {j}')\n",
    "        j+=1\n",
    "    print(f'Outer Loop,--{i}')      #-------> Place Of Statement Of Outer Loop Changed.\n",
    "    i+=1\n",
    "print(\"The Rest OF The COde\")"
   ]
  }
 ],
 "metadata": {
  "kernelspec": {
   "display_name": "Python 3",
   "language": "python",
   "name": "python3"
  },
  "language_info": {
   "codemirror_mode": {
    "name": "ipython",
    "version": 3
   },
   "file_extension": ".py",
   "mimetype": "text/x-python",
   "name": "python",
   "nbconvert_exporter": "python",
   "pygments_lexer": "ipython3",
   "version": "3.7.4"
  }
 },
 "nbformat": 4,
 "nbformat_minor": 5
}
