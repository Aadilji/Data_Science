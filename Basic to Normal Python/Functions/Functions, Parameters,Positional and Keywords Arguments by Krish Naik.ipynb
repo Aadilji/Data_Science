{
 "cells": [
  {
   "cell_type": "markdown",
   "id": "8746dbb8",
   "metadata": {},
   "source": [
    "# Functions"
   ]
  },
  {
   "cell_type": "markdown",
   "id": "0dbbce1e",
   "metadata": {},
   "source": [
    "Functions are created, so that we do not need to write the same code again & again in multiple places."
   ]
  },
  {
   "cell_type": "code",
   "execution_count": 1,
   "id": "700735d6",
   "metadata": {},
   "outputs": [
    {
     "name": "stdout",
     "output_type": "stream",
     "text": [
      "The number is even\n"
     ]
    }
   ],
   "source": [
    "num = 24\n",
    "if num%2 == 0:\n",
    "    print(\"The number is even\")\n",
    "else:\n",
    "    print(\"the no. is odd\") "
   ]
  },
  {
   "cell_type": "markdown",
   "id": "81d7ee35",
   "metadata": {},
   "source": [
    "### num is the parameter in the function."
   ]
  },
  {
   "cell_type": "code",
   "execution_count": 2,
   "id": "cb3687ea",
   "metadata": {},
   "outputs": [],
   "source": [
    "def even_or_odd(num): \n",
    "    if num%2 == 0:\n",
    "        print(\"The number is even\")\n",
    "    else:\n",
    "        print(\"the no. is odd\") "
   ]
  },
  {
   "cell_type": "code",
   "execution_count": 3,
   "id": "f8cc71a5",
   "metadata": {},
   "outputs": [
    {
     "name": "stdout",
     "output_type": "stream",
     "text": [
      "The number is even\n"
     ]
    }
   ],
   "source": [
    "even_or_odd(250)  "
   ]
  },
  {
   "cell_type": "markdown",
   "id": "89cc84d6",
   "metadata": {},
   "source": [
    "## Print vs Return"
   ]
  },
  {
   "cell_type": "code",
   "execution_count": 4,
   "id": "400d595f",
   "metadata": {},
   "outputs": [],
   "source": [
    "def hello_world():\n",
    "    print(\"Hello World\") "
   ]
  },
  {
   "cell_type": "code",
   "execution_count": 5,
   "id": "0611a768",
   "metadata": {},
   "outputs": [
    {
     "name": "stdout",
     "output_type": "stream",
     "text": [
      "Hello World\n"
     ]
    }
   ],
   "source": [
    "hello_world() "
   ]
  },
  {
   "cell_type": "code",
   "execution_count": 6,
   "id": "aa6a2de9",
   "metadata": {},
   "outputs": [
    {
     "name": "stdout",
     "output_type": "stream",
     "text": [
      "Hello World\n"
     ]
    }
   ],
   "source": [
    "val = hello_world() "
   ]
  },
  {
   "cell_type": "code",
   "execution_count": 7,
   "id": "13e518ce",
   "metadata": {},
   "outputs": [],
   "source": [
    "# after printing val,it will not return Hello World. becoz we used here print. \n",
    "val "
   ]
  },
  {
   "cell_type": "code",
   "execution_count": 8,
   "id": "6288c7aa",
   "metadata": {},
   "outputs": [],
   "source": [
    "def hello_world():\n",
    "    return(\"Hello World\") "
   ]
  },
  {
   "cell_type": "code",
   "execution_count": 9,
   "id": "bf730514",
   "metadata": {},
   "outputs": [],
   "source": [
    "val1 = hello_world()"
   ]
  },
  {
   "cell_type": "code",
   "execution_count": 10,
   "id": "49f19887",
   "metadata": {},
   "outputs": [
    {
     "data": {
      "text/plain": [
       "'Hello World'"
      ]
     },
     "execution_count": 10,
     "metadata": {},
     "output_type": "execute_result"
    }
   ],
   "source": [
    "# after printing val,it will return Hello World. becoz we used here return statement.\n",
    "val1 "
   ]
  },
  {
   "cell_type": "code",
   "execution_count": 11,
   "id": "343f3807",
   "metadata": {},
   "outputs": [],
   "source": [
    "def add_number(num1,num2):\n",
    "    return num1 + num2"
   ]
  },
  {
   "cell_type": "code",
   "execution_count": 12,
   "id": "8673b18f",
   "metadata": {},
   "outputs": [],
   "source": [
    "val = add_number(45,45) "
   ]
  },
  {
   "cell_type": "code",
   "execution_count": 13,
   "id": "40987f02",
   "metadata": {},
   "outputs": [
    {
     "data": {
      "text/plain": [
       "90"
      ]
     },
     "execution_count": 13,
     "metadata": {},
     "output_type": "execute_result"
    }
   ],
   "source": [
    "val "
   ]
  },
  {
   "cell_type": "markdown",
   "id": "88a84f05",
   "metadata": {},
   "source": [
    "# Positional Argument and Keywords Arguments. "
   ]
  },
  {
   "cell_type": "markdown",
   "id": "32b76368",
   "metadata": {},
   "source": [
    "when we provide some value in the parameter, this means it is Keyword Arguments or default parameter.<br>\n",
    "And when we do not provide any value to the argument it is known as Positional Arguments. "
   ]
  },
  {
   "cell_type": "code",
   "execution_count": 14,
   "id": "69db98ae",
   "metadata": {},
   "outputs": [],
   "source": [
    "# here name is positional argument while age is keyword arguments.\n",
    "\n",
    "def hello(name,age = 22):\n",
    "    print(\"my name is {} and my age is {}.\".format(name,age)) "
   ]
  },
  {
   "cell_type": "code",
   "execution_count": 15,
   "id": "92dffd9f",
   "metadata": {},
   "outputs": [
    {
     "name": "stdout",
     "output_type": "stream",
     "text": [
      "my name is Aadil and my age is 22.\n"
     ]
    }
   ],
   "source": [
    "hello(\"Aadil\") "
   ]
  },
  {
   "cell_type": "markdown",
   "id": "19bf88ff",
   "metadata": {},
   "source": [
    "## *args & **kwargs"
   ]
  },
  {
   "cell_type": "markdown",
   "id": "68bf1fca",
   "metadata": {},
   "source": [
    "#### First Way"
   ]
  },
  {
   "cell_type": "code",
   "execution_count": 16,
   "id": "d1b67022",
   "metadata": {},
   "outputs": [],
   "source": [
    "def hello(*args,**kwargs):\n",
    "    print(args)\n",
    "    print(kwargs) "
   ]
  },
  {
   "cell_type": "code",
   "execution_count": 17,
   "id": "fda6b60f",
   "metadata": {},
   "outputs": [
    {
     "name": "stdout",
     "output_type": "stream",
     "text": [
      "('krish', 'naik')\n",
      "{'age': 29, 'dob': 1999}\n"
     ]
    }
   ],
   "source": [
    "hello(\"krish\",\"naik\",age = 29, dob = 1999) "
   ]
  },
  {
   "cell_type": "markdown",
   "id": "5d685cfa",
   "metadata": {},
   "source": [
    "#### Second Way"
   ]
  },
  {
   "cell_type": "code",
   "execution_count": 18,
   "id": "c9549183",
   "metadata": {},
   "outputs": [],
   "source": [
    "lst = ['krish', 'naik']\n",
    "dict_args = {'age': 29, 'dob': 1999} "
   ]
  },
  {
   "cell_type": "code",
   "execution_count": 19,
   "id": "af6c7aba",
   "metadata": {},
   "outputs": [
    {
     "name": "stdout",
     "output_type": "stream",
     "text": [
      "('krish', 'naik')\n",
      "{'age': 29, 'dob': 1999}\n"
     ]
    }
   ],
   "source": [
    "hello(*lst,**dict_args) "
   ]
  },
  {
   "cell_type": "markdown",
   "id": "6ae5567a",
   "metadata": {},
   "source": [
    "## Returning 2 values from a Function"
   ]
  },
  {
   "cell_type": "code",
   "execution_count": 20,
   "id": "f2b4a323",
   "metadata": {},
   "outputs": [],
   "source": [
    "lst = [1,2,3,4,5,6,7]"
   ]
  },
  {
   "cell_type": "code",
   "execution_count": 21,
   "id": "0b166ed0",
   "metadata": {},
   "outputs": [],
   "source": [
    "def even_odd_sum(lst):\n",
    "    even_sum = 0\n",
    "    odd_sum = 0\n",
    "    for i in lst:\n",
    "        if i%2 == 0:\n",
    "            even_sum = even_sum + i\n",
    "        else:\n",
    "            odd_sum = odd_sum + i\n",
    "    return even_sum,odd_sum "
   ]
  },
  {
   "cell_type": "code",
   "execution_count": 22,
   "id": "f674033d",
   "metadata": {},
   "outputs": [
    {
     "data": {
      "text/plain": [
       "(12, 16)"
      ]
     },
     "execution_count": 22,
     "metadata": {},
     "output_type": "execute_result"
    }
   ],
   "source": [
    "even_odd_sum(lst) "
   ]
  }
 ],
 "metadata": {
  "kernelspec": {
   "display_name": "Python 3",
   "language": "python",
   "name": "python3"
  },
  "language_info": {
   "codemirror_mode": {
    "name": "ipython",
    "version": 3
   },
   "file_extension": ".py",
   "mimetype": "text/x-python",
   "name": "python",
   "nbconvert_exporter": "python",
   "pygments_lexer": "ipython3",
   "version": "3.7.4"
  }
 },
 "nbformat": 4,
 "nbformat_minor": 5
}
