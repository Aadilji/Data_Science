{
 "cells": [
  {
   "cell_type": "markdown",
   "id": "ffce1608",
   "metadata": {},
   "source": [
    "# Functions"
   ]
  },
  {
   "cell_type": "markdown",
   "id": "9fc2830f",
   "metadata": {},
   "source": [
    "HUM FUNCTIONS KO, GEEKY SHOWS YT CHANNEL KE  BATAYE GYE TRICK (\"CONTROL TRANSFER\") SE,<br> \n",
    "HAMESHA KE LIYE YAAD RAKHENGE "
   ]
  },
  {
   "cell_type": "markdown",
   "id": "ba9cfb19",
   "metadata": {},
   "source": [
    "### defining a function"
   ]
  },
  {
   "cell_type": "code",
   "execution_count": 1,
   "id": "07798e2a",
   "metadata": {},
   "outputs": [],
   "source": [
    "def add():\n",
    "    x = 10\n",
    "    y = 20\n",
    "    c = x + y\n",
    "    print(c) "
   ]
  },
  {
   "cell_type": "code",
   "execution_count": 2,
   "id": "de2a5161",
   "metadata": {},
   "outputs": [
    {
     "name": "stdout",
     "output_type": "stream",
     "text": [
      "30\n"
     ]
    }
   ],
   "source": [
    "add() "
   ]
  },
  {
   "cell_type": "markdown",
   "id": "7d3d2420",
   "metadata": {},
   "source": [
    "### parameters in functions"
   ]
  },
  {
   "cell_type": "code",
   "execution_count": 3,
   "id": "28e9b43e",
   "metadata": {},
   "outputs": [],
   "source": [
    "def add (y):\n",
    "    x = 10\n",
    "    c = x + y\n",
    "    print(c) "
   ]
  },
  {
   "cell_type": "code",
   "execution_count": 4,
   "id": "f6ec5f1d",
   "metadata": {},
   "outputs": [
    {
     "name": "stdout",
     "output_type": "stream",
     "text": [
      "110\n"
     ]
    }
   ],
   "source": [
    "add(100) "
   ]
  },
  {
   "cell_type": "markdown",
   "id": "ac9f3ee4",
   "metadata": {},
   "source": [
    "Calling a Function:- A Function runs only when we call it, function can not run on its own."
   ]
  },
  {
   "cell_type": "code",
   "execution_count": 5,
   "id": "575a4e7a",
   "metadata": {},
   "outputs": [
    {
     "name": "stdout",
     "output_type": "stream",
     "text": [
      "10\n",
      "30\n",
      "20.560000000000002\n"
     ]
    }
   ],
   "source": [
    "add(0)\n",
    "add(20)\n",
    "add(10.56)  "
   ]
  },
  {
   "cell_type": "code",
   "execution_count": 6,
   "id": "f8aaa8d7",
   "metadata": {},
   "outputs": [
    {
     "name": "stdout",
     "output_type": "stream",
     "text": [
      "20\n"
     ]
    }
   ],
   "source": [
    "# def add (y):\n",
    "#     x = 10\n",
    "#     c = x + y\n",
    "#     print(c) \n",
    "\n",
    "a = 10\n",
    "add(a) "
   ]
  },
  {
   "cell_type": "markdown",
   "id": "a2ccd6a2",
   "metadata": {},
   "source": [
    "### Examples:- "
   ]
  },
  {
   "cell_type": "code",
   "execution_count": 7,
   "id": "11cae11f",
   "metadata": {},
   "outputs": [],
   "source": [
    "def welcome():\n",
    "    name = \"Aadil\"\n",
    "    print(\"WELCOME\", name) "
   ]
  },
  {
   "cell_type": "code",
   "execution_count": 8,
   "id": "949949d5",
   "metadata": {},
   "outputs": [
    {
     "name": "stdout",
     "output_type": "stream",
     "text": [
      "WELCOME Aadil\n"
     ]
    }
   ],
   "source": [
    "welcome() "
   ]
  },
  {
   "cell_type": "code",
   "execution_count": 9,
   "id": "17f85a3d",
   "metadata": {},
   "outputs": [],
   "source": [
    "def add(y):\n",
    "    x = 10.2345\n",
    "    print(x +y)\n",
    "    print(f\"Formatted Output {x+y:5.2f}\") "
   ]
  },
  {
   "cell_type": "code",
   "execution_count": 10,
   "id": "a4a74354",
   "metadata": {},
   "outputs": [
    {
     "name": "stdout",
     "output_type": "stream",
     "text": [
      "20.2345\n",
      "Formatted Output 20.23\n"
     ]
    }
   ],
   "source": [
    "add(10) "
   ]
  },
  {
   "cell_type": "markdown",
   "id": "4c5639f7",
   "metadata": {},
   "source": [
    "# Return Statement"
   ]
  },
  {
   "cell_type": "code",
   "execution_count": 11,
   "id": "08edcc95",
   "metadata": {},
   "outputs": [
    {
     "data": {
      "text/plain": [
       "30"
      ]
     },
     "execution_count": 11,
     "metadata": {},
     "output_type": "execute_result"
    }
   ],
   "source": [
    "def add(y):\n",
    "    x = 10\n",
    "    c = x + y\n",
    "    return c \n",
    "\n",
    "add(20) "
   ]
  },
  {
   "cell_type": "code",
   "execution_count": 12,
   "id": "58073497",
   "metadata": {},
   "outputs": [
    {
     "name": "stdout",
     "output_type": "stream",
     "text": [
      "30\n"
     ]
    }
   ],
   "source": [
    "def add(y):\n",
    "    x = 10\n",
    "    c = x + y\n",
    "    return c \n",
    "\n",
    "sum = add(20)\n",
    "print(sum) "
   ]
  },
  {
   "cell_type": "code",
   "execution_count": 13,
   "id": "f2789bcc",
   "metadata": {},
   "outputs": [
    {
     "name": "stdout",
     "output_type": "stream",
     "text": [
      "30\n"
     ]
    }
   ],
   "source": [
    "def add(y):\n",
    "    x = 10\n",
    "    return x + y \n",
    "    \n",
    "sum = add(20)\n",
    "print(sum) "
   ]
  },
  {
   "cell_type": "markdown",
   "id": "7e278d8c",
   "metadata": {},
   "source": [
    "Remember:- Jab bhi fuction more than 1 value return karta hai toh usko store krne k liye bhi more than one variable lagege."
   ]
  },
  {
   "cell_type": "code",
   "execution_count": 14,
   "id": "1b16747c",
   "metadata": {},
   "outputs": [
    {
     "name": "stdout",
     "output_type": "stream",
     "text": [
      "30\n",
      "10\n"
     ]
    }
   ],
   "source": [
    "def add_sum(y):\n",
    "    x = 10\n",
    "    c = x + y\n",
    "    d = y - x\n",
    "    return c,d \n",
    "\n",
    "sum,sub = add_sum(20) \n",
    "print(sum)\n",
    "print(sub) "
   ]
  },
  {
   "cell_type": "code",
   "execution_count": 15,
   "id": "f080a115",
   "metadata": {},
   "outputs": [
    {
     "data": {
      "text/plain": [
       "(30, 10)"
      ]
     },
     "execution_count": 15,
     "metadata": {},
     "output_type": "execute_result"
    }
   ],
   "source": [
    "def add_sum(y):\n",
    "    x = 10\n",
    "    c = x + y\n",
    "    d = y - x\n",
    "    return c,d \n",
    "\n",
    "add_sum(20)  "
   ]
  },
  {
   "cell_type": "code",
   "execution_count": 16,
   "id": "b8b5516c",
   "metadata": {},
   "outputs": [
    {
     "name": "stdout",
     "output_type": "stream",
     "text": [
      "<class 'tuple'>\n"
     ]
    }
   ],
   "source": [
    "def add_sum(y):\n",
    "    x = 10\n",
    "    c = x + y\n",
    "    d = y - x\n",
    "    return c,d \n",
    "\n",
    "sum = add_sum(20)\n",
    "print(type(sum)) "
   ]
  },
  {
   "cell_type": "markdown",
   "id": "ff966498",
   "metadata": {},
   "source": [
    "### whoa !!!"
   ]
  },
  {
   "cell_type": "code",
   "execution_count": 17,
   "id": "5b6a07d6",
   "metadata": {},
   "outputs": [
    {
     "data": {
      "text/plain": [
       "30"
      ]
     },
     "execution_count": 17,
     "metadata": {},
     "output_type": "execute_result"
    }
   ],
   "source": [
    "def add_sum(y):\n",
    "    x = 10\n",
    "    c = x + y\n",
    "    d = y - x\n",
    "    return c\n",
    "    return d \n",
    "\n",
    "add_sum(20) "
   ]
  },
  {
   "cell_type": "code",
   "execution_count": 18,
   "id": "e3bc6388",
   "metadata": {},
   "outputs": [
    {
     "name": "stdout",
     "output_type": "stream",
     "text": [
      "30\n",
      "10\n",
      "100\n"
     ]
    }
   ],
   "source": [
    "def add_sum(y):\n",
    "    x = 10\n",
    "    c = x + y\n",
    "    d = y - x\n",
    "    return c,d,100 \n",
    "\n",
    "sum,sub,a = add_sum(20) \n",
    "print(sum)\n",
    "print(sub)\n",
    "print(a) "
   ]
  },
  {
   "cell_type": "markdown",
   "id": "286bf82e",
   "metadata": {},
   "source": [
    "# Nested Function "
   ]
  },
  {
   "cell_type": "code",
   "execution_count": 19,
   "id": "00823a13",
   "metadata": {},
   "outputs": [
    {
     "name": "stdout",
     "output_type": "stream",
     "text": [
      "Distance\n",
      "Speed\n"
     ]
    }
   ],
   "source": [
    "def distance():\n",
    "    def speed():\n",
    "        print(\"Speed\")\n",
    "    print(\"Distance\")\n",
    "    speed() \n",
    "    \n",
    "distance() "
   ]
  },
  {
   "cell_type": "code",
   "execution_count": 20,
   "id": "2dffe11e",
   "metadata": {},
   "outputs": [
    {
     "name": "stdout",
     "output_type": "stream",
     "text": [
      "Distance\n",
      "Speed\n"
     ]
    }
   ],
   "source": [
    "def distance():\n",
    "    print(\"Distance\")\n",
    "    def speed():\n",
    "        print(\"Speed\")\n",
    "    speed() \n",
    "    \n",
    "distance() "
   ]
  },
  {
   "cell_type": "markdown",
   "id": "9b2f1d85",
   "metadata": {},
   "source": [
    "name 'sp' is not defined<br> \n",
    "because sp is in local scope(Local function)"
   ]
  },
  {
   "cell_type": "code",
   "execution_count": 21,
   "id": "a1587e7a",
   "metadata": {},
   "outputs": [
    {
     "name": "stdout",
     "output_type": "stream",
     "text": [
      "Distance\n",
      "Speed\n"
     ]
    },
    {
     "ename": "NameError",
     "evalue": "name 'sp' is not defined",
     "output_type": "error",
     "traceback": [
      "\u001b[1;31m---------------------------------------------------------------------------\u001b[0m",
      "\u001b[1;31mNameError\u001b[0m                                 Traceback (most recent call last)",
      "\u001b[1;32m<ipython-input-21-92bccf742dcb>\u001b[0m in \u001b[0;36m<module>\u001b[1;34m\u001b[0m\n\u001b[0;32m      6\u001b[0m \u001b[1;33m\u001b[0m\u001b[0m\n\u001b[0;32m      7\u001b[0m \u001b[0mdistance\u001b[0m\u001b[1;33m(\u001b[0m\u001b[1;33m)\u001b[0m\u001b[1;33m\u001b[0m\u001b[1;33m\u001b[0m\u001b[0m\n\u001b[1;32m----> 8\u001b[1;33m \u001b[0msp\u001b[0m\u001b[1;33m(\u001b[0m\u001b[1;33m)\u001b[0m\u001b[1;33m\u001b[0m\u001b[1;33m\u001b[0m\u001b[0m\n\u001b[0m",
      "\u001b[1;31mNameError\u001b[0m: name 'sp' is not defined"
     ]
    }
   ],
   "source": [
    "def distance():\n",
    "    print(\"Distance\")\n",
    "    def sp():\n",
    "        print(\"Speed\")\n",
    "    sp() \n",
    "    \n",
    "distance()\n",
    "sp() "
   ]
  },
  {
   "cell_type": "markdown",
   "id": "a41320bf",
   "metadata": {},
   "source": [
    "### GOUR SE DEKHO, SPEED FUNCTION KO PEHLE CALL KIYA GYA HAI, DISTANCE FUNCTION KO BAAD MAI..NEECHE DEKH"
   ]
  },
  {
   "cell_type": "code",
   "execution_count": 22,
   "id": "b658d856",
   "metadata": {},
   "outputs": [
    {
     "name": "stdout",
     "output_type": "stream",
     "text": [
      "Speed\n",
      "Distance\n"
     ]
    }
   ],
   "source": [
    "def distance():\n",
    "    def speed():\n",
    "        print(\"Speed\")\n",
    "    speed() \n",
    "    print(\"Distance\")\n",
    "    \n",
    "    \n",
    "distance() "
   ]
  },
  {
   "cell_type": "markdown",
   "id": "e63a6e60",
   "metadata": {},
   "source": [
    "## RETURN STATEMENT IN NESTED FUNCTION:- "
   ]
  },
  {
   "cell_type": "markdown",
   "id": "b7ef3a5e",
   "metadata": {},
   "source": [
    "control transfer trick se samjhna hai apne ko warna nai samajh aayega."
   ]
  },
  {
   "cell_type": "code",
   "execution_count": 23,
   "id": "037174f6",
   "metadata": {},
   "outputs": [
    {
     "name": "stdout",
     "output_type": "stream",
     "text": [
      "show function, disp function\n"
     ]
    }
   ],
   "source": [
    "def disp():\n",
    "    def show():\n",
    "        return \"show function\"\n",
    "    result = show() + \", disp function\"    #yeh result variable disp() ka hai,aur iske andr ka show(), \n",
    "    return result                                                  # show function ko invoke krta hai \n",
    "             # yeh return statement disp() funct. ka hai.\n",
    "a = disp()\n",
    "print(a) "
   ]
  },
  {
   "cell_type": "code",
   "execution_count": 24,
   "id": "d5913886",
   "metadata": {},
   "outputs": [
    {
     "name": "stdout",
     "output_type": "stream",
     "text": [
      "show function, disp function\n"
     ]
    }
   ],
   "source": [
    "def disp():\n",
    "    def show():\n",
    "        return \"show function\"\n",
    "    result = show() + \", disp function\"     \n",
    "    return result                                                  \n",
    "             \n",
    "print(disp()) "
   ]
  },
  {
   "cell_type": "markdown",
   "id": "e5368c0f",
   "metadata": {},
   "source": [
    "#### Adding a Parameter"
   ]
  },
  {
   "cell_type": "code",
   "execution_count": 25,
   "id": "e7fcb0be",
   "metadata": {},
   "outputs": [
    {
     "name": "stdout",
     "output_type": "stream",
     "text": [
      "show function, Aadil, disp function\n"
     ]
    }
   ],
   "source": [
    "def disp(nm):\n",
    "    def show():\n",
    "        return \"show function\"\n",
    "    result = show() + nm + \", disp function\"     \n",
    "    return result                                                  \n",
    "             \n",
    "print(disp(\", Aadil\"))   "
   ]
  },
  {
   "cell_type": "markdown",
   "id": "ef0fb694",
   "metadata": {},
   "source": [
    "# Passing a Function as a Parameter"
   ]
  },
  {
   "cell_type": "code",
   "execution_count": 26,
   "id": "ef9f6bee",
   "metadata": {},
   "outputs": [
    {
     "name": "stdout",
     "output_type": "stream",
     "text": [
      "Aadil's Function Output, Saniya's function return value\n"
     ]
    }
   ],
   "source": [
    "# def Aadil():\n",
    "#     print(\"Aadil's Function Output\")\n",
    "    \n",
    "# def Saniya():\n",
    "#     return \"Saniya's function return value\"\n",
    "# ----------------------------------------------------------------------------------------------------\n",
    "\n",
    "def Aadil(sn):\n",
    "    print(\"Aadil's Function Output, \" + sn()) \n",
    "    \n",
    "def Saniya():\n",
    "    return \"Saniya's function return value\"\n",
    "\n",
    "Aadil(Saniya) "
   ]
  },
  {
   "cell_type": "code",
   "execution_count": 27,
   "id": "5618930f",
   "metadata": {},
   "outputs": [
    {
     "name": "stdout",
     "output_type": "stream",
     "text": [
      "Aadil's Function Output, Saniya's function return value\n"
     ]
    }
   ],
   "source": [
    "def Aadil(sn):\n",
    "    print(\"Aadil's Function Output, \" + sn) \n",
    "    \n",
    "def Saniya():\n",
    "    return \"Saniya's function return value\"\n",
    "\n",
    "Aadil(Saniya())   "
   ]
  },
  {
   "cell_type": "code",
   "execution_count": 28,
   "id": "d8fb5cea",
   "metadata": {},
   "outputs": [
    {
     "data": {
      "text/plain": [
       "\"Aadil's Function Output, Saniya's function return value\""
      ]
     },
     "execution_count": 28,
     "metadata": {},
     "output_type": "execute_result"
    }
   ],
   "source": [
    "def Aadil(sn):\n",
    "    return \"Aadil's Function Output, \" + sn\n",
    "    \n",
    "def Saniya():\n",
    "    return \"Saniya's function return value\"\n",
    "\n",
    "Aadil(Saniya())   "
   ]
  },
  {
   "cell_type": "code",
   "execution_count": 29,
   "id": "635667e3",
   "metadata": {},
   "outputs": [
    {
     "name": "stdout",
     "output_type": "stream",
     "text": [
      "Aadil's Function Output, Saniya's function return value\n"
     ]
    }
   ],
   "source": [
    "def Aadil(sn):\n",
    "    return \"Aadil's Function Output, \" + sn\n",
    "    \n",
    "def Saniya():\n",
    "    return \"Saniya's function return value\"\n",
    "\n",
    "sum = Aadil(Saniya())\n",
    "print(sum) "
   ]
  },
  {
   "cell_type": "code",
   "execution_count": 30,
   "id": "f1752f05",
   "metadata": {},
   "outputs": [
    {
     "name": "stdout",
     "output_type": "stream",
     "text": [
      "Aadil's Function Output, Saniya's function return value\n"
     ]
    }
   ],
   "source": [
    "def Aadil(sn):\n",
    "    return \"Aadil's Function Output, \" + sn()\n",
    "    \n",
    "def Saniya():\n",
    "    return \"Saniya's function return value\"\n",
    "\n",
    "print(Aadil(Saniya)) "
   ]
  },
  {
   "cell_type": "markdown",
   "id": "e9641caf",
   "metadata": {},
   "source": [
    "# Function return another Function "
   ]
  },
  {
   "cell_type": "markdown",
   "id": "29037745",
   "metadata": {},
   "source": [
    "A Function can return another Function. "
   ]
  },
  {
   "cell_type": "markdown",
   "id": "b4761183",
   "metadata": {},
   "source": [
    "##### Hard Topic & hard example given below:-"
   ]
  },
  {
   "cell_type": "code",
   "execution_count": 34,
   "id": "4be0747e",
   "metadata": {},
   "outputs": [
    {
     "name": "stdout",
     "output_type": "stream",
     "text": [
      "Disp Function\n",
      "Show Function\n"
     ]
    }
   ],
   "source": [
    "def disp():\n",
    "    def show():\n",
    "        return \"Show Function\"\n",
    "    print (\"Disp Function\")\n",
    "    return show   # ------------------>> actually it is storing the show in the variable \"r_sh\".\n",
    "\n",
    "r_sh = disp()\n",
    "print(r_sh())     #-------------------->> it is printing show function. "
   ]
  },
  {
   "cell_type": "code",
   "execution_count": 35,
   "id": "6c507a12",
   "metadata": {},
   "outputs": [
    {
     "name": "stdout",
     "output_type": "stream",
     "text": [
      "Disp Function\n",
      "Show Function\n"
     ]
    }
   ],
   "source": [
    "def disp(sh):\n",
    "    print (\"Disp Function\")\n",
    "    return sh \n",
    "\n",
    "def show():\n",
    "    return \"Show Function\"\n",
    "\n",
    "r_sh = disp(show) \n",
    "print(r_sh()) "
   ]
  }
 ],
 "metadata": {
  "kernelspec": {
   "display_name": "Python 3",
   "language": "python",
   "name": "python3"
  },
  "language_info": {
   "codemirror_mode": {
    "name": "ipython",
    "version": 3
   },
   "file_extension": ".py",
   "mimetype": "text/x-python",
   "name": "python",
   "nbconvert_exporter": "python",
   "pygments_lexer": "ipython3",
   "version": "3.7.4"
  }
 },
 "nbformat": 4,
 "nbformat_minor": 5
}
