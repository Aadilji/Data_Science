{
 "cells": [
  {
   "cell_type": "markdown",
   "id": "921cfc33",
   "metadata": {},
   "source": [
    "# Anonymous Function Or Lambda Function"
   ]
  },
  {
   "cell_type": "markdown",
   "id": "2176a17c",
   "metadata": {},
   "source": [
    "A Function without a name is called as Anonymous Function or Lambda Function.<br>\n",
    "Anonmymous Functions are not defined by using def keywords rather they are defined by lambda keywords."
   ]
  },
  {
   "cell_type": "markdown",
   "id": "4bc4fbc0",
   "metadata": {},
   "source": [
    "1. Lambda Functions is a new way of creating a functions, it is one-liner code functions.<br>\n",
    "2. Lambda Function returns a function.<br>\n",
    "3. Lambda function can take zero or any number of arguments but contains only one expressions.<br>\n",
    "4. In Lambda function there is no need of writing a return statement.<br>\n",
    "5. we can't use statement in lamba function(if,else, or loops).<br>\n",
    "6. we can't use variables in expression of lamda function."
   ]
  },
  {
   "cell_type": "raw",
   "id": "41330d41",
   "metadata": {},
   "source": [
    "Syntax:- \n",
    "    lamda arguments/parameter : manipulate (parameter/arguments)"
   ]
  },
  {
   "cell_type": "code",
   "execution_count": 1,
   "id": "6cf3cf9a",
   "metadata": {},
   "outputs": [
    {
     "name": "stdout",
     "output_type": "stream",
     "text": [
      "5\n"
     ]
    }
   ],
   "source": [
    "def minus(x,y):\n",
    "    return x-y\n",
    "\n",
    "print(minus(9,4)) "
   ]
  },
  {
   "cell_type": "code",
   "execution_count": 2,
   "id": "26b08fc5",
   "metadata": {},
   "outputs": [
    {
     "name": "stdout",
     "output_type": "stream",
     "text": [
      "5\n"
     ]
    }
   ],
   "source": [
    "minus = lambda x,y : x-y\n",
    "\n",
    "print(minus(9,4)) "
   ]
  },
  {
   "cell_type": "code",
   "execution_count": 3,
   "id": "6c1c1594",
   "metadata": {},
   "outputs": [
    {
     "name": "stdout",
     "output_type": "stream",
     "text": [
      "5\n"
     ]
    }
   ],
   "source": [
    "minus = lambda x : print(x)\n",
    "\n",
    "minus(5) "
   ]
  },
  {
   "cell_type": "code",
   "execution_count": 4,
   "id": "5ba89677",
   "metadata": {},
   "outputs": [
    {
     "name": "stdout",
     "output_type": "stream",
     "text": [
      "12\n"
     ]
    }
   ],
   "source": [
    "add = lambda x, y : x + y\n",
    "\n",
    "print(add(5,7)) "
   ]
  },
  {
   "cell_type": "code",
   "execution_count": 5,
   "id": "ceae9ccf",
   "metadata": {},
   "outputs": [
    {
     "name": "stdout",
     "output_type": "stream",
     "text": [
      "7\n",
      "3\n"
     ]
    }
   ],
   "source": [
    "add_sub = lambda x, y : (x + y, x - y)\n",
    "a, s = add_sub(5,2)\n",
    "print(a)\n",
    "print(s) "
   ]
  },
  {
   "cell_type": "markdown",
   "id": "ce47400b",
   "metadata": {},
   "source": [
    "### DEFAULT ARGUMENT IN LAMBDA FUNCTIONS:-"
   ]
  },
  {
   "cell_type": "code",
   "execution_count": 6,
   "id": "e4e223ae",
   "metadata": {},
   "outputs": [
    {
     "name": "stdout",
     "output_type": "stream",
     "text": [
      "8\n"
     ]
    }
   ],
   "source": [
    "add = lambda x, y=3 : x + y\n",
    "\n",
    "print(add(5)) "
   ]
  },
  {
   "cell_type": "code",
   "execution_count": 7,
   "id": "830359ff",
   "metadata": {},
   "outputs": [
    {
     "name": "stdout",
     "output_type": "stream",
     "text": [
      "10\n"
     ]
    }
   ],
   "source": [
    "add = lambda x, y=3 : x + y\n",
    "\n",
    "print(add(5, 5)) "
   ]
  },
  {
   "cell_type": "markdown",
   "id": "f926fceb",
   "metadata": {},
   "source": [
    "# NESTED LAMBDA FUNCTIONS "
   ]
  },
  {
   "cell_type": "markdown",
   "id": "243b70be",
   "metadata": {},
   "source": [
    "WHEN WE WRITE A LAMBDA FUNCTION IN ANOTHER LAMBDA FUNCTION "
   ]
  },
  {
   "cell_type": "code",
   "execution_count": 8,
   "id": "5233aa96",
   "metadata": {},
   "outputs": [
    {
     "name": "stdout",
     "output_type": "stream",
     "text": [
      "30\n"
     ]
    }
   ],
   "source": [
    "add = lambda x = 10 : (lambda y: x + y)\n",
    "\n",
    "a = add()\n",
    "print(a(20)) "
   ]
  },
  {
   "cell_type": "markdown",
   "id": "17de61a2",
   "metadata": {},
   "source": [
    "Actually, nested lambda function hum jab bhi use karte hai and jab hum lambda function ko call\n",
    "karte hai, tab kya hota hai ki inner lambda function execute hota hai, and woh outer lambda Functions\n",
    "ka value le leta hai, here example is that inner lambda function's has taken the value of x from\n",
    "outside lambda  function."
   ]
  },
  {
   "cell_type": "markdown",
   "id": "60da9914",
   "metadata": {},
   "source": [
    "# Passing lambda function to Another Function "
   ]
  },
  {
   "cell_type": "markdown",
   "id": "64d2f3b6",
   "metadata": {},
   "source": [
    "We can pass lambda function to another function.  "
   ]
  },
  {
   "cell_type": "code",
   "execution_count": 9,
   "id": "70723593",
   "metadata": {},
   "outputs": [
    {
     "name": "stdout",
     "output_type": "stream",
     "text": [
      "8\n"
     ]
    }
   ],
   "source": [
    "def show(a):      # function calling ke baad yeh hojayega a = lambda x : x <<------\n",
    "    print(a(8))    #                                                              |\n",
    "                   #                                                              |\n",
    "show(lambda x : x) #-------------------------------->> function calling.----------\n",
    "\n",
    "\n",
    "# Pehle show function ko call kiya, ab show ek parameter leta hai (a), toh ab a hogya a = lambda x : x\n",
    "# phr humne print(a(8)) diya therefore, x becomes 8... i.e. (x= 8) "
   ]
  },
  {
   "cell_type": "markdown",
   "id": "342f255c",
   "metadata": {},
   "source": [
    "# Returning a Lambda Function "
   ]
  },
  {
   "cell_type": "markdown",
   "id": "ead9ee33",
   "metadata": {},
   "source": [
    "We can return a  lambda function from a function. "
   ]
  },
  {
   "cell_type": "raw",
   "id": "916fb9f8",
   "metadata": {},
   "source": [
    "def add():   -------------------<<--------------\n",
    "    y = 20                                     |\n",
    "    return (lambda x : x + y) <-------<<-------|------------\n",
    "                                               |           |\n",
    "a = add()     --------------------------->>-----           |\n",
    "print (a(10)) ------------------------->>-------------------"
   ]
  },
  {
   "cell_type": "code",
   "execution_count": 10,
   "id": "c439c478",
   "metadata": {},
   "outputs": [
    {
     "name": "stdout",
     "output_type": "stream",
     "text": [
      "30\n"
     ]
    }
   ],
   "source": [
    "def add():   \n",
    "    y = 20                                     \n",
    "    return (lambda x : x + y) \n",
    "\n",
    "a = add()     \n",
    "print (a(10)) "
   ]
  },
  {
   "cell_type": "markdown",
   "id": "5de03443",
   "metadata": {},
   "source": [
    "# Sorted"
   ]
  },
  {
   "cell_type": "code",
   "execution_count": 11,
   "id": "09540798",
   "metadata": {},
   "outputs": [],
   "source": [
    "# Sorting!\n",
    "\n",
    "lst = [12,6,9] "
   ]
  },
  {
   "cell_type": "code",
   "execution_count": 12,
   "id": "75eb9fe0",
   "metadata": {},
   "outputs": [
    {
     "data": {
      "text/plain": [
       "[6, 9, 12]"
      ]
     },
     "execution_count": 12,
     "metadata": {},
     "output_type": "execute_result"
    }
   ],
   "source": [
    "sorted(lst) "
   ]
  },
  {
   "cell_type": "code",
   "execution_count": 13,
   "id": "c3b5b3b6",
   "metadata": {},
   "outputs": [
    {
     "data": {
      "text/plain": [
       "[12, 9, 6]"
      ]
     },
     "execution_count": 13,
     "metadata": {},
     "output_type": "execute_result"
    }
   ],
   "source": [
    "sorted(lst, reverse= True) "
   ]
  },
  {
   "cell_type": "code",
   "execution_count": 14,
   "id": "a4ce99cf",
   "metadata": {},
   "outputs": [],
   "source": [
    "lst_of_tuples = [('a', '2'),('c', '1'),('d','3'),('a','3')]"
   ]
  },
  {
   "cell_type": "code",
   "execution_count": 15,
   "id": "67ad29cb",
   "metadata": {},
   "outputs": [],
   "source": [
    "funct = lambda x : x[1] "
   ]
  },
  {
   "cell_type": "code",
   "execution_count": 16,
   "id": "79593228",
   "metadata": {},
   "outputs": [
    {
     "data": {
      "text/plain": [
       "[('c', '1'), ('a', '2'), ('d', '3'), ('a', '3')]"
      ]
     },
     "execution_count": 16,
     "metadata": {},
     "output_type": "execute_result"
    }
   ],
   "source": [
    "sorted(lst_of_tuples, key= funct)  "
   ]
  },
  {
   "cell_type": "code",
   "execution_count": 17,
   "id": "d4ff996a",
   "metadata": {},
   "outputs": [],
   "source": [
    "# sort the list on the basis of 1st character but ignore the case(upper or lower).\n",
    "lst_of_tuples = [('A', '2'),('a', '1'),('D','3'),('b','3')] "
   ]
  },
  {
   "cell_type": "code",
   "execution_count": 18,
   "id": "8c710295",
   "metadata": {},
   "outputs": [],
   "source": [
    "funct = lambda x: str.casefold (x[0])  "
   ]
  },
  {
   "cell_type": "code",
   "execution_count": 19,
   "id": "0d925888",
   "metadata": {},
   "outputs": [
    {
     "data": {
      "text/plain": [
       "[('A', '2'), ('a', '1'), ('b', '3'), ('D', '3')]"
      ]
     },
     "execution_count": 19,
     "metadata": {},
     "output_type": "execute_result"
    }
   ],
   "source": [
    "sorted(lst_of_tuples, key= funct)  "
   ]
  },
  {
   "cell_type": "markdown",
   "id": "3d2f5f06",
   "metadata": {},
   "source": [
    "### Multiple attributes sorting"
   ]
  },
  {
   "cell_type": "code",
   "execution_count": 20,
   "id": "88a37a42",
   "metadata": {},
   "outputs": [],
   "source": [
    "lst_of_tuples = [('a', '4'),('c', '1'),('d','3'),('a','3')] "
   ]
  },
  {
   "cell_type": "code",
   "execution_count": 21,
   "id": "63c0f057",
   "metadata": {},
   "outputs": [],
   "source": [
    "funct = lambda x: x[0]"
   ]
  },
  {
   "cell_type": "code",
   "execution_count": 22,
   "id": "92329958",
   "metadata": {},
   "outputs": [
    {
     "data": {
      "text/plain": [
       "[('a', '4'), ('a', '3'), ('c', '1'), ('d', '3')]"
      ]
     },
     "execution_count": 22,
     "metadata": {},
     "output_type": "execute_result"
    }
   ],
   "source": [
    "sorted(lst_of_tuples, key= funct)  "
   ]
  },
  {
   "cell_type": "code",
   "execution_count": 23,
   "id": "51101cd3",
   "metadata": {},
   "outputs": [],
   "source": [
    "funct = lambda x: (x[0], x[1])  "
   ]
  },
  {
   "cell_type": "code",
   "execution_count": 24,
   "id": "7df05538",
   "metadata": {},
   "outputs": [
    {
     "data": {
      "text/plain": [
       "[('a', '3'), ('a', '4'), ('c', '1'), ('d', '3')]"
      ]
     },
     "execution_count": 24,
     "metadata": {},
     "output_type": "execute_result"
    }
   ],
   "source": [
    "sorted(lst_of_tuples, key= funct)  "
   ]
  },
  {
   "cell_type": "markdown",
   "id": "30825f12",
   "metadata": {},
   "source": [
    "### suppose we wan't to apply first elements in ascending & second one in descending"
   ]
  },
  {
   "cell_type": "markdown",
   "id": "d010841a",
   "metadata": {},
   "source": [
    "##### wrong example & code :-))"
   ]
  },
  {
   "cell_type": "code",
   "execution_count": 25,
   "id": "943eaa55",
   "metadata": {},
   "outputs": [],
   "source": [
    "lst_of_tuples = [[200, 2],[400, 10],[300,3],[500,4]]  "
   ]
  },
  {
   "cell_type": "code",
   "execution_count": 26,
   "id": "519d42f6",
   "metadata": {},
   "outputs": [
    {
     "name": "stdout",
     "output_type": "stream",
     "text": [
      "[[200, 2], [300, 3], [400, 10], [500, 4]]\n"
     ]
    }
   ],
   "source": [
    "print(sorted(lst_of_tuples, key= lambda x : (x[0], -x[1]))) "
   ]
  },
  {
   "cell_type": "markdown",
   "id": "106fe110",
   "metadata": {},
   "source": [
    "========================================================================="
   ]
  },
  {
   "cell_type": "code",
   "execution_count": 27,
   "id": "c40880a3",
   "metadata": {},
   "outputs": [],
   "source": [
    "data = [\n",
    "    ['company A', 400 , 6900],\n",
    "    ['company B', 500 , 3500],\n",
    "    ['company C', 500 , 5600],\n",
    "    ['company D', 200 , 9900],\n",
    "] "
   ]
  },
  {
   "cell_type": "code",
   "execution_count": 28,
   "id": "df7d5fb6",
   "metadata": {},
   "outputs": [
    {
     "name": "stdout",
     "output_type": "stream",
     "text": [
      "[['company D', 200, 9900], ['company A', 400, 6900], ['company C', 500, 5600], ['company B', 500, 3500]]\n"
     ]
    }
   ],
   "source": [
    "print(sorted(data, key= lambda x : (x[1], -x[2])))  "
   ]
  },
  {
   "cell_type": "markdown",
   "id": "a237dae9",
   "metadata": {},
   "source": [
    "it's never possible to get data like this ideally "
   ]
  },
  {
   "cell_type": "code",
   "execution_count": 29,
   "id": "08ac26c7",
   "metadata": {},
   "outputs": [],
   "source": [
    "func = lambda x: (x[1])\n",
    "func2 = lambda x: (x[2]) "
   ]
  },
  {
   "cell_type": "code",
   "execution_count": 30,
   "id": "78d0c0fc",
   "metadata": {},
   "outputs": [
    {
     "data": {
      "text/plain": [
       "[['company D', 200, 9900],\n",
       " ['company A', 400, 6900],\n",
       " ['company C', 500, 5600],\n",
       " ['company B', 500, 3500]]"
      ]
     },
     "execution_count": 30,
     "metadata": {},
     "output_type": "execute_result"
    }
   ],
   "source": [
    "sorted(sorted(data,key=func),key=func2,reverse=True) "
   ]
  },
  {
   "cell_type": "markdown",
   "id": "612b1551",
   "metadata": {},
   "source": [
    "--------------------------------------------------------------------------"
   ]
  },
  {
   "cell_type": "markdown",
   "id": "4ff02ddc",
   "metadata": {},
   "source": [
    "# some more basic example"
   ]
  },
  {
   "cell_type": "code",
   "execution_count": 31,
   "id": "8015e913",
   "metadata": {},
   "outputs": [
    {
     "name": "stdout",
     "output_type": "stream",
     "text": [
      "[[5, 6], [1, 14], [8, 23]]\n"
     ]
    }
   ],
   "source": [
    "a = [[1,14], [5,6], [8,23]]\n",
    "a.sort(key= lambda x : x[1])\n",
    "print(a) "
   ]
  },
  {
   "cell_type": "code",
   "execution_count": 32,
   "id": "bd46c607",
   "metadata": {},
   "outputs": [
    {
     "name": "stdout",
     "output_type": "stream",
     "text": [
      "[(5, 6), (1, 14), (8, 23)]\n"
     ]
    }
   ],
   "source": [
    "a = [(1,14), (5,6), (8,23)]\n",
    "a.sort(key= lambda x : x[1])\n",
    "print(a)  "
   ]
  },
  {
   "cell_type": "code",
   "execution_count": 33,
   "id": "b5138dca",
   "metadata": {},
   "outputs": [
    {
     "name": "stdout",
     "output_type": "stream",
     "text": [
      "[(5, 6), (1, 14), (8, 23)]\n"
     ]
    }
   ],
   "source": [
    "def x(val):\n",
    "    return val[1]\n",
    "\n",
    "a = [(1,14), (5,6), (8,23)]\n",
    "a.sort(key= x) \n",
    "print(a) "
   ]
  },
  {
   "cell_type": "markdown",
   "id": "4f03a6e3",
   "metadata": {},
   "source": [
    "# IIFE:- Immidiately Invoke Function Expressions "
   ]
  },
  {
   "cell_type": "markdown",
   "id": "10ad6886",
   "metadata": {},
   "source": [
    "No need to call the function, just write parameter after the lambda function."
   ]
  },
  {
   "cell_type": "code",
   "execution_count": 34,
   "id": "805d45c3",
   "metadata": {},
   "outputs": [
    {
     "name": "stdout",
     "output_type": "stream",
     "text": [
      "7\n"
     ]
    }
   ],
   "source": [
    "(lambda x,y: print(x + y))(5,2) "
   ]
  }
 ],
 "metadata": {
  "kernelspec": {
   "display_name": "Python 3",
   "language": "python",
   "name": "python3"
  },
  "language_info": {
   "codemirror_mode": {
    "name": "ipython",
    "version": 3
   },
   "file_extension": ".py",
   "mimetype": "text/x-python",
   "name": "python",
   "nbconvert_exporter": "python",
   "pygments_lexer": "ipython3",
   "version": "3.7.4"
  }
 },
 "nbformat": 4,
 "nbformat_minor": 5
}
