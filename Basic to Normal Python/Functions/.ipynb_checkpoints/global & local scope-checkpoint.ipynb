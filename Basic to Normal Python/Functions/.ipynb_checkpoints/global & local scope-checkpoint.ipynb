{
 "cells": [
  {
   "cell_type": "markdown",
   "id": "6d9c1e35",
   "metadata": {},
   "source": [
    "# Local & Global Variable (scope)"
   ]
  },
  {
   "cell_type": "markdown",
   "id": "4c39438c",
   "metadata": {},
   "source": [
    "global variable is a variable that can be accessed in the entire code, anywhere.<br>\n",
    "while local variable can be accesed only iinto a perticular function."
   ]
  },
  {
   "cell_type": "markdown",
   "id": "647ae1b7",
   "metadata": {},
   "source": [
    "### local "
   ]
  },
  {
   "cell_type": "code",
   "execution_count": 1,
   "id": "2acb3a53",
   "metadata": {},
   "outputs": [
    {
     "name": "stdout",
     "output_type": "stream",
     "text": [
      "10\n"
     ]
    },
    {
     "ename": "NameError",
     "evalue": "name 'x' is not defined",
     "output_type": "error",
     "traceback": [
      "\u001b[1;31m---------------------------------------------------------------------------\u001b[0m",
      "\u001b[1;31mNameError\u001b[0m                                 Traceback (most recent call last)",
      "\u001b[1;32m<ipython-input-1-c45e4064fb75>\u001b[0m in \u001b[0;36m<module>\u001b[1;34m\u001b[0m\n\u001b[0;32m      5\u001b[0m \u001b[0mshow\u001b[0m\u001b[1;33m(\u001b[0m\u001b[1;33m)\u001b[0m\u001b[1;33m\u001b[0m\u001b[1;33m\u001b[0m\u001b[0m\n\u001b[0;32m      6\u001b[0m \u001b[1;33m\u001b[0m\u001b[0m\n\u001b[1;32m----> 7\u001b[1;33m \u001b[0mprint\u001b[0m\u001b[1;33m(\u001b[0m\u001b[0mx\u001b[0m\u001b[1;33m)\u001b[0m  \u001b[1;31m# x is called outisde the function.\u001b[0m\u001b[1;33m\u001b[0m\u001b[1;33m\u001b[0m\u001b[0m\n\u001b[0m",
      "\u001b[1;31mNameError\u001b[0m: name 'x' is not defined"
     ]
    }
   ],
   "source": [
    "def show():\n",
    "    x = 10\n",
    "    print(x) \n",
    "    \n",
    "show()\n",
    "\n",
    "print(x)  # x is called outisde the function."
   ]
  },
  {
   "cell_type": "code",
   "execution_count": 2,
   "id": "dba34f6c",
   "metadata": {},
   "outputs": [
    {
     "name": "stdout",
     "output_type": "stream",
     "text": [
      "30\n"
     ]
    }
   ],
   "source": [
    "def add(y):\n",
    "    x = 10\n",
    "    print(x + y) \n",
    "    \n",
    "add(20)"
   ]
  },
  {
   "cell_type": "code",
   "execution_count": 3,
   "id": "fa91d55f",
   "metadata": {},
   "outputs": [
    {
     "name": "stdout",
     "output_type": "stream",
     "text": [
      "30\n"
     ]
    },
    {
     "ename": "NameError",
     "evalue": "name 'x' is not defined",
     "output_type": "error",
     "traceback": [
      "\u001b[1;31m---------------------------------------------------------------------------\u001b[0m",
      "\u001b[1;31mNameError\u001b[0m                                 Traceback (most recent call last)",
      "\u001b[1;32m<ipython-input-3-143283ade01b>\u001b[0m in \u001b[0;36m<module>\u001b[1;34m\u001b[0m\n\u001b[0;32m      4\u001b[0m \u001b[1;33m\u001b[0m\u001b[0m\n\u001b[0;32m      5\u001b[0m \u001b[0madd\u001b[0m\u001b[1;33m(\u001b[0m\u001b[1;36m20\u001b[0m\u001b[1;33m)\u001b[0m\u001b[1;33m\u001b[0m\u001b[1;33m\u001b[0m\u001b[0m\n\u001b[1;32m----> 6\u001b[1;33m \u001b[0mprint\u001b[0m\u001b[1;33m(\u001b[0m\u001b[0mx\u001b[0m\u001b[1;33m+\u001b[0m\u001b[0my\u001b[0m\u001b[1;33m)\u001b[0m  \u001b[1;31m# accessed from outside of the function.\u001b[0m\u001b[1;33m\u001b[0m\u001b[1;33m\u001b[0m\u001b[0m\n\u001b[0m",
      "\u001b[1;31mNameError\u001b[0m: name 'x' is not defined"
     ]
    }
   ],
   "source": [
    "def add(y):\n",
    "    x = 10\n",
    "    print(x + y) \n",
    "    \n",
    "add(20)\n",
    "print(x+y)  # accessed from outside of the function."
   ]
  },
  {
   "cell_type": "code",
   "execution_count": 4,
   "id": "37cc78b0",
   "metadata": {},
   "outputs": [
    {
     "name": "stdout",
     "output_type": "stream",
     "text": [
      "10\n",
      "50\n",
      "global variabli is: 50\n"
     ]
    }
   ],
   "source": [
    "# Global variable\n",
    "a = 50\n",
    "\n",
    "def show():\n",
    "    x = 10\n",
    "    print(x)\n",
    "    print(a)\n",
    "\n",
    "show() \n",
    "print(\"global variabli is:\", a) "
   ]
  },
  {
   "cell_type": "code",
   "execution_count": 5,
   "id": "a4f32e34",
   "metadata": {},
   "outputs": [
    {
     "name": "stdout",
     "output_type": "stream",
     "text": [
      "my func is: 1\n"
     ]
    }
   ],
   "source": [
    "i = 0\n",
    "\n",
    "def myfun():\n",
    "    a = i + 1\n",
    "    print(\"my func is:\", a)\n",
    "    \n",
    "myfun() "
   ]
  },
  {
   "cell_type": "code",
   "execution_count": 6,
   "id": "8dc18403",
   "metadata": {},
   "outputs": [
    {
     "ename": "UnboundLocalError",
     "evalue": "local variable 'i' referenced before assignment",
     "output_type": "error",
     "traceback": [
      "\u001b[1;31m---------------------------------------------------------------------------\u001b[0m",
      "\u001b[1;31mUnboundLocalError\u001b[0m                         Traceback (most recent call last)",
      "\u001b[1;32m<ipython-input-6-6c7d731841f6>\u001b[0m in \u001b[0;36m<module>\u001b[1;34m\u001b[0m\n\u001b[0;32m      5\u001b[0m     \u001b[0mprint\u001b[0m\u001b[1;33m(\u001b[0m\u001b[1;34m\"my func is:\"\u001b[0m\u001b[1;33m,\u001b[0m \u001b[0mi\u001b[0m\u001b[1;33m)\u001b[0m\u001b[1;33m\u001b[0m\u001b[1;33m\u001b[0m\u001b[0m\n\u001b[0;32m      6\u001b[0m \u001b[1;33m\u001b[0m\u001b[0m\n\u001b[1;32m----> 7\u001b[1;33m \u001b[0mmyfun\u001b[0m\u001b[1;33m(\u001b[0m\u001b[1;33m)\u001b[0m\u001b[1;33m\u001b[0m\u001b[1;33m\u001b[0m\u001b[0m\n\u001b[0m",
      "\u001b[1;32m<ipython-input-6-6c7d731841f6>\u001b[0m in \u001b[0;36mmyfun\u001b[1;34m()\u001b[0m\n\u001b[0;32m      2\u001b[0m \u001b[1;33m\u001b[0m\u001b[0m\n\u001b[0;32m      3\u001b[0m \u001b[1;32mdef\u001b[0m \u001b[0mmyfun\u001b[0m\u001b[1;33m(\u001b[0m\u001b[1;33m)\u001b[0m\u001b[1;33m:\u001b[0m\u001b[1;33m\u001b[0m\u001b[1;33m\u001b[0m\u001b[0m\n\u001b[1;32m----> 4\u001b[1;33m     \u001b[0mi\u001b[0m \u001b[1;33m=\u001b[0m \u001b[0mi\u001b[0m \u001b[1;33m+\u001b[0m \u001b[1;36m1\u001b[0m\u001b[1;33m\u001b[0m\u001b[1;33m\u001b[0m\u001b[0m\n\u001b[0m\u001b[0;32m      5\u001b[0m     \u001b[0mprint\u001b[0m\u001b[1;33m(\u001b[0m\u001b[1;34m\"my func is:\"\u001b[0m\u001b[1;33m,\u001b[0m \u001b[0mi\u001b[0m\u001b[1;33m)\u001b[0m\u001b[1;33m\u001b[0m\u001b[1;33m\u001b[0m\u001b[0m\n\u001b[0;32m      6\u001b[0m \u001b[1;33m\u001b[0m\u001b[0m\n",
      "\u001b[1;31mUnboundLocalError\u001b[0m: local variable 'i' referenced before assignment"
     ]
    }
   ],
   "source": [
    "i = 0\n",
    "\n",
    "def myfun():\n",
    "    i = i + 1\n",
    "    print(\"my func is:\", i) \n",
    "    \n",
    "myfun() "
   ]
  },
  {
   "cell_type": "code",
   "execution_count": 7,
   "id": "fb3e8bbf",
   "metadata": {},
   "outputs": [
    {
     "name": "stdout",
     "output_type": "stream",
     "text": [
      "my func is: 1\n"
     ]
    }
   ],
   "source": [
    "i = 0\n",
    "\n",
    "def myfun():\n",
    "    i = 0\n",
    "    i = i + 1\n",
    "    print(\"my func is:\", i) \n",
    "    \n",
    "myfun() "
   ]
  },
  {
   "cell_type": "markdown",
   "id": "59ca1ad7",
   "metadata": {},
   "source": [
    "# Global Keyword "
   ]
  },
  {
   "cell_type": "markdown",
   "id": "0e01016f",
   "metadata": {},
   "source": [
    "if local variable and global variable has same name then the function by default refers to the local variable and ignores the global variable.<br>\n",
    "it means global variable is not accessible inside the function but possible to access outside of the function.<br>\n",
    "In this situation, if we need to access global variable inside the function we can access it using global keyword followed by variable name.<br>"
   ]
  },
  {
   "cell_type": "code",
   "execution_count": 8,
   "id": "e3b3b336",
   "metadata": {},
   "outputs": [
    {
     "name": "stdout",
     "output_type": "stream",
     "text": [
      "A: 10\n",
      "A: 50\n"
     ]
    }
   ],
   "source": [
    "# Global Keyword:-\n",
    "\n",
    "a= 50\n",
    "\n",
    "def show():\n",
    "    a = 10\n",
    "    print(\"A:\", a)\n",
    "    \n",
    "show()\n",
    "print(\"A:\",a) "
   ]
  },
  {
   "cell_type": "code",
   "execution_count": 9,
   "id": "dabf8b6c",
   "metadata": {},
   "outputs": [
    {
     "ename": "UnboundLocalError",
     "evalue": "local variable 'i' referenced before assignment",
     "output_type": "error",
     "traceback": [
      "\u001b[1;31m---------------------------------------------------------------------------\u001b[0m",
      "\u001b[1;31mUnboundLocalError\u001b[0m                         Traceback (most recent call last)",
      "\u001b[1;32m<ipython-input-9-dc64aa4b4096>\u001b[0m in \u001b[0;36m<module>\u001b[1;34m\u001b[0m\n\u001b[0;32m      5\u001b[0m     \u001b[0mprint\u001b[0m\u001b[1;33m(\u001b[0m\u001b[1;34m\"my func is:\"\u001b[0m\u001b[1;33m,\u001b[0m \u001b[0mi\u001b[0m\u001b[1;33m)\u001b[0m\u001b[1;33m\u001b[0m\u001b[1;33m\u001b[0m\u001b[0m\n\u001b[0;32m      6\u001b[0m \u001b[1;33m\u001b[0m\u001b[0m\n\u001b[1;32m----> 7\u001b[1;33m \u001b[0mmyfun\u001b[0m\u001b[1;33m(\u001b[0m\u001b[1;33m)\u001b[0m\u001b[1;33m\u001b[0m\u001b[1;33m\u001b[0m\u001b[0m\n\u001b[0m",
      "\u001b[1;32m<ipython-input-9-dc64aa4b4096>\u001b[0m in \u001b[0;36mmyfun\u001b[1;34m()\u001b[0m\n\u001b[0;32m      2\u001b[0m \u001b[1;33m\u001b[0m\u001b[0m\n\u001b[0;32m      3\u001b[0m \u001b[1;32mdef\u001b[0m \u001b[0mmyfun\u001b[0m\u001b[1;33m(\u001b[0m\u001b[1;33m)\u001b[0m\u001b[1;33m:\u001b[0m\u001b[1;33m\u001b[0m\u001b[1;33m\u001b[0m\u001b[0m\n\u001b[1;32m----> 4\u001b[1;33m     \u001b[0mi\u001b[0m \u001b[1;33m=\u001b[0m \u001b[0mi\u001b[0m \u001b[1;33m+\u001b[0m \u001b[1;36m1\u001b[0m\u001b[1;33m\u001b[0m\u001b[1;33m\u001b[0m\u001b[0m\n\u001b[0m\u001b[0;32m      5\u001b[0m     \u001b[0mprint\u001b[0m\u001b[1;33m(\u001b[0m\u001b[1;34m\"my func is:\"\u001b[0m\u001b[1;33m,\u001b[0m \u001b[0mi\u001b[0m\u001b[1;33m)\u001b[0m\u001b[1;33m\u001b[0m\u001b[1;33m\u001b[0m\u001b[0m\n\u001b[0;32m      6\u001b[0m \u001b[1;33m\u001b[0m\u001b[0m\n",
      "\u001b[1;31mUnboundLocalError\u001b[0m: local variable 'i' referenced before assignment"
     ]
    }
   ],
   "source": [
    "i = 0\n",
    "\n",
    "def myfun():\n",
    "    i = i + 1\n",
    "    print(\"my func is:\", i)\n",
    "    \n",
    "myfun() "
   ]
  },
  {
   "cell_type": "code",
   "execution_count": 10,
   "id": "9ff3d9f7",
   "metadata": {},
   "outputs": [
    {
     "name": "stdout",
     "output_type": "stream",
     "text": [
      "my func is: 1\n",
      "1\n"
     ]
    }
   ],
   "source": [
    "i = 0\n",
    "\n",
    "def myfun():\n",
    "    global i\n",
    "    i = i + 1\n",
    "    print(\"my func is:\", i)\n",
    "    \n",
    "myfun()\n",
    "print (i)  "
   ]
  },
  {
   "cell_type": "markdown",
   "id": "5fb99770",
   "metadata": {},
   "source": [
    "Remember, whenever we use global keyword & if the value of global variable changes in a function's local scope, it do change for both local and global scope<br>\n",
    "\n",
    "matlab agar humne global keyword ko use kiya hai inside a function, aur agar hum global variable ki value ko change karte function mai, toh iske wajah se global variable ki value bhi change ho jaayegi.  "
   ]
  },
  {
   "cell_type": "code",
   "execution_count": 11,
   "id": "20a59e77",
   "metadata": {},
   "outputs": [
    {
     "name": "stdout",
     "output_type": "stream",
     "text": [
      "1\n",
      "2\n",
      "3\n",
      "4\n",
      "5\n",
      "new value of i is: 5\n"
     ]
    }
   ],
   "source": [
    "i = 0\n",
    "\n",
    "def myfun():\n",
    "    global i\n",
    "    while i < 5:\n",
    "        i += 1\n",
    "        print(i) \n",
    "        \n",
    "myfun() \n",
    "print(\"new value of i is:\",i)     "
   ]
  },
  {
   "cell_type": "markdown",
   "id": "f0de2eb7",
   "metadata": {},
   "source": [
    "# Global Function"
   ]
  },
  {
   "cell_type": "markdown",
   "id": "d1b7be13",
   "metadata": {},
   "source": [
    "This function returns a table of current global variables in the form of dictionary."
   ]
  },
  {
   "cell_type": "markdown",
   "id": "324b32c6",
   "metadata": {},
   "source": [
    "hum ise jab use karte hai, jab hume global varible ko local scope mai use bhi karna hai & uski value bhi change nhi hone dena hai."
   ]
  },
  {
   "cell_type": "code",
   "execution_count": 12,
   "id": "3522b0a5",
   "metadata": {
    "scrolled": true
   },
   "outputs": [
    {
     "name": "stdout",
     "output_type": "stream",
     "text": [
      "Local variable A: 10\n",
      "X: 50\n",
      "X: 40\n",
      "Global Variable is A: 50\n"
     ]
    }
   ],
   "source": [
    "a = 50\n",
    "\n",
    "def show():\n",
    "    a = 10\n",
    "    print(\"Local variable A:\", a)\n",
    "    x = globals()['a']\n",
    "    print(\"X:\", x)\n",
    "    x = 40\n",
    "    print(\"X:\", x)\n",
    "    \n",
    "show()\n",
    "print(\"Global Variable is A:\", a) "
   ]
  }
 ],
 "metadata": {
  "kernelspec": {
   "display_name": "Python 3",
   "language": "python",
   "name": "python3"
  },
  "language_info": {
   "codemirror_mode": {
    "name": "ipython",
    "version": 3
   },
   "file_extension": ".py",
   "mimetype": "text/x-python",
   "name": "python",
   "nbconvert_exporter": "python",
   "pygments_lexer": "ipython3",
   "version": "3.7.4"
  }
 },
 "nbformat": 4,
 "nbformat_minor": 5
}
