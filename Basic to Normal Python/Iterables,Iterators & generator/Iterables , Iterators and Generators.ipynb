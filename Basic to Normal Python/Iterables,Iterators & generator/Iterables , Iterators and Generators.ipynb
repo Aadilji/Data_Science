{
 "cells": [
  {
   "cell_type": "markdown",
   "id": "b1c62d12",
   "metadata": {},
   "source": [
    "# Iterables and Iterators "
   ]
  },
  {
   "cell_type": "code",
   "execution_count": 1,
   "id": "154c93ec",
   "metadata": {},
   "outputs": [
    {
     "name": "stdout",
     "output_type": "stream",
     "text": [
      "1\n",
      "2\n",
      "3\n",
      "4\n",
      "5\n",
      "6\n",
      "7\n",
      "8\n",
      "9\n"
     ]
    }
   ],
   "source": [
    "# list is iterables \n",
    "\n",
    "lst = [1,2,3,4,5,6,7,8,9]\n",
    "for i in lst:\n",
    "    print(i) \n",
    "    \n",
    "    # whenever we save a list as iterables all its value are saved in memory and get initiallised,\n",
    "    # as soon as we iterate it all values get printed."
   ]
  },
  {
   "cell_type": "markdown",
   "id": "625ea0b4",
   "metadata": {},
   "source": [
    "# Converting iterables into iterator."
   ]
  },
  {
   "cell_type": "markdown",
   "id": "aa18c37b",
   "metadata": {},
   "source": [
    "iter() is an inbuilt function actually convert a list into an iterator."
   ]
  },
  {
   "cell_type": "code",
   "execution_count": 2,
   "id": "3b9c837f",
   "metadata": {},
   "outputs": [
    {
     "data": {
      "text/plain": [
       "<list_iterator at 0x54ec288>"
      ]
     },
     "execution_count": 2,
     "metadata": {},
     "output_type": "execute_result"
    }
   ],
   "source": [
    "iter(lst) \n",
    "\n",
    "        # whenever we save a list as iterator all its value are saved in memory\n",
    "        # and only 1 value gets initiallised,\n",
    "        # as soon as we iterate it through next() only 1 values get printed"
   ]
  },
  {
   "cell_type": "code",
   "execution_count": 3,
   "id": "8ab84395",
   "metadata": {},
   "outputs": [
    {
     "data": {
      "text/plain": [
       "<list_iterator at 0x54ae7c8>"
      ]
     },
     "execution_count": 3,
     "metadata": {},
     "output_type": "execute_result"
    }
   ],
   "source": [
    "lst.__iter__()   ## same as iter(lst)"
   ]
  },
  {
   "cell_type": "code",
   "execution_count": 4,
   "id": "d0da4b4d",
   "metadata": {},
   "outputs": [],
   "source": [
    "lst1 = iter(lst) "
   ]
  },
  {
   "cell_type": "code",
   "execution_count": 5,
   "id": "7cd62418",
   "metadata": {},
   "outputs": [
    {
     "data": {
      "text/plain": [
       "<list_iterator at 0x54cfa08>"
      ]
     },
     "execution_count": 5,
     "metadata": {},
     "output_type": "execute_result"
    }
   ],
   "source": [
    "lst1 "
   ]
  },
  {
   "cell_type": "code",
   "execution_count": 6,
   "id": "08d84cd1",
   "metadata": {},
   "outputs": [
    {
     "data": {
      "text/plain": [
       "1"
      ]
     },
     "execution_count": 6,
     "metadata": {},
     "output_type": "execute_result"
    }
   ],
   "source": [
    "next(lst1) "
   ]
  },
  {
   "cell_type": "code",
   "execution_count": 7,
   "id": "97e9d4ce",
   "metadata": {},
   "outputs": [
    {
     "data": {
      "text/plain": [
       "2"
      ]
     },
     "execution_count": 7,
     "metadata": {},
     "output_type": "execute_result"
    }
   ],
   "source": [
    "next(lst1) "
   ]
  },
  {
   "cell_type": "code",
   "execution_count": 8,
   "id": "46e8177e",
   "metadata": {},
   "outputs": [
    {
     "data": {
      "text/plain": [
       "3"
      ]
     },
     "execution_count": 8,
     "metadata": {},
     "output_type": "execute_result"
    }
   ],
   "source": [
    "next(lst1) "
   ]
  },
  {
   "cell_type": "code",
   "execution_count": 9,
   "id": "9fe86267",
   "metadata": {},
   "outputs": [],
   "source": [
    "lst1 = iter(lst) "
   ]
  },
  {
   "cell_type": "code",
   "execution_count": 10,
   "id": "4c6cb2f3",
   "metadata": {},
   "outputs": [
    {
     "name": "stdout",
     "output_type": "stream",
     "text": [
      "1\n",
      "2\n",
      "3\n",
      "4\n",
      "5\n",
      "6\n",
      "7\n",
      "8\n",
      "9\n"
     ]
    }
   ],
   "source": [
    "for i in lst1:\n",
    "    print(i)  "
   ]
  },
  {
   "cell_type": "markdown",
   "id": "4b4d6242",
   "metadata": {},
   "source": [
    "why we use iterator inplace of iterables?<br>\n",
    "Because when we deals with millions of data and use iterables our memory will get consume unneccesory<br>\n",
    "so we use iterator in place of iterables"
   ]
  },
  {
   "cell_type": "markdown",
   "id": "645d353e",
   "metadata": {},
   "source": [
    "# Generator"
   ]
  },
  {
   "cell_type": "code",
   "execution_count": 11,
   "id": "10d52893",
   "metadata": {},
   "outputs": [],
   "source": [
    "def square(n):\n",
    "    for i in range(n):\n",
    "        return i**2 "
   ]
  },
  {
   "cell_type": "code",
   "execution_count": 12,
   "id": "915ddf7c",
   "metadata": {},
   "outputs": [
    {
     "data": {
      "text/plain": [
       "0"
      ]
     },
     "execution_count": 12,
     "metadata": {},
     "output_type": "execute_result"
    }
   ],
   "source": [
    "square(3) "
   ]
  },
  {
   "cell_type": "code",
   "execution_count": 13,
   "id": "1a0644b9",
   "metadata": {},
   "outputs": [],
   "source": [
    "## In Generator we use yeild in place of return.\n",
    "def square(n):\n",
    "    for i in range(n):\n",
    "        yield i**2  "
   ]
  },
  {
   "cell_type": "code",
   "execution_count": 14,
   "id": "52c609db",
   "metadata": {},
   "outputs": [
    {
     "data": {
      "text/plain": [
       "<generator object square at 0x000000000551F4C8>"
      ]
     },
     "execution_count": 14,
     "metadata": {},
     "output_type": "execute_result"
    }
   ],
   "source": [
    "square(3) "
   ]
  },
  {
   "cell_type": "code",
   "execution_count": 15,
   "id": "75f8a19f",
   "metadata": {},
   "outputs": [
    {
     "name": "stdout",
     "output_type": "stream",
     "text": [
      "0\n",
      "1\n",
      "4\n"
     ]
    }
   ],
   "source": [
    "for i in square(3):\n",
    "    print(i) "
   ]
  },
  {
   "cell_type": "code",
   "execution_count": 16,
   "id": "51d9622a",
   "metadata": {},
   "outputs": [
    {
     "name": "stdout",
     "output_type": "stream",
     "text": [
      "0\n",
      "1\n"
     ]
    }
   ],
   "source": [
    "for i in square(2): \n",
    "    print(i)"
   ]
  },
  {
   "cell_type": "code",
   "execution_count": 17,
   "id": "3e722d0b",
   "metadata": {},
   "outputs": [],
   "source": [
    "a = square(3)"
   ]
  },
  {
   "cell_type": "code",
   "execution_count": 18,
   "id": "878760fa",
   "metadata": {},
   "outputs": [
    {
     "data": {
      "text/plain": [
       "0"
      ]
     },
     "execution_count": 18,
     "metadata": {},
     "output_type": "execute_result"
    }
   ],
   "source": [
    "next(a) "
   ]
  },
  {
   "cell_type": "code",
   "execution_count": 19,
   "id": "f6a1fa64",
   "metadata": {},
   "outputs": [
    {
     "data": {
      "text/plain": [
       "1"
      ]
     },
     "execution_count": 19,
     "metadata": {},
     "output_type": "execute_result"
    }
   ],
   "source": [
    "next(a) "
   ]
  },
  {
   "cell_type": "code",
   "execution_count": 20,
   "id": "7e7786f2",
   "metadata": {},
   "outputs": [
    {
     "name": "stdout",
     "output_type": "stream",
     "text": [
      "4\n"
     ]
    }
   ],
   "source": [
    "print(a.__next__())    # same as next(a)"
   ]
  },
  {
   "cell_type": "markdown",
   "id": "b9b338d6",
   "metadata": {},
   "source": [
    "## toh pata yeh chala ki :-\n",
    "1.generator are similar to iterator, infact it used to create complex iterator,<br>\n",
    "2. to create iterator we use iter() and for generator we use function along with yeild keyword.\n",
    "3. generator uses yeild keyword, means yeild keyword saves and can return the local variable.,<br>\n",
    "     so we can use for loops with generator.<br>\n",
    "4. generator in  python is faster than iterator \n",
    "5. iterator is more memory efficient. "
   ]
  },
  {
   "cell_type": "code",
   "execution_count": 21,
   "id": "50989510",
   "metadata": {},
   "outputs": [
    {
     "name": "stdout",
     "output_type": "stream",
     "text": [
      "h\n",
      "a\n",
      "r\n",
      "r\n",
      "y\n"
     ]
    },
    {
     "ename": "StopIteration",
     "evalue": "",
     "output_type": "error",
     "traceback": [
      "\u001b[1;31m---------------------------------------------------------------------------\u001b[0m",
      "\u001b[1;31mStopIteration\u001b[0m                             Traceback (most recent call last)",
      "\u001b[1;32m<ipython-input-21-91d7fc130ab2>\u001b[0m in \u001b[0;36m<module>\u001b[1;34m\u001b[0m\n\u001b[0;32m      7\u001b[0m \u001b[0mprint\u001b[0m\u001b[1;33m(\u001b[0m\u001b[0miterator1\u001b[0m\u001b[1;33m.\u001b[0m\u001b[0m__next__\u001b[0m\u001b[1;33m(\u001b[0m\u001b[1;33m)\u001b[0m\u001b[1;33m)\u001b[0m\u001b[1;33m\u001b[0m\u001b[1;33m\u001b[0m\u001b[0m\n\u001b[0;32m      8\u001b[0m \u001b[0mprint\u001b[0m\u001b[1;33m(\u001b[0m\u001b[0miterator1\u001b[0m\u001b[1;33m.\u001b[0m\u001b[0m__next__\u001b[0m\u001b[1;33m(\u001b[0m\u001b[1;33m)\u001b[0m\u001b[1;33m)\u001b[0m\u001b[1;33m\u001b[0m\u001b[1;33m\u001b[0m\u001b[0m\n\u001b[1;32m----> 9\u001b[1;33m \u001b[0mprint\u001b[0m\u001b[1;33m(\u001b[0m\u001b[0miterator1\u001b[0m\u001b[1;33m.\u001b[0m\u001b[0m__next__\u001b[0m\u001b[1;33m(\u001b[0m\u001b[1;33m)\u001b[0m\u001b[1;33m)\u001b[0m\u001b[1;33m\u001b[0m\u001b[1;33m\u001b[0m\u001b[0m\n\u001b[0m",
      "\u001b[1;31mStopIteration\u001b[0m: "
     ]
    }
   ],
   "source": [
    "## example\n",
    "name = \"harry\"\n",
    "iterator1 = name.__iter__()\n",
    "print(iterator1.__next__())\n",
    "print(iterator1.__next__())\n",
    "print(iterator1.__next__())\n",
    "print(iterator1.__next__())\n",
    "print(iterator1.__next__()) \n",
    "print(iterator1.__next__()) "
   ]
  },
  {
   "cell_type": "code",
   "execution_count": 22,
   "id": "7974971e",
   "metadata": {},
   "outputs": [
    {
     "name": "stdout",
     "output_type": "stream",
     "text": [
      "h\n",
      "a\n",
      "r\n",
      "r\n",
      "y\n",
      "Value exceeded\n"
     ]
    }
   ],
   "source": [
    "try:\n",
    "    name = \"harry\"\n",
    "    iterator1 = name.__iter__()\n",
    "    print(iterator1.__next__())\n",
    "    print(iterator1.__next__())\n",
    "    print(iterator1.__next__())\n",
    "    print(iterator1.__next__())\n",
    "    print(iterator1.__next__()) \n",
    "    print(iterator1.__next__())\n",
    "except StopIteration:\n",
    "    print(\"Value exceeded\")   "
   ]
  }
 ],
 "metadata": {
  "kernelspec": {
   "display_name": "Python 3",
   "language": "python",
   "name": "python3"
  },
  "language_info": {
   "codemirror_mode": {
    "name": "ipython",
    "version": 3
   },
   "file_extension": ".py",
   "mimetype": "text/x-python",
   "name": "python",
   "nbconvert_exporter": "python",
   "pygments_lexer": "ipython3",
   "version": "3.7.4"
  }
 },
 "nbformat": 4,
 "nbformat_minor": 5
}
