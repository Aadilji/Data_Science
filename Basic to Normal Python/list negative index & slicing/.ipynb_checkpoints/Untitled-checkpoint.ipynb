{
 "cells": [
  {
   "cell_type": "markdown",
   "id": "ca6cdb7f",
   "metadata": {},
   "source": [
    "# Slicing"
   ]
  },
  {
   "cell_type": "code",
   "execution_count": 1,
   "id": "08c8c45c",
   "metadata": {},
   "outputs": [
    {
     "name": "stdout",
     "output_type": "stream",
     "text": [
      "[22, 34, 55, 6]\n"
     ]
    }
   ],
   "source": [
    "lst = [1,22,34,55,6,8,97,3]\n",
    "print(lst[1:5])\n",
    "\n",
    "# no. of elements -> 5-1=4"
   ]
  },
  {
   "cell_type": "markdown",
   "id": "ce905ed2",
   "metadata": {},
   "source": [
    "# Negative slicing "
   ]
  },
  {
   "cell_type": "code",
   "execution_count": 2,
   "id": "1bace301",
   "metadata": {},
   "outputs": [
    {
     "name": "stdout",
     "output_type": "stream",
     "text": [
      "[]\n"
     ]
    }
   ],
   "source": [
    "lst = [1,22,34,55,6,8,97,3]\n",
    "print(lst[-2:5]) "
   ]
  },
  {
   "cell_type": "code",
   "execution_count": 3,
   "id": "621772c8",
   "metadata": {},
   "outputs": [
    {
     "name": "stdout",
     "output_type": "stream",
     "text": [
      "[]\n"
     ]
    }
   ],
   "source": [
    "lst = [1,22,34,55,6,8,97,3]\n",
    "print(lst[-2:5])"
   ]
  },
  {
   "cell_type": "code",
   "execution_count": 4,
   "id": "fd045a4c",
   "metadata": {},
   "outputs": [
    {
     "name": "stdout",
     "output_type": "stream",
     "text": [
      "[97, 3]\n"
     ]
    }
   ],
   "source": [
    "lst = [1,22,34,55,6,8,97,3]\n",
    "print(lst[-2:])"
   ]
  },
  {
   "cell_type": "code",
   "execution_count": 5,
   "id": "5358156c",
   "metadata": {},
   "outputs": [
    {
     "name": "stdout",
     "output_type": "stream",
     "text": [
      "[55, 6, 8]\n"
     ]
    }
   ],
   "source": [
    "lst = [1,22,34,55,6,8,97,3]\n",
    "print(lst[-5:-2])  "
   ]
  },
  {
   "cell_type": "code",
   "execution_count": 6,
   "id": "278f712d",
   "metadata": {},
   "outputs": [
    {
     "name": "stdout",
     "output_type": "stream",
     "text": [
      "[1, 22, 34, 55, 6, 8]\n",
      "[1, 22, 34, 55, 6, 8]\n"
     ]
    }
   ],
   "source": [
    "lst = [1,22,34,55,6,8,97,3]\n",
    "print(lst[:-2])\n",
    "print(lst[0:6])   "
   ]
  },
  {
   "cell_type": "code",
   "execution_count": 7,
   "id": "89cfa154",
   "metadata": {},
   "outputs": [
    {
     "name": "stdout",
     "output_type": "stream",
     "text": [
      "[1, 34, 6, 97]\n"
     ]
    }
   ],
   "source": [
    "lst = [1,22,34,55,6,8,97,3]\n",
    "print(lst[::2]) "
   ]
  },
  {
   "cell_type": "code",
   "execution_count": 8,
   "id": "a2af97e6",
   "metadata": {},
   "outputs": [
    {
     "name": "stdout",
     "output_type": "stream",
     "text": [
      "[3, 8, 55, 22]\n"
     ]
    }
   ],
   "source": [
    "lst = [1,22,34,55,6,8,97,3]\n",
    "print(lst[::-2]) "
   ]
  },
  {
   "cell_type": "code",
   "execution_count": 9,
   "id": "c6fe1e08",
   "metadata": {},
   "outputs": [
    {
     "name": "stdout",
     "output_type": "stream",
     "text": [
      "[3, 97, 8, 6, 55, 34, 22, 1]\n"
     ]
    }
   ],
   "source": [
    "lst = [1,22,34,55,6,8,97,3]\n",
    "print(lst[::-1])            # List Reversing Advance Technique"
   ]
  },
  {
   "cell_type": "code",
   "execution_count": 10,
   "id": "c24880bb",
   "metadata": {},
   "outputs": [
    {
     "name": "stdout",
     "output_type": "stream",
     "text": [
      "[1, 22, 34, 55, 6, 8, 97]\n"
     ]
    }
   ],
   "source": [
    "lst = [1,22,34,55,6,8,97,3]\n",
    "print(lst[:-1])             # remember that slicing printing starts with right to left.            "
   ]
  },
  {
   "cell_type": "code",
   "execution_count": 13,
   "id": "6f0fd324",
   "metadata": {},
   "outputs": [
    {
     "name": "stdout",
     "output_type": "stream",
     "text": [
      "[3, 6, 22]\n"
     ]
    }
   ],
   "source": [
    "lst = [1,22,34,55,6,8,97,3]\n",
    "print(lst[::-3])   "
   ]
  },
  {
   "cell_type": "code",
   "execution_count": 14,
   "id": "f8e8d7c3",
   "metadata": {},
   "outputs": [],
   "source": [
    "# Adding Element to list using negative index:- \n",
    "\n",
    "lst = [1,25,34,55,6,8,97,3]\n",
    "lst.insert(-5,10)                 # -5 ki position pr 10 ko insert kr do."
   ]
  },
  {
   "cell_type": "code",
   "execution_count": 15,
   "id": "fd10c95a",
   "metadata": {},
   "outputs": [
    {
     "name": "stdout",
     "output_type": "stream",
     "text": [
      "[1, 25, 34, 10, 55, 6, 8, 97, 3]\n"
     ]
    }
   ],
   "source": [
    "print(lst) "
   ]
  },
  {
   "cell_type": "code",
   "execution_count": 16,
   "id": "422f0964",
   "metadata": {},
   "outputs": [],
   "source": [
    "# deleting any index from a list:-\n",
    "lst = [1,25,34,55,6,8,97,3]\n",
    "del lst[-2] "
   ]
  },
  {
   "cell_type": "code",
   "execution_count": 17,
   "id": "6ba771c8",
   "metadata": {},
   "outputs": [
    {
     "data": {
      "text/plain": [
       "[1, 25, 34, 55, 6, 8, 3]"
      ]
     },
     "execution_count": 17,
     "metadata": {},
     "output_type": "execute_result"
    }
   ],
   "source": [
    "lst "
   ]
  },
  {
   "cell_type": "code",
   "execution_count": null,
   "id": "d6b9d405",
   "metadata": {},
   "outputs": [],
   "source": []
  }
 ],
 "metadata": {
  "kernelspec": {
   "display_name": "Python 3",
   "language": "python",
   "name": "python3"
  },
  "language_info": {
   "codemirror_mode": {
    "name": "ipython",
    "version": 3
   },
   "file_extension": ".py",
   "mimetype": "text/x-python",
   "name": "python",
   "nbconvert_exporter": "python",
   "pygments_lexer": "ipython3",
   "version": "3.7.4"
  }
 },
 "nbformat": 4,
 "nbformat_minor": 5
}
