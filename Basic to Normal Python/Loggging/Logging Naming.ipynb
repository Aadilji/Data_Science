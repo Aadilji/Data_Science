{
 "cells": [
  {
   "cell_type": "markdown",
   "id": "a2c09db0",
   "metadata": {},
   "source": [
    "# Logging "
   ]
  },
  {
   "cell_type": "markdown",
   "id": "aa735061",
   "metadata": {},
   "source": [
    "Logging is useful to track the error or exception or information. It also helps in debugging."
   ]
  },
  {
   "cell_type": "markdown",
   "id": "b9505d1a",
   "metadata": {},
   "source": [
    "## Levels of Errors."
   ]
  },
  {
   "cell_type": "markdown",
   "id": "b3cb67a8",
   "metadata": {},
   "source": [
    "Python mai kuch Levels hote hai, jo normal levels hote hai woh print nhi hote hai console mai.<br>\n",
    "Kuch Critical levels Print hote hai console mai."
   ]
  },
  {
   "cell_type": "markdown",
   "id": "54de5455",
   "metadata": {},
   "source": [
    "### Examples of Levels. "
   ]
  },
  {
   "cell_type": "code",
   "execution_count": 1,
   "id": "f02cfef3",
   "metadata": {},
   "outputs": [
    {
     "name": "stderr",
     "output_type": "stream",
     "text": [
      "WARNING:root:This is a Warning\n",
      "ERROR:root:This is a Error\n",
      "CRITICAL:root:This is Critical\n"
     ]
    }
   ],
   "source": [
    "import logging \n",
    "\n",
    "## Normal Levels of Errors. (Low Level)\n",
    "logging.debug(\"this is a debug\")\n",
    "logging.info('This is Info')\n",
    "\n",
    "# Some Critical Levels of Erros.:----> It gets Printed. (High Level)\n",
    "logging.warning('This is a Warning')\n",
    "logging.error('This is a Error')\n",
    "logging.critical('This is Critical') "
   ]
  },
  {
   "cell_type": "markdown",
   "id": "d8f73db5",
   "metadata": {},
   "source": [
    "Ab hamara maksad yeh nhi hai ki high level errors ko console mai print kare, balki hamara maksad yeh hai ki,\n",
    "hum yeh error ko catch kare ek log file mai,\n",
    "taaki hum baad mai check kr sake ki exception, errors ,warning etc. kya aayi thi and usko debug kar sake. "
   ]
  },
  {
   "cell_type": "markdown",
   "id": "0a83c4c3",
   "metadata": {},
   "source": [
    "### How to Create a Log File And Catch the Logs."
   ]
  },
  {
   "cell_type": "code",
   "execution_count": null,
   "id": "9a7ede89",
   "metadata": {},
   "outputs": [],
   "source": []
  }
 ],
 "metadata": {
  "kernelspec": {
   "display_name": "Python 3",
   "language": "python",
   "name": "python3"
  },
  "language_info": {
   "codemirror_mode": {
    "name": "ipython",
    "version": 3
   },
   "file_extension": ".py",
   "mimetype": "text/x-python",
   "name": "python",
   "nbconvert_exporter": "python",
   "pygments_lexer": "ipython3",
   "version": "3.7.4"
  }
 },
 "nbformat": 4,
 "nbformat_minor": 5
}
