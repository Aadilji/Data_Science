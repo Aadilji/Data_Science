{
 "cells": [
  {
   "cell_type": "markdown",
   "id": "e30cc891",
   "metadata": {},
   "source": [
    "## Bose Of Logging\n",
    "for handler in logging.root.handlers[:]:<br>\n",
    "----logging.root.removeHandler(handler)"
   ]
  },
  {
   "cell_type": "code",
   "execution_count": 1,
   "id": "a9b7d666",
   "metadata": {},
   "outputs": [
    {
     "name": "stderr",
     "output_type": "stream",
     "text": [
      "WARNING:root:This is a Warning\n",
      "ERROR:root:This is a Error\n",
      "CRITICAL:root:This is Critical\n"
     ]
    }
   ],
   "source": [
    " import logging \n",
    "\n",
    "## Normal Levels of Errors. (Low Level)\n",
    "logging.debug(\"this is a debug\")\n",
    "logging.info('This is Info')\n",
    "\n",
    "# Some Critical Levels of Erros.:----> It gets Printed. (High Level)\n",
    "logging.warning('This is a Warning')\n",
    "logging.error('This is a Error')\n",
    "logging.critical('This is Critical') "
   ]
  },
  {
   "cell_type": "code",
   "execution_count": 2,
   "id": "2bfbbdb2",
   "metadata": {},
   "outputs": [],
   "source": [
    "for handler in logging.root.handlers[:]:\n",
    "    logging.root.removeHandler(handler)\n",
    "logging.basicConfig(filename = 'logfile1.log')     \n",
    "logging.debug(\"this is a debug\")\n",
    "logging.info('This is Info')\n",
    "logging.warning('This is a Warning')\n",
    "logging.error('This is a Error')\n",
    "logging.critical('This is Critical') "
   ]
  },
  {
   "cell_type": "code",
   "execution_count": 3,
   "id": "700794c4",
   "metadata": {},
   "outputs": [],
   "source": [
    "# yeh files hamesha append mode mai open hota hai,isiliye baar baar open karenge toh logs repeat hoge\n",
    "for handler in logging.root.handlers[:]:\n",
    "    logging.root.removeHandler(handler)\n",
    "logging.basicConfig(filename='logfile2.log', level=logging.DEBUG)\n",
    "logging.debug('This message should go to the log file')\n",
    "logging.info('So should this')\n",
    "logging.warning('And this, too')\n",
    "logging.error('And non-ASCII stuff, too, like Øresund and Malmö') "
   ]
  },
  {
   "cell_type": "code",
   "execution_count": 4,
   "id": "44585f89",
   "metadata": {},
   "outputs": [],
   "source": [
    "# using a path for saving log file, always remember to make '\\' into double '\\\\'\n",
    "\n",
    "## force = true\n",
    "for handler in logging.root.handlers[:]:\n",
    "    logging.root.removeHandler(handler)\n",
    "logging.basicConfig(filename='C:\\\\Users\\\\TODAYS\\\\Desktop\\\\No-Ad Python Notes\\\\Loggging\\\\log files\\\\logfile3.log',\n",
    "                    level=logging.DEBUG) \n",
    "logging.debug('This message should go to the log file') \n",
    "logging.info('So should this')\n",
    "logging.warning('And this, too')\n",
    "logging.error('And non-ASCII stuff, too, like Øresund and Malmö') "
   ]
  },
  {
   "cell_type": "code",
   "execution_count": 5,
   "id": "eeafb2d1",
   "metadata": {},
   "outputs": [],
   "source": [
    "# file handle by write mode.:- data repeat nhi hoga baar baar run krne pr.\n",
    "for handler in logging.root.handlers[:]:\n",
    "    logging.root.removeHandler(handler)\n",
    "logging.basicConfig(filename='logfile4.log', filemode='w', level=logging.DEBUG)\n",
    "\n",
    "logging.debug(\"this is a debug\")\n",
    "logging.info('This is Info')\n",
    "logging.warning('This is a Warning')\n",
    "logging.error('This is a Error')\n",
    "logging.critical('This is Critical')"
   ]
  },
  {
   "cell_type": "code",
   "execution_count": 6,
   "id": "e0b0baf3",
   "metadata": {},
   "outputs": [],
   "source": [
    "for handler in logging.root.handlers[:]:\n",
    "    logging.root.removeHandler(handler)\n",
    "logging.basicConfig(filename = 'logfile5.log',level = logging.DEBUG)         \n",
    "logging.debug('This message should go to the log file') \n",
    "logging.info('So should this')\n",
    "logging.warning('And this, too')\n",
    "logging.error('And non-ASCII stuff, too, like Øresund and Malmö') "
   ]
  },
  {
   "cell_type": "markdown",
   "id": "7fa1bdeb",
   "metadata": {},
   "source": [
    "## Formatting Logging "
   ]
  },
  {
   "cell_type": "markdown",
   "id": "15f4d124",
   "metadata": {},
   "source": [
    "# format style = %\n",
    "  s = string<br>\n",
    "  asctime = date and time "
   ]
  },
  {
   "cell_type": "code",
   "execution_count": 7,
   "id": "e1f161e3",
   "metadata": {},
   "outputs": [],
   "source": [
    "for handler in logging.root.handlers[:]:\n",
    "    logging.root.removeHandler(handler)\n",
    "import logging\n",
    "logging.basicConfig(format='%(asctime)s %(message)s',filename=\"Aadil_formattest.log\")\n",
    "logging.warning('is when this event was logged.') "
   ]
  },
  {
   "cell_type": "code",
   "execution_count": 8,
   "id": "d6d21e50",
   "metadata": {},
   "outputs": [],
   "source": [
    "for handler in logging.root.handlers[:]:\n",
    "    logging.root.removeHandler(handler)\n",
    "import logging\n",
    "logging.basicConfig(format='%(levelname)s:%(message)s',filename=\"Aadil.log\",level=logging.DEBUG)\n",
    "logging.debug('This message should appear on the console')\n",
    "logging.info('So should this')\n",
    "logging.warning('And this, too') "
   ]
  },
  {
   "cell_type": "code",
   "execution_count": 9,
   "id": "daeb31f4",
   "metadata": {},
   "outputs": [],
   "source": [
    "for handler in logging.root.handlers[:]:\n",
    "    logging.root.removeHandler(handler)\n",
    "LOG_FORMAT = '%(asctime)s %(message)s'\n",
    "import logging\n",
    "logging.basicConfig(format= LOG_FORMAT,filename=\"Aadil_formattest11.log\",level=logging.DEBUG)\n",
    "logging.debug('This message should appear on the console')\n",
    "logging.info('So should this')\n",
    "logging.warning('And this, too')"
   ]
  },
  {
   "cell_type": "markdown",
   "id": "aa123b8d",
   "metadata": {},
   "source": [
    "### style = {"
   ]
  },
  {
   "cell_type": "code",
   "execution_count": 10,
   "id": "463dca03",
   "metadata": {},
   "outputs": [],
   "source": [
    "for handler in logging.root.handlers[:]:\n",
    "    logging.root.removeHandler(handler)\n",
    "LOG_FORMAT = '%(asctime)s // %(message)s // %(lineno)d'\n",
    "import logging\n",
    "logging.basicConfig(format= LOG_FORMAT,filename=\"Aadil_formattest22.log\",level=logging.DEBUG)\n",
    "logging.debug('This message should appear on the console')\n",
    "logging.info('So should this')\n",
    "logging.warning('And this, too')"
   ]
  },
  {
   "cell_type": "code",
   "execution_count": 11,
   "id": "c3aa6727",
   "metadata": {},
   "outputs": [],
   "source": [
    "for handler in logging.root.handlers[:]:\n",
    "    logging.root.removeHandler(handler)\n",
    "LOG_FORMAT = '{asctime} ** {message} ** {lineno}'\n",
    "import logging\n",
    "logging.basicConfig(format= LOG_FORMAT,filename=\"Aadil_formattest33.log\",level=logging.DEBUG,\n",
    "                    style='{')\n",
    "logging.debug('This message should appear on the console')\n",
    "logging.info('So should this')\n",
    "logging.warning('And this, too') "
   ]
  },
  {
   "cell_type": "code",
   "execution_count": 12,
   "id": "feafd478",
   "metadata": {},
   "outputs": [],
   "source": [
    "for handler in logging.root.handlers[:]:\n",
    "    logging.root.removeHandler(handler)\n",
    "import logging\n",
    "logging.basicConfig(format='%(asctime)s %(message)s', datefmt='%m/%d/%Y %I:%M:%S %p',filename=\"Aadil_formattest44.log\")\n",
    "logging.warning('is when this event was logged.')"
   ]
  },
  {
   "cell_type": "markdown",
   "id": "612dccc6",
   "metadata": {},
   "source": [
    "## Exception Handling and Logging"
   ]
  },
  {
   "cell_type": "code",
   "execution_count": 13,
   "id": "62ea48b7",
   "metadata": {},
   "outputs": [
    {
     "name": "stdout",
     "output_type": "stream",
     "text": [
      "enter a no.20\n",
      "enter another no.: 0\n"
     ]
    }
   ],
   "source": [
    "# logging all messeges from a program\n",
    "import logging\n",
    "for handler in logging.root.handlers[:]:\n",
    "    logging.root.removeHandler(handler)\n",
    "\n",
    "# store logging messeges into aadillog.txt file\n",
    "logging.basicConfig(filename=\"aadillog.txt\", level=logging.ERROR)  \n",
    "try:\n",
    "    a = int(input(\"enter a no.\"))\n",
    "    b = int(input(\"enter another no.: \"))\n",
    "    c = a/b\n",
    "    \n",
    "except Exception as e:\n",
    "    logging.exception(e)\n",
    "else:\n",
    "    print('the result of division: ',c) "
   ]
  },
  {
   "cell_type": "markdown",
   "id": "3cc853f1",
   "metadata": {},
   "source": [
    "# GetLogger() method aana chahiye bhai"
   ]
  },
  {
   "cell_type": "code",
   "execution_count": 16,
   "id": "722844a6",
   "metadata": {},
   "outputs": [],
   "source": [
    "# getLogger()\n",
    "# similar code\n",
    "for handler in logging.root.handlers[:]:\n",
    "    logging.root.removeHandler(handler)\n",
    "import logging\n",
    "LOG_FORMAT = '{asctime} ** {message} ** {lineno}'\n",
    "logging.basicConfig(format=LOG_FORMAT, filemode=\"w\"\n",
    "                    ,filename=\"Aadil_formattest9999.log\",style = \"{\")\n",
    "logger = logging.getLogger(\"Aadil\") \n",
    "\n",
    "logger.warning('is when this event was logged.')  \n"
   ]
  },
  {
   "cell_type": "code",
   "execution_count": 17,
   "id": "5cfc0dd6",
   "metadata": {},
   "outputs": [],
   "source": [
    "# iska result empty aaya tha log file m pls learn the get logger method. "
   ]
  },
  {
   "cell_type": "code",
   "execution_count": null,
   "id": "9779a62f",
   "metadata": {},
   "outputs": [],
   "source": []
  }
 ],
 "metadata": {
  "kernelspec": {
   "display_name": "Python 3",
   "language": "python",
   "name": "python3"
  },
  "language_info": {
   "codemirror_mode": {
    "name": "ipython",
    "version": 3
   },
   "file_extension": ".py",
   "mimetype": "text/x-python",
   "name": "python",
   "nbconvert_exporter": "python",
   "pygments_lexer": "ipython3",
   "version": "3.7.4"
  }
 },
 "nbformat": 4,
 "nbformat_minor": 5
}
