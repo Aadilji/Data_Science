{
 "cells": [
  {
   "cell_type": "markdown",
   "id": "66adfd0d",
   "metadata": {},
   "source": [
    "# format() String "
   ]
  },
  {
   "cell_type": "code",
   "execution_count": 1,
   "id": "fe8d2c2b",
   "metadata": {},
   "outputs": [
    {
     "name": "stdout",
     "output_type": "stream",
     "text": [
      "my age is 62\n"
     ]
    }
   ],
   "source": [
    "str = \"my age is {}\"\n",
    "print(str.format(62))"
   ]
  },
  {
   "cell_type": "code",
   "execution_count": 2,
   "id": "7d7795b0",
   "metadata": {},
   "outputs": [
    {
     "name": "stdout",
     "output_type": "stream",
     "text": [
      "my age is 62\n"
     ]
    }
   ],
   "source": [
    "print(\"my age is {}\".format(62)) "
   ]
  },
  {
   "cell_type": "markdown",
   "id": "325d39a7",
   "metadata": {},
   "source": [
    "# ------------------------------------------------------------------------------------------"
   ]
  },
  {
   "cell_type": "markdown",
   "id": "654b4b61",
   "metadata": {},
   "source": [
    "'%d' == '{:d}'\n",
    "\n",
    "'%05.3f' == '{:05.3f}'"
   ]
  },
  {
   "cell_type": "code",
   "execution_count": 3,
   "id": "76aac83b",
   "metadata": {},
   "outputs": [
    {
     "name": "stdout",
     "output_type": "stream",
     "text": [
      "10\n",
      "10 20\n",
      "mobile phone10 computer price 20\n"
     ]
    }
   ],
   "source": [
    "print(\"{}\".format(10))\n",
    "\n",
    "print(\"{} {}\".format(10,20)) \n",
    "\n",
    "print(\"mobile phone{} computer price {}\".format(10,20)) "
   ]
  },
  {
   "cell_type": "code",
   "execution_count": 4,
   "id": "fdddd6b3",
   "metadata": {},
   "outputs": [
    {
     "name": "stdout",
     "output_type": "stream",
     "text": [
      "10 20\n"
     ]
    }
   ],
   "source": [
    "print(\"{0} {1}\".format(10,20)) "
   ]
  },
  {
   "cell_type": "code",
   "execution_count": 5,
   "id": "0adb8946",
   "metadata": {},
   "outputs": [
    {
     "name": "stdout",
     "output_type": "stream",
     "text": [
      "20 10\n"
     ]
    }
   ],
   "source": [
    "print(\"{1} {0}\".format(10,20))"
   ]
  },
  {
   "cell_type": "code",
   "execution_count": 6,
   "id": "7846de94",
   "metadata": {},
   "outputs": [
    {
     "name": "stdout",
     "output_type": "stream",
     "text": [
      "10 20\n"
     ]
    }
   ],
   "source": [
    "print(\"{a} {b}\".format(a=10,b=20)) \n"
   ]
  },
  {
   "cell_type": "code",
   "execution_count": 7,
   "id": "6a2ef82f",
   "metadata": {},
   "outputs": [
    {
     "name": "stdout",
     "output_type": "stream",
     "text": [
      "20 10\n"
     ]
    }
   ],
   "source": [
    "print(\"{b} {a}\".format(a=10,b=20)) "
   ]
  },
  {
   "cell_type": "code",
   "execution_count": 8,
   "id": "2bbfe6a2",
   "metadata": {},
   "outputs": [
    {
     "name": "stdout",
     "output_type": "stream",
     "text": [
      "20                  10\n"
     ]
    }
   ],
   "source": [
    "print(\"{b}                  {a}\".format(a=10,b=20)) "
   ]
  },
  {
   "cell_type": "code",
   "execution_count": 9,
   "id": "d6dbfb6f",
   "metadata": {},
   "outputs": [
    {
     "name": "stdout",
     "output_type": "stream",
     "text": [
      "20.98 10.05\n"
     ]
    }
   ],
   "source": [
    "print(\"{b} {a}\".format(a=10.05,b=20.98)) "
   ]
  },
  {
   "cell_type": "code",
   "execution_count": 10,
   "id": "a5867d93",
   "metadata": {},
   "outputs": [
    {
     "name": "stdout",
     "output_type": "stream",
     "text": [
      "10.05 20.98\n"
     ]
    }
   ],
   "source": [
    "print(\"{0} {1}\".format(10.05,20.98)) "
   ]
  },
  {
   "cell_type": "code",
   "execution_count": 11,
   "id": "5a616c2c",
   "metadata": {},
   "outputs": [
    {
     "name": "stdout",
     "output_type": "stream",
     "text": [
      "aadil golu\n"
     ]
    }
   ],
   "source": [
    "print(\"{0} {1}\".format(\"aadil\",\"golu\"))  "
   ]
  },
  {
   "cell_type": "code",
   "execution_count": 12,
   "id": "fdbb9773",
   "metadata": {},
   "outputs": [
    {
     "name": "stdout",
     "output_type": "stream",
     "text": [
      "aadil golu\n"
     ]
    }
   ],
   "source": [
    "print(\"{a} {b}\".format(a = \"aadil\",b=\"golu\")) "
   ]
  },
  {
   "cell_type": "code",
   "execution_count": 13,
   "id": "99d4b793",
   "metadata": {},
   "outputs": [
    {
     "name": "stdout",
     "output_type": "stream",
     "text": [
      "10 golu\n"
     ]
    }
   ],
   "source": [
    "print(\"{a} {b}\".format(a = 10 ,b=\"golu\"))   \n",
    "                                           # here 10 is an string, becoz humne %d nhi likha h."
   ]
  },
  {
   "cell_type": "code",
   "execution_count": 14,
   "id": "f48771ba",
   "metadata": {},
   "outputs": [
    {
     "name": "stdout",
     "output_type": "stream",
     "text": [
      "10 35\n"
     ]
    }
   ],
   "source": [
    "print(\"{a:d} {b:d}\".format(a = 10, b=35 )) "
   ]
  },
  {
   "cell_type": "code",
   "execution_count": 15,
   "id": "d436ea91",
   "metadata": {},
   "outputs": [
    {
     "name": "stdout",
     "output_type": "stream",
     "text": [
      "10 35\n"
     ]
    }
   ],
   "source": [
    "print(\"{:d} {:d}\".format(10,35 )) "
   ]
  },
  {
   "cell_type": "code",
   "execution_count": 16,
   "id": "18fe74d6",
   "metadata": {},
   "outputs": [
    {
     "name": "stdout",
     "output_type": "stream",
     "text": [
      "10 35\n"
     ]
    }
   ],
   "source": [
    "print(\"{0:d} {1:d}\".format(10, 35 )) "
   ]
  },
  {
   "cell_type": "markdown",
   "id": "fcfed60f",
   "metadata": {},
   "source": [
    "# Width "
   ]
  },
  {
   "cell_type": "code",
   "execution_count": 17,
   "id": "b328edb3",
   "metadata": {},
   "outputs": [
    {
     "name": "stdout",
     "output_type": "stream",
     "text": [
      "   10\n"
     ]
    }
   ],
   "source": [
    "print(\"{0:5d}\".format(10))  # created 5 boxes, 3 empty"
   ]
  },
  {
   "cell_type": "code",
   "execution_count": 18,
   "id": "0808c446",
   "metadata": {},
   "outputs": [
    {
     "name": "stdout",
     "output_type": "stream",
     "text": [
      "   10\n"
     ]
    }
   ],
   "source": [
    "print(\"{a:5d}\".format(a = 10)) "
   ]
  },
  {
   "cell_type": "markdown",
   "id": "6d579457",
   "metadata": {},
   "source": [
    "# Flag PADDING "
   ]
  },
  {
   "cell_type": "code",
   "execution_count": 19,
   "id": "44f86eaf",
   "metadata": {},
   "outputs": [
    {
     "name": "stdout",
     "output_type": "stream",
     "text": [
      "00010\n"
     ]
    }
   ],
   "source": [
    "print(\"{a:05d}\".format(a = 10)) "
   ]
  },
  {
   "cell_type": "code",
   "execution_count": 20,
   "id": "e828cfc9",
   "metadata": {},
   "outputs": [
    {
     "name": "stdout",
     "output_type": "stream",
     "text": [
      "  +10\n"
     ]
    }
   ],
   "source": [
    "print(\"{a:+5d}\".format(a = 10)) "
   ]
  },
  {
   "cell_type": "code",
   "execution_count": 21,
   "id": "4e557e0c",
   "metadata": {},
   "outputs": [
    {
     "name": "stdout",
     "output_type": "stream",
     "text": [
      "   10\n"
     ]
    }
   ],
   "source": [
    "print(\"{a:=5d}\".format(a = 10)) "
   ]
  },
  {
   "cell_type": "markdown",
   "id": "46640017",
   "metadata": {},
   "source": [
    "# ALLIGNMENT "
   ]
  },
  {
   "cell_type": "code",
   "execution_count": 22,
   "id": "cc6afe83",
   "metadata": {},
   "outputs": [
    {
     "name": "stdout",
     "output_type": "stream",
     "text": [
      "10   \n"
     ]
    }
   ],
   "source": [
    "print(\"{a:<5d}\".format(a = 10))         # 5 BOXES CREATED (3-EMPTY), FROM LEFT "
   ]
  },
  {
   "cell_type": "code",
   "execution_count": 23,
   "id": "3ce77f1a",
   "metadata": {},
   "outputs": [
    {
     "name": "stdout",
     "output_type": "stream",
     "text": [
      "10***\n"
     ]
    }
   ],
   "source": [
    "print(\"{a:*<5d}\".format(a = 10)) "
   ]
  },
  {
   "cell_type": "code",
   "execution_count": 24,
   "id": "594530ef",
   "metadata": {},
   "outputs": [
    {
     "name": "stdout",
     "output_type": "stream",
     "text": [
      "***10\n"
     ]
    }
   ],
   "source": [
    "print(\"{a:*>5d}\".format(a = 10)) "
   ]
  },
  {
   "cell_type": "code",
   "execution_count": 25,
   "id": "76939c66",
   "metadata": {},
   "outputs": [
    {
     "name": "stdout",
     "output_type": "stream",
     "text": [
      "10^^^\n"
     ]
    }
   ],
   "source": [
    "print(\"{a:^<5d}\".format(a = 10)) "
   ]
  },
  {
   "cell_type": "code",
   "execution_count": 26,
   "id": "e1ccd601",
   "metadata": {},
   "outputs": [
    {
     "name": "stdout",
     "output_type": "stream",
     "text": [
      " 10  \n"
     ]
    }
   ],
   "source": [
    "print(\"{a:^5d}\".format(a = 10))  # WRITTEN IN CENTRE OF 5 BOXES."
   ]
  },
  {
   "cell_type": "code",
   "execution_count": 27,
   "id": "c9570412",
   "metadata": {},
   "outputs": [
    {
     "name": "stdout",
     "output_type": "stream",
     "text": [
      "*10**\n",
      " 10  \n"
     ]
    }
   ],
   "source": [
    "print(\"{a:*^5d}\".format(a = 10))\n",
    "print(\"{a:^5d}\".format(a = 10))  "
   ]
  },
  {
   "cell_type": "markdown",
   "id": "e0f966a9",
   "metadata": {},
   "source": [
    "# Float "
   ]
  },
  {
   "cell_type": "code",
   "execution_count": 28,
   "id": "2e371edf",
   "metadata": {},
   "outputs": [
    {
     "name": "stdout",
     "output_type": "stream",
     "text": [
      "15.65\n",
      "15.650000\n",
      "15.650000\n",
      "15.650000\n"
     ]
    }
   ],
   "source": [
    "print(\"{}\".format(15.65))    # string\n",
    "print(\"{:f}\".format(15.65))  # float\n",
    "print(\"{0:f}\".format(15.65))\n",
    "print(\"{num:f}\".format(num = 15.65)) "
   ]
  },
  {
   "cell_type": "markdown",
   "id": "f93877fd",
   "metadata": {},
   "source": [
    "### Width with float"
   ]
  },
  {
   "cell_type": "code",
   "execution_count": 29,
   "id": "1eba0c4e",
   "metadata": {},
   "outputs": [
    {
     "name": "stdout",
     "output_type": "stream",
     "text": [
      "15.650000\n"
     ]
    }
   ],
   "source": [
    "print(\"{num:8f}\".format(num=15.65))\n",
    "                            # remember that after point float takes 8 boxes in width\n",
    "        # yaha width ko 8 empty box create krna tha lekin ab 9 create kr rha h, decimal included.                            "
   ]
  },
  {
   "cell_type": "markdown",
   "id": "d55f506b",
   "metadata": {},
   "source": [
    "### precision, width and float "
   ]
  },
  {
   "cell_type": "code",
   "execution_count": 30,
   "id": "713e28c0",
   "metadata": {},
   "outputs": [
    {
     "name": "stdout",
     "output_type": "stream",
     "text": [
      "  15.650\n"
     ]
    }
   ],
   "source": [
    "print(\"{num:8.3f}\".format(num=15.65))\n",
    "                               # decimal ke baad srf 3 digit dikhao.    "
   ]
  },
  {
   "cell_type": "markdown",
   "id": "7198ee42",
   "metadata": {},
   "source": [
    "# -------------------------------------------------------------------------------------"
   ]
  },
  {
   "cell_type": "code",
   "execution_count": 31,
   "id": "ac937061",
   "metadata": {},
   "outputs": [
    {
     "name": "stdout",
     "output_type": "stream",
     "text": [
      "15.650000\n",
      "  15.650\n",
      "   15.65\n"
     ]
    }
   ],
   "source": [
    "print(\"{num:8f}\".format(num=15.65))\n",
    "print(\"{num:8.3f}\".format(num=15.65))\n",
    "print(\"{num:8.2f}\".format(num=15.65)) "
   ]
  },
  {
   "cell_type": "markdown",
   "id": "8d0f5de4",
   "metadata": {},
   "source": [
    "# Allignment  "
   ]
  },
  {
   "cell_type": "code",
   "execution_count": 32,
   "id": "c17838e3",
   "metadata": {},
   "outputs": [
    {
     "name": "stdout",
     "output_type": "stream",
     "text": [
      "15.65   \n",
      "15.65***\n"
     ]
    }
   ],
   "source": [
    "print(\"{num:<8.2f}\".format(num=15.65))\n",
    "print(\"{num:*<8.2f}\".format(num=15.65))"
   ]
  },
  {
   "cell_type": "code",
   "execution_count": 33,
   "id": "8da9d481",
   "metadata": {},
   "outputs": [
    {
     "name": "stdout",
     "output_type": "stream",
     "text": [
      "15.650000\n",
      "15.65***\n",
      "***15.65\n",
      " 15.65  \n",
      "*15.65**\n"
     ]
    }
   ],
   "source": [
    "print(\"{num:f}\".format(num=15.65)) \n",
    "print(\"{num:*<8.2f}\".format(num=15.65))\n",
    "print(\"{num:*>8.2f}\".format(num=15.65))\n",
    "print(\"{num:^8.2f}\".format(num=15.65))\n",
    "print(\"{num:*^8.2f}\".format(num=15.65)) "
   ]
  },
  {
   "cell_type": "markdown",
   "id": "c72612aa",
   "metadata": {},
   "source": [
    "# Seperator"
   ]
  },
  {
   "cell_type": "code",
   "execution_count": 34,
   "id": "aba38a71",
   "metadata": {},
   "outputs": [
    {
     "name": "stdout",
     "output_type": "stream",
     "text": [
      "1,234,567,890\n"
     ]
    }
   ],
   "source": [
    "print(\"{:,}\".format(1234567890)) "
   ]
  },
  {
   "cell_type": "code",
   "execution_count": 35,
   "id": "ad807764",
   "metadata": {},
   "outputs": [
    {
     "name": "stdout",
     "output_type": "stream",
     "text": [
      "1_234_567_890\n"
     ]
    }
   ],
   "source": [
    "print(\"{:_}\".format(1234567890))  "
   ]
  },
  {
   "cell_type": "markdown",
   "id": "cd7861b2",
   "metadata": {},
   "source": [
    "# -------------------------------------------------------------------------------------"
   ]
  },
  {
   "cell_type": "code",
   "execution_count": 36,
   "id": "2933cfd1",
   "metadata": {},
   "outputs": [
    {
     "name": "stdout",
     "output_type": "stream",
     "text": [
      "1.7e+01\n"
     ]
    }
   ],
   "source": [
    "a = 50 \n",
    "b =3 \n",
    "print(\"{:.2}\".format(a/b))    # exponent "
   ]
  },
  {
   "cell_type": "code",
   "execution_count": 37,
   "id": "cb5a1cad",
   "metadata": {},
   "outputs": [
    {
     "name": "stdout",
     "output_type": "stream",
     "text": [
      "1666.67%\n"
     ]
    }
   ],
   "source": [
    "a = 50 \n",
    "b =3 \n",
    "print(\"{:.2%}\".format(a/b))   # percent "
   ]
  },
  {
   "cell_type": "code",
   "execution_count": 38,
   "id": "469375ae",
   "metadata": {},
   "outputs": [
    {
     "ename": "IndexError",
     "evalue": "tuple index out of range",
     "output_type": "error",
     "traceback": [
      "\u001b[1;31m---------------------------------------------------------------------------\u001b[0m",
      "\u001b[1;31mIndexError\u001b[0m                                Traceback (most recent call last)",
      "\u001b[1;32m<ipython-input-38-00806672dab0>\u001b[0m in \u001b[0;36m<module>\u001b[1;34m\u001b[0m\n\u001b[0;32m      1\u001b[0m \u001b[0ma\u001b[0m \u001b[1;33m=\u001b[0m \u001b[1;33m(\u001b[0m\u001b[1;36m50\u001b[0m\u001b[1;33m,\u001b[0m \u001b[1;36m60\u001b[0m\u001b[1;33m)\u001b[0m\u001b[1;33m\u001b[0m\u001b[1;33m\u001b[0m\u001b[0m\n\u001b[1;32m----> 2\u001b[1;33m \u001b[0mprint\u001b[0m\u001b[1;33m(\u001b[0m\u001b[1;34m\"{} {}\"\u001b[0m\u001b[1;33m.\u001b[0m\u001b[0mformat\u001b[0m\u001b[1;33m(\u001b[0m\u001b[0ma\u001b[0m\u001b[1;33m)\u001b[0m\u001b[1;33m)\u001b[0m     \u001b[1;31m# tuple error\u001b[0m\u001b[1;33m\u001b[0m\u001b[1;33m\u001b[0m\u001b[0m\n\u001b[0m",
      "\u001b[1;31mIndexError\u001b[0m: tuple index out of range"
     ]
    }
   ],
   "source": [
    "a = (50, 60) \n",
    "print(\"{} {}\".format(a))     # tuple error "
   ]
  },
  {
   "cell_type": "code",
   "execution_count": 39,
   "id": "f495d924",
   "metadata": {},
   "outputs": [
    {
     "ename": "IndexError",
     "evalue": "tuple index out of range",
     "output_type": "error",
     "traceback": [
      "\u001b[1;31m---------------------------------------------------------------------------\u001b[0m",
      "\u001b[1;31mIndexError\u001b[0m                                Traceback (most recent call last)",
      "\u001b[1;32m<ipython-input-39-a1bb68e75732>\u001b[0m in \u001b[0;36m<module>\u001b[1;34m\u001b[0m\n\u001b[0;32m      1\u001b[0m \u001b[0ma\u001b[0m \u001b[1;33m=\u001b[0m \u001b[1;33m(\u001b[0m\u001b[1;36m50\u001b[0m\u001b[1;33m,\u001b[0m \u001b[1;36m60\u001b[0m\u001b[1;33m)\u001b[0m\u001b[1;33m\u001b[0m\u001b[1;33m\u001b[0m\u001b[0m\n\u001b[1;32m----> 2\u001b[1;33m \u001b[0mprint\u001b[0m\u001b[1;33m(\u001b[0m\u001b[1;34m\"{0} {1}\"\u001b[0m\u001b[1;33m.\u001b[0m\u001b[0mformat\u001b[0m\u001b[1;33m(\u001b[0m\u001b[0ma\u001b[0m\u001b[1;33m)\u001b[0m\u001b[1;33m)\u001b[0m   \u001b[1;31m# tuple error\u001b[0m\u001b[1;33m\u001b[0m\u001b[1;33m\u001b[0m\u001b[0m\n\u001b[0m",
      "\u001b[1;31mIndexError\u001b[0m: tuple index out of range"
     ]
    }
   ],
   "source": [
    "a = (50, 60) \n",
    "print(\"{0} {1}\".format(a))   # tuple error "
   ]
  },
  {
   "cell_type": "code",
   "execution_count": 40,
   "id": "1776398f",
   "metadata": {},
   "outputs": [
    {
     "name": "stdout",
     "output_type": "stream",
     "text": [
      "50 60\n"
     ]
    }
   ],
   "source": [
    "value = (50, 60) \n",
    "print(\"{0[0]} {0[1]}\".format(value)) "
   ]
  },
  {
   "cell_type": "code",
   "execution_count": 41,
   "id": "fcdf2859",
   "metadata": {},
   "outputs": [
    {
     "name": "stdout",
     "output_type": "stream",
     "text": [
      "2000 3000\n"
     ]
    }
   ],
   "source": [
    "a = {'rahul':2000, 'sonam': 3000}\n",
    "print(\"{0[rahul]:d} {0[sonam]:d}\".format(a)) "
   ]
  },
  {
   "cell_type": "code",
   "execution_count": 42,
   "id": "6eef1f94",
   "metadata": {},
   "outputs": [
    {
     "name": "stdout",
     "output_type": "stream",
     "text": [
      "2000 3000\n"
     ]
    }
   ],
   "source": [
    "a = {'rahul':2000, 'sonam': 3000}\n",
    "print(\"{0[rahul]:d} {0[sonam]}\".format(a))   # 3000 is string here"
   ]
  },
  {
   "cell_type": "code",
   "execution_count": 43,
   "id": "30134c5d",
   "metadata": {},
   "outputs": [
    {
     "name": "stdout",
     "output_type": "stream",
     "text": [
      "2000 3000\n"
     ]
    }
   ],
   "source": [
    "# second method\n",
    "value = {'rahul':2000, 'sonam': 3000}\n",
    "print(\"{a[rahul]:d} {a[sonam]:d}\".format(a = value)) "
   ]
  },
  {
   "cell_type": "code",
   "execution_count": 51,
   "id": "7bc05fe5",
   "metadata": {},
   "outputs": [
    {
     "name": "stdout",
     "output_type": "stream",
     "text": [
      "2000 3000 gta\n"
     ]
    }
   ],
   "source": [
    "value = {'rahul':2000, 'sonam': 3000, 'game':'gta'}\n",
    "print(\"{rahul} {sonam} {game}\".format(**value))    "
   ]
  }
 ],
 "metadata": {
  "kernelspec": {
   "display_name": "Python 3",
   "language": "python",
   "name": "python3"
  },
  "language_info": {
   "codemirror_mode": {
    "name": "ipython",
    "version": 3
   },
   "file_extension": ".py",
   "mimetype": "text/x-python",
   "name": "python",
   "nbconvert_exporter": "python",
   "pygments_lexer": "ipython3",
   "version": "3.7.4"
  }
 },
 "nbformat": 4,
 "nbformat_minor": 5
}
