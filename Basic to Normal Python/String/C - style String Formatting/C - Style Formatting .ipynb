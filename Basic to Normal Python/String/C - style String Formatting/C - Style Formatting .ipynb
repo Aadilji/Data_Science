{
 "cells": [
  {
   "cell_type": "markdown",
   "id": "2e6177ac",
   "metadata": {},
   "source": [
    "# C-Style Formatting "
   ]
  },
  {
   "cell_type": "markdown",
   "id": "5a52d077",
   "metadata": {},
   "source": [
    "### % - Quotient Operator or Modular Operator  or Percent Operator"
   ]
  },
  {
   "cell_type": "markdown",
   "id": "d026a7cd",
   "metadata": {},
   "source": [
    "* % - it is used for formatting Strings, it is also called Percent Operator\n",
    "* %s,%d - it is format specifiers, or place holders.\n",
    "* %s - string place holder\n",
    "* %d,%i - integer place holder\n",
    "* %f - floating Point "
   ]
  },
  {
   "cell_type": "code",
   "execution_count": 1,
   "id": "18e64d31",
   "metadata": {},
   "outputs": [
    {
     "name": "stdout",
     "output_type": "stream",
     "text": [
      "My Name is Aadil and My age is 22\n"
     ]
    }
   ],
   "source": [
    "# Writing In Sequence :-\n",
    "print(\"My Name is %s and My age is %d\" % (\"Aadil\",22)) \n",
    "                            # order must be maintained or it gives error."
   ]
  },
  {
   "cell_type": "code",
   "execution_count": 2,
   "id": "87947cf0",
   "metadata": {},
   "outputs": [
    {
     "name": "stdout",
     "output_type": "stream",
     "text": [
      "My Name is Aadil and My age is 22\n"
     ]
    }
   ],
   "source": [
    "# Writing not in Sequence :- {key,Value}\n",
    "\n",
    "print(\"My Name is %(nm)s and My age is %(ag)d\" % {'nm':\"Aadil\",'ag': 22}) "
   ]
  },
  {
   "cell_type": "code",
   "execution_count": 3,
   "id": "b0e9936b",
   "metadata": {},
   "outputs": [
    {
     "name": "stdout",
     "output_type": "stream",
     "text": [
      "My Name is Aadil and My age is 22\n"
     ]
    }
   ],
   "source": [
    "print(\"My Name is %(nm)s and My age is %(ag)d\" % {'ag': 22,'nm':\"Aadil\"})  "
   ]
  },
  {
   "cell_type": "code",
   "execution_count": 4,
   "id": "4f838d5c",
   "metadata": {},
   "outputs": [
    {
     "name": "stdout",
     "output_type": "stream",
     "text": [
      "432\n"
     ]
    }
   ],
   "source": [
    "print(\"%d\" % 432) "
   ]
  },
  {
   "cell_type": "code",
   "execution_count": 5,
   "id": "f6962b63",
   "metadata": {},
   "outputs": [
    {
     "name": "stdout",
     "output_type": "stream",
     "text": [
      "432 678\n"
     ]
    }
   ],
   "source": [
    "print(\"%d %d\" % (432,678))  "
   ]
  },
  {
   "cell_type": "code",
   "execution_count": 6,
   "id": "5ea70008",
   "metadata": {},
   "outputs": [
    {
     "name": "stdout",
     "output_type": "stream",
     "text": [
      "432.320000\n"
     ]
    }
   ],
   "source": [
    "print(\"%f\" % 432.32)   "
   ]
  },
  {
   "cell_type": "code",
   "execution_count": 7,
   "id": "b0d6343e",
   "metadata": {},
   "outputs": [
    {
     "name": "stdout",
     "output_type": "stream",
     "text": [
      "Aadil\n"
     ]
    }
   ],
   "source": [
    "print(\"%s\" % \"Aadil\")  "
   ]
  },
  {
   "cell_type": "code",
   "execution_count": 8,
   "id": "9ebe4750",
   "metadata": {},
   "outputs": [
    {
     "name": "stdout",
     "output_type": "stream",
     "text": [
      "Aadil gta\n"
     ]
    }
   ],
   "source": [
    "print(\"%s %s\" % (\"Aadil\",\"gta\"))   "
   ]
  },
  {
   "cell_type": "code",
   "execution_count": 9,
   "id": "96a9a083",
   "metadata": {},
   "outputs": [
    {
     "name": "stdout",
     "output_type": "stream",
     "text": [
      "Aadil 345\n"
     ]
    }
   ],
   "source": [
    "print(\"%s %s\" % (\"Aadil\",\"345\")) "
   ]
  },
  {
   "cell_type": "code",
   "execution_count": 10,
   "id": "fe31f197",
   "metadata": {},
   "outputs": [
    {
     "name": "stdout",
     "output_type": "stream",
     "text": [
      "Aadil 345\n"
     ]
    }
   ],
   "source": [
    "print(\"%s %d\" % (\"Aadil\",345))  "
   ]
  },
  {
   "cell_type": "code",
   "execution_count": 11,
   "id": "3d6764b0",
   "metadata": {},
   "outputs": [
    {
     "name": "stdout",
     "output_type": "stream",
     "text": [
      "Aadil 345\n"
     ]
    }
   ],
   "source": [
    "print(\"%(nm)s %(ag)d\" % {'nm' : \"Aadil\",'ag':345})  "
   ]
  },
  {
   "cell_type": "code",
   "execution_count": 12,
   "id": "8ffc67ab",
   "metadata": {},
   "outputs": [
    {
     "name": "stdout",
     "output_type": "stream",
     "text": [
      "34\n"
     ]
    }
   ],
   "source": [
    "print(\"%s\" % (34))"
   ]
  },
  {
   "cell_type": "code",
   "execution_count": 13,
   "id": "7e70d313",
   "metadata": {},
   "outputs": [
    {
     "name": "stdout",
     "output_type": "stream",
     "text": [
      "34\n"
     ]
    }
   ],
   "source": [
    "print(\"%s\" % 34)"
   ]
  },
  {
   "cell_type": "markdown",
   "id": "4d6dd586",
   "metadata": {},
   "source": [
    "# -----------------------------"
   ]
  },
  {
   "cell_type": "code",
   "execution_count": 14,
   "id": "2bb277e1",
   "metadata": {},
   "outputs": [
    {
     "name": "stdout",
     "output_type": "stream",
     "text": [
      "34\n"
     ]
    }
   ],
   "source": [
    "a = \"%s\" % 34\n",
    "\n",
    "print(a) "
   ]
  },
  {
   "cell_type": "markdown",
   "id": "b9b1b7c9",
   "metadata": {},
   "source": [
    "# -----------------------Throws Error ----------------"
   ]
  },
  {
   "cell_type": "code",
   "execution_count": 15,
   "id": "301f2805",
   "metadata": {},
   "outputs": [
    {
     "ename": "TypeError",
     "evalue": "%d format: a number is required, not str",
     "output_type": "error",
     "traceback": [
      "\u001b[1;31m---------------------------------------------------------------------------\u001b[0m",
      "\u001b[1;31mTypeError\u001b[0m                                 Traceback (most recent call last)",
      "\u001b[1;32m<ipython-input-15-93244fb02ce9>\u001b[0m in \u001b[0;36m<module>\u001b[1;34m\u001b[0m\n\u001b[1;32m----> 1\u001b[1;33m \u001b[0mprint\u001b[0m\u001b[1;33m(\u001b[0m\u001b[1;34m\"%s %d\"\u001b[0m  \u001b[1;33m%\u001b[0m  \u001b[1;33m(\u001b[0m\u001b[1;36m678\u001b[0m\u001b[1;33m,\u001b[0m \u001b[1;34m\"Aadil\"\u001b[0m\u001b[1;33m)\u001b[0m\u001b[1;33m)\u001b[0m\u001b[1;33m\u001b[0m\u001b[1;33m\u001b[0m\u001b[0m\n\u001b[0m",
      "\u001b[1;31mTypeError\u001b[0m: %d format: a number is required, not str"
     ]
    }
   ],
   "source": [
    "print(\"%s %d\"  %  (678, \"Aadil\")) "
   ]
  },
  {
   "cell_type": "markdown",
   "id": "3da733ab",
   "metadata": {},
   "source": [
    "# ----------------------------------------------- "
   ]
  },
  {
   "cell_type": "markdown",
   "id": "381dbd3f",
   "metadata": {},
   "source": [
    "# Flag "
   ]
  },
  {
   "cell_type": "code",
   "execution_count": 16,
   "id": "20f3ec6d",
   "metadata": {},
   "outputs": [
    {
     "name": "stdout",
     "output_type": "stream",
     "text": [
      "34\n",
      " 34\n",
      " 34\n",
      " 34\n",
      "+34\n"
     ]
    }
   ],
   "source": [
    "# space \n",
    "\n",
    "print(\"%d\" % 34)\n",
    "print(\"% d\" % 34)     # ----- space\n",
    "print(\"%  d\" % 34)    # ----- double space\n",
    "print(\"%    d\" % 34)\n",
    "print(\"%+d\" % 34)"
   ]
  },
  {
   "cell_type": "code",
   "execution_count": 17,
   "id": "1dd3b6df",
   "metadata": {},
   "outputs": [
    {
     "name": "stdout",
     "output_type": "stream",
     "text": [
      " 34\n",
      "34hello\n"
     ]
    }
   ],
   "source": [
    "print(\"%  d\" % 34)\n",
    "print(\"%d\"\"hello\" % 34) "
   ]
  },
  {
   "cell_type": "code",
   "execution_count": 18,
   "id": "c837dd3c",
   "metadata": {},
   "outputs": [
    {
     "name": "stdout",
     "output_type": "stream",
     "text": [
      "              34hello\n"
     ]
    }
   ],
   "source": [
    "print(\"              %d\"                    \"hello\" % 34)"
   ]
  },
  {
   "cell_type": "code",
   "execution_count": 19,
   "id": "628f111f",
   "metadata": {},
   "outputs": [
    {
     "name": "stdout",
     "output_type": "stream",
     "text": [
      "              34               hello\n"
     ]
    }
   ],
   "source": [
    "print(\"              %d\"                    \"               hello\" % 34)"
   ]
  },
  {
   "cell_type": "code",
   "execution_count": 20,
   "id": "e01f8c4d",
   "metadata": {},
   "outputs": [
    {
     "name": "stdout",
     "output_type": "stream",
     "text": [
      "              34                    hello\n"
     ]
    }
   ],
   "source": [
    "print(\"              %d                    hello\" % 34)"
   ]
  },
  {
   "cell_type": "code",
   "execution_count": 21,
   "id": "609d383f",
   "metadata": {},
   "outputs": [
    {
     "name": "stdout",
     "output_type": "stream",
     "text": [
      "34 hello\n"
     ]
    }
   ],
   "source": [
    "print(\"%d hello\" % 34)"
   ]
  },
  {
   "cell_type": "markdown",
   "id": "cf2667a8",
   "metadata": {},
   "source": [
    "# ----------------------------------------------------------------------------------------"
   ]
  },
  {
   "cell_type": "markdown",
   "id": "717c6b09",
   "metadata": {},
   "source": [
    "## Width"
   ]
  },
  {
   "cell_type": "code",
   "execution_count": 22,
   "id": "521726dc",
   "metadata": {},
   "outputs": [
    {
     "name": "stdout",
     "output_type": "stream",
     "text": [
      "      34\n"
     ]
    }
   ],
   "source": [
    "print(\"% 8d\" % 34)    \n",
    "                  # here width creates 8 boxes."
   ]
  },
  {
   "cell_type": "code",
   "execution_count": 23,
   "id": "699c818f",
   "metadata": {},
   "outputs": [
    {
     "name": "stdout",
     "output_type": "stream",
     "text": [
      "      34\n"
     ]
    }
   ],
   "source": [
    "print(\"%8d\" % 34)        #   0  1  2  3  4  5  6  7  8\n",
    "                         #____|__|__|__|__|__|__|__|___|\n",
    "                         #  -| -| -| -| -| -| -| 3| 4 "
   ]
  },
  {
   "cell_type": "markdown",
   "id": "e949f74b",
   "metadata": {},
   "source": [
    "# Flag with width  "
   ]
  },
  {
   "cell_type": "code",
   "execution_count": 24,
   "id": "46d12930",
   "metadata": {},
   "outputs": [
    {
     "name": "stdout",
     "output_type": "stream",
     "text": [
      "00000034\n"
     ]
    }
   ],
   "source": [
    "print(\"%08d\" % 34)       # flag fills zeros in empty boxes "
   ]
  },
  {
   "cell_type": "markdown",
   "id": "ce8a8592",
   "metadata": {},
   "source": [
    "# --------------------------------------------------------------------------------------"
   ]
  },
  {
   "cell_type": "markdown",
   "id": "88754882",
   "metadata": {},
   "source": [
    "# Precision Of Decimals"
   ]
  },
  {
   "cell_type": "code",
   "execution_count": 25,
   "id": "360b7db9",
   "metadata": {},
   "outputs": [
    {
     "name": "stdout",
     "output_type": "stream",
     "text": [
      "345.567000\n"
     ]
    }
   ],
   "source": [
    "print(\"%f\" % 345.567)  "
   ]
  },
  {
   "cell_type": "code",
   "execution_count": 26,
   "id": "30e60815",
   "metadata": {},
   "outputs": [
    {
     "name": "stdout",
     "output_type": "stream",
     "text": [
      "345.567\n"
     ]
    }
   ],
   "source": [
    "print(\"%.3f\" % 345.567)     # 3 4 5 . 5 6 7"
   ]
  },
  {
   "cell_type": "code",
   "execution_count": 27,
   "id": "1a242670",
   "metadata": {},
   "outputs": [
    {
     "name": "stdout",
     "output_type": "stream",
     "text": [
      "345.57\n"
     ]
    }
   ],
   "source": [
    "print(\"%.2f\" % 345.567)"
   ]
  },
  {
   "cell_type": "code",
   "execution_count": 28,
   "id": "7f576784",
   "metadata": {},
   "outputs": [
    {
     "name": "stdout",
     "output_type": "stream",
     "text": [
      "345.13\n"
     ]
    }
   ],
   "source": [
    "print(\"%.2f\" % 345.128)       # Round off of decimal "
   ]
  },
  {
   "cell_type": "markdown",
   "id": "a448b50a",
   "metadata": {},
   "source": [
    "# Combination of width,flag & precision   "
   ]
  },
  {
   "cell_type": "code",
   "execution_count": 31,
   "id": "e08032f2",
   "metadata": {},
   "outputs": [],
   "source": [
    "# width creates empty boxes in memory location "
   ]
  },
  {
   "cell_type": "code",
   "execution_count": 32,
   "id": "a37039e4",
   "metadata": {},
   "outputs": [
    {
     "name": "stdout",
     "output_type": "stream",
     "text": [
      "   345.57\n"
     ]
    }
   ],
   "source": [
    "print(\"%9.2f\" % 345.567)    # 3 empty boxes"
   ]
  },
  {
   "cell_type": "code",
   "execution_count": 33,
   "id": "2d775618",
   "metadata": {},
   "outputs": [
    {
     "name": "stdout",
     "output_type": "stream",
     "text": [
      "  345.567\n"
     ]
    }
   ],
   "source": [
    "print(\"%9.3f\" % 345.567)"
   ]
  },
  {
   "cell_type": "code",
   "execution_count": 35,
   "id": "3019fdb0",
   "metadata": {},
   "outputs": [
    {
     "name": "stdout",
     "output_type": "stream",
     "text": [
      "   345.13\n"
     ]
    }
   ],
   "source": [
    "print(\"%9.2f\" % 345.128)      # round off"
   ]
  },
  {
   "cell_type": "code",
   "execution_count": 37,
   "id": "e8b5ebbd",
   "metadata": {},
   "outputs": [
    {
     "name": "stdout",
     "output_type": "stream",
     "text": [
      "000345.57\n"
     ]
    }
   ],
   "source": [
    "print(\"%09.2f\" % 345.567) "
   ]
  },
  {
   "cell_type": "markdown",
   "id": "7510488e",
   "metadata": {},
   "source": [
    "# ============================================="
   ]
  },
  {
   "cell_type": "code",
   "execution_count": 38,
   "id": "81cdaffb",
   "metadata": {},
   "outputs": [
    {
     "name": "stdout",
     "output_type": "stream",
     "text": [
      "My Name is Aadil and My age is 22\n"
     ]
    }
   ],
   "source": [
    "a = (\"My Name is %s and My age is %d\" % (\"Aadil\",22))\n",
    "print(a) "
   ]
  }
 ],
 "metadata": {
  "kernelspec": {
   "display_name": "Python 3",
   "language": "python",
   "name": "python3"
  },
  "language_info": {
   "codemirror_mode": {
    "name": "ipython",
    "version": 3
   },
   "file_extension": ".py",
   "mimetype": "text/x-python",
   "name": "python",
   "nbconvert_exporter": "python",
   "pygments_lexer": "ipython3",
   "version": "3.7.4"
  }
 },
 "nbformat": 4,
 "nbformat_minor": 5
}
