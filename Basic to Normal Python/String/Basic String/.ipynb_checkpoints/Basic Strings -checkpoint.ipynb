{
 "cells": [
  {
   "cell_type": "markdown",
   "id": "74a98529",
   "metadata": {},
   "source": [
    "# String "
   ]
  },
  {
   "cell_type": "markdown",
   "id": "a22978e7",
   "metadata": {},
   "source": [
    "* String are Immutable."
   ]
  },
  {
   "cell_type": "markdown",
   "id": "c101ff9c",
   "metadata": {},
   "source": [
    "## Memory Allocation of Strings"
   ]
  },
  {
   "cell_type": "code",
   "execution_count": 42,
   "id": "c7566e46",
   "metadata": {},
   "outputs": [],
   "source": [
    "str1 = \"Aadil\" "
   ]
  },
  {
   "cell_type": "code",
   "execution_count": 43,
   "id": "e6d9a3e8",
   "metadata": {},
   "outputs": [
    {
     "data": {
      "text/plain": [
       "85295920"
      ]
     },
     "execution_count": 43,
     "metadata": {},
     "output_type": "execute_result"
    }
   ],
   "source": [
    "id(str1) "
   ]
  },
  {
   "cell_type": "code",
   "execution_count": 44,
   "id": "6dcbf961",
   "metadata": {},
   "outputs": [],
   "source": [
    "str2= \"Aadil\" "
   ]
  },
  {
   "cell_type": "code",
   "execution_count": 45,
   "id": "8eeeb38a",
   "metadata": {},
   "outputs": [
    {
     "data": {
      "text/plain": [
       "85295920"
      ]
     },
     "execution_count": 45,
     "metadata": {},
     "output_type": "execute_result"
    }
   ],
   "source": [
    "id(str2) "
   ]
  },
  {
   "cell_type": "code",
   "execution_count": 46,
   "id": "c6f2a7c5",
   "metadata": {},
   "outputs": [],
   "source": [
    "str3 = \"python\" "
   ]
  },
  {
   "cell_type": "code",
   "execution_count": 47,
   "id": "462f7d67",
   "metadata": {},
   "outputs": [
    {
     "data": {
      "text/plain": [
       "55719216"
      ]
     },
     "execution_count": 47,
     "metadata": {},
     "output_type": "execute_result"
    }
   ],
   "source": [
    "id(str3) "
   ]
  },
  {
   "cell_type": "code",
   "execution_count": 48,
   "id": "1260314f",
   "metadata": {},
   "outputs": [],
   "source": [
    "str4 = str3 "
   ]
  },
  {
   "cell_type": "code",
   "execution_count": 49,
   "id": "ba7bffe7",
   "metadata": {},
   "outputs": [
    {
     "data": {
      "text/plain": [
       "55719216"
      ]
     },
     "execution_count": 49,
     "metadata": {},
     "output_type": "execute_result"
    }
   ],
   "source": [
    "id(str4)     # memory allocation of str 3 and str4 are same"
   ]
  },
  {
   "cell_type": "code",
   "execution_count": 50,
   "id": "0ab8c2cf",
   "metadata": {},
   "outputs": [],
   "source": [
    "str_1 = \"Sam\" "
   ]
  },
  {
   "cell_type": "code",
   "execution_count": 51,
   "id": "5db4af5b",
   "metadata": {},
   "outputs": [],
   "source": [
    "str_1 = \"gem\" "
   ]
  },
  {
   "cell_type": "code",
   "execution_count": 52,
   "id": "330a6875",
   "metadata": {},
   "outputs": [
    {
     "data": {
      "text/plain": [
       "'gem'"
      ]
     },
     "execution_count": 52,
     "metadata": {},
     "output_type": "execute_result"
    }
   ],
   "source": [
    "str_1  "
   ]
  },
  {
   "cell_type": "code",
   "execution_count": 53,
   "id": "fb445158",
   "metadata": {},
   "outputs": [
    {
     "data": {
      "text/plain": [
       "85271024"
      ]
     },
     "execution_count": 53,
     "metadata": {},
     "output_type": "execute_result"
    }
   ],
   "source": [
    "id(str_1) "
   ]
  },
  {
   "cell_type": "markdown",
   "id": "ad21553e",
   "metadata": {},
   "source": [
    "* Remember that id of old str_1 sam is delted by garbage collector of python.<br>\n",
    "  index starts from zero."
   ]
  },
  {
   "cell_type": "code",
   "execution_count": 54,
   "id": "7550c496",
   "metadata": {},
   "outputs": [],
   "source": [
    "Strn = \"aadil\" "
   ]
  },
  {
   "cell_type": "code",
   "execution_count": 55,
   "id": "be57ae07",
   "metadata": {},
   "outputs": [
    {
     "data": {
      "text/plain": [
       "'l'"
      ]
     },
     "execution_count": 55,
     "metadata": {},
     "output_type": "execute_result"
    }
   ],
   "source": [
    "Strn[-1] "
   ]
  },
  {
   "cell_type": "markdown",
   "id": "a3475552",
   "metadata": {},
   "source": [
    "# Comparision of strings "
   ]
  },
  {
   "cell_type": "code",
   "execution_count": 56,
   "id": "aed93cf9",
   "metadata": {},
   "outputs": [],
   "source": [
    "str = \"A\""
   ]
  },
  {
   "cell_type": "code",
   "execution_count": 57,
   "id": "862d8c02",
   "metadata": {},
   "outputs": [],
   "source": [
    "str1 = \"B\" "
   ]
  },
  {
   "cell_type": "code",
   "execution_count": 58,
   "id": "5f419f07",
   "metadata": {},
   "outputs": [
    {
     "data": {
      "text/plain": [
       "False"
      ]
     },
     "execution_count": 58,
     "metadata": {},
     "output_type": "execute_result"
    }
   ],
   "source": [
    "str1<str "
   ]
  },
  {
   "cell_type": "code",
   "execution_count": 59,
   "id": "9f9d93f9",
   "metadata": {},
   "outputs": [
    {
     "data": {
      "text/plain": [
       "True"
      ]
     },
     "execution_count": 59,
     "metadata": {},
     "output_type": "execute_result"
    }
   ],
   "source": [
    "str11 = \"Aa\" \n",
    "str22 = \"Bb\"\n",
    "str22 > str11 "
   ]
  },
  {
   "cell_type": "code",
   "execution_count": 60,
   "id": "9bf789ef",
   "metadata": {},
   "outputs": [
    {
     "data": {
      "text/plain": [
       "True"
      ]
     },
     "execution_count": 60,
     "metadata": {},
     "output_type": "execute_result"
    }
   ],
   "source": [
    "str11 = \"Aadil\" \n",
    "str22 = \"Sahib\"\n",
    "str22 > str11 "
   ]
  },
  {
   "cell_type": "code",
   "execution_count": 61,
   "id": "2136c1e4",
   "metadata": {},
   "outputs": [
    {
     "data": {
      "text/plain": [
       "False"
      ]
     },
     "execution_count": 61,
     "metadata": {},
     "output_type": "execute_result"
    }
   ],
   "source": [
    "str11 = \"Aadil\" \n",
    "str22 = \"Sahib\"\n",
    "str22 == str11  "
   ]
  },
  {
   "cell_type": "markdown",
   "id": "a7e647a7",
   "metadata": {},
   "source": [
    "# Repetition Operators "
   ]
  },
  {
   "cell_type": "code",
   "execution_count": 62,
   "id": "39966402",
   "metadata": {},
   "outputs": [
    {
     "name": "stdout",
     "output_type": "stream",
     "text": [
      "AadilAadilAadilAadilAadil\n"
     ]
    }
   ],
   "source": [
    "print(str11 * 5) "
   ]
  },
  {
   "cell_type": "code",
   "execution_count": 63,
   "id": "87c18526",
   "metadata": {},
   "outputs": [
    {
     "data": {
      "text/plain": [
       "'AadilAadilAadilAadilAadil'"
      ]
     },
     "execution_count": 63,
     "metadata": {},
     "output_type": "execute_result"
    }
   ],
   "source": [
    "str22 = \"Sahib \"\n",
    "(str11 * 5) "
   ]
  },
  {
   "cell_type": "code",
   "execution_count": 64,
   "id": "72b395ff",
   "metadata": {},
   "outputs": [
    {
     "name": "stdout",
     "output_type": "stream",
     "text": [
      "AadilAadilAadilAadilAadil\n"
     ]
    }
   ],
   "source": [
    "str22 = \"Sahib \"\n",
    "print(str11 * 5)"
   ]
  },
  {
   "cell_type": "code",
   "execution_count": 65,
   "id": "065fe7bd",
   "metadata": {},
   "outputs": [
    {
     "name": "stdout",
     "output_type": "stream",
     "text": [
      "Sahib\n",
      "Sahib\n",
      "Sahib\n",
      "Sahib\n",
      "Sahib\n",
      "\n"
     ]
    }
   ],
   "source": [
    "str22 = \"Sahib\\n\" \n",
    "print(str22 * 5)"
   ]
  },
  {
   "cell_type": "markdown",
   "id": "a653d7b1",
   "metadata": {},
   "source": [
    "# Accessing String using Loops "
   ]
  },
  {
   "cell_type": "code",
   "execution_count": 66,
   "id": "a5ba4f3b",
   "metadata": {},
   "outputs": [
    {
     "name": "stdout",
     "output_type": "stream",
     "text": [
      "A\n",
      "a\n",
      "d\n",
      "i\n",
      "l\n"
     ]
    }
   ],
   "source": [
    "str_loops = \"Aadil\"\n",
    "for i in str_loops:\n",
    "    print(i) "
   ]
  },
  {
   "cell_type": "code",
   "execution_count": 67,
   "id": "ff48e6bd",
   "metadata": {},
   "outputs": [
    {
     "name": "stdout",
     "output_type": "stream",
     "text": [
      "0 = A\n",
      "1 = a\n",
      "2 = d\n",
      "3 = i\n",
      "4 = l\n"
     ]
    }
   ],
   "source": [
    "str_loops = \"Aadil\"\n",
    "for i in range(len(str_loops)):\n",
    "    print(f'{i} = {str_loops[i]}')    "
   ]
  },
  {
   "cell_type": "code",
   "execution_count": 68,
   "id": "bcf6c47f",
   "metadata": {},
   "outputs": [
    {
     "name": "stdout",
     "output_type": "stream",
     "text": [
      "A\n",
      "a\n",
      "d\n",
      "i\n",
      "l\n"
     ]
    }
   ],
   "source": [
    "str_loops = \"Aadil\"\n",
    "n = len(str_loops)\n",
    "for i in (range(n)):\n",
    "    print(str_loops[i])     "
   ]
  },
  {
   "cell_type": "code",
   "execution_count": 69,
   "id": "537389ae",
   "metadata": {},
   "outputs": [
    {
     "name": "stdout",
     "output_type": "stream",
     "text": [
      "A\n",
      "a\n",
      "d\n",
      "i\n",
      "l\n"
     ]
    }
   ],
   "source": [
    "str = \"Aadil\"\n",
    "n = len(str)\n",
    "i = 0 \n",
    "while i<n:\n",
    "    print(str[i])\n",
    "    i += 1 "
   ]
  },
  {
   "cell_type": "code",
   "execution_count": 70,
   "id": "8e5f4cbe",
   "metadata": {},
   "outputs": [
    {
     "name": "stdout",
     "output_type": "stream",
     "text": [
      "A\n",
      "a\n",
      "d\n",
      "i\n",
      "l\n"
     ]
    }
   ],
   "source": [
    "str = \"Aadil\"\n",
    "i = 0 \n",
    "while i<len(str):\n",
    "    print(str[i])\n",
    "    i += 1"
   ]
  },
  {
   "cell_type": "code",
   "execution_count": 71,
   "id": "9996a50e",
   "metadata": {},
   "outputs": [
    {
     "name": "stdout",
     "output_type": "stream",
     "text": [
      "0 = A\n",
      "1 = a\n",
      "2 = d\n",
      "3 = i\n",
      "4 = l\n"
     ]
    }
   ],
   "source": [
    "str = \"Aadil\"\n",
    "i = 0 \n",
    "while i<len(str):\n",
    "    print(f'{i} = {str[i]}') \n",
    "    i += 1\n",
    "                # range function cant be used with for loops so, we use starter & incrimenter"
   ]
  },
  {
   "cell_type": "markdown",
   "id": "639f83ce",
   "metadata": {},
   "source": [
    "# Strip Function () "
   ]
  },
  {
   "cell_type": "code",
   "execution_count": 72,
   "id": "8be0268c",
   "metadata": {},
   "outputs": [
    {
     "data": {
      "text/plain": [
       "'Aadil'"
      ]
     },
     "execution_count": 72,
     "metadata": {},
     "output_type": "execute_result"
    }
   ],
   "source": [
    "name = \"        Aadil\"\n",
    "name.lstrip() "
   ]
  },
  {
   "cell_type": "code",
   "execution_count": 73,
   "id": "d6b7b6e1",
   "metadata": {},
   "outputs": [
    {
     "name": "stdout",
     "output_type": "stream",
     "text": [
      "Aadil\n"
     ]
    }
   ],
   "source": [
    "name = \"        Aadil\"\n",
    "print(name.lstrip())   # left space remove"
   ]
  },
  {
   "cell_type": "code",
   "execution_count": 74,
   "id": "d28ea03c",
   "metadata": {},
   "outputs": [
    {
     "name": "stdout",
     "output_type": "stream",
     "text": [
      "    Aadil\n"
     ]
    }
   ],
   "source": [
    "name = \"    Aadil                   \"\n",
    "print(name.rstrip())        # right space remove"
   ]
  },
  {
   "cell_type": "code",
   "execution_count": 75,
   "id": "1118ee9f",
   "metadata": {},
   "outputs": [
    {
     "name": "stdout",
     "output_type": "stream",
     "text": [
      "Aadil\n"
     ]
    }
   ],
   "source": [
    "name = \"    Aadil                   \"\n",
    "print(name.strip())    # all side space remove "
   ]
  },
  {
   "cell_type": "markdown",
   "id": "2187fb2d",
   "metadata": {},
   "source": [
    "## Replace Function "
   ]
  },
  {
   "cell_type": "code",
   "execution_count": 76,
   "id": "84796d6f",
   "metadata": {},
   "outputs": [
    {
     "name": "stdout",
     "output_type": "stream",
     "text": [
      "aadilShows\n",
      "gtaShows\n"
     ]
    }
   ],
   "source": [
    "name = \"aadilShows\"\n",
    "old = \"aadil\"\n",
    "new = \"gta\"\n",
    "str1 = name.replace(old,new)\n",
    "print(name)\n",
    "print(str1) "
   ]
  },
  {
   "cell_type": "code",
   "execution_count": 77,
   "id": "f6d8bda0",
   "metadata": {},
   "outputs": [
    {
     "name": "stdout",
     "output_type": "stream",
     "text": [
      "aadilShows\n",
      "newShows\n"
     ]
    }
   ],
   "source": [
    "name = \"aadilShows\"\n",
    "str1 = name.replace(\"aadil\",'new') \n",
    "print(name)\n",
    "print(str1) "
   ]
  },
  {
   "cell_type": "markdown",
   "id": "51e0156a",
   "metadata": {},
   "source": [
    "## split() Function "
   ]
  },
  {
   "cell_type": "code",
   "execution_count": 78,
   "id": "e420e4ed",
   "metadata": {},
   "outputs": [
    {
     "name": "stdout",
     "output_type": "stream",
     "text": [
      "['Hello', 'How', 'Are', 'you']\n"
     ]
    }
   ],
   "source": [
    "name = \"Hello-How-Are-you\"\n",
    "str1 = name.split('-') \n",
    "print(str1) \n",
    "\n",
    "             # it writtens a list"
   ]
  },
  {
   "cell_type": "code",
   "execution_count": 79,
   "id": "50142853",
   "metadata": {},
   "outputs": [
    {
     "name": "stdout",
     "output_type": "stream",
     "text": [
      "['Aadil', 'Ji']\n"
     ]
    }
   ],
   "source": [
    "name = \"Aadil Ji\"\n",
    "str1 = name.split(' ') \n",
    "print(str1)"
   ]
  },
  {
   "cell_type": "markdown",
   "id": "50075090",
   "metadata": {},
   "source": [
    "## Join() Function "
   ]
  },
  {
   "cell_type": "code",
   "execution_count": 80,
   "id": "df73bb5b",
   "metadata": {},
   "outputs": [
    {
     "name": "stdout",
     "output_type": "stream",
     "text": [
      "aadil_kaise_ho\n"
     ]
    }
   ],
   "source": [
    "name = ('aadil','kaise','ho')\n",
    "str1 = '_'.join(name) \n",
    "print(str1) \n",
    "               # seperator is '_'"
   ]
  },
  {
   "cell_type": "code",
   "execution_count": 81,
   "id": "c4116779",
   "metadata": {},
   "outputs": [
    {
     "name": "stdout",
     "output_type": "stream",
     "text": [
      "aadil kaise ho sb badhiya\n"
     ]
    }
   ],
   "source": [
    "name = ('aadil','kaise','ho','sb','badhiya')\n",
    "str1 = ' '.join(name) \n",
    "print(str1) \n",
    "                # seperator is '<space>'"
   ]
  },
  {
   "cell_type": "code",
   "execution_count": 82,
   "id": "3181e1a8",
   "metadata": {},
   "outputs": [
    {
     "name": "stdout",
     "output_type": "stream",
     "text": [
      "aadil-kaise-ho-sb-badhiya\n"
     ]
    }
   ],
   "source": [
    "name = ('aadil','kaise','ho','sb','badhiya')\n",
    "str1 = '-'.join(name) \n",
    "print(str1)\n",
    "             # seperator is '-'"
   ]
  }
 ],
 "metadata": {
  "kernelspec": {
   "display_name": "Python 3",
   "language": "python",
   "name": "python3"
  },
  "language_info": {
   "codemirror_mode": {
    "name": "ipython",
    "version": 3
   },
   "file_extension": ".py",
   "mimetype": "text/x-python",
   "name": "python",
   "nbconvert_exporter": "python",
   "pygments_lexer": "ipython3",
   "version": "3.7.4"
  }
 },
 "nbformat": 4,
 "nbformat_minor": 5
}
