{
 "cells": [
  {
   "cell_type": "markdown",
   "id": "7c682db1",
   "metadata": {},
   "source": [
    "# F - Strings "
   ]
  },
  {
   "cell_type": "code",
   "execution_count": 1,
   "id": "7320edaa",
   "metadata": {},
   "outputs": [
    {
     "name": "stdout",
     "output_type": "stream",
     "text": [
      "10\n"
     ]
    }
   ],
   "source": [
    "a = 10\n",
    "b = 20\n",
    "value = f\"{a}\"\n",
    "print(value) "
   ]
  },
  {
   "cell_type": "code",
   "execution_count": 2,
   "id": "f43cf26c",
   "metadata": {},
   "outputs": [
    {
     "name": "stdout",
     "output_type": "stream",
     "text": [
      "10 20  10\n"
     ]
    }
   ],
   "source": [
    "a = 10\n",
    "b = 20\n",
    "value = f\"{a} {b}  {a}\" \n",
    "print(value)"
   ]
  },
  {
   "cell_type": "markdown",
   "id": "b7091339",
   "metadata": {},
   "source": [
    "* variable name, integers and Mathematical calculation are written in {curly bracket} "
   ]
  },
  {
   "cell_type": "code",
   "execution_count": 3,
   "id": "761eba76",
   "metadata": {},
   "outputs": [
    {
     "name": "stdout",
     "output_type": "stream",
     "text": [
      "15\n",
      "15\n",
      "   15\n",
      "  +15\n",
      "15   \n",
      "15***\n",
      "***15\n",
      " 15  \n",
      "*15**\n"
     ]
    }
   ],
   "source": [
    "num = 15\n",
    "print(f\"{num}\")\n",
    "print(f\"{num:d}\")\n",
    "print(f\"{num:5d}\")\n",
    "print(f\"{num:+5d}\")\n",
    "print(f\"{num:<5d}\")\n",
    "print(f\"{num:*<5d}\")\n",
    "print(f\"{num:*>5d}\")\n",
    "print(f\"{num:^5d}\")\n",
    "print(f\"{num:*^5d}\") "
   ]
  },
  {
   "cell_type": "code",
   "execution_count": 4,
   "id": "a4c3582f",
   "metadata": {},
   "outputs": [
    {
     "name": "stdout",
     "output_type": "stream",
     "text": [
      "15.65123456789\n",
      "15.651235\n",
      "15.651235\n",
      "15.65123456789000044864\n",
      "  15.651\n",
      " +15.651\n",
      "15.65   \n",
      "15.65***\n",
      "***15.65\n",
      " 15.65  \n",
      "*15.65**\n"
     ]
    }
   ],
   "source": [
    "num = 15.65\n",
    "num = 15.65123456789\n",
    "print(f\"{num}\")\n",
    "print(f\"{num:f}\")\n",
    "print(f\"{num:8f}\")\n",
    "print(f\"{num:.20f}\")\n",
    "print(f\"{num:8.3f}\")\n",
    "print(f\"{num:+8.3f}\")\n",
    "print(f\"{num:<8.2f}\")\n",
    "print(f\"{num:*<8.2f}\")\n",
    "print(f\"{num:*>8.2f}\")\n",
    "print(f\"{num:^8.2f}\")\n",
    "print(f\"{num:*^8.2f}\") "
   ]
  },
  {
   "cell_type": "code",
   "execution_count": 5,
   "id": "2cd12418",
   "metadata": {},
   "outputs": [
    {
     "name": "stdout",
     "output_type": "stream",
     "text": [
      "aadil\n",
      "aadil\n",
      "aadil   \n",
      "aadil   \n",
      "aadil***\n",
      "   aadil\n",
      "***aadil\n",
      " aadil  \n",
      "$aadil$$\n"
     ]
    }
   ],
   "source": [
    "num = \"aadil\"\n",
    "print(f\"{num}\")\n",
    "print(f\"{num:s}\")\n",
    "print(f\"{num:8s}\")\n",
    "print(f\"{num:<8}\")\n",
    "print(f\"{num:*<8}\")\n",
    "print(f\"{num:>8}\")\n",
    "print(f\"{num:*>8s}\")\n",
    "print(f\"{num:^8s}\")\n",
    "print(f\"{num:$^8s}\")  "
   ]
  },
  {
   "cell_type": "code",
   "execution_count": 6,
   "id": "ec12d38e",
   "metadata": {},
   "outputs": [
    {
     "name": "stdout",
     "output_type": "stream",
     "text": [
      "Gee\n",
      "Gee     \n",
      "Gee*****\n",
      "     Gee\n",
      "*****Gee\n",
      "  Gee   \n",
      "**Gee***\n"
     ]
    }
   ],
   "source": [
    "num = \"GeekyShows\"\n",
    "print(f\"{num:.3s}\")\n",
    "print(f\"{num:8.3s}\")\n",
    "print(f\"{num:*<8.3s}\")\n",
    "print(f\"{num:>8.3s}\")\n",
    "print(f\"{num:*>8.3s}\")\n",
    "print(f\"{num:^8.3s}\")\n",
    "print(f\"{num:*^8.3s}\") "
   ]
  },
  {
   "cell_type": "markdown",
   "id": "1e564d56",
   "metadata": {},
   "source": [
    "# -----------------------------------------------------------------"
   ]
  },
  {
   "cell_type": "markdown",
   "id": "5b3ee81a",
   "metadata": {},
   "source": [
    "# seperator "
   ]
  },
  {
   "cell_type": "code",
   "execution_count": 7,
   "id": "8e7490be",
   "metadata": {},
   "outputs": [
    {
     "name": "stdout",
     "output_type": "stream",
     "text": [
      "1,234,567,890\n"
     ]
    }
   ],
   "source": [
    "price = 1234567890\n",
    "print(f'{price:,}')"
   ]
  },
  {
   "cell_type": "code",
   "execution_count": 8,
   "id": "43737e90",
   "metadata": {},
   "outputs": [
    {
     "name": "stdout",
     "output_type": "stream",
     "text": [
      "1_234_567_890\n"
     ]
    }
   ],
   "source": [
    "price = 1234567890\n",
    "print(f'{price:_}') "
   ]
  },
  {
   "cell_type": "code",
   "execution_count": 9,
   "id": "d77e0287",
   "metadata": {},
   "outputs": [
    {
     "name": "stdout",
     "output_type": "stream",
     "text": [
      "My name is Aadil and my age is 22\n"
     ]
    }
   ],
   "source": [
    "a = \"Aadil\"\n",
    "b = 22\n",
    "print(f\"My name is {a} and my age is {b}\") "
   ]
  },
  {
   "cell_type": "code",
   "execution_count": 11,
   "id": "6474acdc",
   "metadata": {},
   "outputs": [
    {
     "name": "stdout",
     "output_type": "stream",
     "text": [
      "80\n"
     ]
    }
   ],
   "source": [
    "print(f\"{10*8}\")  "
   ]
  },
  {
   "cell_type": "code",
   "execution_count": 12,
   "id": "3de2f805",
   "metadata": {},
   "outputs": [
    {
     "name": "stdout",
     "output_type": "stream",
     "text": [
      "1.7e+01\n"
     ]
    }
   ],
   "source": [
    "a = 50\n",
    "b = 3\n",
    "print(f\"{a/b:.2}\") "
   ]
  },
  {
   "cell_type": "code",
   "execution_count": 13,
   "id": "b245f5a8",
   "metadata": {},
   "outputs": [
    {
     "name": "stdout",
     "output_type": "stream",
     "text": [
      "1666.67%\n"
     ]
    }
   ],
   "source": [
    "a = 50\n",
    "b = 3\n",
    "print(f\"{a/b:.2%}\") "
   ]
  },
  {
   "cell_type": "code",
   "execution_count": 15,
   "id": "72ae9416",
   "metadata": {},
   "outputs": [
    {
     "name": "stdout",
     "output_type": "stream",
     "text": [
      "10  20\n",
      "20  10\n"
     ]
    }
   ],
   "source": [
    "value = (10,20)\n",
    "print(f\"{value[0]}  {value[1]}\") \n",
    "print(f\"{value[1]}  {value[0]}\") "
   ]
  },
  {
   "cell_type": "code",
   "execution_count": 16,
   "id": "42ff2604",
   "metadata": {},
   "outputs": [
    {
     "name": "stdout",
     "output_type": "stream",
     "text": [
      "20000 3000\n"
     ]
    }
   ],
   "source": [
    "data = {'rahul':20000, \"sonam\":3000}\n",
    "print(f\"{data['rahul']:d} {data['sonam']:d}\")  "
   ]
  },
  {
   "cell_type": "code",
   "execution_count": 17,
   "id": "010ac49d",
   "metadata": {},
   "outputs": [
    {
     "name": "stdout",
     "output_type": "stream",
     "text": [
      "aadil\n"
     ]
    }
   ],
   "source": [
    "name = \"aadil\"\n",
    "print(f\"{name}\") "
   ]
  },
  {
   "cell_type": "code",
   "execution_count": 18,
   "id": "6e2a373b",
   "metadata": {},
   "outputs": [
    {
     "name": "stdout",
     "output_type": "stream",
     "text": [
      "AADIL\n"
     ]
    }
   ],
   "source": [
    "name = \"aadil\"\n",
    "print(f\"{name.upper()}\") "
   ]
  },
  {
   "cell_type": "code",
   "execution_count": 19,
   "id": "5a33a173",
   "metadata": {},
   "outputs": [
    {
     "name": "stdout",
     "output_type": "stream",
     "text": [
      "{10}\n"
     ]
    }
   ],
   "source": [
    "print(f\"{{10}}\") "
   ]
  },
  {
   "cell_type": "code",
   "execution_count": 20,
   "id": "f1216704",
   "metadata": {},
   "outputs": [
    {
     "name": "stdout",
     "output_type": "stream",
     "text": [
      "2020-10-10 00:00:00\n"
     ]
    }
   ],
   "source": [
    "from datetime import datetime\n",
    "today = datetime(2020,10,10)\n",
    "print(f\"{today}\") "
   ]
  },
  {
   "cell_type": "code",
   "execution_count": 21,
   "id": "c935e2ed",
   "metadata": {},
   "outputs": [
    {
     "name": "stdout",
     "output_type": "stream",
     "text": [
      "10-Oct-2020\n"
     ]
    }
   ],
   "source": [
    "from datetime import datetime\n",
    "today = datetime(2020,10,10)\n",
    "print(f\"{today:%d-%b-%Y}\")"
   ]
  },
  {
   "cell_type": "code",
   "execution_count": 22,
   "id": "c80ed5ec",
   "metadata": {},
   "outputs": [
    {
     "name": "stdout",
     "output_type": "stream",
     "text": [
      "10/Oct/2020\n"
     ]
    }
   ],
   "source": [
    "from datetime import datetime\n",
    "today = datetime(2020,10,10)\n",
    "print(f\"{today:%d/%b/%Y}\") "
   ]
  },
  {
   "cell_type": "code",
   "execution_count": 23,
   "id": "6ca059a7",
   "metadata": {},
   "outputs": [
    {
     "name": "stdout",
     "output_type": "stream",
     "text": [
      "10,Oct,2020\n"
     ]
    }
   ],
   "source": [
    "from datetime import datetime\n",
    "today = datetime(2020,10,10)\n",
    "print(f\"{today:%d,%b,%Y}\")  "
   ]
  }
 ],
 "metadata": {
  "kernelspec": {
   "display_name": "Python 3",
   "language": "python",
   "name": "python3"
  },
  "language_info": {
   "codemirror_mode": {
    "name": "ipython",
    "version": 3
   },
   "file_extension": ".py",
   "mimetype": "text/x-python",
   "name": "python",
   "nbconvert_exporter": "python",
   "pygments_lexer": "ipython3",
   "version": "3.7.4"
  }
 },
 "nbformat": 4,
 "nbformat_minor": 5
}
