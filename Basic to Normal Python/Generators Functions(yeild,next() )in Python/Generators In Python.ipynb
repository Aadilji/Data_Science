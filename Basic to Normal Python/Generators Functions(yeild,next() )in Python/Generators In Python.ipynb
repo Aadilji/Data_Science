{
 "cells": [
  {
   "cell_type": "markdown",
   "id": "3cdc42d9",
   "metadata": {},
   "source": [
    "# Generators In Python"
   ]
  },
  {
   "cell_type": "markdown",
   "id": "84e12fe0",
   "metadata": {},
   "source": [
    "Generators are functions that returns sequence of values. We use Yeild Statement to return statement to return the values from functions."
   ]
  },
  {
   "cell_type": "markdown",
   "id": "06fe7391",
   "metadata": {},
   "source": [
    "# Yield Functions"
   ]
  },
  {
   "cell_type": "markdown",
   "id": "bc7dc2dd",
   "metadata": {},
   "source": [
    "Yield statements returns the element from a generators functions into a generators object.<br>\n",
    "eg:- yield a "
   ]
  },
  {
   "cell_type": "markdown",
   "id": "6f05f9f2",
   "metadata": {},
   "source": [
    "# next() functions "
   ]
  },
  {
   "cell_type": "markdown",
   "id": "c9416a04",
   "metadata": {},
   "source": [
    "This function is used to retrieve element from a generator object.<br>\n",
    "Syntax:- next(generator_Object)."
   ]
  },
  {
   "cell_type": "markdown",
   "id": "83114cc6",
   "metadata": {},
   "source": [
    "## --------------------------------------------||----------------------------------------------------"
   ]
  },
  {
   "cell_type": "markdown",
   "id": "067f60c7",
   "metadata": {},
   "source": [
    "### Generator Function"
   ]
  },
  {
   "cell_type": "markdown",
   "id": "592aad5c",
   "metadata": {},
   "source": [
    "#### Geekyshows"
   ]
  },
  {
   "cell_type": "code",
   "execution_count": 1,
   "id": "e36fc3b6",
   "metadata": {},
   "outputs": [
    {
     "name": "stdout",
     "output_type": "stream",
     "text": [
      "10\n",
      "20\n"
     ]
    }
   ],
   "source": [
    "# example of generator functions\n",
    "\n",
    "def disp(a,b):\n",
    "    yield a\n",
    "    yield b\n",
    "    \n",
    "x,y = disp(10,20)\n",
    "print(x)\n",
    "print(y) "
   ]
  },
  {
   "cell_type": "code",
   "execution_count": 2,
   "id": "353d783e",
   "metadata": {},
   "outputs": [
    {
     "name": "stdout",
     "output_type": "stream",
     "text": [
      "<generator object disp at 0x00000000055161C8>\n",
      "<class 'generator'>\n"
     ]
    }
   ],
   "source": [
    "def disp(a,b):\n",
    "    yield a\n",
    "    yield b\n",
    "    \n",
    "result = disp(10,20)\n",
    "print(result)           # here yield is returning a generator object.\n",
    "print(type(result))  "
   ]
  },
  {
   "cell_type": "code",
   "execution_count": 3,
   "id": "216193f8",
   "metadata": {},
   "outputs": [
    {
     "name": "stdout",
     "output_type": "stream",
     "text": [
      "<generator object disp at 0x0000000005516148>\n",
      "<class 'generator'>\n",
      "[10, 20]\n",
      "<class 'list'>\n"
     ]
    }
   ],
   "source": [
    "def disp(a,b):\n",
    "    yield a\n",
    "    yield b\n",
    "    \n",
    "result = disp(10,20)\n",
    "print(result)           \n",
    "print(type(result))\n",
    "\n",
    "lst = list(result)\n",
    "print(lst) \n",
    "print(type(lst)) "
   ]
  },
  {
   "cell_type": "code",
   "execution_count": 4,
   "id": "80bc74cd",
   "metadata": {},
   "outputs": [
    {
     "name": "stdout",
     "output_type": "stream",
     "text": [
      "<generator object disp at 0x0000000005516048>\n",
      "<class 'generator'>\n",
      "10\n",
      "20\n"
     ]
    }
   ],
   "source": [
    "def disp(a,b):\n",
    "    yield a\n",
    "    yield b\n",
    "    \n",
    "result = disp(10,20)\n",
    "print(result)           \n",
    "print(type(result))\n",
    "\n",
    "print(next(result))    # to print a\n",
    "print(next(result))    # to print b"
   ]
  },
  {
   "cell_type": "code",
   "execution_count": 5,
   "id": "c80b1878",
   "metadata": {},
   "outputs": [
    {
     "name": "stdout",
     "output_type": "stream",
     "text": [
      "10 20\n",
      "<class 'int'>\n",
      "<class 'int'>\n"
     ]
    },
    {
     "ename": "TypeError",
     "evalue": "'int' object is not an iterator",
     "output_type": "error",
     "traceback": [
      "\u001b[1;31m---------------------------------------------------------------------------\u001b[0m",
      "\u001b[1;31mTypeError\u001b[0m                                 Traceback (most recent call last)",
      "\u001b[1;32m<ipython-input-5-5a77aaef20df>\u001b[0m in \u001b[0;36m<module>\u001b[1;34m\u001b[0m\n\u001b[0;32m     10\u001b[0m \u001b[0mprint\u001b[0m\u001b[1;33m(\u001b[0m\u001b[0mtype\u001b[0m\u001b[1;33m(\u001b[0m\u001b[0mb\u001b[0m\u001b[1;33m)\u001b[0m\u001b[1;33m)\u001b[0m\u001b[1;33m\u001b[0m\u001b[1;33m\u001b[0m\u001b[0m\n\u001b[0;32m     11\u001b[0m \u001b[1;33m\u001b[0m\u001b[0m\n\u001b[1;32m---> 12\u001b[1;33m \u001b[0mprint\u001b[0m\u001b[1;33m(\u001b[0m\u001b[0mnext\u001b[0m\u001b[1;33m(\u001b[0m\u001b[0ma\u001b[0m\u001b[1;33m)\u001b[0m\u001b[1;33m)\u001b[0m\u001b[1;33m\u001b[0m\u001b[1;33m\u001b[0m\u001b[0m\n\u001b[0m\u001b[0;32m     13\u001b[0m \u001b[0mprint\u001b[0m\u001b[1;33m(\u001b[0m\u001b[0mnext\u001b[0m\u001b[1;33m(\u001b[0m\u001b[0mb\u001b[0m\u001b[1;33m)\u001b[0m\u001b[1;33m)\u001b[0m\u001b[1;33m\u001b[0m\u001b[1;33m\u001b[0m\u001b[0m\n",
      "\u001b[1;31mTypeError\u001b[0m: 'int' object is not an iterator"
     ]
    }
   ],
   "source": [
    "# iske error se humko bahut saari cheeze seekhne ko mili..\n",
    "\n",
    "def disp(a,b):\n",
    "    yield a\n",
    "    yield b\n",
    "    \n",
    "a,b = disp(10,20)\n",
    "print(a,b)           \n",
    "print(type(a))\n",
    "print(type(b))\n",
    "\n",
    "print(next(a))    \n",
    "print(next(b))      "
   ]
  },
  {
   "cell_type": "code",
   "execution_count": 6,
   "id": "bf01ab32",
   "metadata": {},
   "outputs": [
    {
     "name": "stdout",
     "output_type": "stream",
     "text": [
      "1\n",
      "2\n",
      "3\n",
      "4\n",
      "5\n"
     ]
    }
   ],
   "source": [
    "# example 3:-\n",
    "\n",
    "def show(a,b):\n",
    "    while a<=b:\n",
    "        yield a\n",
    "        a += 1\n",
    "        \n",
    "result = show(1, 5)\n",
    "print(next(result))\n",
    "print(next(result))\n",
    "print(next(result))\n",
    "print(next(result))\n",
    "print(next(result)) "
   ]
  },
  {
   "cell_type": "code",
   "execution_count": 7,
   "id": "0cc83a28",
   "metadata": {},
   "outputs": [
    {
     "name": "stdout",
     "output_type": "stream",
     "text": [
      "1\n",
      "2\n",
      "3\n",
      "4\n",
      "5\n"
     ]
    }
   ],
   "source": [
    "def show(a,b):\n",
    "    while a<=b:\n",
    "        yield a\n",
    "        a += 1\n",
    "        \n",
    "result = show(1, 5)\n",
    "\n",
    "for i in result:\n",
    "    print (i) "
   ]
  },
  {
   "cell_type": "markdown",
   "id": "0eff264c",
   "metadata": {},
   "source": [
    "### Code With Harry - (generator)"
   ]
  },
  {
   "cell_type": "markdown",
   "id": "7133f910",
   "metadata": {},
   "source": [
    "Iterable - __iter__() or __getitem__()<br>\n",
    "Iterator  - __next__()<br>\n",
    "Iteration<br>\n",
    "<br>\n",
    "Iterable ek esa python object (string,list,etc..) hota hai jisme __iter__() and __getitem__() method define hota hai.<br>\n",
    "Agar hum yeh do method iterable(object) pr run karenge toh woh hame Iterator Dega.<br>\n",
    "<br>\n",
    "Iterator ek esa python object hota hai jisme __next__() method define hota hai.<br>\n",
    "<br>\n",
    "Iteration:- The Process to Iterate Through an object is called as Iteration.<br>\n",
    "<br>\n",
    "Example:- suppose humare pass ek list ya string hai, aur agar hum uspr __iter__() method ya __getitem__()<br>\n",
    "ko use kare and woh iterate ho jaaye toh usko hum iterable bolte hai.<br>\n",
    "Ab Iterable humko ek iterator object return karta hai jisme hum __next__() method ko baar baar use karke list ya string<br>\n",
    "ke  saare elements extract kar sakte hai<br>\n",
    "And this process of iterating is called as Iteration. "
   ]
  },
  {
   "cell_type": "markdown",
   "id": "62bb85e7",
   "metadata": {},
   "source": [
    "# -------------------------------------------------||-------------------------------------"
   ]
  },
  {
   "cell_type": "markdown",
   "id": "23aa968b",
   "metadata": {},
   "source": [
    "Ques:- What is Generators ?<br> \n",
    "ans:- Generators are a type of itertor, through which, we can traverse only one time."
   ]
  },
  {
   "cell_type": "markdown",
   "id": "25c07f77",
   "metadata": {},
   "source": [
    "Remember that string & list are iterables, but integers are not iterables."
   ]
  },
  {
   "cell_type": "code",
   "execution_count": 8,
   "id": "409c8d2f",
   "metadata": {},
   "outputs": [
    {
     "name": "stdout",
     "output_type": "stream",
     "text": [
      "a\n",
      "a\n",
      "d\n",
      "i\n",
      "l\n"
     ]
    }
   ],
   "source": [
    "h = \"aadil\"\n",
    "i_t_e_r = iter(h)\n",
    "print(i_t_e_r.__next__())\n",
    "print(i_t_e_r.__next__())\n",
    "print(i_t_e_r.__next__())\n",
    "print(i_t_e_r.__next__())\n",
    "print(i_t_e_r.__next__()) "
   ]
  },
  {
   "cell_type": "code",
   "execution_count": 9,
   "id": "6aa79868",
   "metadata": {},
   "outputs": [
    {
     "name": "stdout",
     "output_type": "stream",
     "text": [
      "a\n",
      "a\n",
      "d\n",
      "i\n",
      "l\n"
     ]
    },
    {
     "ename": "StopIteration",
     "evalue": "",
     "output_type": "error",
     "traceback": [
      "\u001b[1;31m---------------------------------------------------------------------------\u001b[0m",
      "\u001b[1;31mStopIteration\u001b[0m                             Traceback (most recent call last)",
      "\u001b[1;32m<ipython-input-9-4f93b270cef4>\u001b[0m in \u001b[0;36m<module>\u001b[1;34m\u001b[0m\n\u001b[0;32m      8\u001b[0m \u001b[0mprint\u001b[0m\u001b[1;33m(\u001b[0m\u001b[0mi_t_e_r\u001b[0m\u001b[1;33m.\u001b[0m\u001b[0m__next__\u001b[0m\u001b[1;33m(\u001b[0m\u001b[1;33m)\u001b[0m\u001b[1;33m)\u001b[0m\u001b[1;33m\u001b[0m\u001b[1;33m\u001b[0m\u001b[0m\n\u001b[0;32m      9\u001b[0m \u001b[0mprint\u001b[0m\u001b[1;33m(\u001b[0m\u001b[0mi_t_e_r\u001b[0m\u001b[1;33m.\u001b[0m\u001b[0m__next__\u001b[0m\u001b[1;33m(\u001b[0m\u001b[1;33m)\u001b[0m\u001b[1;33m)\u001b[0m\u001b[1;33m\u001b[0m\u001b[1;33m\u001b[0m\u001b[0m\n\u001b[1;32m---> 10\u001b[1;33m \u001b[0mprint\u001b[0m\u001b[1;33m(\u001b[0m\u001b[0mi_t_e_r\u001b[0m\u001b[1;33m.\u001b[0m\u001b[0m__next__\u001b[0m\u001b[1;33m(\u001b[0m\u001b[1;33m)\u001b[0m\u001b[1;33m)\u001b[0m\u001b[1;33m\u001b[0m\u001b[1;33m\u001b[0m\u001b[0m\n\u001b[0m",
      "\u001b[1;31mStopIteration\u001b[0m: "
     ]
    }
   ],
   "source": [
    "# agar hum  isko 6 baare iterate karenge toh humko error mil jaayega.\n",
    "\n",
    "h = \"aadil\"\n",
    "i_t_e_r = iter(h)\n",
    "print(i_t_e_r.__next__())\n",
    "print(i_t_e_r.__next__())\n",
    "print(i_t_e_r.__next__())\n",
    "print(i_t_e_r.__next__())\n",
    "print(i_t_e_r.__next__())\n",
    "print(i_t_e_r.__next__()) "
   ]
  },
  {
   "cell_type": "code",
   "execution_count": 11,
   "id": "64a77057",
   "metadata": {},
   "outputs": [
    {
     "name": "stdout",
     "output_type": "stream",
     "text": [
      "a\n",
      "a\n",
      "d\n",
      "i\n",
      "l\n"
     ]
    }
   ],
   "source": [
    "# lekin for loop StopIteration ko Automatic Handle Karta hai.\n",
    "h = \"aadil\"\n",
    "for i in h:\n",
    "    print (i) "
   ]
  },
  {
   "cell_type": "markdown",
   "id": "dd40db25",
   "metadata": {},
   "source": [
    "Ab for loops or Generator m kya difference hai, actually for loops jaise hi hum apply karte hai woh sidhe (string, ya list) ko iterate kar dega and value sidhe print kr dega and value ko memory mai store kr dega, lekin jab hum generators ko use krte hai tab woh (list ya string) ko iterate kar ke value ko taiyyar rakhega ek  object mai, and jaise hi hum us object ko iterate karenge __next__() method ke dwara toh woh humko ek ek karke value degaa , na ki for loops ke jaisa ek saath mai sab de dega, isse hamari memory bachegi.<br>\n",
    "and main baat  toh yeh hai ki generators mai se hum srf ek hi baar iterate kar sakte hai."
   ]
  },
  {
   "cell_type": "markdown",
   "id": "50fd192d",
   "metadata": {},
   "source": [
    "Ques:- what is the difference between print, return and yeild ?<br>\n",
    "Ans:-  print statement function  ki value ko print krta hai, jisko hum variable mai store nhi kar sakte<br>\n",
    "return statement function ki value return karta hai jisko hum variable mai store kr sakte hai.<br>\n",
    "yield statement hume ek generator object return karega jisko hum next() method se ek ek karke value ko extract kar sakte hai<br>\n",
    "remember, we can transverse through this object only one time."
   ]
  }
 ],
 "metadata": {
  "kernelspec": {
   "display_name": "Python 3",
   "language": "python",
   "name": "python3"
  },
  "language_info": {
   "codemirror_mode": {
    "name": "ipython",
    "version": 3
   },
   "file_extension": ".py",
   "mimetype": "text/x-python",
   "name": "python",
   "nbconvert_exporter": "python",
   "pygments_lexer": "ipython3",
   "version": "3.7.4"
  }
 },
 "nbformat": 4,
 "nbformat_minor": 5
}
