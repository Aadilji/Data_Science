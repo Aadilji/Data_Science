{
 "cells": [
  {
   "cell_type": "code",
   "execution_count": 1,
   "id": "21def19e",
   "metadata": {},
   "outputs": [
    {
     "name": "stdout",
     "output_type": "stream",
     "text": [
      "Requirement already satisfied: mysql-connector-python in c:\\users\\todays\\appdata\\local\\programs\\python\\python37\\lib\\site-packages (8.0.24)Note: you may need to restart the kernel to use updated packages.\n",
      "Requirement already satisfied: protobuf>=3.0.0 in c:\\users\\todays\\appdata\\local\\programs\\python\\python37\\lib\\site-packages (from mysql-connector-python) (3.17.0)\n",
      "Requirement already satisfied: six>=1.9 in c:\\users\\todays\\appdata\\local\\programs\\python\\python37\\lib\\site-packages (from protobuf>=3.0.0->mysql-connector-python) (1.16.0)\n",
      "\n"
     ]
    },
    {
     "name": "stderr",
     "output_type": "stream",
     "text": [
      "WARNING: Ignoring invalid distribution -ymongo (c:\\users\\todays\\appdata\\local\\programs\\python\\python37\\lib\\site-packages)\n",
      "WARNING: Ignoring invalid distribution -ymongo (c:\\users\\todays\\appdata\\local\\programs\\python\\python37\\lib\\site-packages)\n",
      "WARNING: Ignoring invalid distribution -ymongo (c:\\users\\todays\\appdata\\local\\programs\\python\\python37\\lib\\site-packages)\n",
      "WARNING: Ignoring invalid distribution -ymongo (c:\\users\\todays\\appdata\\local\\programs\\python\\python37\\lib\\site-packages)\n",
      "WARNING: Ignoring invalid distribution -ymongo (c:\\users\\todays\\appdata\\local\\programs\\python\\python37\\lib\\site-packages)\n",
      "WARNING: Ignoring invalid distribution -ymongo (c:\\users\\todays\\appdata\\local\\programs\\python\\python37\\lib\\site-packages)\n",
      "WARNING: You are using pip version 21.1.2; however, version 21.2.2 is available.\n",
      "You should consider upgrading via the 'c:\\users\\todays\\appdata\\local\\programs\\python\\python37\\python.exe -m pip install --upgrade pip' command.\n"
     ]
    }
   ],
   "source": [
    "pip install mysql-connector-python"
   ]
  },
  {
   "cell_type": "code",
   "execution_count": 2,
   "id": "6576528f",
   "metadata": {},
   "outputs": [],
   "source": [
    "import mysql.connector as connection "
   ]
  },
  {
   "cell_type": "code",
   "execution_count": 3,
   "id": "63172f3b",
   "metadata": {},
   "outputs": [],
   "source": [
    "mydb = connection.connect(host=\"localhost\",user=\"root\",passwd=\"Aadil@78600\",use_pure=True)"
   ]
  },
  {
   "cell_type": "code",
   "execution_count": 4,
   "id": "c101a575",
   "metadata": {},
   "outputs": [
    {
     "data": {
      "text/plain": [
       "<mysql.connector.connection.MySQLConnection at 0x5e3fe88>"
      ]
     },
     "execution_count": 4,
     "metadata": {},
     "output_type": "execute_result"
    }
   ],
   "source": [
    "mydb "
   ]
  },
  {
   "cell_type": "code",
   "execution_count": 5,
   "id": "a8bd19e2",
   "metadata": {},
   "outputs": [
    {
     "data": {
      "text/plain": [
       "<bound method MySQLConnection.is_connected of <mysql.connector.connection.MySQLConnection object at 0x0000000005E3FE88>>"
      ]
     },
     "execution_count": 5,
     "metadata": {},
     "output_type": "execute_result"
    }
   ],
   "source": [
    "mydb.is_connected "
   ]
  },
  {
   "cell_type": "code",
   "execution_count": 6,
   "id": "d1050d2c",
   "metadata": {},
   "outputs": [],
   "source": [
    "cur = mydb.cursor() "
   ]
  },
  {
   "cell_type": "code",
   "execution_count": 7,
   "id": "d5aaa607",
   "metadata": {},
   "outputs": [],
   "source": [
    "cur.execute(\"show databases\") "
   ]
  },
  {
   "cell_type": "code",
   "execution_count": 8,
   "id": "2cf2da85",
   "metadata": {},
   "outputs": [
    {
     "data": {
      "text/plain": [
       "[('information_schema',),\n",
       " ('aadil',),\n",
       " ('aadil111',),\n",
       " ('aadil_sql_revision',),\n",
       " ('gta',),\n",
       " ('jio',),\n",
       " ('mysql',),\n",
       " ('performance_schema',),\n",
       " ('sakila',),\n",
       " ('sme',),\n",
       " ('sys',),\n",
       " ('world',)]"
      ]
     },
     "execution_count": 8,
     "metadata": {},
     "output_type": "execute_result"
    }
   ],
   "source": [
    "cur.fetchall() "
   ]
  },
  {
   "cell_type": "code",
   "execution_count": 9,
   "id": "c5c46359",
   "metadata": {},
   "outputs": [],
   "source": [
    "for i in cur.fetchall():\n",
    "    print(i) "
   ]
  },
  {
   "cell_type": "code",
   "execution_count": 10,
   "id": "1eaa1cee",
   "metadata": {},
   "outputs": [],
   "source": [
    "cur = mydb.cursor() "
   ]
  },
  {
   "cell_type": "code",
   "execution_count": 11,
   "id": "6f200f58",
   "metadata": {},
   "outputs": [],
   "source": [
    "cur.execute(\"show databases\")  "
   ]
  },
  {
   "cell_type": "code",
   "execution_count": 12,
   "id": "5d68fb9c",
   "metadata": {},
   "outputs": [
    {
     "name": "stdout",
     "output_type": "stream",
     "text": [
      "('information_schema',)\n",
      "('aadil',)\n",
      "('aadil111',)\n",
      "('aadil_sql_revision',)\n",
      "('gta',)\n",
      "('jio',)\n",
      "('mysql',)\n",
      "('performance_schema',)\n",
      "('sakila',)\n",
      "('sme',)\n",
      "('sys',)\n",
      "('world',)\n"
     ]
    }
   ],
   "source": [
    "for i in cur.fetchall():\n",
    "    print(i) "
   ]
  },
  {
   "cell_type": "code",
   "execution_count": 13,
   "id": "8c5fbbdb",
   "metadata": {},
   "outputs": [],
   "source": [
    "cur = mydb.cursor( )"
   ]
  },
  {
   "cell_type": "code",
   "execution_count": 14,
   "id": "b2abd215",
   "metadata": {
    "scrolled": true
   },
   "outputs": [
    {
     "ename": "TypeError",
     "evalue": "execute() missing 1 required positional argument: 'operation'",
     "output_type": "error",
     "traceback": [
      "\u001b[1;31m---------------------------------------------------------------------------\u001b[0m",
      "\u001b[1;31mTypeError\u001b[0m                                 Traceback (most recent call last)",
      "\u001b[1;32m<ipython-input-14-7590898e8469>\u001b[0m in \u001b[0;36m<module>\u001b[1;34m\u001b[0m\n\u001b[1;32m----> 1\u001b[1;33m \u001b[0mtype\u001b[0m\u001b[1;33m(\u001b[0m\u001b[0mcur\u001b[0m\u001b[1;33m.\u001b[0m\u001b[0mexecute\u001b[0m\u001b[1;33m(\u001b[0m\u001b[1;33m)\u001b[0m\u001b[1;33m)\u001b[0m\u001b[1;33m\u001b[0m\u001b[1;33m\u001b[0m\u001b[0m\n\u001b[0m",
      "\u001b[1;31mTypeError\u001b[0m: execute() missing 1 required positional argument: 'operation'"
     ]
    }
   ],
   "source": [
    "type(cur.execute())  "
   ]
  },
  {
   "cell_type": "code",
   "execution_count": 17,
   "id": "1c546391",
   "metadata": {},
   "outputs": [],
   "source": [
    "mydb.close() "
   ]
  },
  {
   "cell_type": "code",
   "execution_count": 19,
   "id": "9b8ec8b0",
   "metadata": {},
   "outputs": [
    {
     "data": {
      "text/plain": [
       "False"
      ]
     },
     "execution_count": 19,
     "metadata": {},
     "output_type": "execute_result"
    }
   ],
   "source": [
    "mydb.is_connected()  "
   ]
  },
  {
   "cell_type": "code",
   "execution_count": null,
   "id": "2fba2058",
   "metadata": {},
   "outputs": [],
   "source": []
  }
 ],
 "metadata": {
  "kernelspec": {
   "display_name": "Python 3",
   "language": "python",
   "name": "python3"
  },
  "language_info": {
   "codemirror_mode": {
    "name": "ipython",
    "version": 3
   },
   "file_extension": ".py",
   "mimetype": "text/x-python",
   "name": "python",
   "nbconvert_exporter": "python",
   "pygments_lexer": "ipython3",
   "version": "3.7.4"
  }
 },
 "nbformat": 4,
 "nbformat_minor": 5
}
