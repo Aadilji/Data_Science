{
 "cells": [
  {
   "cell_type": "code",
   "execution_count": 1,
   "id": "7757420d",
   "metadata": {},
   "outputs": [],
   "source": [
    "import mysql.connector as connection "
   ]
  },
  {
   "cell_type": "code",
   "execution_count": 2,
   "id": "08d90e30",
   "metadata": {},
   "outputs": [],
   "source": [
    "mydb = connection.connect(host=\"localhost\",user=\"root\",passwd=\"Aadil@78600\",use_pure=True) "
   ]
  },
  {
   "cell_type": "code",
   "execution_count": 3,
   "id": "c3ba3af1",
   "metadata": {},
   "outputs": [
    {
     "data": {
      "text/plain": [
       "<mysql.connector.connection.MySQLConnection at 0x83d99c8>"
      ]
     },
     "execution_count": 3,
     "metadata": {},
     "output_type": "execute_result"
    }
   ],
   "source": [
    "mydb"
   ]
  },
  {
   "cell_type": "code",
   "execution_count": 4,
   "id": "628e2aa8",
   "metadata": {},
   "outputs": [],
   "source": [
    "cur = mydb.cursor() "
   ]
  },
  {
   "cell_type": "code",
   "execution_count": 5,
   "id": "f6e2570f",
   "metadata": {},
   "outputs": [],
   "source": [
    "cur.execute(\"show databases\")"
   ]
  },
  {
   "cell_type": "code",
   "execution_count": 6,
   "id": "b8b554b5",
   "metadata": {},
   "outputs": [],
   "source": [
    "a = cur.fetchall() "
   ]
  },
  {
   "cell_type": "code",
   "execution_count": 7,
   "id": "43bd3b6c",
   "metadata": {},
   "outputs": [
    {
     "name": "stdout",
     "output_type": "stream",
     "text": [
      "(0, ('information_schema',))\n",
      "(1, ('aadil',))\n",
      "(2, ('aadil111',))\n",
      "(3, ('aadil_sql_revision',))\n",
      "(4, ('gta',))\n",
      "(5, ('jio',))\n",
      "(6, ('mysql',))\n",
      "(7, ('performance_schema',))\n",
      "(8, ('sakila',))\n",
      "(9, ('sme',))\n",
      "(10, ('sys',))\n",
      "(11, ('world',))\n"
     ]
    }
   ],
   "source": [
    "for i in enumerate(a):\n",
    "    print(i) \n",
    "    "
   ]
  },
  {
   "cell_type": "code",
   "execution_count": 8,
   "id": "06004ba0",
   "metadata": {},
   "outputs": [],
   "source": [
    "mydb.close() "
   ]
  },
  {
   "cell_type": "code",
   "execution_count": 9,
   "id": "4b59a3be",
   "metadata": {},
   "outputs": [
    {
     "data": {
      "text/plain": [
       "False"
      ]
     },
     "execution_count": 9,
     "metadata": {},
     "output_type": "execute_result"
    }
   ],
   "source": [
    "mydb.is_connected() "
   ]
  },
  {
   "cell_type": "code",
   "execution_count": 14,
   "id": "c719b984",
   "metadata": {},
   "outputs": [],
   "source": [
    "import mysql.connector as connection "
   ]
  },
  {
   "cell_type": "code",
   "execution_count": 15,
   "id": "8c9f9e8b",
   "metadata": {},
   "outputs": [],
   "source": [
    "mydb = connection.connect(host=\"localhost\",user=\"root\",passwd=\"Aadil@78600\",use_pure=True) "
   ]
  },
  {
   "cell_type": "code",
   "execution_count": 16,
   "id": "b38dcce7",
   "metadata": {},
   "outputs": [
    {
     "data": {
      "text/plain": [
       "<mysql.connector.connection.MySQLConnection at 0x9346488>"
      ]
     },
     "execution_count": 16,
     "metadata": {},
     "output_type": "execute_result"
    }
   ],
   "source": [
    "mydb "
   ]
  },
  {
   "cell_type": "code",
   "execution_count": 18,
   "id": "079ccd7f",
   "metadata": {},
   "outputs": [],
   "source": [
    "cur = mydb.cursor() "
   ]
  },
  {
   "cell_type": "code",
   "execution_count": 19,
   "id": "9f167f5a",
   "metadata": {},
   "outputs": [],
   "source": [
    "cur.execute(\"create database two_august\") "
   ]
  },
  {
   "cell_type": "code",
   "execution_count": 24,
   "id": "6153d0a1",
   "metadata": {},
   "outputs": [],
   "source": [
    "mydb = connection.connect(host=\"localhost\",user=\"root\",database = \"two_august\",passwd=\"Aadil@78600\",use_pure=True)  "
   ]
  },
  {
   "cell_type": "code",
   "execution_count": 25,
   "id": "8abb3ed4",
   "metadata": {},
   "outputs": [
    {
     "ename": "ProgrammingError",
     "evalue": "1046 (3D000): No database selected",
     "output_type": "error",
     "traceback": [
      "\u001b[1;31m---------------------------------------------------------------------------\u001b[0m",
      "\u001b[1;31mProgrammingError\u001b[0m                          Traceback (most recent call last)",
      "\u001b[1;32m<ipython-input-25-0c1eb8f0f7ff>\u001b[0m in \u001b[0;36m<module>\u001b[1;34m\u001b[0m\n\u001b[0;32m      1\u001b[0m \u001b[0mquery\u001b[0m \u001b[1;33m=\u001b[0m \u001b[1;34m\"Create table two_aug (x1 int(5),x2 varchar(20),x3 DATE)\"\u001b[0m\u001b[1;33m\u001b[0m\u001b[1;33m\u001b[0m\u001b[0m\n\u001b[1;32m----> 2\u001b[1;33m \u001b[0mcur\u001b[0m\u001b[1;33m.\u001b[0m\u001b[0mexecute\u001b[0m\u001b[1;33m(\u001b[0m\u001b[0mquery\u001b[0m\u001b[1;33m)\u001b[0m\u001b[1;33m\u001b[0m\u001b[1;33m\u001b[0m\u001b[0m\n\u001b[0m",
      "\u001b[1;32mc:\\users\\todays\\appdata\\local\\programs\\python\\python37\\lib\\site-packages\\mysql\\connector\\cursor.py\u001b[0m in \u001b[0;36mexecute\u001b[1;34m(self, operation, params, multi)\u001b[0m\n\u001b[0;32m    566\u001b[0m \u001b[1;33m\u001b[0m\u001b[0m\n\u001b[0;32m    567\u001b[0m         \u001b[1;32mtry\u001b[0m\u001b[1;33m:\u001b[0m\u001b[1;33m\u001b[0m\u001b[1;33m\u001b[0m\u001b[0m\n\u001b[1;32m--> 568\u001b[1;33m             \u001b[0mself\u001b[0m\u001b[1;33m.\u001b[0m\u001b[0m_handle_result\u001b[0m\u001b[1;33m(\u001b[0m\u001b[0mself\u001b[0m\u001b[1;33m.\u001b[0m\u001b[0m_connection\u001b[0m\u001b[1;33m.\u001b[0m\u001b[0mcmd_query\u001b[0m\u001b[1;33m(\u001b[0m\u001b[0mstmt\u001b[0m\u001b[1;33m)\u001b[0m\u001b[1;33m)\u001b[0m\u001b[1;33m\u001b[0m\u001b[1;33m\u001b[0m\u001b[0m\n\u001b[0m\u001b[0;32m    569\u001b[0m         \u001b[1;32mexcept\u001b[0m \u001b[0merrors\u001b[0m\u001b[1;33m.\u001b[0m\u001b[0mInterfaceError\u001b[0m\u001b[1;33m:\u001b[0m\u001b[1;33m\u001b[0m\u001b[1;33m\u001b[0m\u001b[0m\n\u001b[0;32m    570\u001b[0m             \u001b[1;32mif\u001b[0m \u001b[0mself\u001b[0m\u001b[1;33m.\u001b[0m\u001b[0m_connection\u001b[0m\u001b[1;33m.\u001b[0m\u001b[0m_have_next_result\u001b[0m\u001b[1;33m:\u001b[0m  \u001b[1;31m# pylint: disable=W0212\u001b[0m\u001b[1;33m\u001b[0m\u001b[1;33m\u001b[0m\u001b[0m\n",
      "\u001b[1;32mc:\\users\\todays\\appdata\\local\\programs\\python\\python37\\lib\\site-packages\\mysql\\connector\\connection.py\u001b[0m in \u001b[0;36mcmd_query\u001b[1;34m(self, query, raw, buffered, raw_as_string)\u001b[0m\n\u001b[0;32m    684\u001b[0m             \u001b[0mquery\u001b[0m \u001b[1;33m=\u001b[0m \u001b[0mquery\u001b[0m\u001b[1;33m.\u001b[0m\u001b[0mencode\u001b[0m\u001b[1;33m(\u001b[0m\u001b[1;34m'utf-8'\u001b[0m\u001b[1;33m)\u001b[0m\u001b[1;33m\u001b[0m\u001b[1;33m\u001b[0m\u001b[0m\n\u001b[0;32m    685\u001b[0m         \u001b[1;32mtry\u001b[0m\u001b[1;33m:\u001b[0m\u001b[1;33m\u001b[0m\u001b[1;33m\u001b[0m\u001b[0m\n\u001b[1;32m--> 686\u001b[1;33m             \u001b[0mresult\u001b[0m \u001b[1;33m=\u001b[0m \u001b[0mself\u001b[0m\u001b[1;33m.\u001b[0m\u001b[0m_handle_result\u001b[0m\u001b[1;33m(\u001b[0m\u001b[0mself\u001b[0m\u001b[1;33m.\u001b[0m\u001b[0m_send_cmd\u001b[0m\u001b[1;33m(\u001b[0m\u001b[0mServerCmd\u001b[0m\u001b[1;33m.\u001b[0m\u001b[0mQUERY\u001b[0m\u001b[1;33m,\u001b[0m \u001b[0mquery\u001b[0m\u001b[1;33m)\u001b[0m\u001b[1;33m)\u001b[0m\u001b[1;33m\u001b[0m\u001b[1;33m\u001b[0m\u001b[0m\n\u001b[0m\u001b[0;32m    687\u001b[0m         \u001b[1;32mexcept\u001b[0m \u001b[0merrors\u001b[0m\u001b[1;33m.\u001b[0m\u001b[0mProgrammingError\u001b[0m \u001b[1;32mas\u001b[0m \u001b[0merr\u001b[0m\u001b[1;33m:\u001b[0m\u001b[1;33m\u001b[0m\u001b[1;33m\u001b[0m\u001b[0m\n\u001b[0;32m    688\u001b[0m             \u001b[1;32mif\u001b[0m \u001b[0merr\u001b[0m\u001b[1;33m.\u001b[0m\u001b[0merrno\u001b[0m \u001b[1;33m==\u001b[0m \u001b[1;36m3948\u001b[0m \u001b[1;32mand\u001b[0m\u001b[0;31m \u001b[0m\u001b[0;31m\\\u001b[0m\u001b[1;33m\u001b[0m\u001b[1;33m\u001b[0m\u001b[0m\n",
      "\u001b[1;32mc:\\users\\todays\\appdata\\local\\programs\\python\\python37\\lib\\site-packages\\mysql\\connector\\connection.py\u001b[0m in \u001b[0;36m_handle_result\u001b[1;34m(self, packet)\u001b[0m\n\u001b[0;32m    571\u001b[0m             \u001b[1;32mreturn\u001b[0m \u001b[0mself\u001b[0m\u001b[1;33m.\u001b[0m\u001b[0m_handle_eof\u001b[0m\u001b[1;33m(\u001b[0m\u001b[0mpacket\u001b[0m\u001b[1;33m)\u001b[0m\u001b[1;33m\u001b[0m\u001b[1;33m\u001b[0m\u001b[0m\n\u001b[0;32m    572\u001b[0m         \u001b[1;32melif\u001b[0m \u001b[0mpacket\u001b[0m\u001b[1;33m[\u001b[0m\u001b[1;36m4\u001b[0m\u001b[1;33m]\u001b[0m \u001b[1;33m==\u001b[0m \u001b[1;36m255\u001b[0m\u001b[1;33m:\u001b[0m\u001b[1;33m\u001b[0m\u001b[1;33m\u001b[0m\u001b[0m\n\u001b[1;32m--> 573\u001b[1;33m             \u001b[1;32mraise\u001b[0m \u001b[0merrors\u001b[0m\u001b[1;33m.\u001b[0m\u001b[0mget_exception\u001b[0m\u001b[1;33m(\u001b[0m\u001b[0mpacket\u001b[0m\u001b[1;33m)\u001b[0m\u001b[1;33m\u001b[0m\u001b[1;33m\u001b[0m\u001b[0m\n\u001b[0m\u001b[0;32m    574\u001b[0m \u001b[1;33m\u001b[0m\u001b[0m\n\u001b[0;32m    575\u001b[0m         \u001b[1;31m# We have a text result set\u001b[0m\u001b[1;33m\u001b[0m\u001b[1;33m\u001b[0m\u001b[1;33m\u001b[0m\u001b[0m\n",
      "\u001b[1;31mProgrammingError\u001b[0m: 1046 (3D000): No database selected"
     ]
    }
   ],
   "source": []
  },
  {
   "cell_type": "code",
   "execution_count": 26,
   "id": "b2bcab60",
   "metadata": {},
   "outputs": [
    {
     "data": {
      "text/plain": [
       "<mysql.connector.connection.MySQLConnection at 0x951b308>"
      ]
     },
     "execution_count": 26,
     "metadata": {},
     "output_type": "execute_result"
    }
   ],
   "source": [
    "mydb "
   ]
  },
  {
   "cell_type": "code",
   "execution_count": 27,
   "id": "d9bbf109",
   "metadata": {},
   "outputs": [
    {
     "data": {
      "text/plain": [
       "True"
      ]
     },
     "execution_count": 27,
     "metadata": {},
     "output_type": "execute_result"
    }
   ],
   "source": [
    "mydb.is_connected() "
   ]
  },
  {
   "cell_type": "code",
   "execution_count": 28,
   "id": "f89a46f3",
   "metadata": {},
   "outputs": [],
   "source": [
    "mydb = connection.connect(host=\"localhost\",user=\"root\",database = \"two_august\",passwd=\"Aadil@78600\",use_pure=True) "
   ]
  },
  {
   "cell_type": "code",
   "execution_count": 29,
   "id": "180102a7",
   "metadata": {},
   "outputs": [
    {
     "data": {
      "text/plain": [
       "<mysql.connector.connection.MySQLConnection at 0x93c9148>"
      ]
     },
     "execution_count": 29,
     "metadata": {},
     "output_type": "execute_result"
    }
   ],
   "source": [
    "mydb "
   ]
  },
  {
   "cell_type": "code",
   "execution_count": 30,
   "id": "bc2c62a7",
   "metadata": {},
   "outputs": [],
   "source": [
    "mydb.close() "
   ]
  },
  {
   "cell_type": "code",
   "execution_count": 31,
   "id": "3c49ee47",
   "metadata": {},
   "outputs": [
    {
     "data": {
      "text/plain": [
       "<mysql.connector.connection.MySQLConnection at 0x93c9148>"
      ]
     },
     "execution_count": 31,
     "metadata": {},
     "output_type": "execute_result"
    }
   ],
   "source": [
    "mydb"
   ]
  },
  {
   "cell_type": "code",
   "execution_count": 32,
   "id": "f1a661d8",
   "metadata": {},
   "outputs": [
    {
     "data": {
      "text/plain": [
       "False"
      ]
     },
     "execution_count": 32,
     "metadata": {},
     "output_type": "execute_result"
    }
   ],
   "source": [
    "mydb.is_connected() "
   ]
  },
  {
   "cell_type": "code",
   "execution_count": 34,
   "id": "04be7e52",
   "metadata": {},
   "outputs": [
    {
     "ename": "ProgrammingError",
     "evalue": "1046 (3D000): No database selected",
     "output_type": "error",
     "traceback": [
      "\u001b[1;31m---------------------------------------------------------------------------\u001b[0m",
      "\u001b[1;31mProgrammingError\u001b[0m                          Traceback (most recent call last)",
      "\u001b[1;32m<ipython-input-34-e6c258114a74>\u001b[0m in \u001b[0;36m<module>\u001b[1;34m\u001b[0m\n\u001b[1;32m----> 1\u001b[1;33m \u001b[0mcur\u001b[0m\u001b[1;33m.\u001b[0m\u001b[0mexecute\u001b[0m\u001b[1;33m(\u001b[0m\u001b[1;34m\"create table two_aug (x1 int(5),x2 varchar(20),x3 DATE)\"\u001b[0m\u001b[1;33m)\u001b[0m\u001b[1;33m\u001b[0m\u001b[1;33m\u001b[0m\u001b[0m\n\u001b[0m",
      "\u001b[1;32mc:\\users\\todays\\appdata\\local\\programs\\python\\python37\\lib\\site-packages\\mysql\\connector\\cursor.py\u001b[0m in \u001b[0;36mexecute\u001b[1;34m(self, operation, params, multi)\u001b[0m\n\u001b[0;32m    566\u001b[0m \u001b[1;33m\u001b[0m\u001b[0m\n\u001b[0;32m    567\u001b[0m         \u001b[1;32mtry\u001b[0m\u001b[1;33m:\u001b[0m\u001b[1;33m\u001b[0m\u001b[1;33m\u001b[0m\u001b[0m\n\u001b[1;32m--> 568\u001b[1;33m             \u001b[0mself\u001b[0m\u001b[1;33m.\u001b[0m\u001b[0m_handle_result\u001b[0m\u001b[1;33m(\u001b[0m\u001b[0mself\u001b[0m\u001b[1;33m.\u001b[0m\u001b[0m_connection\u001b[0m\u001b[1;33m.\u001b[0m\u001b[0mcmd_query\u001b[0m\u001b[1;33m(\u001b[0m\u001b[0mstmt\u001b[0m\u001b[1;33m)\u001b[0m\u001b[1;33m)\u001b[0m\u001b[1;33m\u001b[0m\u001b[1;33m\u001b[0m\u001b[0m\n\u001b[0m\u001b[0;32m    569\u001b[0m         \u001b[1;32mexcept\u001b[0m \u001b[0merrors\u001b[0m\u001b[1;33m.\u001b[0m\u001b[0mInterfaceError\u001b[0m\u001b[1;33m:\u001b[0m\u001b[1;33m\u001b[0m\u001b[1;33m\u001b[0m\u001b[0m\n\u001b[0;32m    570\u001b[0m             \u001b[1;32mif\u001b[0m \u001b[0mself\u001b[0m\u001b[1;33m.\u001b[0m\u001b[0m_connection\u001b[0m\u001b[1;33m.\u001b[0m\u001b[0m_have_next_result\u001b[0m\u001b[1;33m:\u001b[0m  \u001b[1;31m# pylint: disable=W0212\u001b[0m\u001b[1;33m\u001b[0m\u001b[1;33m\u001b[0m\u001b[0m\n",
      "\u001b[1;32mc:\\users\\todays\\appdata\\local\\programs\\python\\python37\\lib\\site-packages\\mysql\\connector\\connection.py\u001b[0m in \u001b[0;36mcmd_query\u001b[1;34m(self, query, raw, buffered, raw_as_string)\u001b[0m\n\u001b[0;32m    684\u001b[0m             \u001b[0mquery\u001b[0m \u001b[1;33m=\u001b[0m \u001b[0mquery\u001b[0m\u001b[1;33m.\u001b[0m\u001b[0mencode\u001b[0m\u001b[1;33m(\u001b[0m\u001b[1;34m'utf-8'\u001b[0m\u001b[1;33m)\u001b[0m\u001b[1;33m\u001b[0m\u001b[1;33m\u001b[0m\u001b[0m\n\u001b[0;32m    685\u001b[0m         \u001b[1;32mtry\u001b[0m\u001b[1;33m:\u001b[0m\u001b[1;33m\u001b[0m\u001b[1;33m\u001b[0m\u001b[0m\n\u001b[1;32m--> 686\u001b[1;33m             \u001b[0mresult\u001b[0m \u001b[1;33m=\u001b[0m \u001b[0mself\u001b[0m\u001b[1;33m.\u001b[0m\u001b[0m_handle_result\u001b[0m\u001b[1;33m(\u001b[0m\u001b[0mself\u001b[0m\u001b[1;33m.\u001b[0m\u001b[0m_send_cmd\u001b[0m\u001b[1;33m(\u001b[0m\u001b[0mServerCmd\u001b[0m\u001b[1;33m.\u001b[0m\u001b[0mQUERY\u001b[0m\u001b[1;33m,\u001b[0m \u001b[0mquery\u001b[0m\u001b[1;33m)\u001b[0m\u001b[1;33m)\u001b[0m\u001b[1;33m\u001b[0m\u001b[1;33m\u001b[0m\u001b[0m\n\u001b[0m\u001b[0;32m    687\u001b[0m         \u001b[1;32mexcept\u001b[0m \u001b[0merrors\u001b[0m\u001b[1;33m.\u001b[0m\u001b[0mProgrammingError\u001b[0m \u001b[1;32mas\u001b[0m \u001b[0merr\u001b[0m\u001b[1;33m:\u001b[0m\u001b[1;33m\u001b[0m\u001b[1;33m\u001b[0m\u001b[0m\n\u001b[0;32m    688\u001b[0m             \u001b[1;32mif\u001b[0m \u001b[0merr\u001b[0m\u001b[1;33m.\u001b[0m\u001b[0merrno\u001b[0m \u001b[1;33m==\u001b[0m \u001b[1;36m3948\u001b[0m \u001b[1;32mand\u001b[0m\u001b[0;31m \u001b[0m\u001b[0;31m\\\u001b[0m\u001b[1;33m\u001b[0m\u001b[1;33m\u001b[0m\u001b[0m\n",
      "\u001b[1;32mc:\\users\\todays\\appdata\\local\\programs\\python\\python37\\lib\\site-packages\\mysql\\connector\\connection.py\u001b[0m in \u001b[0;36m_handle_result\u001b[1;34m(self, packet)\u001b[0m\n\u001b[0;32m    571\u001b[0m             \u001b[1;32mreturn\u001b[0m \u001b[0mself\u001b[0m\u001b[1;33m.\u001b[0m\u001b[0m_handle_eof\u001b[0m\u001b[1;33m(\u001b[0m\u001b[0mpacket\u001b[0m\u001b[1;33m)\u001b[0m\u001b[1;33m\u001b[0m\u001b[1;33m\u001b[0m\u001b[0m\n\u001b[0;32m    572\u001b[0m         \u001b[1;32melif\u001b[0m \u001b[0mpacket\u001b[0m\u001b[1;33m[\u001b[0m\u001b[1;36m4\u001b[0m\u001b[1;33m]\u001b[0m \u001b[1;33m==\u001b[0m \u001b[1;36m255\u001b[0m\u001b[1;33m:\u001b[0m\u001b[1;33m\u001b[0m\u001b[1;33m\u001b[0m\u001b[0m\n\u001b[1;32m--> 573\u001b[1;33m             \u001b[1;32mraise\u001b[0m \u001b[0merrors\u001b[0m\u001b[1;33m.\u001b[0m\u001b[0mget_exception\u001b[0m\u001b[1;33m(\u001b[0m\u001b[0mpacket\u001b[0m\u001b[1;33m)\u001b[0m\u001b[1;33m\u001b[0m\u001b[1;33m\u001b[0m\u001b[0m\n\u001b[0m\u001b[0;32m    574\u001b[0m \u001b[1;33m\u001b[0m\u001b[0m\n\u001b[0;32m    575\u001b[0m         \u001b[1;31m# We have a text result set\u001b[0m\u001b[1;33m\u001b[0m\u001b[1;33m\u001b[0m\u001b[1;33m\u001b[0m\u001b[0m\n",
      "\u001b[1;31mProgrammingError\u001b[0m: 1046 (3D000): No database selected"
     ]
    }
   ],
   "source": [
    " "
   ]
  },
  {
   "cell_type": "code",
   "execution_count": 35,
   "id": "3898bafb",
   "metadata": {},
   "outputs": [],
   "source": [
    "cur.execute(\"show databases\")"
   ]
  },
  {
   "cell_type": "code",
   "execution_count": 36,
   "id": "75942ba7",
   "metadata": {},
   "outputs": [
    {
     "data": {
      "text/plain": [
       "[('information_schema',),\n",
       " ('aadil',),\n",
       " ('aadil111',),\n",
       " ('aadil_sql_revision',),\n",
       " ('gta',),\n",
       " ('jio',),\n",
       " ('mysql',),\n",
       " ('performance_schema',),\n",
       " ('sakila',),\n",
       " ('sme',),\n",
       " ('sys',),\n",
       " ('two_august',),\n",
       " ('world',)]"
      ]
     },
     "execution_count": 36,
     "metadata": {},
     "output_type": "execute_result"
    }
   ],
   "source": [
    "cur.fetchall() "
   ]
  },
  {
   "cell_type": "code",
   "execution_count": 37,
   "id": "d285ee9e",
   "metadata": {},
   "outputs": [],
   "source": [
    "mydb.close() "
   ]
  },
  {
   "cell_type": "code",
   "execution_count": 38,
   "id": "09642b74",
   "metadata": {},
   "outputs": [],
   "source": [
    "import mysql.connector as connection "
   ]
  },
  {
   "cell_type": "code",
   "execution_count": 39,
   "id": "05c1b512",
   "metadata": {},
   "outputs": [],
   "source": [
    "mydb = connection.connect(host=\"localhost\",user=\"root\",database = \"two_august\",passwd=\"Aadil@78600\",use_pure=True) "
   ]
  },
  {
   "cell_type": "code",
   "execution_count": 40,
   "id": "c1a7df84",
   "metadata": {},
   "outputs": [],
   "source": [
    "cur = mydb.cursor() "
   ]
  },
  {
   "cell_type": "code",
   "execution_count": 41,
   "id": "7672d177",
   "metadata": {},
   "outputs": [],
   "source": [
    "cur.execute(\"create table aug(x1 int(5),x2 varchar(20),x3 DATE)\") "
   ]
  },
  {
   "cell_type": "code",
   "execution_count": 45,
   "id": "bef26c9c",
   "metadata": {},
   "outputs": [],
   "source": [
    "cur.execute(\"select * from aug\")   "
   ]
  },
  {
   "cell_type": "code",
   "execution_count": 46,
   "id": "c2f843a4",
   "metadata": {},
   "outputs": [
    {
     "data": {
      "text/plain": [
       "[]"
      ]
     },
     "execution_count": 46,
     "metadata": {},
     "output_type": "execute_result"
    }
   ],
   "source": [
    "cur.fetchall() "
   ]
  },
  {
   "cell_type": "code",
   "execution_count": 49,
   "id": "7d03cc53",
   "metadata": {},
   "outputs": [
    {
     "data": {
      "text/plain": [
       "<mysql.connector.cursor.MySQLCursor at 0x900e748>"
      ]
     },
     "execution_count": 49,
     "metadata": {},
     "output_type": "execute_result"
    }
   ],
   "source": [
    "cur "
   ]
  },
  {
   "cell_type": "code",
   "execution_count": 50,
   "id": "c77b4622",
   "metadata": {},
   "outputs": [],
   "source": [
    "cur.execute(\"insert into aug(x1,x2,x3) values(1234,'Aadil','9999-12-31')\")"
   ]
  },
  {
   "cell_type": "code",
   "execution_count": 51,
   "id": "7bfb756e",
   "metadata": {},
   "outputs": [],
   "source": [
    "mydb.commit() "
   ]
  },
  {
   "cell_type": "code",
   "execution_count": 52,
   "id": "7240280b",
   "metadata": {},
   "outputs": [],
   "source": [
    "cur.execute(\"select * from aug\") "
   ]
  },
  {
   "cell_type": "code",
   "execution_count": 53,
   "id": "db64489b",
   "metadata": {},
   "outputs": [],
   "source": [
    "a = cur.fetchall()"
   ]
  },
  {
   "cell_type": "code",
   "execution_count": 54,
   "id": "d129f0bd",
   "metadata": {},
   "outputs": [
    {
     "data": {
      "text/plain": [
       "[(1234, 'Aadil', datetime.date(9999, 12, 31))]"
      ]
     },
     "execution_count": 54,
     "metadata": {},
     "output_type": "execute_result"
    }
   ],
   "source": [
    "a "
   ]
  },
  {
   "cell_type": "code",
   "execution_count": 66,
   "id": "8f634348",
   "metadata": {
    "scrolled": true
   },
   "outputs": [
    {
     "data": {
      "text/plain": [
       "<mysql.connector.cursor.MySQLCursor at 0x900e748>"
      ]
     },
     "execution_count": 66,
     "metadata": {},
     "output_type": "execute_result"
    }
   ],
   "source": [
    "cur "
   ]
  },
  {
   "cell_type": "code",
   "execution_count": 67,
   "id": "53dc57de",
   "metadata": {},
   "outputs": [],
   "source": [
    "cur.execute(\"select x3,x1 from aug\") "
   ]
  },
  {
   "cell_type": "code",
   "execution_count": 68,
   "id": "14ceabf2",
   "metadata": {},
   "outputs": [],
   "source": [
    "a = cur.fetchall() "
   ]
  },
  {
   "cell_type": "code",
   "execution_count": 69,
   "id": "3e6a6fa8",
   "metadata": {},
   "outputs": [
    {
     "data": {
      "text/plain": [
       "[(datetime.date(9999, 12, 31), 1234)]"
      ]
     },
     "execution_count": 69,
     "metadata": {},
     "output_type": "execute_result"
    }
   ],
   "source": [
    "a "
   ]
  },
  {
   "cell_type": "code",
   "execution_count": 70,
   "id": "38b64cc9",
   "metadata": {},
   "outputs": [
    {
     "name": "stdout",
     "output_type": "stream",
     "text": [
      "(0, (datetime.date(9999, 12, 31), 1234))\n"
     ]
    }
   ],
   "source": [
    "cur\n",
    "for i in enumerate(a):\n",
    "    print(i) "
   ]
  },
  {
   "cell_type": "code",
   "execution_count": 71,
   "id": "7c13ae8a",
   "metadata": {},
   "outputs": [
    {
     "data": {
      "text/plain": [
       "<mysql.connector.cursor.MySQLCursor at 0x900e748>"
      ]
     },
     "execution_count": 71,
     "metadata": {},
     "output_type": "execute_result"
    }
   ],
   "source": [
    "cur "
   ]
  },
  {
   "cell_type": "code",
   "execution_count": 74,
   "id": "8e6fae98",
   "metadata": {},
   "outputs": [],
   "source": [
    "query = \"delete from two_august.aug where x1=1234\"\n",
    "cur.execute(query) "
   ]
  },
  {
   "cell_type": "code",
   "execution_count": 75,
   "id": "d13da5a6",
   "metadata": {},
   "outputs": [],
   "source": [
    "mydb.commit() "
   ]
  },
  {
   "cell_type": "code",
   "execution_count": 76,
   "id": "ac20b18b",
   "metadata": {},
   "outputs": [
    {
     "data": {
      "text/plain": [
       "[]"
      ]
     },
     "execution_count": 76,
     "metadata": {},
     "output_type": "execute_result"
    }
   ],
   "source": [
    "cur.fetchall() "
   ]
  },
  {
   "cell_type": "code",
   "execution_count": 79,
   "id": "24f0821a",
   "metadata": {},
   "outputs": [
    {
     "data": {
      "text/plain": [
       "<mysql.connector.cursor.MySQLCursor at 0x900e748>"
      ]
     },
     "execution_count": 79,
     "metadata": {},
     "output_type": "execute_result"
    }
   ],
   "source": [
    "cur "
   ]
  },
  {
   "cell_type": "code",
   "execution_count": 80,
   "id": "8306e6b2",
   "metadata": {},
   "outputs": [],
   "source": [
    "cur.execute(\"insert into aug(x1,x2,x3) values(1234,'Aadil','9999-12-31')\") "
   ]
  },
  {
   "cell_type": "code",
   "execution_count": 81,
   "id": "0a90c9fd",
   "metadata": {},
   "outputs": [
    {
     "ename": "NameError",
     "evalue": "name 'db' is not defined",
     "output_type": "error",
     "traceback": [
      "\u001b[1;31m---------------------------------------------------------------------------\u001b[0m",
      "\u001b[1;31mNameError\u001b[0m                                 Traceback (most recent call last)",
      "\u001b[1;32m<ipython-input-81-15ad4ad8228c>\u001b[0m in \u001b[0;36m<module>\u001b[1;34m\u001b[0m\n\u001b[1;32m----> 1\u001b[1;33m \u001b[0mdb\u001b[0m\u001b[1;33m.\u001b[0m\u001b[0mcommit\u001b[0m\u001b[1;33m(\u001b[0m\u001b[1;33m)\u001b[0m\u001b[1;33m\u001b[0m\u001b[1;33m\u001b[0m\u001b[0m\n\u001b[0m",
      "\u001b[1;31mNameError\u001b[0m: name 'db' is not defined"
     ]
    }
   ],
   "source": [
    "db.commit()"
   ]
  },
  {
   "cell_type": "code",
   "execution_count": 84,
   "id": "ec9244ee",
   "metadata": {},
   "outputs": [],
   "source": [
    "query = \"update two_august.aug set x1=4567,x2='samsu' where x1=1234\"\n",
    "cur.execute(query) "
   ]
  },
  {
   "cell_type": "code",
   "execution_count": 85,
   "id": "67b0ddac",
   "metadata": {},
   "outputs": [],
   "source": [
    "mydb.commit() "
   ]
  },
  {
   "cell_type": "code",
   "execution_count": 88,
   "id": "d617ad94",
   "metadata": {},
   "outputs": [],
   "source": [
    "cur.execute(\"select * from aug\") "
   ]
  },
  {
   "cell_type": "code",
   "execution_count": 89,
   "id": "ba44e58a",
   "metadata": {},
   "outputs": [
    {
     "data": {
      "text/plain": [
       "[(4567, 'samsu', datetime.date(9999, 12, 31)),\n",
       " (4567, 'samsu', datetime.date(9999, 12, 31))]"
      ]
     },
     "execution_count": 89,
     "metadata": {},
     "output_type": "execute_result"
    }
   ],
   "source": [
    "cur.fetchall() "
   ]
  },
  {
   "cell_type": "code",
   "execution_count": null,
   "id": "8195d682",
   "metadata": {},
   "outputs": [],
   "source": []
  }
 ],
 "metadata": {
  "kernelspec": {
   "display_name": "Python 3",
   "language": "python",
   "name": "python3"
  },
  "language_info": {
   "codemirror_mode": {
    "name": "ipython",
    "version": 3
   },
   "file_extension": ".py",
   "mimetype": "text/x-python",
   "name": "python",
   "nbconvert_exporter": "python",
   "pygments_lexer": "ipython3",
   "version": "3.7.4"
  }
 },
 "nbformat": 4,
 "nbformat_minor": 5
}
