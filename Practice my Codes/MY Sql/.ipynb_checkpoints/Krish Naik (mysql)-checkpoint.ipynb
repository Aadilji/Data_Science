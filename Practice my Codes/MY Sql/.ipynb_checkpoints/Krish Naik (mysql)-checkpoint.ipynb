{
 "cells": [
  {
   "cell_type": "markdown",
   "id": "9a8e3e9f",
   "metadata": {},
   "source": [
    "# Krish Naik MY-SQL"
   ]
  },
  {
   "cell_type": "markdown",
   "id": "d9f98347",
   "metadata": {},
   "source": [
    "## Creating Databases in Mysql"
   ]
  },
  {
   "cell_type": "code",
   "execution_count": 1,
   "id": "c07c72ed",
   "metadata": {},
   "outputs": [
    {
     "name": "stdout",
     "output_type": "stream",
     "text": [
      "<mysql.connector.connection_cext.CMySQLConnection object at 0x00000000051CCEC8>\n"
     ]
    }
   ],
   "source": [
    "### Create MySQL Connection\n",
    "import mysql.connector as sql\n",
    "\n",
    "connection = sql.connect(host=\"localhost\",user=\"root\",password=\"Aadil@78600\") \n",
    "\n",
    "print(connection) "
   ]
  },
  {
   "cell_type": "markdown",
   "id": "a89af5f4",
   "metadata": {},
   "source": [
    "## Creating a Databases"
   ]
  },
  {
   "cell_type": "code",
   "execution_count": 2,
   "id": "015c7675",
   "metadata": {},
   "outputs": [],
   "source": [
    "cursor = connection.cursor()\n",
    "\n",
    "cursor.execute(\"CREATE DATABASE krish5\") "
   ]
  },
  {
   "cell_type": "code",
   "execution_count": 3,
   "id": "0bccbb2d",
   "metadata": {},
   "outputs": [],
   "source": [
    "cursor.execute(\"show databases\") "
   ]
  },
  {
   "cell_type": "code",
   "execution_count": 4,
   "id": "9e26bd07",
   "metadata": {},
   "outputs": [
    {
     "name": "stdout",
     "output_type": "stream",
     "text": [
      "('information_schema',)\n",
      "('aadil',)\n",
      "('aadil111',)\n",
      "('aadil_sql_revision',)\n",
      "('gta',)\n",
      "('jio',)\n",
      "('krish',)\n",
      "('krish2',)\n",
      "('krish5',)\n",
      "('mysql',)\n",
      "('performance_schema',)\n",
      "('sakila',)\n",
      "('sme',)\n",
      "('sys',)\n",
      "('two_august',)\n",
      "('world',)\n"
     ]
    }
   ],
   "source": [
    "for databases in cursor:\n",
    "    print(databases) "
   ]
  },
  {
   "cell_type": "markdown",
   "id": "3604d2a7",
   "metadata": {},
   "source": [
    "## Creating Tables And Inserting Records"
   ]
  },
  {
   "cell_type": "code",
   "execution_count": 5,
   "id": "d4cdeef2",
   "metadata": {},
   "outputs": [
    {
     "name": "stdout",
     "output_type": "stream",
     "text": [
      "<mysql.connector.connection_cext.CMySQLConnection object at 0x0000000005C3CD88>\n"
     ]
    }
   ],
   "source": [
    "### Create MySQL Connection And Connect\n",
    "import mysql.connector as sql\n",
    "\n",
    "connection = sql.connect(host=\"localhost\",user=\"root\",password=\"Aadil@78600\",database=\"krish5\")\n",
    "\n",
    "print(connection) "
   ]
  },
  {
   "cell_type": "markdown",
   "id": "4b3379c6",
   "metadata": {},
   "source": [
    "## Create Table In MySQL using Python"
   ]
  },
  {
   "cell_type": "markdown",
   "id": "97b943e7",
   "metadata": {},
   "source": [
    "#### Here, auto increment primary key, is used to give the value to first record as 1, and this value should increase after every record by 1."
   ]
  },
  {
   "cell_type": "code",
   "execution_count": 6,
   "id": "5dc33816",
   "metadata": {},
   "outputs": [],
   "source": [
    "cursor = connection.cursor()\n",
    "\n",
    "cursor.execute(\"CREATE TABLE studentinfo(id INT AUTO_INCREMENT PRIMARY KEY, name VARCHAR(255),subject VARCHAR(255))\")"
   ]
  },
  {
   "cell_type": "markdown",
   "id": "a5c5c241",
   "metadata": {},
   "source": [
    "## Insert Records in Table"
   ]
  },
  {
   "cell_type": "markdown",
   "id": "a0568e0e",
   "metadata": {},
   "source": [
    "here, %s,%s is basically a place holder and it represent string or varchar, here it is holding values john and stats."
   ]
  },
  {
   "cell_type": "code",
   "execution_count": 7,
   "id": "9005e43b",
   "metadata": {},
   "outputs": [
    {
     "name": "stdout",
     "output_type": "stream",
     "text": [
      "Row inserted 1\n"
     ]
    }
   ],
   "source": [
    "query = \"INSERT INTO studentinfo (name, subject) VALUES (%s, %s)\"\n",
    "value = (\"John\", \"Stats\")\n",
    "cursor.execute(query,value)\n",
    "print(\"Row inserted\",cursor.lastrowid) "
   ]
  },
  {
   "cell_type": "code",
   "execution_count": 8,
   "id": "7fd13d91",
   "metadata": {},
   "outputs": [
    {
     "data": {
      "text/plain": [
       "[(1, 'John', 'Stats')]"
      ]
     },
     "execution_count": 8,
     "metadata": {},
     "output_type": "execute_result"
    }
   ],
   "source": [
    "connection.commit()\n",
    "cursor = connection.cursor()\n",
    "cursor.execute(\"select * from studentinfo\")\n",
    "cursor.fetchall()"
   ]
  },
  {
   "cell_type": "markdown",
   "id": "a13806ee",
   "metadata": {},
   "source": [
    "#### select all"
   ]
  },
  {
   "cell_type": "code",
   "execution_count": 9,
   "id": "8b886370",
   "metadata": {},
   "outputs": [],
   "source": [
    "cursor = connection.cursor()\n",
    "cursor.execute(\"Select * from studentinfo\") "
   ]
  },
  {
   "cell_type": "code",
   "execution_count": 10,
   "id": "acbc9bc6",
   "metadata": {},
   "outputs": [
    {
     "data": {
      "text/plain": [
       "[(1, 'John', 'Stats')]"
      ]
     },
     "execution_count": 10,
     "metadata": {},
     "output_type": "execute_result"
    }
   ],
   "source": [
    "### Fetch All the Data\n",
    "cursor.fetchall() "
   ]
  },
  {
   "cell_type": "markdown",
   "id": "71833caf",
   "metadata": {},
   "source": [
    "## Insert Many Records in Table"
   ]
  },
  {
   "cell_type": "code",
   "execution_count": 11,
   "id": "774f447b",
   "metadata": {},
   "outputs": [
    {
     "name": "stdout",
     "output_type": "stream",
     "text": [
      "Row inserted 2\n"
     ]
    }
   ],
   "source": [
    "### Insert multiple records in Table\n",
    "query = \"INSERT INTO studentinfo (name, subject) VALUES (%s, %s)\"\n",
    "values = [(\"Krish\", \"Stats\"),\n",
    "        (\"Joe\", \"Maths\"),\n",
    "        (\"Ankur\",\"Data Science\"),\n",
    "        (\"Paul\",\"Data Science\"),\n",
    "        (\"Vishal\",\"Maths\"),\n",
    "        (\"Krish\",\"Data Science\")]\n",
    "cursor.executemany(query,values)\n",
    "print(\"Row inserted\",cursor.lastrowid) "
   ]
  },
  {
   "cell_type": "code",
   "execution_count": 12,
   "id": "5e10451f",
   "metadata": {},
   "outputs": [
    {
     "data": {
      "text/plain": [
       "[(1, 'John', 'Stats'),\n",
       " (2, 'Krish', 'Stats'),\n",
       " (3, 'Joe', 'Maths'),\n",
       " (4, 'Ankur', 'Data Science'),\n",
       " (5, 'Paul', 'Data Science'),\n",
       " (6, 'Vishal', 'Maths'),\n",
       " (7, 'Krish', 'Data Science')]"
      ]
     },
     "execution_count": 12,
     "metadata": {},
     "output_type": "execute_result"
    }
   ],
   "source": [
    "connection.commit()\n",
    "cursor = connection.cursor()\n",
    "cursor.execute(\"select * from studentinfo\")\n",
    "cursor.fetchall() "
   ]
  },
  {
   "cell_type": "code",
   "execution_count": 13,
   "id": "09d19eb0",
   "metadata": {},
   "outputs": [
    {
     "data": {
      "text/plain": [
       "(1, 'John', 'Stats')"
      ]
     },
     "execution_count": 13,
     "metadata": {},
     "output_type": "execute_result"
    }
   ],
   "source": [
    "cursor = connection.cursor()\n",
    "cursor.execute(\"select * from studentinfo\") \n",
    "cursor.fetchone() "
   ]
  },
  {
   "cell_type": "markdown",
   "id": "3695d997",
   "metadata": {},
   "source": [
    "## Executing with the help of loops"
   ]
  },
  {
   "cell_type": "code",
   "execution_count": 4,
   "id": "a04b5b48",
   "metadata": {},
   "outputs": [],
   "source": [
    "import mysql.connector as sql\n",
    "\n",
    "connection = sql.connect(host=\"localhost\",user=\"root\",password=\"Aadil@78600\",database=\"krish5\")  "
   ]
  },
  {
   "cell_type": "code",
   "execution_count": 5,
   "id": "24693d74",
   "metadata": {},
   "outputs": [],
   "source": [
    "cursor = connection.cursor() "
   ]
  },
  {
   "cell_type": "code",
   "execution_count": 7,
   "id": "2ba85316",
   "metadata": {},
   "outputs": [
    {
     "name": "stdout",
     "output_type": "stream",
     "text": [
      "(1, 'John', 'Stats')\n",
      "(2, 'Krish', 'Stats')\n",
      "(3, 'Joe', 'Maths')\n",
      "(4, 'Ankur', 'Data Science')\n",
      "(5, 'Paul', 'Data Science')\n",
      "(6, 'Vishal', 'Maths')\n",
      "(7, 'Krish', 'Data Science')\n"
     ]
    }
   ],
   "source": [
    "cursor.execute(\"select * from studentinfo\")\n",
    "\n",
    "lst = cursor.fetchall()\n",
    "\n",
    "for record in lst:\n",
    "    print(record) "
   ]
  },
  {
   "cell_type": "markdown",
   "id": "f6073bf6",
   "metadata": {},
   "source": [
    "#### Selecting Perticular Rows "
   ]
  },
  {
   "cell_type": "code",
   "execution_count": 8,
   "id": "074347c3",
   "metadata": {},
   "outputs": [],
   "source": [
    "cursor.execute(\"Select * from studentinfo where name='Krish'\") "
   ]
  },
  {
   "cell_type": "code",
   "execution_count": 9,
   "id": "2ad85632",
   "metadata": {},
   "outputs": [
    {
     "data": {
      "text/plain": [
       "[(2, 'Krish', 'Stats'), (7, 'Krish', 'Data Science')]"
      ]
     },
     "execution_count": 9,
     "metadata": {},
     "output_type": "execute_result"
    }
   ],
   "source": [
    "### Fetch All the Data\n",
    "cursor.fetchall() "
   ]
  },
  {
   "cell_type": "markdown",
   "id": "34c35815",
   "metadata": {},
   "source": [
    "#### Select Perticular Columns"
   ]
  },
  {
   "cell_type": "code",
   "execution_count": 10,
   "id": "fe4fbe2f",
   "metadata": {},
   "outputs": [
    {
     "data": {
      "text/plain": [
       "[('Stats',),\n",
       " ('Stats',),\n",
       " ('Maths',),\n",
       " ('Data Science',),\n",
       " ('Data Science',),\n",
       " ('Maths',),\n",
       " ('Data Science',)]"
      ]
     },
     "execution_count": 10,
     "metadata": {},
     "output_type": "execute_result"
    }
   ],
   "source": [
    "cursor.execute(\"Select subject from studentinfo\")\n",
    "\n",
    "#### Fetch All\n",
    "cursor.fetchall()"
   ]
  },
  {
   "cell_type": "markdown",
   "id": "7974ae7e",
   "metadata": {},
   "source": [
    "#### Avoiding the Repeatating Once"
   ]
  },
  {
   "cell_type": "code",
   "execution_count": 11,
   "id": "b1bcc54e",
   "metadata": {},
   "outputs": [
    {
     "data": {
      "text/plain": [
       "[('Stats',), ('Maths',), ('Data Science',)]"
      ]
     },
     "execution_count": 11,
     "metadata": {},
     "output_type": "execute_result"
    }
   ],
   "source": [
    "## Select Distinct Columns\n",
    "cursor.execute(\"SELECT DISTINCT subject from studentinfo\")\n",
    "#### Fetch All\n",
    "cursor.fetchall() "
   ]
  },
  {
   "cell_type": "code",
   "execution_count": 12,
   "id": "3862ad66",
   "metadata": {},
   "outputs": [
    {
     "data": {
      "text/plain": [
       "[('Krish', 'Stats'),\n",
       " ('Ankur', 'Data Science'),\n",
       " ('Paul', 'Data Science'),\n",
       " ('Krish', 'Data Science')]"
      ]
     },
     "execution_count": 12,
     "metadata": {},
     "output_type": "execute_result"
    }
   ],
   "source": [
    "cursor.execute(\"SELECT name, subject FROM studentinfo WHERE name = 'Krish' OR subject = 'Data Science'\") \n",
    "#### Fetch All\n",
    "cursor.fetchall()\n"
   ]
  },
  {
   "cell_type": "markdown",
   "id": "38b21eb1",
   "metadata": {},
   "source": [
    "#### Drop Table"
   ]
  },
  {
   "cell_type": "code",
   "execution_count": 13,
   "id": "74559a3b",
   "metadata": {},
   "outputs": [],
   "source": [
    "cursor.execute(\"DROP TABLE studentinfo\")"
   ]
  }
 ],
 "metadata": {
  "kernelspec": {
   "display_name": "Python 3",
   "language": "python",
   "name": "python3"
  },
  "language_info": {
   "codemirror_mode": {
    "name": "ipython",
    "version": 3
   },
   "file_extension": ".py",
   "mimetype": "text/x-python",
   "name": "python",
   "nbconvert_exporter": "python",
   "pygments_lexer": "ipython3",
   "version": "3.7.4"
  }
 },
 "nbformat": 4,
 "nbformat_minor": 5
}
