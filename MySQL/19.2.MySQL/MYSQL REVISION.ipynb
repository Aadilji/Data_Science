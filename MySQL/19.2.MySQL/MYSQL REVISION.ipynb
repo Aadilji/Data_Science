{
 "cells": [
  {
   "cell_type": "markdown",
   "id": "d8c9b3de",
   "metadata": {},
   "source": [
    "#  MY SQL CONNECTOR"
   ]
  },
  {
   "cell_type": "code",
   "execution_count": 1,
   "id": "12307fc2",
   "metadata": {},
   "outputs": [
    {
     "name": "stdout",
     "output_type": "stream",
     "text": [
      "Collecting mysql-connector-python\n",
      "  Downloading mysql_connector_python-8.0.25-cp38-cp38-win_amd64.whl (794 kB)\n",
      "Collecting protobuf>=3.0.0\n",
      "  Downloading protobuf-3.17.1-py2.py3-none-any.whl (173 kB)\n",
      "Requirement already satisfied: six>=1.9 in c:\\users\\todays\\anaconda3\\lib\\site-packages (from protobuf>=3.0.0->mysql-connector-python) (1.15.0)\n",
      "Installing collected packages: protobuf, mysql-connector-python\n",
      "Successfully installed mysql-connector-python-8.0.25 protobuf-3.17.1\n"
     ]
    }
   ],
   "source": [
    "!pip install mysql-connector-python"
   ]
  },
  {
   "cell_type": "markdown",
   "id": "908d7940",
   "metadata": {},
   "source": [
    "# SETTTING CONNECTION"
   ]
  },
  {
   "cell_type": "code",
   "execution_count": 2,
   "id": "248ca62b",
   "metadata": {},
   "outputs": [],
   "source": [
    "import mysql.connector as connection"
   ]
  },
  {
   "cell_type": "code",
   "execution_count": 4,
   "id": "a81757f1",
   "metadata": {},
   "outputs": [
    {
     "data": {
      "text/plain": [
       "<mysql.connector.connection.MySQLConnection at 0x7e7eeb0>"
      ]
     },
     "execution_count": 4,
     "metadata": {},
     "output_type": "execute_result"
    }
   ],
   "source": [
    "connection.connect(host=\"localhost\",user=\"root\",passwd=\"Aadil@78600\",use_pure=True)"
   ]
  },
  {
   "cell_type": "code",
   "execution_count": 5,
   "id": "a8fb2634",
   "metadata": {},
   "outputs": [],
   "source": [
    "mydb = connection.connect(host=\"localhost\",user=\"root\",passwd=\"Aadil@78600\",use_pure=True)"
   ]
  },
  {
   "cell_type": "markdown",
   "id": "bc36413b",
   "metadata": {},
   "source": [
    "# Setting Cursor "
   ]
  },
  {
   "cell_type": "code",
   "execution_count": 17,
   "id": "cdafa349",
   "metadata": {},
   "outputs": [],
   "source": [
    "cur = mydb.cursor() #cursor can be set up again & again after running any query to be safe from  error"
   ]
  },
  {
   "cell_type": "markdown",
   "id": "dfa986f0",
   "metadata": {},
   "source": [
    "# Show Databases"
   ]
  },
  {
   "cell_type": "code",
   "execution_count": 26,
   "id": "a1442924",
   "metadata": {},
   "outputs": [],
   "source": [
    "cur = mydb.cursor()\n",
    "cur.execute(\"show databases\")"
   ]
  },
  {
   "cell_type": "code",
   "execution_count": 23,
   "id": "9bde8236",
   "metadata": {},
   "outputs": [
    {
     "data": {
      "text/plain": [
       "[('information_schema',),\n",
       " ('aadil',),\n",
       " ('aadil111',),\n",
       " ('gta',),\n",
       " ('mysql',),\n",
       " ('performance_schema',),\n",
       " ('sakila',),\n",
       " ('sme',),\n",
       " ('sys',),\n",
       " ('world',)]"
      ]
     },
     "execution_count": 23,
     "metadata": {},
     "output_type": "execute_result"
    }
   ],
   "source": [
    "cur.fetchall()"
   ]
  },
  {
   "cell_type": "code",
   "execution_count": 24,
   "id": "a13d8e8b",
   "metadata": {},
   "outputs": [
    {
     "data": {
      "text/plain": [
       "list"
      ]
     },
     "execution_count": 24,
     "metadata": {},
     "output_type": "execute_result"
    }
   ],
   "source": [
    "type(cur.fetchall())"
   ]
  },
  {
   "cell_type": "code",
   "execution_count": 29,
   "id": "fb027918",
   "metadata": {},
   "outputs": [],
   "source": [
    "mydb.close()"
   ]
  },
  {
   "cell_type": "code",
   "execution_count": 30,
   "id": "687339bd",
   "metadata": {},
   "outputs": [
    {
     "data": {
      "text/plain": [
       "False"
      ]
     },
     "execution_count": 30,
     "metadata": {},
     "output_type": "execute_result"
    }
   ],
   "source": [
    "mydb.is_connected()"
   ]
  },
  {
   "cell_type": "markdown",
   "id": "23405f22",
   "metadata": {},
   "source": [
    "# loops for fetchall "
   ]
  },
  {
   "cell_type": "code",
   "execution_count": 1,
   "id": "72a699f2",
   "metadata": {},
   "outputs": [
    {
     "data": {
      "text/plain": [
       "<mysql.connector.connection.MySQLConnection at 0x4f8c040>"
      ]
     },
     "execution_count": 1,
     "metadata": {},
     "output_type": "execute_result"
    }
   ],
   "source": [
    "import mysql.connector as connection\n",
    "mydb = connection.connect(host=\"localhost\",user=\"root\",passwd=\"Aadil@78600\",use_pure=True)\n",
    "mydb"
   ]
  },
  {
   "cell_type": "code",
   "execution_count": 2,
   "id": "5bd8e467",
   "metadata": {},
   "outputs": [
    {
     "data": {
      "text/plain": [
       "True"
      ]
     },
     "execution_count": 2,
     "metadata": {},
     "output_type": "execute_result"
    }
   ],
   "source": [
    "mydb.is_connected()"
   ]
  },
  {
   "cell_type": "code",
   "execution_count": 3,
   "id": "178c0743",
   "metadata": {},
   "outputs": [],
   "source": [
    "cur = mydb.cursor()"
   ]
  },
  {
   "cell_type": "code",
   "execution_count": 4,
   "id": "7aa2c0d1",
   "metadata": {},
   "outputs": [],
   "source": [
    "cur.execute(\"show databases\")"
   ]
  },
  {
   "cell_type": "code",
   "execution_count": 5,
   "id": "47418943",
   "metadata": {},
   "outputs": [],
   "source": [
    "a =cur.fetchall()"
   ]
  },
  {
   "cell_type": "code",
   "execution_count": 6,
   "id": "4a53aeb4",
   "metadata": {},
   "outputs": [],
   "source": [
    "cur = mydb.cursor()"
   ]
  },
  {
   "cell_type": "code",
   "execution_count": 7,
   "id": "4da9a0af",
   "metadata": {},
   "outputs": [
    {
     "data": {
      "text/plain": [
       "True"
      ]
     },
     "execution_count": 7,
     "metadata": {},
     "output_type": "execute_result"
    }
   ],
   "source": [
    "mydb.is_connected()"
   ]
  },
  {
   "cell_type": "code",
   "execution_count": 9,
   "id": "758f77f2",
   "metadata": {},
   "outputs": [
    {
     "name": "stdout",
     "output_type": "stream",
     "text": [
      "('information_schema',)\n",
      "('aadil',)\n",
      "('aadil111',)\n",
      "('gta',)\n",
      "('mysql',)\n",
      "('performance_schema',)\n",
      "('sakila',)\n",
      "('sme',)\n",
      "('sys',)\n",
      "('world',)\n"
     ]
    }
   ],
   "source": [
    "for i in a:\n",
    "    print(i)"
   ]
  },
  {
   "cell_type": "code",
   "execution_count": 13,
   "id": "fcbd3961",
   "metadata": {},
   "outputs": [
    {
     "name": "stdout",
     "output_type": "stream",
     "text": [
      "(0, ('information_schema',))\n",
      "(1, ('aadil',))\n",
      "(2, ('aadil111',))\n",
      "(3, ('gta',))\n",
      "(4, ('mysql',))\n",
      "(5, ('performance_schema',))\n",
      "(6, ('sakila',))\n",
      "(7, ('sme',))\n",
      "(8, ('sys',))\n",
      "(9, ('world',))\n"
     ]
    }
   ],
   "source": [
    "for i in enumerate(a):\n",
    "    print(i)"
   ]
  },
  {
   "cell_type": "code",
   "execution_count": 14,
   "id": "a870dce4",
   "metadata": {},
   "outputs": [],
   "source": [
    "mydb.close()"
   ]
  },
  {
   "cell_type": "markdown",
   "id": "c8f5fd85",
   "metadata": {},
   "source": [
    "# creating a new databases"
   ]
  },
  {
   "cell_type": "code",
   "execution_count": 15,
   "id": "27994fa4",
   "metadata": {},
   "outputs": [],
   "source": [
    "import mysql.connector as connection\n",
    "mydb = connection.connect(host=\"localhost\",user=\"root\",passwd=\"Aadil@78600\",use_pure=True)\n",
    "cur = mydb.cursor()"
   ]
  },
  {
   "cell_type": "code",
   "execution_count": 16,
   "id": "451d9dfa",
   "metadata": {},
   "outputs": [
    {
     "data": {
      "text/plain": [
       "<mysql.connector.connection.MySQLConnection at 0x7d248b0>"
      ]
     },
     "execution_count": 16,
     "metadata": {},
     "output_type": "execute_result"
    }
   ],
   "source": [
    "mydb"
   ]
  },
  {
   "cell_type": "code",
   "execution_count": 17,
   "id": "23d77cbd",
   "metadata": {},
   "outputs": [],
   "source": [
    "cur.execute(\"create database Aadil_sql_revision\")"
   ]
  },
  {
   "cell_type": "markdown",
   "id": "a3641741",
   "metadata": {},
   "source": [
    "# Creating a Table"
   ]
  },
  {
   "cell_type": "code",
   "execution_count": 18,
   "id": "a8491283",
   "metadata": {},
   "outputs": [],
   "source": [
    "'''CONNECTING TO DATABASES'''\n",
    "import mysql.connector as connection\n",
    "mydb = connection.connect(host=\"localhost\",user=\"root\",passwd=\"Aadil@78600\",database=\"Aadil_sql_revision\",use_pure=True)\n",
    "cur = mydb.cursor()"
   ]
  },
  {
   "cell_type": "code",
   "execution_count": 19,
   "id": "973b6e04",
   "metadata": {},
   "outputs": [
    {
     "data": {
      "text/plain": [
       "<mysql.connector.connection.MySQLConnection at 0x70fd5b0>"
      ]
     },
     "execution_count": 19,
     "metadata": {},
     "output_type": "execute_result"
    }
   ],
   "source": [
    "mydb"
   ]
  },
  {
   "cell_type": "code",
   "execution_count": 22,
   "id": "1048528d",
   "metadata": {},
   "outputs": [],
   "source": [
    "cur.execute(\"create table rev_test(x1 int(5),x2 varchar(20),x3 DATE)\")"
   ]
  },
  {
   "cell_type": "code",
   "execution_count": 23,
   "id": "3d31e89a",
   "metadata": {},
   "outputs": [],
   "source": [
    "mydb.close()"
   ]
  },
  {
   "cell_type": "markdown",
   "id": "98443a42",
   "metadata": {},
   "source": [
    "# showing tables"
   ]
  },
  {
   "cell_type": "code",
   "execution_count": 24,
   "id": "a64a2d59",
   "metadata": {},
   "outputs": [],
   "source": [
    "import mysql.connector as connection\n",
    "mydb = connection.connect(host=\"localhost\",user=\"root\",passwd=\"Aadil@78600\",database=\"Aadil_sql_revision\",use_pure=True)\n",
    "cur = mydb.cursor()"
   ]
  },
  {
   "cell_type": "code",
   "execution_count": 25,
   "id": "0fa563b7",
   "metadata": {},
   "outputs": [],
   "source": [
    "cur.execute(\"select * from rev_test\")"
   ]
  },
  {
   "cell_type": "code",
   "execution_count": 26,
   "id": "4c55ce8b",
   "metadata": {},
   "outputs": [
    {
     "data": {
      "text/plain": [
       "[]"
      ]
     },
     "execution_count": 26,
     "metadata": {},
     "output_type": "execute_result"
    }
   ],
   "source": [
    "cur.fetchall()"
   ]
  },
  {
   "cell_type": "code",
   "execution_count": 28,
   "id": "cd23b226",
   "metadata": {},
   "outputs": [],
   "source": [
    "mydb.close()"
   ]
  },
  {
   "cell_type": "markdown",
   "id": "d8cc02ee",
   "metadata": {},
   "source": [
    "# Inserting Values in Tables"
   ]
  },
  {
   "cell_type": "code",
   "execution_count": 29,
   "id": "2069a8e7",
   "metadata": {},
   "outputs": [],
   "source": [
    "import mysql.connector as connection\n",
    "mydb = connection.connect(host=\"localhost\",user=\"root\",passwd=\"Aadil@78600\",database=\"Aadil_sql_revision\",use_pure=True)\n",
    "cur = mydb.cursor()"
   ]
  },
  {
   "cell_type": "code",
   "execution_count": 32,
   "id": "b41e4c4d",
   "metadata": {},
   "outputs": [],
   "source": [
    "cur.execute(\"insert into rev_test(x1,x2,x3) values(1234,'Aadil','9999-12-31')\")"
   ]
  },
  {
   "cell_type": "code",
   "execution_count": 33,
   "id": "b085878a",
   "metadata": {},
   "outputs": [],
   "source": [
    "mydb.commit()"
   ]
  },
  {
   "cell_type": "code",
   "execution_count": 34,
   "id": "23fe5a28",
   "metadata": {},
   "outputs": [],
   "source": [
    "cur = mydb.cursor()"
   ]
  },
  {
   "cell_type": "code",
   "execution_count": 36,
   "id": "2595ecb9",
   "metadata": {},
   "outputs": [],
   "source": [
    "cur.execute(\"select x3,x1 from rev_test\")"
   ]
  },
  {
   "cell_type": "code",
   "execution_count": 37,
   "id": "e581668b",
   "metadata": {},
   "outputs": [
    {
     "data": {
      "text/plain": [
       "[(datetime.date(9999, 12, 31), 1234)]"
      ]
     },
     "execution_count": 37,
     "metadata": {},
     "output_type": "execute_result"
    }
   ],
   "source": [
    "cur.fetchall()"
   ]
  },
  {
   "cell_type": "code",
   "execution_count": null,
   "id": "04d43e41",
   "metadata": {},
   "outputs": [],
   "source": [
    "for i in cur.fetchall():\n",
    "    print(i)"
   ]
  },
  {
   "cell_type": "code",
   "execution_count": 42,
   "id": "8cb78a8d",
   "metadata": {},
   "outputs": [],
   "source": [
    "mydb.close()"
   ]
  },
  {
   "cell_type": "markdown",
   "id": "3001b585",
   "metadata": {},
   "source": [
    "# Deleting Data From Row/Column Of Table"
   ]
  },
  {
   "cell_type": "code",
   "execution_count": 45,
   "id": "d9a59934",
   "metadata": {},
   "outputs": [],
   "source": [
    "import mysql.connector as connection\n",
    "mydb = connection.connect(host=\"localhost\",user=\"root\",passwd=\"Aadil@78600\",database=\"Aadil_sql_revision\",use_pure=True)\n",
    "cur = mydb.cursor()"
   ]
  },
  {
   "cell_type": "code",
   "execution_count": 52,
   "id": "d44c6ad1",
   "metadata": {},
   "outputs": [],
   "source": [
    "query = \"delete from Aadil_sql_revision.rev_test where x1=1234\""
   ]
  },
  {
   "cell_type": "code",
   "execution_count": 53,
   "id": "f1bdcd18",
   "metadata": {},
   "outputs": [],
   "source": [
    "cur.execute(query)"
   ]
  },
  {
   "cell_type": "code",
   "execution_count": 54,
   "id": "e23d3708",
   "metadata": {},
   "outputs": [],
   "source": [
    "mydb.commit()"
   ]
  },
  {
   "cell_type": "markdown",
   "id": "fc771ac8",
   "metadata": {},
   "source": [
    "## updating tables"
   ]
  },
  {
   "cell_type": "code",
   "execution_count": 72,
   "id": "36d5ef46",
   "metadata": {},
   "outputs": [],
   "source": [
    "cur = mydb.cursor()"
   ]
  },
  {
   "cell_type": "code",
   "execution_count": 73,
   "id": "ecd9a134",
   "metadata": {},
   "outputs": [],
   "source": [
    "cur.execute(\"insert into rev_test(x1,x2,x3) values(1234,'Aadil','9999-12-31')\")"
   ]
  },
  {
   "cell_type": "code",
   "execution_count": 74,
   "id": "0e611de1",
   "metadata": {},
   "outputs": [],
   "source": [
    "mydb.commit()"
   ]
  },
  {
   "cell_type": "code",
   "execution_count": 75,
   "id": "c847c527",
   "metadata": {},
   "outputs": [],
   "source": [
    "cur = mydb.cursor()"
   ]
  },
  {
   "cell_type": "code",
   "execution_count": 76,
   "id": "00271cd4",
   "metadata": {},
   "outputs": [],
   "source": [
    "query = \"update Aadil_sql_revision.rev_test set x1=4567,x2='samsu' where x1=1234\""
   ]
  },
  {
   "cell_type": "code",
   "execution_count": 77,
   "id": "055d7059",
   "metadata": {},
   "outputs": [],
   "source": [
    "cur.execute(query)"
   ]
  },
  {
   "cell_type": "code",
   "execution_count": 78,
   "id": "0f0d17cd",
   "metadata": {},
   "outputs": [],
   "source": [
    "mydb.commit()"
   ]
  },
  {
   "cell_type": "code",
   "execution_count": null,
   "id": "74d1a4e8",
   "metadata": {},
   "outputs": [],
   "source": []
  }
 ],
 "metadata": {
  "kernelspec": {
   "display_name": "Python 3",
   "language": "python",
   "name": "python3"
  },
  "language_info": {
   "codemirror_mode": {
    "name": "ipython",
    "version": 3
   },
   "file_extension": ".py",
   "mimetype": "text/x-python",
   "name": "python",
   "nbconvert_exporter": "python",
   "pygments_lexer": "ipython3",
   "version": "3.7.4"
  }
 },
 "nbformat": 4,
 "nbformat_minor": 5
}
