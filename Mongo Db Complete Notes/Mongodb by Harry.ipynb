{
 "cells": [
  {
   "cell_type": "markdown",
   "id": "a243a8c7",
   "metadata": {},
   "source": [
    "## Py-Mongo"
   ]
  },
  {
   "cell_type": "markdown",
   "id": "f9060f70",
   "metadata": {},
   "source": [
    "pymongo is a driver to connect the python with mongodb"
   ]
  },
  {
   "cell_type": "raw",
   "id": "e2a4b7ed",
   "metadata": {},
   "source": [
    "!pip install pymongo     # requirement already satisfied"
   ]
  },
  {
   "cell_type": "raw",
   "id": "dffd95f4",
   "metadata": {},
   "source": [
    "if __name__ == \"__main__\":    \n",
    "# yeh main method isiliye use karte hai hum,\n",
    "# becoz yeh dikhati hai ki hum ek statndard python expert hai.\n",
    "# jab bhi hum is python file ko import karenge, dsuri python file mai\n",
    "# toh is line ke upper jo bhi code likha hoga woh code hi import hoga.\n",
    "# main method ke neeche ka code us python file mai run nhi hoga.\n",
    "# this is generally used in vs code or it can be used when we are writing many lines of code in \n",
    "jupyter notebook"
   ]
  },
  {
   "cell_type": "code",
   "execution_count": 1,
   "id": "9f9ff962",
   "metadata": {},
   "outputs": [
    {
     "data": {
      "text/plain": [
       "MongoClient(host=['localhost:27017'], document_class=dict, tz_aware=False, connect=True)"
      ]
     },
     "execution_count": 1,
     "metadata": {},
     "output_type": "execute_result"
    }
   ],
   "source": [
    "# Creating a Connection\n",
    "import pymongo\n",
    "\n",
    "client = pymongo.MongoClient(\"mongodb://localhost:27017/\")\n",
    "db = client.test\n",
    "client"
   ]
  },
  {
   "cell_type": "code",
   "execution_count": 2,
   "id": "af946eba",
   "metadata": {},
   "outputs": [],
   "source": [
    "## Creating a database\n",
    "# Remember that in Mongodb we see Database, only if we create a collection with it(Collection =Tables)\n",
    "#database is not, in mongodb shown untill we enter some data in database unlike mysql\n",
    "\n",
    "db = client['harrybhai'] "
   ]
  },
  {
   "cell_type": "code",
   "execution_count": 3,
   "id": "68a12ae6",
   "metadata": {},
   "outputs": [
    {
     "data": {
      "text/plain": [
       "['Aadil111', 'admin', 'codewithharry', 'config', 'harrybhai', 'local']"
      ]
     },
     "execution_count": 3,
     "metadata": {},
     "output_type": "execute_result"
    }
   ],
   "source": [
    "#listing database\n",
    "client.list_database_names() #no need to remember the query, only type .list and it will come in box"
   ]
  },
  {
   "cell_type": "code",
   "execution_count": 4,
   "id": "80b83863",
   "metadata": {},
   "outputs": [],
   "source": [
    "# Creating Collections(Tables)\n",
    "collection = db['mySampleCollectionForHarry']  "
   ]
  },
  {
   "cell_type": "code",
   "execution_count": 5,
   "id": "22e2ef35",
   "metadata": {},
   "outputs": [
    {
     "data": {
      "text/plain": [
       "Collection(Database(MongoClient(host=['localhost:27017'], document_class=dict, tz_aware=False, connect=True), 'harrybhai'), 'mySampleCollectionForHarry')"
      ]
     },
     "execution_count": 5,
     "metadata": {},
     "output_type": "execute_result"
    }
   ],
   "source": [
    "collection"
   ]
  },
  {
   "cell_type": "markdown",
   "id": "37d812d5",
   "metadata": {},
   "source": [
    "#### Inserting Documents(Rows and Values[BSON Format(Dict.)]) In Collection(Table). "
   ]
  },
  {
   "cell_type": "markdown",
   "id": "1f6d3aca",
   "metadata": {},
   "source": [
    "#### insert_one "
   ]
  },
  {
   "cell_type": "code",
   "execution_count": 6,
   "id": "da10a239",
   "metadata": {},
   "outputs": [
    {
     "data": {
      "text/plain": [
       "<pymongo.results.InsertOneResult at 0x56158c8>"
      ]
     },
     "execution_count": 6,
     "metadata": {},
     "output_type": "execute_result"
    }
   ],
   "source": [
    "record={'computername':'aadil',\n",
    "       'product':'AI',\n",
    "        'name':[\"shudh\",\"kumar\",99875]\n",
    "       } \n",
    "collection.insert_one(record) "
   ]
  },
  {
   "cell_type": "markdown",
   "id": "b0e04cee",
   "metadata": {},
   "source": [
    "#### insert_many"
   ]
  },
  {
   "cell_type": "code",
   "execution_count": 7,
   "id": "a8191b09",
   "metadata": {},
   "outputs": [],
   "source": [
    "lists_of_records=[\n",
    "    {\n",
    "    'Colorado' : 'Rockies',\n",
    "    'Boston'   : 'Red Sox',\n",
    "    'Minnesota': 'Twins',\n",
    "    'Milwaukee': 'Brewers',\n",
    "    'Seattle'  : 'Mariners'\n",
    "     },\n",
    "{\n",
    "    'Colorado1' : 'Rockies',\n",
    "    'Boston2'   : 'Red Sox',\n",
    "    'Minnesota3': 'Twins',\n",
    "    'Milwaukee4': 'Brewers',\n",
    "    'Seattle5'  : 'Mariners'\n",
    "     },\n",
    "{\n",
    "    'Colorado11' : 'Rockies',\n",
    "    'Boston22'   : 'Red Sox',\n",
    "    'Minnesota33': 'Twins',\n",
    "    'Milwaukee44': 'Brewers',\n",
    "    'Seattle55'  : 'Mariners',\n",
    "    'aadil':[{'aadil':\"gta\"},{'aadil2':\"gta\"},{'aadil3':[1,2,3,4,5,6,7,8,9]},{'phone':[11,22,3,4,5,6,7,8,9]}]\n",
    "    }]\n",
    "\n",
    "\n",
    "rec = collection.insert_many(lists_of_records) "
   ]
  },
  {
   "cell_type": "markdown",
   "id": "29ac8b99",
   "metadata": {},
   "source": [
    "Mongodb har documents ko collection mai store karti hai,and auto id de deti hai,(_id)<br>\n",
    "agar hum chahe toh is id ko manually bhi set kar sakte hai."
   ]
  },
  {
   "cell_type": "code",
   "execution_count": 8,
   "id": "10636c35",
   "metadata": {},
   "outputs": [],
   "source": [
    "#id no. hum khud hi de rhe hai\n",
    "list_of_records_user_defined_id = [\n",
    "    {\"_id\": \"8\",\n",
    "    \"companyName\": \"aineurox\",\n",
    "    \"Faculty\": \"mukesh\"},\n",
    "    {\"_id\": \"9\",\n",
    "    \"companyName\": \"aineurox\",\n",
    "    \"Faculty\": \"Sagar\"},\n",
    "]\n",
    "\n",
    "rec = collection.insert_many(list_of_records_user_defined_id)"
   ]
  },
  {
   "cell_type": "markdown",
   "id": "d66e6591",
   "metadata": {},
   "source": [
    "pymongo.errors.BulkWriteError: batch op errors occurred <br>\n",
    "Mongodb yeh error jab deta hai jab hum ya toh baar baar ek hi document ko collection mai enter kar rhe hai ya , jab hum same _id no. ka collection baar baar enter karne ki koshish mai hote hai."
   ]
  },
  {
   "cell_type": "markdown",
   "id": "e9abad87",
   "metadata": {},
   "source": [
    "#### find the document from collection"
   ]
  },
  {
   "cell_type": "code",
   "execution_count": 9,
   "id": "48ce8a98",
   "metadata": {},
   "outputs": [
    {
     "data": {
      "text/plain": [
       "{'_id': ObjectId('611e2fe13d6af02fb5a9328d'),\n",
       " 'computername': 'aadil',\n",
       " 'product': 'AI',\n",
       " 'name': ['shudh', 'kumar', 99875]}"
      ]
     },
     "execution_count": 9,
     "metadata": {},
     "output_type": "execute_result"
    }
   ],
   "source": [
    "#find method\n",
    "collection.find_one()      # it will give any random document from colection."
   ]
  },
  {
   "cell_type": "code",
   "execution_count": 10,
   "id": "488216bb",
   "metadata": {},
   "outputs": [
    {
     "data": {
      "text/plain": [
       "{'_id': ObjectId('611e309b3d6af02fb5a9328e'),\n",
       " 'Colorado': 'Rockies',\n",
       " 'Boston': 'Red Sox',\n",
       " 'Minnesota': 'Twins',\n",
       " 'Milwaukee': 'Brewers',\n",
       " 'Seattle': 'Mariners'}"
      ]
     },
     "execution_count": 10,
     "metadata": {},
     "output_type": "execute_result"
    }
   ],
   "source": [
    "collection.find_one({'Seattle'  : 'Mariners'})   # filtering(finding) a specific Document "
   ]
  },
  {
   "cell_type": "code",
   "execution_count": 11,
   "id": "d7ca75fd",
   "metadata": {},
   "outputs": [
    {
     "data": {
      "text/plain": [
       "<pymongo.cursor.Cursor at 0x63c39c8>"
      ]
     },
     "execution_count": 11,
     "metadata": {},
     "output_type": "execute_result"
    }
   ],
   "source": [
    "# sabhi collection ko find kro \n",
    "collection.find()"
   ]
  },
  {
   "cell_type": "code",
   "execution_count": 12,
   "id": "6b045490",
   "metadata": {},
   "outputs": [
    {
     "name": "stdout",
     "output_type": "stream",
     "text": [
      "{'_id': ObjectId('611e2fe13d6af02fb5a9328d'), 'computername': 'aadil', 'product': 'AI', 'name': ['shudh', 'kumar', 99875]}\n",
      "{'_id': ObjectId('611e309b3d6af02fb5a9328e'), 'Colorado': 'Rockies', 'Boston': 'Red Sox', 'Minnesota': 'Twins', 'Milwaukee': 'Brewers', 'Seattle': 'Mariners'}\n",
      "{'_id': ObjectId('611e309b3d6af02fb5a9328f'), 'Colorado1': 'Rockies', 'Boston2': 'Red Sox', 'Minnesota3': 'Twins', 'Milwaukee4': 'Brewers', 'Seattle5': 'Mariners'}\n",
      "{'_id': ObjectId('611e309b3d6af02fb5a93290'), 'Colorado11': 'Rockies', 'Boston22': 'Red Sox', 'Minnesota33': 'Twins', 'Milwaukee44': 'Brewers', 'Seattle55': 'Mariners', 'aadil': [{'aadil': 'gta'}, {'aadil2': 'gta'}, {'aadil3': [1, 2, 3, 4, 5, 6, 7, 8, 9]}, {'phone': [11, 22, 3, 4, 5, 6, 7, 8, 9]}]}\n",
      "{'_id': ObjectId('611ea35ef70cfb1f565a1d5f'), 'computername': 'aadil', 'product': 'AI', 'name': ['shudh', 'kumar', 99875]}\n",
      "{'_id': ObjectId('611ea35ef70cfb1f565a1d60'), 'Colorado': 'Rockies', 'Boston': 'Red Sox', 'Minnesota': 'Twins', 'Milwaukee': 'Brewers', 'Seattle': 'Mariners'}\n",
      "{'_id': ObjectId('611ea35ef70cfb1f565a1d61'), 'Colorado1': 'Rockies', 'Boston2': 'Red Sox', 'Minnesota3': 'Twins', 'Milwaukee4': 'Brewers', 'Seattle5': 'Mariners'}\n",
      "{'_id': ObjectId('611ea35ef70cfb1f565a1d62'), 'Colorado11': 'Rockies', 'Boston22': 'Red Sox', 'Minnesota33': 'Twins', 'Milwaukee44': 'Brewers', 'Seattle55': 'Mariners', 'aadil': [{'aadil': 'gta'}, {'aadil2': 'gta'}, {'aadil3': [1, 2, 3, 4, 5, 6, 7, 8, 9]}, {'phone': [11, 22, 3, 4, 5, 6, 7, 8, 9]}]}\n",
      "{'_id': '4', 'companyName': 'aineurox', 'Faculty': 'mukesh'}\n",
      "{'_id': '5', 'companyName': 'aineurox', 'Faculty': 'Sagar'}\n",
      "{'_id': ObjectId('611ea4d2f00d6abb52fe895f'), 'computername': 'aadil', 'product': 'AI', 'name': ['shudh', 'kumar', 99875]}\n",
      "{'_id': ObjectId('611ea4d2f00d6abb52fe8960'), 'Colorado': 'Rockies', 'Boston': 'Red Sox', 'Minnesota': 'Twins', 'Milwaukee': 'Brewers', 'Seattle': 'Mariners'}\n",
      "{'_id': ObjectId('611ea4d2f00d6abb52fe8961'), 'Colorado1': 'Rockies', 'Boston2': 'Red Sox', 'Minnesota3': 'Twins', 'Milwaukee4': 'Brewers', 'Seattle5': 'Mariners'}\n",
      "{'_id': ObjectId('611ea4d2f00d6abb52fe8962'), 'Colorado11': 'Rockies', 'Boston22': 'Red Sox', 'Minnesota33': 'Twins', 'Milwaukee44': 'Brewers', 'Seattle55': 'Mariners', 'aadil': [{'aadil': 'gta'}, {'aadil2': 'gta'}, {'aadil3': [1, 2, 3, 4, 5, 6, 7, 8, 9]}, {'phone': [11, 22, 3, 4, 5, 6, 7, 8, 9]}]}\n",
      "{'_id': '6', 'companyName': 'aineurox', 'Faculty': 'mukesh'}\n",
      "{'_id': '7', 'companyName': 'aineurox', 'Faculty': 'Sagar'}\n",
      "{'_id': ObjectId('6123b8b13c58d58daa8ae858'), 'computername': 'aadil', 'product': 'AI', 'name': ['shudh', 'kumar', 99875]}\n",
      "{'_id': ObjectId('6123b8b23c58d58daa8ae859'), 'Colorado': 'Rockies', 'Boston': 'Red Sox', 'Minnesota': 'Twins', 'Milwaukee': 'Brewers', 'Seattle': 'Mariners'}\n",
      "{'_id': ObjectId('6123b8b23c58d58daa8ae85a'), 'Colorado1': 'Rockies', 'Boston2': 'Red Sox', 'Minnesota3': 'Twins', 'Milwaukee4': 'Brewers', 'Seattle5': 'Mariners'}\n",
      "{'_id': ObjectId('6123b8b23c58d58daa8ae85b'), 'Colorado11': 'Rockies', 'Boston22': 'Red Sox', 'Minnesota33': 'Twins', 'Milwaukee44': 'Brewers', 'Seattle55': 'Mariners', 'aadil': [{'aadil': 'gta'}, {'aadil2': 'gta'}, {'aadil3': [1, 2, 3, 4, 5, 6, 7, 8, 9]}, {'phone': [11, 22, 3, 4, 5, 6, 7, 8, 9]}]}\n",
      "{'_id': ObjectId('6123b90d0d344939d6d9d182'), 'computername': 'aadil', 'product': 'AI', 'name': ['shudh', 'kumar', 99875]}\n",
      "{'_id': ObjectId('6123b90d0d344939d6d9d183'), 'Colorado': 'Rockies', 'Boston': 'Red Sox', 'Minnesota': 'Twins', 'Milwaukee': 'Brewers', 'Seattle': 'Mariners'}\n",
      "{'_id': ObjectId('6123b90d0d344939d6d9d184'), 'Colorado1': 'Rockies', 'Boston2': 'Red Sox', 'Minnesota3': 'Twins', 'Milwaukee4': 'Brewers', 'Seattle5': 'Mariners'}\n",
      "{'_id': ObjectId('6123b90d0d344939d6d9d185'), 'Colorado11': 'Rockies', 'Boston22': 'Red Sox', 'Minnesota33': 'Twins', 'Milwaukee44': 'Brewers', 'Seattle55': 'Mariners', 'aadil': [{'aadil': 'gta'}, {'aadil2': 'gta'}, {'aadil3': [1, 2, 3, 4, 5, 6, 7, 8, 9]}, {'phone': [11, 22, 3, 4, 5, 6, 7, 8, 9]}]}\n",
      "{'_id': '8', 'companyName': 'aineurox', 'Faculty': 'mukesh'}\n",
      "{'_id': '9', 'companyName': 'aineurox', 'Faculty': 'Sagar'}\n"
     ]
    }
   ],
   "source": [
    "#for iterating all data using loops and getting all data\n",
    "for i in collection.find():\n",
    "    print(i) "
   ]
  },
  {
   "cell_type": "code",
   "execution_count": 13,
   "id": "77377b04",
   "metadata": {},
   "outputs": [],
   "source": [
    "allDocs = collection.find({\"companyName\" : \"aineurox\"}) "
   ]
  },
  {
   "cell_type": "code",
   "execution_count": 14,
   "id": "96fae739",
   "metadata": {},
   "outputs": [
    {
     "name": "stdout",
     "output_type": "stream",
     "text": [
      "{'_id': '4', 'companyName': 'aineurox', 'Faculty': 'mukesh'}\n",
      "{'_id': '5', 'companyName': 'aineurox', 'Faculty': 'Sagar'}\n",
      "{'_id': '6', 'companyName': 'aineurox', 'Faculty': 'mukesh'}\n",
      "{'_id': '7', 'companyName': 'aineurox', 'Faculty': 'Sagar'}\n",
      "{'_id': '8', 'companyName': 'aineurox', 'Faculty': 'mukesh'}\n",
      "{'_id': '9', 'companyName': 'aineurox', 'Faculty': 'Sagar'}\n"
     ]
    }
   ],
   "source": [
    "for item in allDocs:\n",
    "    print(item) "
   ]
  },
  {
   "cell_type": "markdown",
   "id": "6827c797",
   "metadata": {},
   "source": [
    "Ab humne socha ki yaar humko srf kuch specific keys & value chahie, baaki ke nhi chahiye.<br>\n",
    "toh ek kaam kro , jo- jo chahiye uske values mai {1} likh do, toh automatically,<br>\n",
    "baaki ki sab values zeros set ho jaayegi.nd zero waali values print nhi hoti hai,<br>\n",
    "\n",
    "yeh condition '_id' ke liye valid nhi hoti hai.<br>\n",
    "means _id default 1 pe set hoti h, agr humko id nhi chahiye toh humko<br>\n",
    "id ko as {0} set krna parega.<br>"
   ]
  },
  {
   "cell_type": "code",
   "execution_count": 15,
   "id": "adecf689",
   "metadata": {},
   "outputs": [
    {
     "name": "stdout",
     "output_type": "stream",
     "text": [
      "{'_id': '4', 'Faculty': 'mukesh'}\n",
      "{'_id': '5', 'Faculty': 'Sagar'}\n",
      "{'_id': '6', 'Faculty': 'mukesh'}\n",
      "{'_id': '7', 'Faculty': 'Sagar'}\n",
      "{'_id': '8', 'Faculty': 'mukesh'}\n",
      "{'_id': '9', 'Faculty': 'Sagar'}\n"
     ]
    }
   ],
   "source": [
    "allDocs = collection.find({\"companyName\" : \"aineurox\"},{'Faculty': 1})\n",
    "for item in allDocs:\n",
    "    print(item)"
   ]
  },
  {
   "cell_type": "code",
   "execution_count": 16,
   "id": "b3b1cb47",
   "metadata": {},
   "outputs": [
    {
     "name": "stdout",
     "output_type": "stream",
     "text": [
      "{'Faculty': 'mukesh'}\n",
      "{'Faculty': 'Sagar'}\n",
      "{'Faculty': 'mukesh'}\n",
      "{'Faculty': 'Sagar'}\n",
      "{'Faculty': 'mukesh'}\n",
      "{'Faculty': 'Sagar'}\n"
     ]
    }
   ],
   "source": [
    "allDocs = collection.find({\"companyName\" : \"aineurox\"},{'Faculty': 1,'_id':0})\n",
    "for item in allDocs:\n",
    "    print(item)"
   ]
  },
  {
   "cell_type": "markdown",
   "id": "4c25155f",
   "metadata": {},
   "source": [
    "# ----------------------------------------------------------------------------------------"
   ]
  },
  {
   "cell_type": "code",
   "execution_count": 17,
   "id": "7c2d6536",
   "metadata": {},
   "outputs": [
    {
     "data": {
      "text/plain": [
       "['Aadil111', 'admin', 'codewithharry', 'config', 'harrybhai', 'local']"
      ]
     },
     "execution_count": 17,
     "metadata": {},
     "output_type": "execute_result"
    }
   ],
   "source": [
    "#listing database\n",
    "client.list_database_names() #no need to remember the query, only type .list and it will come in box"
   ]
  },
  {
   "cell_type": "code",
   "execution_count": 18,
   "id": "9d314905",
   "metadata": {},
   "outputs": [
    {
     "name": "stdout",
     "output_type": "stream",
     "text": [
      "3.10.1\n"
     ]
    }
   ],
   "source": [
    "print(pymongo.version)"
   ]
  },
  {
   "cell_type": "code",
   "execution_count": 19,
   "id": "bc22bec2",
   "metadata": {},
   "outputs": [
    {
     "name": "stdout",
     "output_type": "stream",
     "text": [
      "['mySampleCollectionForHarry']\n"
     ]
    }
   ],
   "source": [
    "# print kro ki perticular DataBase m kon-kon se collection hai.\n",
    "col = client['harrybhai']\n",
    "print(col.list_collection_names()) "
   ]
  },
  {
   "cell_type": "code",
   "execution_count": 20,
   "id": "3ea522ca",
   "metadata": {},
   "outputs": [
    {
     "name": "stdout",
     "output_type": "stream",
     "text": [
      "6\n"
     ]
    },
    {
     "name": "stderr",
     "output_type": "stream",
     "text": [
      "c:\\users\\todays\\appdata\\local\\programs\\python\\python37\\lib\\site-packages\\ipykernel_launcher.py:3: DeprecationWarning: count is deprecated. Use Collection.count_documents instead.\n",
      "  This is separate from the ipykernel package so we can avoid doing imports until\n"
     ]
    }
   ],
   "source": [
    "#### No. of documents in the collection having key as 'faculty'.\n",
    "allDocs = collection.find({\"companyName\" : \"aineurox\"},{'Faculty': 1})\n",
    "print(allDocs.count()) "
   ]
  },
  {
   "cell_type": "code",
   "execution_count": 21,
   "id": "b354938d",
   "metadata": {},
   "outputs": [],
   "source": [
    "# limit the no. of rows in output \n",
    "allDocs = collection.find({\"companyName\" : \"aineurox\"},{'Faculty': 1}).limit(1) "
   ]
  },
  {
   "cell_type": "code",
   "execution_count": 22,
   "id": "47e2b4b6",
   "metadata": {},
   "outputs": [
    {
     "data": {
      "text/plain": [
       "<pymongo.cursor.Cursor at 0x63d6708>"
      ]
     },
     "execution_count": 22,
     "metadata": {},
     "output_type": "execute_result"
    }
   ],
   "source": [
    "allDocs "
   ]
  },
  {
   "cell_type": "code",
   "execution_count": 23,
   "id": "afc1c5c5",
   "metadata": {},
   "outputs": [
    {
     "name": "stdout",
     "output_type": "stream",
     "text": [
      "{'_id': '4', 'Faculty': 'mukesh'}\n"
     ]
    }
   ],
   "source": [
    "for item in allDocs:\n",
    "    print(item) "
   ]
  },
  {
   "cell_type": "markdown",
   "id": "2a3cb1ad",
   "metadata": {},
   "source": [
    "#### Update And Delete "
   ]
  },
  {
   "cell_type": "code",
   "execution_count": 25,
   "id": "224a27f4",
   "metadata": {},
   "outputs": [
    {
     "data": {
      "text/plain": [
       "<pymongo.results.UpdateResult at 0x8cc4388>"
      ]
     },
     "execution_count": 25,
     "metadata": {},
     "output_type": "execute_result"
    }
   ],
   "source": [
    "# update is done with \"$set\" sign\n",
    "prev = {'_id': '4'}\n",
    "nextt = {\"$set\": {\"Faculty\" : \"Aadilji\"}} \n",
    "collection.update_one(prev,nextt) "
   ]
  },
  {
   "cell_type": "markdown",
   "id": "a30feec9",
   "metadata": {},
   "source": [
    "Yeh id:4 mai jaa kr \"Faculty\" key pr jaa kr Mukesh ko hata kar \"Aadilji\" set kar dega,<br>\n",
    "    aur agar id:4 pr agar koi bhi Faculty naam ki koi key Nhi rahi toh wha pr yeh new key and value \n",
    "        bana dega."
   ]
  },
  {
   "cell_type": "markdown",
   "id": "1b3d83a5",
   "metadata": {},
   "source": [
    "#### Agar mai saare Faculty jaha pr shubham hai,unki company ka naam change karna chahta hu\n",
    "#### wha hum update many karenge."
   ]
  },
  {
   "cell_type": "code",
   "execution_count": 26,
   "id": "40e85838",
   "metadata": {},
   "outputs": [],
   "source": [
    "prev = {\"Faculty\" : \"Aadilji\"}\n",
    "nextt = {\"$set\": {\"companyName\": \"employed_engineers\"}}\n",
    "up = collection.update_many(prev,nextt) "
   ]
  },
  {
   "cell_type": "code",
   "execution_count": 27,
   "id": "d4673252",
   "metadata": {},
   "outputs": [
    {
     "data": {
      "text/plain": [
       "<pymongo.results.UpdateResult at 0x8fcf2c8>"
      ]
     },
     "execution_count": 27,
     "metadata": {},
     "output_type": "execute_result"
    }
   ],
   "source": [
    "up "
   ]
  },
  {
   "cell_type": "code",
   "execution_count": 28,
   "id": "8578cace",
   "metadata": {},
   "outputs": [],
   "source": [
    "prev = {\"Faculty\" : \"Sagar\"}\n",
    "nextt = {\"$set\": {\"companyName\": \"employed_engineers\"}}\n",
    "up1 = collection.update_many(prev,nextt) "
   ]
  },
  {
   "cell_type": "code",
   "execution_count": 29,
   "id": "0f6a86c4",
   "metadata": {},
   "outputs": [
    {
     "data": {
      "text/plain": [
       "<pymongo.results.UpdateResult at 0x8fa31c8>"
      ]
     },
     "execution_count": 29,
     "metadata": {},
     "output_type": "execute_result"
    }
   ],
   "source": [
    "up1 "
   ]
  },
  {
   "cell_type": "markdown",
   "id": "62997c85",
   "metadata": {},
   "source": [
    "#### Kitne documents modified ho gye hai unko count karne ke liye modified_count"
   ]
  },
  {
   "cell_type": "code",
   "execution_count": 30,
   "id": "886c3095",
   "metadata": {},
   "outputs": [],
   "source": [
    "prev = {\"companyName\": \"employed_engineers\"}\n",
    "nextt = {\"$set\": {\"Faculty\" : \"Aadilji\"}}\n",
    "up1 = collection.update_many(prev,nextt) "
   ]
  },
  {
   "cell_type": "code",
   "execution_count": 31,
   "id": "0f40404f",
   "metadata": {},
   "outputs": [
    {
     "data": {
      "text/plain": [
       "<pymongo.results.UpdateResult at 0x91a88c8>"
      ]
     },
     "execution_count": 31,
     "metadata": {},
     "output_type": "execute_result"
    }
   ],
   "source": [
    "up1 "
   ]
  },
  {
   "cell_type": "code",
   "execution_count": 32,
   "id": "2a9e0b96",
   "metadata": {},
   "outputs": [
    {
     "data": {
      "text/plain": [
       "3"
      ]
     },
     "execution_count": 32,
     "metadata": {},
     "output_type": "execute_result"
    }
   ],
   "source": [
    "up1.modified_count "
   ]
  },
  {
   "cell_type": "markdown",
   "id": "401df385",
   "metadata": {},
   "source": [
    "### Delete "
   ]
  },
  {
   "cell_type": "code",
   "execution_count": 33,
   "id": "769ea306",
   "metadata": {},
   "outputs": [],
   "source": [
    "# Delete_one\n",
    "rec = {\"companyName\": \"employed_engineers\"}\n",
    "del_1 = collection.delete_one(rec) \n",
    "\n",
    "#yeh puri dict. ko del karega na ki srf woh key jo humne daali hai"
   ]
  },
  {
   "cell_type": "code",
   "execution_count": 34,
   "id": "e670c7d6",
   "metadata": {},
   "outputs": [
    {
     "data": {
      "text/plain": [
       "<pymongo.results.DeleteResult at 0x5c85908>"
      ]
     },
     "execution_count": 34,
     "metadata": {},
     "output_type": "execute_result"
    }
   ],
   "source": [
    "del_1 "
   ]
  },
  {
   "cell_type": "code",
   "execution_count": 35,
   "id": "aedf6ea2",
   "metadata": {},
   "outputs": [
    {
     "data": {
      "text/plain": [
       "<pymongo.results.DeleteResult at 0x8f86748>"
      ]
     },
     "execution_count": 35,
     "metadata": {},
     "output_type": "execute_result"
    }
   ],
   "source": [
    "# Delete Many\n",
    "rec = {\"companyName\": \"employed_engineers\"}\n",
    "del_m = collection.delete_many(rec)\n",
    "del_m "
   ]
  },
  {
   "cell_type": "markdown",
   "id": "3a32a959",
   "metadata": {},
   "source": [
    "#### Deleted_count"
   ]
  },
  {
   "cell_type": "code",
   "execution_count": 37,
   "id": "b2aeabde",
   "metadata": {},
   "outputs": [
    {
     "data": {
      "text/plain": [
       "3"
      ]
     },
     "execution_count": 37,
     "metadata": {},
     "output_type": "execute_result"
    }
   ],
   "source": [
    "del_m.deleted_count "
   ]
  },
  {
   "cell_type": "markdown",
   "id": "b5f11d98",
   "metadata": {},
   "source": [
    "#### Modifiers"
   ]
  },
  {
   "cell_type": "code",
   "execution_count": 38,
   "id": "24e3af5d",
   "metadata": {},
   "outputs": [],
   "source": [
    "list_of_records1 = [\n",
    "    {\"_id\": \"15\",\n",
    "    \"Name\": \"Aadil\",\n",
    "    \"Marks\": 50},\n",
    "    {\"_id\": \"16\",\n",
    "    \"Name\": \"Aadil\",\n",
    "    \"Marks\": 90},\n",
    "]\n",
    "\n",
    "rec = collection.insert_many(list_of_records1) "
   ]
  },
  {
   "cell_type": "code",
   "execution_count": 40,
   "id": "ce71756f",
   "metadata": {},
   "outputs": [],
   "source": [
    "#### Find Kro Aadil ko aur srf woh record prints kro jisme marks 60 se kam ho.\n",
    "\n",
    "allDocs = collection.find({\"Name\":\"Aadil\", \"Marks\": {\"$lte\":60}})"
   ]
  },
  {
   "cell_type": "code",
   "execution_count": 41,
   "id": "fddba181",
   "metadata": {},
   "outputs": [
    {
     "name": "stdout",
     "output_type": "stream",
     "text": [
      "{'_id': '15', 'Name': 'Aadil', 'Marks': 50}\n"
     ]
    }
   ],
   "source": [
    "for item in allDocs:\n",
    "    print(item) "
   ]
  },
  {
   "cell_type": "code",
   "execution_count": 43,
   "id": "6ce2794b",
   "metadata": {},
   "outputs": [
    {
     "data": {
      "text/plain": [
       "<pymongo.results.InsertManyResult at 0x8ac1388>"
      ]
     },
     "execution_count": 43,
     "metadata": {},
     "output_type": "execute_result"
    }
   ],
   "source": [
    "random_data = [\n",
    "    {'_id': '3', 'companyName': 'iNeuron', 'Faculty': 'XYZ'},\n",
    "    {'_id': '4', 'companyName': 'iNeuron', 'Faculty': 'ABC'},\n",
    "    {'_id': '5', 'companyName': 'iNeuron', 'Faculty': 'PQR'},\n",
    "]\n",
    "\n",
    "collection.insert_many(random_data) "
   ]
  },
  {
   "cell_type": "code",
   "execution_count": 45,
   "id": "cc360121",
   "metadata": {},
   "outputs": [
    {
     "name": "stdout",
     "output_type": "stream",
     "text": [
      "{'_id': '4', 'companyName': 'iNeuron', 'Faculty': 'ABC'}\n",
      "{'_id': '5', 'companyName': 'iNeuron', 'Faculty': 'PQR'}\n",
      "{'_id': '6', 'companyName': 'aineurox', 'Faculty': 'mukesh'}\n",
      "{'_id': '8', 'companyName': 'aineurox', 'Faculty': 'Aadil'}\n"
     ]
    }
   ],
   "source": [
    "#del many query to del data id greater than equals to 4\n",
    "for i in collection.find({\"_id\":{\"$gte\":\"4\"}}):\n",
    "                                    print(i)"
   ]
  },
  {
   "cell_type": "code",
   "execution_count": 47,
   "id": "cecf1095",
   "metadata": {},
   "outputs": [
    {
     "data": {
      "text/plain": [
       "<pymongo.results.DeleteResult at 0x5c28708>"
      ]
     },
     "execution_count": 47,
     "metadata": {},
     "output_type": "execute_result"
    }
   ],
   "source": [
    "collection.delete_many({\"_id\":{\"$gte\":\"4\"}}) "
   ]
  },
  {
   "cell_type": "markdown",
   "id": "f18a8cad",
   "metadata": {},
   "source": [
    "#### Enumerate"
   ]
  },
  {
   "cell_type": "code",
   "execution_count": 48,
   "id": "23921480",
   "metadata": {},
   "outputs": [
    {
     "name": "stdout",
     "output_type": "stream",
     "text": [
      "0. 15\n",
      "1. 16\n"
     ]
    }
   ],
   "source": [
    "inserted_IDs = rec.inserted_ids\n",
    "for idno, unique_ids in enumerate(inserted_IDs):\n",
    "    print(f\"{idno}. {unique_ids}\") "
   ]
  },
  {
   "cell_type": "markdown",
   "id": "fa8dae2e",
   "metadata": {},
   "source": [
    "#### ------------------------------------------------------------------------------------------------"
   ]
  },
  {
   "cell_type": "code",
   "execution_count": 49,
   "id": "5d8cbc2f",
   "metadata": {},
   "outputs": [],
   "source": [
    "random_data = [\n",
    "    {'_id': '33', 'companyName': 'iNeuron', 'Faculty': 'XYZ'},\n",
    "    {'_id': '34', 'companyName': 'iNeuron', 'Faculty': 'ABC'},\n",
    "    {'_id': '35', 'companyName': 'iNeuron', 'Faculty': 'PQR'},\n",
    "]\n",
    "\n",
    "rec1 = collection.insert_many(random_data) "
   ]
  },
  {
   "cell_type": "code",
   "execution_count": 50,
   "id": "3b431e6e",
   "metadata": {},
   "outputs": [
    {
     "name": "stdout",
     "output_type": "stream",
     "text": [
      "0. 33\n",
      "1. 34\n",
      "2. 35\n"
     ]
    }
   ],
   "source": [
    "inserted_IDs = rec1.inserted_ids\n",
    "for idno, unique_ids in enumerate(inserted_IDs):\n",
    "    print(f\"{idno}. {unique_ids}\")"
   ]
  },
  {
   "cell_type": "markdown",
   "id": "cb530fa0",
   "metadata": {},
   "source": [
    "#### Harry Bhai Ki Di gyi Mongodb Cheat Sheet ko seedhe hum Mongo Shell mai Use Kar sakte hai,\n",
    "#### Aur usi cheat sheet ko pymongo mai with python kaise use karte hai, yeh hum log ne dekh liya upper"
   ]
  }
 ],
 "metadata": {
  "kernelspec": {
   "display_name": "Python 3",
   "language": "python",
   "name": "python3"
  },
  "language_info": {
   "codemirror_mode": {
    "name": "ipython",
    "version": 3
   },
   "file_extension": ".py",
   "mimetype": "text/x-python",
   "name": "python",
   "nbconvert_exporter": "python",
   "pygments_lexer": "ipython3",
   "version": "3.7.4"
  }
 },
 "nbformat": 4,
 "nbformat_minor": 5
}
