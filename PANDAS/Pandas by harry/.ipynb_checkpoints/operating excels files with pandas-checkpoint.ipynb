{
 "cells": [
  {
   "cell_type": "markdown",
   "id": "b8f81c0e",
   "metadata": {},
   "source": [
    "# OPERATING EXCELS FILES"
   ]
  },
  {
   "cell_type": "code",
   "execution_count": 1,
   "id": "509e4c65",
   "metadata": {},
   "outputs": [],
   "source": [
    "import pandas as pd \n",
    "import numpy as np"
   ]
  },
  {
   "cell_type": "raw",
   "id": "c9e1b791",
   "metadata": {},
   "source": [
    "pip install xlrd"
   ]
  },
  {
   "cell_type": "raw",
   "id": "a4d222ae",
   "metadata": {},
   "source": [
    "pip install openpyxl "
   ]
  },
  {
   "cell_type": "code",
   "execution_count": 2,
   "id": "b3281086",
   "metadata": {},
   "outputs": [],
   "source": [
    "data = pd.read_excel('data.xlsx')"
   ]
  },
  {
   "cell_type": "code",
   "execution_count": 3,
   "id": "b2d14469",
   "metadata": {},
   "outputs": [
    {
     "data": {
      "text/html": [
       "<div>\n",
       "<style scoped>\n",
       "    .dataframe tbody tr th:only-of-type {\n",
       "        vertical-align: middle;\n",
       "    }\n",
       "\n",
       "    .dataframe tbody tr th {\n",
       "        vertical-align: top;\n",
       "    }\n",
       "\n",
       "    .dataframe thead th {\n",
       "        text-align: right;\n",
       "    }\n",
       "</style>\n",
       "<table border=\"1\" class=\"dataframe\">\n",
       "  <thead>\n",
       "    <tr style=\"text-align: right;\">\n",
       "      <th></th>\n",
       "      <th>train no.</th>\n",
       "      <th>marks</th>\n",
       "      <th>city</th>\n",
       "    </tr>\n",
       "  </thead>\n",
       "  <tbody>\n",
       "    <tr>\n",
       "      <th>0</th>\n",
       "      <td>12345</td>\n",
       "      <td>92</td>\n",
       "      <td>rampur</td>\n",
       "    </tr>\n",
       "    <tr>\n",
       "      <th>1</th>\n",
       "      <td>6789</td>\n",
       "      <td>134</td>\n",
       "      <td>kolkata</td>\n",
       "    </tr>\n",
       "    <tr>\n",
       "      <th>2</th>\n",
       "      <td>9845</td>\n",
       "      <td>224</td>\n",
       "      <td>sendhwa</td>\n",
       "    </tr>\n",
       "    <tr>\n",
       "      <th>3</th>\n",
       "      <td>88787</td>\n",
       "      <td>17</td>\n",
       "      <td>warla</td>\n",
       "    </tr>\n",
       "  </tbody>\n",
       "</table>\n",
       "</div>"
      ],
      "text/plain": [
       "   train no.  marks     city\n",
       "0      12345     92   rampur\n",
       "1       6789    134  kolkata\n",
       "2       9845    224  sendhwa\n",
       "3      88787     17    warla"
      ]
     },
     "execution_count": 3,
     "metadata": {},
     "output_type": "execute_result"
    }
   ],
   "source": [
    "data "
   ]
  },
  {
   "cell_type": "code",
   "execution_count": 4,
   "id": "ca0cd7dd",
   "metadata": {},
   "outputs": [],
   "source": [
    "data = pd.read_excel('data.xlsx',sheet_name='Sheet1')"
   ]
  },
  {
   "cell_type": "code",
   "execution_count": 5,
   "id": "8c8bcd28",
   "metadata": {},
   "outputs": [
    {
     "data": {
      "text/html": [
       "<div>\n",
       "<style scoped>\n",
       "    .dataframe tbody tr th:only-of-type {\n",
       "        vertical-align: middle;\n",
       "    }\n",
       "\n",
       "    .dataframe tbody tr th {\n",
       "        vertical-align: top;\n",
       "    }\n",
       "\n",
       "    .dataframe thead th {\n",
       "        text-align: right;\n",
       "    }\n",
       "</style>\n",
       "<table border=\"1\" class=\"dataframe\">\n",
       "  <thead>\n",
       "    <tr style=\"text-align: right;\">\n",
       "      <th></th>\n",
       "      <th>train no.</th>\n",
       "      <th>marks</th>\n",
       "      <th>city</th>\n",
       "    </tr>\n",
       "  </thead>\n",
       "  <tbody>\n",
       "    <tr>\n",
       "      <th>0</th>\n",
       "      <td>12345</td>\n",
       "      <td>92</td>\n",
       "      <td>rampur</td>\n",
       "    </tr>\n",
       "    <tr>\n",
       "      <th>1</th>\n",
       "      <td>6789</td>\n",
       "      <td>134</td>\n",
       "      <td>kolkata</td>\n",
       "    </tr>\n",
       "    <tr>\n",
       "      <th>2</th>\n",
       "      <td>9845</td>\n",
       "      <td>224</td>\n",
       "      <td>sendhwa</td>\n",
       "    </tr>\n",
       "    <tr>\n",
       "      <th>3</th>\n",
       "      <td>88787</td>\n",
       "      <td>17</td>\n",
       "      <td>warla</td>\n",
       "    </tr>\n",
       "  </tbody>\n",
       "</table>\n",
       "</div>"
      ],
      "text/plain": [
       "   train no.  marks     city\n",
       "0      12345     92   rampur\n",
       "1       6789    134  kolkata\n",
       "2       9845    224  sendhwa\n",
       "3      88787     17    warla"
      ]
     },
     "execution_count": 5,
     "metadata": {},
     "output_type": "execute_result"
    }
   ],
   "source": [
    "data "
   ]
  },
  {
   "cell_type": "code",
   "execution_count": 6,
   "id": "e21c820a",
   "metadata": {},
   "outputs": [],
   "source": [
    "data = pd.read_excel('data.xlsx',sheet_name='Sheet2')"
   ]
  },
  {
   "cell_type": "code",
   "execution_count": 7,
   "id": "9bf60aef",
   "metadata": {},
   "outputs": [
    {
     "data": {
      "text/html": [
       "<div>\n",
       "<style scoped>\n",
       "    .dataframe tbody tr th:only-of-type {\n",
       "        vertical-align: middle;\n",
       "    }\n",
       "\n",
       "    .dataframe tbody tr th {\n",
       "        vertical-align: top;\n",
       "    }\n",
       "\n",
       "    .dataframe thead th {\n",
       "        text-align: right;\n",
       "    }\n",
       "</style>\n",
       "<table border=\"1\" class=\"dataframe\">\n",
       "  <thead>\n",
       "    <tr style=\"text-align: right;\">\n",
       "      <th></th>\n",
       "      <th>train no. 2</th>\n",
       "      <th>marks 2</th>\n",
       "      <th>city 2</th>\n",
       "    </tr>\n",
       "  </thead>\n",
       "  <tbody>\n",
       "    <tr>\n",
       "      <th>0</th>\n",
       "      <td>12345</td>\n",
       "      <td>92</td>\n",
       "      <td>rampur</td>\n",
       "    </tr>\n",
       "    <tr>\n",
       "      <th>1</th>\n",
       "      <td>6789</td>\n",
       "      <td>134</td>\n",
       "      <td>kolkata</td>\n",
       "    </tr>\n",
       "    <tr>\n",
       "      <th>2</th>\n",
       "      <td>9845</td>\n",
       "      <td>224</td>\n",
       "      <td>sendhwa</td>\n",
       "    </tr>\n",
       "    <tr>\n",
       "      <th>3</th>\n",
       "      <td>88787</td>\n",
       "      <td>17</td>\n",
       "      <td>warla</td>\n",
       "    </tr>\n",
       "  </tbody>\n",
       "</table>\n",
       "</div>"
      ],
      "text/plain": [
       "   train no. 2  marks 2   city 2\n",
       "0        12345       92   rampur\n",
       "1         6789      134  kolkata\n",
       "2         9845      224  sendhwa\n",
       "3        88787       17    warla"
      ]
     },
     "execution_count": 7,
     "metadata": {},
     "output_type": "execute_result"
    }
   ],
   "source": [
    "data "
   ]
  },
  {
   "cell_type": "code",
   "execution_count": 8,
   "id": "159cc8cb",
   "metadata": {},
   "outputs": [],
   "source": [
    "data.iloc[0,0] = 34"
   ]
  },
  {
   "cell_type": "code",
   "execution_count": 9,
   "id": "a129556a",
   "metadata": {},
   "outputs": [
    {
     "data": {
      "text/html": [
       "<div>\n",
       "<style scoped>\n",
       "    .dataframe tbody tr th:only-of-type {\n",
       "        vertical-align: middle;\n",
       "    }\n",
       "\n",
       "    .dataframe tbody tr th {\n",
       "        vertical-align: top;\n",
       "    }\n",
       "\n",
       "    .dataframe thead th {\n",
       "        text-align: right;\n",
       "    }\n",
       "</style>\n",
       "<table border=\"1\" class=\"dataframe\">\n",
       "  <thead>\n",
       "    <tr style=\"text-align: right;\">\n",
       "      <th></th>\n",
       "      <th>train no. 2</th>\n",
       "      <th>marks 2</th>\n",
       "      <th>city 2</th>\n",
       "    </tr>\n",
       "  </thead>\n",
       "  <tbody>\n",
       "    <tr>\n",
       "      <th>0</th>\n",
       "      <td>34</td>\n",
       "      <td>92</td>\n",
       "      <td>rampur</td>\n",
       "    </tr>\n",
       "    <tr>\n",
       "      <th>1</th>\n",
       "      <td>6789</td>\n",
       "      <td>134</td>\n",
       "      <td>kolkata</td>\n",
       "    </tr>\n",
       "    <tr>\n",
       "      <th>2</th>\n",
       "      <td>9845</td>\n",
       "      <td>224</td>\n",
       "      <td>sendhwa</td>\n",
       "    </tr>\n",
       "    <tr>\n",
       "      <th>3</th>\n",
       "      <td>88787</td>\n",
       "      <td>17</td>\n",
       "      <td>warla</td>\n",
       "    </tr>\n",
       "  </tbody>\n",
       "</table>\n",
       "</div>"
      ],
      "text/plain": [
       "   train no. 2  marks 2   city 2\n",
       "0           34       92   rampur\n",
       "1         6789      134  kolkata\n",
       "2         9845      224  sendhwa\n",
       "3        88787       17    warla"
      ]
     },
     "execution_count": 9,
     "metadata": {},
     "output_type": "execute_result"
    }
   ],
   "source": [
    "data "
   ]
  },
  {
   "cell_type": "code",
   "execution_count": null,
   "id": "0cb7c743",
   "metadata": {},
   "outputs": [],
   "source": []
  }
 ],
 "metadata": {
  "kernelspec": {
   "display_name": "Python 3",
   "language": "python",
   "name": "python3"
  },
  "language_info": {
   "codemirror_mode": {
    "name": "ipython",
    "version": 3
   },
   "file_extension": ".py",
   "mimetype": "text/x-python",
   "name": "python",
   "nbconvert_exporter": "python",
   "pygments_lexer": "ipython3",
   "version": "3.7.4"
  }
 },
 "nbformat": 4,
 "nbformat_minor": 5
}
