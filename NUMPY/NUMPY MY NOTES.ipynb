{
 "cells": [
  {
   "cell_type": "markdown",
   "id": "64abae1f",
   "metadata": {},
   "source": [
    "# Numpy Tutorials\n",
    "NumPy is a general-purpose array-processing package. It provides a high-performance multidimensional array object, and tools for working with these arrays. It is the fundamental package for scientific computing with Python\n",
    "\n",
    "# What is an array\n",
    "An array is a data structure that stores values of same data type. In Python, this is the main difference between arrays and lists. While python lists can contain values corresponding to different data types, arrays in python can only contain values corresponding to same data type"
   ]
  },
  {
   "cell_type": "code",
   "execution_count": 1,
   "id": "d3db980c",
   "metadata": {},
   "outputs": [
    {
     "name": "stdout",
     "output_type": "stream",
     "text": [
      "Note: you may need to restart the kernel to use updated packages.\n"
     ]
    },
    {
     "name": "stderr",
     "output_type": "stream",
     "text": [
      "ERROR: Invalid requirement: '#'\n"
     ]
    }
   ],
   "source": [
    "pip install numpy # To install numpy"
   ]
  },
  {
   "cell_type": "code",
   "execution_count": 2,
   "id": "9b5d725a",
   "metadata": {},
   "outputs": [],
   "source": [
    "## initially Lets import numpy\n",
    "\n",
    "import numpy as np"
   ]
  },
  {
   "cell_type": "code",
   "execution_count": 3,
   "id": "9754bed1",
   "metadata": {},
   "outputs": [],
   "source": [
    "my_lst=[1,2,3,4,5] #list\n",
    "\n",
    "arr=np.array(my_lst) #conveting list into array"
   ]
  },
  {
   "cell_type": "code",
   "execution_count": 4,
   "id": "aece4da6",
   "metadata": {},
   "outputs": [
    {
     "name": "stdout",
     "output_type": "stream",
     "text": [
      "[1 2 3 4 5]\n"
     ]
    }
   ],
   "source": [
    "print(arr)"
   ]
  },
  {
   "cell_type": "code",
   "execution_count": 5,
   "id": "03bbb8ab",
   "metadata": {},
   "outputs": [
    {
     "data": {
      "text/plain": [
       "numpy.ndarray"
      ]
     },
     "execution_count": 5,
     "metadata": {},
     "output_type": "execute_result"
    }
   ],
   "source": [
    "type(arr)"
   ]
  },
  {
   "cell_type": "code",
   "execution_count": 6,
   "id": "bd62c705",
   "metadata": {},
   "outputs": [
    {
     "data": {
      "text/plain": [
       "array([1, 2, 3, 4, 5])"
      ]
     },
     "execution_count": 6,
     "metadata": {},
     "output_type": "execute_result"
    }
   ],
   "source": [
    "arr # here array is one dimensional array\n",
    "    #since it starts & close with one square bracket "
   ]
  },
  {
   "cell_type": "code",
   "execution_count": 7,
   "id": "26a1cafa",
   "metadata": {},
   "outputs": [
    {
     "data": {
      "text/plain": [
       "(5,)"
      ]
     },
     "execution_count": 7,
     "metadata": {},
     "output_type": "execute_result"
    }
   ],
   "source": [
    "arr.shape #Shape is an inbuilt function, which gives us dimension of array in (row,column) format.\n",
    "          # for 1-D array it gives us just the no. of element present."
   ]
  },
  {
   "cell_type": "markdown",
   "id": "c6d228b1",
   "metadata": {},
   "source": [
    "# MULTI-DIMENSIONAL ARRAY(MULTI-NESTED ARRAY)"
   ]
  },
  {
   "cell_type": "code",
   "execution_count": 8,
   "id": "d39c5202",
   "metadata": {},
   "outputs": [],
   "source": [
    "my_lst1=[1,2,3,4,5]\n",
    "my_lst2=[2,3,4,5,6]\n",
    "my_lst3=[9,7,6,8,9]\n",
    "\n",
    "arr=np.array([my_lst1,my_lst2,my_lst3])"
   ]
  },
  {
   "cell_type": "code",
   "execution_count": 9,
   "id": "360c1fac",
   "metadata": {},
   "outputs": [
    {
     "data": {
      "text/plain": [
       "array([[1, 2, 3, 4, 5],\n",
       "       [2, 3, 4, 5, 6],\n",
       "       [9, 7, 6, 8, 9]])"
      ]
     },
     "execution_count": 9,
     "metadata": {},
     "output_type": "execute_result"
    }
   ],
   "source": [
    "arr   #2-d array\n",
    "      #2 opening and 2 closing bracket"
   ]
  },
  {
   "cell_type": "code",
   "execution_count": 10,
   "id": "2f782edd",
   "metadata": {},
   "outputs": [
    {
     "data": {
      "text/plain": [
       "dtype('int32')"
      ]
     },
     "execution_count": 10,
     "metadata": {},
     "output_type": "execute_result"
    }
   ],
   "source": [
    "arr.dtype"
   ]
  },
  {
   "cell_type": "code",
   "execution_count": 11,
   "id": "758f72f6",
   "metadata": {},
   "outputs": [
    {
     "data": {
      "text/plain": [
       "numpy.ndarray"
      ]
     },
     "execution_count": 11,
     "metadata": {},
     "output_type": "execute_result"
    }
   ],
   "source": [
    "type(arr)"
   ]
  },
  {
   "cell_type": "code",
   "execution_count": 12,
   "id": "6a87e2be",
   "metadata": {},
   "outputs": [
    {
     "data": {
      "text/plain": [
       "(3, 5)"
      ]
     },
     "execution_count": 12,
     "metadata": {},
     "output_type": "execute_result"
    }
   ],
   "source": [
    "arr.shape  #(row,column)"
   ]
  },
  {
   "cell_type": "code",
   "execution_count": 13,
   "id": "1403aca2",
   "metadata": {},
   "outputs": [],
   "source": [
    "my_lst1=[1,2,3,4,5]\n",
    "my_lst2=[2,3,4,5,6]\n",
    "my_lst3=[9,7,6,8,9]\n",
    "\n",
    "arr=np.array([my_lst1,my_lst2,my_lst3],np.int64)"
   ]
  },
  {
   "cell_type": "code",
   "execution_count": 14,
   "id": "8149a52f",
   "metadata": {},
   "outputs": [
    {
     "data": {
      "text/plain": [
       "dtype('int64')"
      ]
     },
     "execution_count": 14,
     "metadata": {},
     "output_type": "execute_result"
    }
   ],
   "source": [
    "arr.dtype"
   ]
  },
  {
   "cell_type": "code",
   "execution_count": null,
   "id": "558cea40",
   "metadata": {},
   "outputs": [],
   "source": []
  },
  {
   "cell_type": "markdown",
   "id": "625e1ebb",
   "metadata": {},
   "source": [
    "# RESHAPING OF ARRAY"
   ]
  },
  {
   "cell_type": "code",
   "execution_count": 15,
   "id": "b376293b",
   "metadata": {},
   "outputs": [
    {
     "data": {
      "text/plain": [
       "array([[1, 2, 3],\n",
       "       [4, 5, 2],\n",
       "       [3, 4, 5],\n",
       "       [6, 9, 7],\n",
       "       [6, 8, 9]], dtype=int64)"
      ]
     },
     "execution_count": 15,
     "metadata": {},
     "output_type": "execute_result"
    }
   ],
   "source": [
    "arr.reshape(5,3) #the no. of elements should always remain same after  reshaping\n",
    "                 # we can't reshape these array into (5,4)"
   ]
  },
  {
   "cell_type": "code",
   "execution_count": 16,
   "id": "1e6e3cbf",
   "metadata": {},
   "outputs": [
    {
     "data": {
      "text/plain": [
       "array([[1, 2, 3, 4, 5, 2, 3, 4, 5, 6, 9, 7, 6, 8, 9]], dtype=int64)"
      ]
     },
     "execution_count": 16,
     "metadata": {},
     "output_type": "execute_result"
    }
   ],
   "source": [
    "arr.reshape(1,15) #look carefully, the printed array is 2-d array."
   ]
  },
  {
   "cell_type": "markdown",
   "id": "dcbb4c18",
   "metadata": {},
   "source": [
    "# INDEXING IN ARRAYS"
   ]
  },
  {
   "cell_type": "code",
   "execution_count": 17,
   "id": "0cda5e88",
   "metadata": {},
   "outputs": [],
   "source": [
    "# accessing elements from array (array indexing)\n",
    "arr=np.array(my_lst1)"
   ]
  },
  {
   "cell_type": "code",
   "execution_count": 18,
   "id": "503bc35c",
   "metadata": {},
   "outputs": [
    {
     "data": {
      "text/plain": [
       "array([1, 2, 3, 4, 5])"
      ]
     },
     "execution_count": 18,
     "metadata": {},
     "output_type": "execute_result"
    }
   ],
   "source": [
    "arr"
   ]
  },
  {
   "cell_type": "code",
   "execution_count": 19,
   "id": "efa62536",
   "metadata": {},
   "outputs": [
    {
     "data": {
      "text/plain": [
       "4"
      ]
     },
     "execution_count": 19,
     "metadata": {},
     "output_type": "execute_result"
    }
   ],
   "source": [
    "arr[3]"
   ]
  },
  {
   "cell_type": "markdown",
   "id": "db704ecd",
   "metadata": {},
   "source": [
    "## indexing rows and column"
   ]
  },
  {
   "cell_type": "code",
   "execution_count": 20,
   "id": "63c8a25c",
   "metadata": {},
   "outputs": [],
   "source": [
    "arr=np.array([my_lst1,my_lst2,my_lst3])"
   ]
  },
  {
   "cell_type": "code",
   "execution_count": 21,
   "id": "24aa1e42",
   "metadata": {},
   "outputs": [
    {
     "data": {
      "text/plain": [
       "array([[1, 2, 3, 4, 5],\n",
       "       [2, 3, 4, 5, 6],\n",
       "       [9, 7, 6, 8, 9]])"
      ]
     },
     "execution_count": 21,
     "metadata": {},
     "output_type": "execute_result"
    }
   ],
   "source": [
    "arr"
   ]
  },
  {
   "cell_type": "code",
   "execution_count": null,
   "id": "3594f1a1",
   "metadata": {},
   "outputs": [],
   "source": []
  },
  {
   "cell_type": "code",
   "execution_count": 22,
   "id": "58ef6476",
   "metadata": {},
   "outputs": [
    {
     "data": {
      "text/plain": [
       "array([[1, 2, 3, 4, 5],\n",
       "       [2, 3, 4, 5, 6]])"
      ]
     },
     "execution_count": 22,
     "metadata": {},
     "output_type": "execute_result"
    }
   ],
   "source": [
    "arr[:2,0:]"
   ]
  },
  {
   "cell_type": "code",
   "execution_count": 23,
   "id": "d90c6474",
   "metadata": {},
   "outputs": [
    {
     "data": {
      "text/plain": [
       "array([[2, 4, 6]])"
      ]
     },
     "execution_count": 23,
     "metadata": {},
     "output_type": "execute_result"
    }
   ],
   "source": [
    "arr[1:2,0:5:2]"
   ]
  },
  {
   "cell_type": "code",
   "execution_count": 24,
   "id": "b06b0635",
   "metadata": {},
   "outputs": [],
   "source": [
    "arr=np.array([my_lst1,my_lst2,my_lst3])"
   ]
  },
  {
   "cell_type": "code",
   "execution_count": 25,
   "id": "690231fc",
   "metadata": {},
   "outputs": [
    {
     "data": {
      "text/plain": [
       "array([[1, 2, 3, 4, 5],\n",
       "       [2, 3, 4, 5, 6],\n",
       "       [9, 7, 6, 8, 9]])"
      ]
     },
     "execution_count": 25,
     "metadata": {},
     "output_type": "execute_result"
    }
   ],
   "source": [
    "arr "
   ]
  },
  {
   "cell_type": "code",
   "execution_count": 26,
   "id": "2995f863",
   "metadata": {},
   "outputs": [],
   "source": [
    "arr[2,3]= 7"
   ]
  },
  {
   "cell_type": "code",
   "execution_count": 27,
   "id": "116c9953",
   "metadata": {},
   "outputs": [
    {
     "data": {
      "text/plain": [
       "array([[1, 2, 3, 4, 5],\n",
       "       [2, 3, 4, 5, 6],\n",
       "       [9, 7, 6, 7, 9]])"
      ]
     },
     "execution_count": 27,
     "metadata": {},
     "output_type": "execute_result"
    }
   ],
   "source": [
    "arr"
   ]
  },
  {
   "cell_type": "code",
   "execution_count": 28,
   "id": "1c9e9a04",
   "metadata": {},
   "outputs": [
    {
     "data": {
      "text/plain": [
       "15"
      ]
     },
     "execution_count": 28,
     "metadata": {},
     "output_type": "execute_result"
    }
   ],
   "source": [
    "arr.size"
   ]
  },
  {
   "cell_type": "markdown",
   "id": "68fce645",
   "metadata": {},
   "source": [
    "# creating object array"
   ]
  },
  {
   "cell_type": "code",
   "execution_count": 29,
   "id": "7f7f51a4",
   "metadata": {},
   "outputs": [
    {
     "data": {
      "text/plain": [
       "array({34, 23}, dtype=object)"
      ]
     },
     "execution_count": 29,
     "metadata": {},
     "output_type": "execute_result"
    }
   ],
   "source": [
    "np.array({34,23,23})"
   ]
  },
  {
   "cell_type": "markdown",
   "id": "05a463ec",
   "metadata": {},
   "source": [
    "# LEARNING SOME IN-BUILT FUNCTIONS IN ARRAYS"
   ]
  },
  {
   "cell_type": "markdown",
   "id": "e62d3f79",
   "metadata": {},
   "source": [
    "## 1.ARRANGE"
   ]
  },
  {
   "cell_type": "code",
   "execution_count": 30,
   "id": "200e521a",
   "metadata": {},
   "outputs": [],
   "source": [
    "import numpy as np"
   ]
  },
  {
   "cell_type": "code",
   "execution_count": 31,
   "id": "7d47a58f",
   "metadata": {},
   "outputs": [],
   "source": [
    "#Arrange function creates 1-D Array\n",
    "arr=np.arange(0,10)"
   ]
  },
  {
   "cell_type": "code",
   "execution_count": 32,
   "id": "cd3d3a13",
   "metadata": {},
   "outputs": [
    {
     "data": {
      "text/plain": [
       "array([0, 1, 2, 3, 4, 5, 6, 7, 8, 9])"
      ]
     },
     "execution_count": 32,
     "metadata": {},
     "output_type": "execute_result"
    }
   ],
   "source": [
    "arr #lower value toh aayegi,par higher  value include nhi hogi"
   ]
  },
  {
   "cell_type": "code",
   "execution_count": 33,
   "id": "18eb2891",
   "metadata": {},
   "outputs": [
    {
     "data": {
      "text/plain": [
       "array([ 0,  1,  2,  3,  4,  5,  6,  7,  8,  9, 10, 11, 12, 13, 14])"
      ]
     },
     "execution_count": 33,
     "metadata": {},
     "output_type": "execute_result"
    }
   ],
   "source": [
    "np.arange(15)"
   ]
  },
  {
   "cell_type": "code",
   "execution_count": 34,
   "id": "cfdaa860",
   "metadata": {},
   "outputs": [],
   "source": [
    "arr=np.arange(1,10,2)"
   ]
  },
  {
   "cell_type": "code",
   "execution_count": 35,
   "id": "be6108b3",
   "metadata": {},
   "outputs": [
    {
     "data": {
      "text/plain": [
       "array([1, 3, 5, 7, 9])"
      ]
     },
     "execution_count": 35,
     "metadata": {},
     "output_type": "execute_result"
    }
   ],
   "source": [
    "arr"
   ]
  },
  {
   "cell_type": "code",
   "execution_count": 36,
   "id": "f9906f59",
   "metadata": {},
   "outputs": [],
   "source": [
    "arr=np.arange(0,10,step=2)"
   ]
  },
  {
   "cell_type": "code",
   "execution_count": 37,
   "id": "c67e2560",
   "metadata": {},
   "outputs": [
    {
     "data": {
      "text/plain": [
       "array([0, 2, 4, 6, 8])"
      ]
     },
     "execution_count": 37,
     "metadata": {},
     "output_type": "execute_result"
    }
   ],
   "source": [
    "arr"
   ]
  },
  {
   "cell_type": "markdown",
   "id": "5ea25334",
   "metadata": {},
   "source": [
    "## LINSPACE "
   ]
  },
  {
   "cell_type": "code",
   "execution_count": 38,
   "id": "adead8f5",
   "metadata": {},
   "outputs": [
    {
     "data": {
      "text/plain": [
       "array([ 1.        ,  1.18367347,  1.36734694,  1.55102041,  1.73469388,\n",
       "        1.91836735,  2.10204082,  2.28571429,  2.46938776,  2.65306122,\n",
       "        2.83673469,  3.02040816,  3.20408163,  3.3877551 ,  3.57142857,\n",
       "        3.75510204,  3.93877551,  4.12244898,  4.30612245,  4.48979592,\n",
       "        4.67346939,  4.85714286,  5.04081633,  5.2244898 ,  5.40816327,\n",
       "        5.59183673,  5.7755102 ,  5.95918367,  6.14285714,  6.32653061,\n",
       "        6.51020408,  6.69387755,  6.87755102,  7.06122449,  7.24489796,\n",
       "        7.42857143,  7.6122449 ,  7.79591837,  7.97959184,  8.16326531,\n",
       "        8.34693878,  8.53061224,  8.71428571,  8.89795918,  9.08163265,\n",
       "        9.26530612,  9.44897959,  9.63265306,  9.81632653, 10.        ])"
      ]
     },
     "execution_count": 38,
     "metadata": {},
     "output_type": "execute_result"
    }
   ],
   "source": [
    "# it gives equally divided points between lower and max value\n",
    "np.linspace(1,10,50)\n",
    "                    #print() function likhne ki jarurat nhi hai"
   ]
  },
  {
   "cell_type": "markdown",
   "id": "192a2715",
   "metadata": {},
   "source": [
    "## COPY FUNCTION and BROAD-CASTING"
   ]
  },
  {
   "cell_type": "code",
   "execution_count": 39,
   "id": "c94b691c",
   "metadata": {},
   "outputs": [],
   "source": [
    "arr=np.arange(0,10)"
   ]
  },
  {
   "cell_type": "code",
   "execution_count": 40,
   "id": "875117e3",
   "metadata": {},
   "outputs": [
    {
     "data": {
      "text/plain": [
       "array([0, 1, 2, 3, 4, 5, 6, 7, 8, 9])"
      ]
     },
     "execution_count": 40,
     "metadata": {},
     "output_type": "execute_result"
    }
   ],
   "source": [
    "arr"
   ]
  },
  {
   "cell_type": "markdown",
   "id": "99caa9ef",
   "metadata": {},
   "source": [
    "### Broadcasting"
   ]
  },
  {
   "cell_type": "code",
   "execution_count": 41,
   "id": "566c2da3",
   "metadata": {},
   "outputs": [],
   "source": [
    "arr[3:]=100  #array mai 3rd index se last index tak sabki value 100 kar do."
   ]
  },
  {
   "cell_type": "code",
   "execution_count": 42,
   "id": "56a73b99",
   "metadata": {},
   "outputs": [
    {
     "data": {
      "text/plain": [
       "array([  0,   1,   2, 100, 100, 100, 100, 100, 100, 100])"
      ]
     },
     "execution_count": 42,
     "metadata": {},
     "output_type": "execute_result"
    }
   ],
   "source": [
    "arr"
   ]
  },
  {
   "cell_type": "code",
   "execution_count": 43,
   "id": "49f2148d",
   "metadata": {},
   "outputs": [],
   "source": [
    "arr1=arr  #we are assigning arr to arr1 to make a xerox"
   ]
  },
  {
   "cell_type": "code",
   "execution_count": 44,
   "id": "08047493",
   "metadata": {},
   "outputs": [],
   "source": [
    "arr1[3:]=500"
   ]
  },
  {
   "cell_type": "code",
   "execution_count": 45,
   "id": "3da74a6f",
   "metadata": {},
   "outputs": [
    {
     "data": {
      "text/plain": [
       "array([  0,   1,   2, 500, 500, 500, 500, 500, 500, 500])"
      ]
     },
     "execution_count": 45,
     "metadata": {},
     "output_type": "execute_result"
    }
   ],
   "source": [
    "arr1"
   ]
  },
  {
   "cell_type": "code",
   "execution_count": 46,
   "id": "9787740f",
   "metadata": {},
   "outputs": [
    {
     "data": {
      "text/plain": [
       "array([  0,   1,   2, 500, 500, 500, 500, 500, 500, 500])"
      ]
     },
     "execution_count": 46,
     "metadata": {},
     "output_type": "execute_result"
    }
   ],
   "source": [
    "arr #hua kya yaha pr,\n",
    "    # arr1 mai changes kiya toh arr bhi update ho gya\n",
    "    # this is called REFERENCE-TYPE\n",
    "    # array is refrence type\n",
    "    # but in VALUE-TYPE,\n",
    "    # arr does not changes due to change in arr1 , (EG:-a=9;a1=a;a1=10;print(a);9)\n",
    "    # THIS IS BECOZ REFERENCE-TYPE PROPERTIES STORE THE NEW ASSIGNED VARIABLE AND OLD VARIABLE IN\n",
    "    # IN SAME MEMORY BOX......\n",
    "    "
   ]
  },
  {
   "cell_type": "markdown",
   "id": "0888b3b1",
   "metadata": {},
   "source": [
    "### COPY FUNCTION"
   ]
  },
  {
   "cell_type": "code",
   "execution_count": 47,
   "id": "3d0ab9c2",
   "metadata": {},
   "outputs": [],
   "source": [
    "arr1=arr.copy()"
   ]
  },
  {
   "cell_type": "code",
   "execution_count": 48,
   "id": "e7f6ca74",
   "metadata": {},
   "outputs": [
    {
     "data": {
      "text/plain": [
       "array([  0,   1,   2, 500, 500, 500, 500, 500, 500, 500])"
      ]
     },
     "execution_count": 48,
     "metadata": {},
     "output_type": "execute_result"
    }
   ],
   "source": [
    "arr1"
   ]
  },
  {
   "cell_type": "code",
   "execution_count": 49,
   "id": "f5024ea5",
   "metadata": {},
   "outputs": [
    {
     "data": {
      "text/plain": [
       "array([  0,   1,   2, 500, 500, 500, 500, 500, 500, 500])"
      ]
     },
     "execution_count": 49,
     "metadata": {},
     "output_type": "execute_result"
    }
   ],
   "source": [
    "arr"
   ]
  },
  {
   "cell_type": "code",
   "execution_count": 50,
   "id": "11ec6605",
   "metadata": {},
   "outputs": [],
   "source": [
    "arr1[3:]=99"
   ]
  },
  {
   "cell_type": "code",
   "execution_count": 51,
   "id": "a3eefda9",
   "metadata": {},
   "outputs": [
    {
     "data": {
      "text/plain": [
       "array([  0,   1,   2, 500, 500, 500, 500, 500, 500, 500])"
      ]
     },
     "execution_count": 51,
     "metadata": {},
     "output_type": "execute_result"
    }
   ],
   "source": [
    "arr "
   ]
  },
  {
   "cell_type": "code",
   "execution_count": 52,
   "id": "34898912",
   "metadata": {},
   "outputs": [
    {
     "data": {
      "text/plain": [
       "array([ 0,  1,  2, 99, 99, 99, 99, 99, 99, 99])"
      ]
     },
     "execution_count": 52,
     "metadata": {},
     "output_type": "execute_result"
    }
   ],
   "source": [
    "arr1"
   ]
  },
  {
   "cell_type": "markdown",
   "id": "5168de09",
   "metadata": {},
   "source": [
    "## SOME CONDITIONS VERY USEFUL IN EXPLORATORY DATA ANALYSIS"
   ]
  },
  {
   "cell_type": "code",
   "execution_count": 53,
   "id": "5518cbce",
   "metadata": {},
   "outputs": [
    {
     "data": {
      "text/plain": [
       "array([ True,  True, False, False, False, False, False, False, False,\n",
       "       False])"
      ]
     },
     "execution_count": 53,
     "metadata": {},
     "output_type": "execute_result"
    }
   ],
   "source": [
    "val = 2\n",
    "arr<2"
   ]
  },
  {
   "cell_type": "code",
   "execution_count": 54,
   "id": "73679413",
   "metadata": {},
   "outputs": [
    {
     "data": {
      "text/plain": [
       "array([   0,    2,    4, 1000, 1000, 1000, 1000, 1000, 1000, 1000])"
      ]
     },
     "execution_count": 54,
     "metadata": {},
     "output_type": "execute_result"
    }
   ],
   "source": [
    "arr*2"
   ]
  },
  {
   "cell_type": "code",
   "execution_count": 55,
   "id": "0db8598d",
   "metadata": {},
   "outputs": [
    {
     "data": {
      "text/plain": [
       "array([  0. ,   0.5,   1. , 250. , 250. , 250. , 250. , 250. , 250. ,\n",
       "       250. ])"
      ]
     },
     "execution_count": 55,
     "metadata": {},
     "output_type": "execute_result"
    }
   ],
   "source": [
    "arr/2"
   ]
  },
  {
   "cell_type": "code",
   "execution_count": 56,
   "id": "8284c4e9",
   "metadata": {},
   "outputs": [
    {
     "data": {
      "text/plain": [
       "array([0, 1, 0, 0, 0, 0, 0, 0, 0, 0], dtype=int32)"
      ]
     },
     "execution_count": 56,
     "metadata": {},
     "output_type": "execute_result"
    }
   ],
   "source": [
    "arr%2"
   ]
  },
  {
   "cell_type": "code",
   "execution_count": 57,
   "id": "19fb279e",
   "metadata": {},
   "outputs": [
    {
     "data": {
      "text/plain": [
       "array([0, 1])"
      ]
     },
     "execution_count": 57,
     "metadata": {},
     "output_type": "execute_result"
    }
   ],
   "source": [
    "arr[arr<2]\n"
   ]
  },
  {
   "cell_type": "code",
   "execution_count": 58,
   "id": "cf26e405",
   "metadata": {},
   "outputs": [
    {
     "data": {
      "text/plain": [
       "array([0, 1, 2])"
      ]
     },
     "execution_count": 58,
     "metadata": {},
     "output_type": "execute_result"
    }
   ],
   "source": [
    "arr[arr<200]"
   ]
  },
  {
   "cell_type": "code",
   "execution_count": 59,
   "id": "2cf9e1d2",
   "metadata": {},
   "outputs": [
    {
     "data": {
      "text/plain": [
       "array([0, 1, 2])"
      ]
     },
     "execution_count": 59,
     "metadata": {},
     "output_type": "execute_result"
    }
   ],
   "source": [
    "arr[arr<2]\n",
    "arr[arr<200]"
   ]
  },
  {
   "cell_type": "markdown",
   "id": "018cd1de",
   "metadata": {},
   "source": [
    "### create arrays and reshaping practice"
   ]
  },
  {
   "cell_type": "code",
   "execution_count": 60,
   "id": "73b142e4",
   "metadata": {},
   "outputs": [
    {
     "data": {
      "text/plain": [
       "array([[0, 1, 2, 3, 4],\n",
       "       [5, 6, 7, 8, 9]])"
      ]
     },
     "execution_count": 60,
     "metadata": {},
     "output_type": "execute_result"
    }
   ],
   "source": [
    "np.arange(0,10).reshape(2,5)"
   ]
  },
  {
   "cell_type": "code",
   "execution_count": 61,
   "id": "4bfed58a",
   "metadata": {},
   "outputs": [],
   "source": [
    "arr1=np.arange(0,10).reshape(5,2)"
   ]
  },
  {
   "cell_type": "code",
   "execution_count": 62,
   "id": "33aa5ae3",
   "metadata": {},
   "outputs": [],
   "source": [
    "arr2=np.arange(0,10).reshape(5,2)"
   ]
  },
  {
   "cell_type": "code",
   "execution_count": 63,
   "id": "cf18c1c1",
   "metadata": {},
   "outputs": [
    {
     "data": {
      "text/plain": [
       "array([[ 0,  1],\n",
       "       [ 4,  9],\n",
       "       [16, 25],\n",
       "       [36, 49],\n",
       "       [64, 81]])"
      ]
     },
     "execution_count": 63,
     "metadata": {},
     "output_type": "execute_result"
    }
   ],
   "source": [
    "arr1*arr2"
   ]
  },
  {
   "cell_type": "markdown",
   "id": "15b2a48e",
   "metadata": {},
   "source": [
    "## SOME MORE IN BUILT FUNCTIONS"
   ]
  },
  {
   "cell_type": "markdown",
   "id": "acb67318",
   "metadata": {},
   "source": [
    "#### np.zeros"
   ]
  },
  {
   "cell_type": "code",
   "execution_count": 64,
   "id": "7aaebb81",
   "metadata": {},
   "outputs": [
    {
     "data": {
      "text/plain": [
       "array([[0, 0, 0, 0, 0],\n",
       "       [0, 0, 0, 0, 0]])"
      ]
     },
     "execution_count": 64,
     "metadata": {},
     "output_type": "execute_result"
    }
   ],
   "source": [
    "np.zeros((2,5),dtype=int)"
   ]
  },
  {
   "cell_type": "raw",
   "id": "c20440d7",
   "metadata": {},
   "source": []
  },
  {
   "cell_type": "markdown",
   "id": "22890caf",
   "metadata": {},
   "source": [
    "#### np.ones"
   ]
  },
  {
   "cell_type": "code",
   "execution_count": 65,
   "id": "2bf59550",
   "metadata": {},
   "outputs": [
    {
     "data": {
      "text/plain": [
       "array([1., 1., 1., 1.])"
      ]
     },
     "execution_count": 65,
     "metadata": {},
     "output_type": "execute_result"
    }
   ],
   "source": [
    "np.ones(4)  #it creates array whose all elements are one (1-D array)"
   ]
  },
  {
   "cell_type": "code",
   "execution_count": 66,
   "id": "9c1f9eeb",
   "metadata": {},
   "outputs": [
    {
     "data": {
      "text/plain": [
       "array([1, 1, 1, 1])"
      ]
     },
     "execution_count": 66,
     "metadata": {},
     "output_type": "execute_result"
    }
   ],
   "source": [
    "np.ones(4, dtype=int)"
   ]
  },
  {
   "cell_type": "code",
   "execution_count": 67,
   "id": "2b1b6c7b",
   "metadata": {},
   "outputs": [
    {
     "data": {
      "text/plain": [
       "array([[1., 1., 1., 1., 1.],\n",
       "       [1., 1., 1., 1., 1.]])"
      ]
     },
     "execution_count": 67,
     "metadata": {},
     "output_type": "execute_result"
    }
   ],
   "source": [
    "np.ones((2,5),dtype=float) #IN 2-D ARRAY THIS FORMAT IS NEEDED, AND DTYPE IS MUST TO BE ENTERED"
   ]
  },
  {
   "cell_type": "markdown",
   "id": "84ff2664",
   "metadata": {},
   "source": [
    "### RANDOM DISTRIBUTION"
   ]
  },
  {
   "cell_type": "code",
   "execution_count": 68,
   "id": "e5ce2b2e",
   "metadata": {},
   "outputs": [
    {
     "data": {
      "text/plain": [
       "array([[0.60383722, 0.36625586, 0.42089185],\n",
       "       [0.78687302, 0.952541  , 0.98074881],\n",
       "       [0.9811554 , 0.12923877, 0.73476592]])"
      ]
     },
     "execution_count": 68,
     "metadata": {},
     "output_type": "execute_result"
    }
   ],
   "source": [
    "np.random.rand(3,3) #it gives random uniform distribution from [0:1] & it is in 3x3 rows and columns"
   ]
  },
  {
   "cell_type": "markdown",
   "id": "7cb22f93",
   "metadata": {},
   "source": [
    "### STANDARD NORMAL DISTRIBUTION"
   ]
  },
  {
   "cell_type": "code",
   "execution_count": 69,
   "id": "f8c50474",
   "metadata": {},
   "outputs": [],
   "source": [
    "arr=np.random.randn(4,4) # every time we execute this code the values always changes bcoz it is random"
   ]
  },
  {
   "cell_type": "code",
   "execution_count": 70,
   "id": "84e8dc04",
   "metadata": {},
   "outputs": [
    {
     "data": {
      "text/plain": [
       "array([[-1.19791308, -0.37842771,  1.0753259 , -0.4369271 ],\n",
       "       [ 0.20524418,  0.46979938, -0.55854436,  1.36503553],\n",
       "       [-0.9496293 ,  0.59753117,  0.26682622, -0.56073917],\n",
       "       [-1.19884708,  0.62220839,  1.26392488,  1.26335231]])"
      ]
     },
     "execution_count": 70,
     "metadata": {},
     "output_type": "execute_result"
    }
   ],
   "source": [
    "arr "
   ]
  },
  {
   "cell_type": "code",
   "execution_count": 71,
   "id": "3ddac649",
   "metadata": {},
   "outputs": [],
   "source": [
    "import seaborn as sns\n",
    "import pandas as pd "
   ]
  },
  {
   "cell_type": "code",
   "execution_count": 72,
   "id": "17126e62",
   "metadata": {},
   "outputs": [
    {
     "data": {
      "text/plain": [
       "<seaborn.axisgrid.FacetGrid at 0x9fd8400>"
      ]
     },
     "execution_count": 72,
     "metadata": {},
     "output_type": "execute_result"
    },
    {
     "data": {
      "image/png": "[encoded data removed]",
      "text/plain": [
       "<Figure size 402.375x360 with 1 Axes>"
      ]
     },
     "metadata": {
      "needs_background": "light"
     },
     "output_type": "display_data"
    }
   ],
   "source": [
    "sns.displot(pd.DataFrame(arr.reshape(16,1))) #standard normal distribution ka graph hai\n",
    "                                             # BELL-CURVE milna chahiye tha lekin kvh prblm \n",
    "                                            # ke wajah se mila nhi"
   ]
  },
  {
   "cell_type": "markdown",
   "id": "5da857dc",
   "metadata": {},
   "source": [
    "### np.random.randint"
   ]
  },
  {
   "cell_type": "code",
   "execution_count": 73,
   "id": "e2a005b2",
   "metadata": {},
   "outputs": [
    {
     "data": {
      "text/plain": [
       "array([[49, 20],\n",
       "       [59,  0],\n",
       "       [94, 78],\n",
       "       [98, 85]])"
      ]
     },
     "execution_count": 73,
     "metadata": {},
     "output_type": "execute_result"
    }
   ],
   "source": [
    "np.random.randint(0,100,8).reshape(4,2)\n",
    "                                        #randomly select 8 numbers from (0,100) and store in (4,2)"
   ]
  },
  {
   "cell_type": "code",
   "execution_count": 74,
   "id": "4292aac8",
   "metadata": {},
   "outputs": [
    {
     "data": {
      "text/plain": [
       "array([[0.30234018, 0.20245369, 0.27115746, 0.58273047, 0.4505639 ]])"
      ]
     },
     "execution_count": 74,
     "metadata": {},
     "output_type": "execute_result"
    }
   ],
   "source": [
    "np.random.random_sample((1,5))   #select some random sample in(0.0:1.0)"
   ]
  },
  {
   "cell_type": "markdown",
   "id": "fa9da48f",
   "metadata": {},
   "source": [
    "# IDENTITY MATRIX"
   ]
  },
  {
   "cell_type": "code",
   "execution_count": 75,
   "id": "2512a027",
   "metadata": {},
   "outputs": [],
   "source": [
    "ide = np.identity(4)"
   ]
  },
  {
   "cell_type": "code",
   "execution_count": 76,
   "id": "50af50f7",
   "metadata": {},
   "outputs": [
    {
     "data": {
      "text/plain": [
       "array([[1., 0., 0., 0.],\n",
       "       [0., 1., 0., 0.],\n",
       "       [0., 0., 1., 0.],\n",
       "       [0., 0., 0., 1.]])"
      ]
     },
     "execution_count": 76,
     "metadata": {},
     "output_type": "execute_result"
    }
   ],
   "source": [
    "ide"
   ]
  },
  {
   "cell_type": "code",
   "execution_count": 77,
   "id": "9f19a963",
   "metadata": {},
   "outputs": [
    {
     "data": {
      "text/plain": [
       "16"
      ]
     },
     "execution_count": 77,
     "metadata": {},
     "output_type": "execute_result"
    }
   ],
   "source": [
    "ide.size"
   ]
  },
  {
   "cell_type": "code",
   "execution_count": 78,
   "id": "cf595a61",
   "metadata": {},
   "outputs": [
    {
     "data": {
      "text/plain": [
       "(4, 4)"
      ]
     },
     "execution_count": 78,
     "metadata": {},
     "output_type": "execute_result"
    }
   ],
   "source": [
    "ide.shape"
   ]
  },
  {
   "cell_type": "markdown",
   "id": "05b9faa7",
   "metadata": {},
   "source": [
    "# ARRAY RAVEL"
   ]
  },
  {
   "cell_type": "code",
   "execution_count": 79,
   "id": "e5e53c19",
   "metadata": {},
   "outputs": [],
   "source": [
    "arr = np.arange(99)"
   ]
  },
  {
   "cell_type": "code",
   "execution_count": 80,
   "id": "2334c00b",
   "metadata": {},
   "outputs": [
    {
     "data": {
      "text/plain": [
       "array([ 0,  1,  2,  3,  4,  5,  6,  7,  8,  9, 10, 11, 12, 13, 14, 15, 16,\n",
       "       17, 18, 19, 20, 21, 22, 23, 24, 25, 26, 27, 28, 29, 30, 31, 32, 33,\n",
       "       34, 35, 36, 37, 38, 39, 40, 41, 42, 43, 44, 45, 46, 47, 48, 49, 50,\n",
       "       51, 52, 53, 54, 55, 56, 57, 58, 59, 60, 61, 62, 63, 64, 65, 66, 67,\n",
       "       68, 69, 70, 71, 72, 73, 74, 75, 76, 77, 78, 79, 80, 81, 82, 83, 84,\n",
       "       85, 86, 87, 88, 89, 90, 91, 92, 93, 94, 95, 96, 97, 98])"
      ]
     },
     "execution_count": 80,
     "metadata": {},
     "output_type": "execute_result"
    }
   ],
   "source": [
    "arr "
   ]
  },
  {
   "cell_type": "code",
   "execution_count": 81,
   "id": "fa080bdc",
   "metadata": {},
   "outputs": [
    {
     "data": {
      "text/plain": [
       "array([[ 0,  1,  2,  3,  4,  5,  6,  7,  8,  9, 10, 11, 12, 13, 14, 15,\n",
       "        16, 17, 18, 19, 20, 21, 22, 23, 24, 25, 26, 27, 28, 29, 30, 31,\n",
       "        32],\n",
       "       [33, 34, 35, 36, 37, 38, 39, 40, 41, 42, 43, 44, 45, 46, 47, 48,\n",
       "        49, 50, 51, 52, 53, 54, 55, 56, 57, 58, 59, 60, 61, 62, 63, 64,\n",
       "        65],\n",
       "       [66, 67, 68, 69, 70, 71, 72, 73, 74, 75, 76, 77, 78, 79, 80, 81,\n",
       "        82, 83, 84, 85, 86, 87, 88, 89, 90, 91, 92, 93, 94, 95, 96, 97,\n",
       "        98]])"
      ]
     },
     "execution_count": 81,
     "metadata": {},
     "output_type": "execute_result"
    }
   ],
   "source": [
    "arr.reshape(3,33)"
   ]
  },
  {
   "cell_type": "code",
   "execution_count": 82,
   "id": "36b27494",
   "metadata": {},
   "outputs": [
    {
     "data": {
      "text/plain": [
       "<function ndarray.ravel>"
      ]
     },
     "execution_count": 82,
     "metadata": {},
     "output_type": "execute_result"
    }
   ],
   "source": [
    "arr.ravel"
   ]
  },
  {
   "cell_type": "code",
   "execution_count": 83,
   "id": "6f329f1e",
   "metadata": {},
   "outputs": [
    {
     "data": {
      "text/plain": [
       "array([ 0,  1,  2,  3,  4,  5,  6,  7,  8,  9, 10, 11, 12, 13, 14, 15, 16,\n",
       "       17, 18, 19, 20, 21, 22, 23, 24, 25, 26, 27, 28, 29, 30, 31, 32, 33,\n",
       "       34, 35, 36, 37, 38, 39, 40, 41, 42, 43, 44, 45, 46, 47, 48, 49, 50,\n",
       "       51, 52, 53, 54, 55, 56, 57, 58, 59, 60, 61, 62, 63, 64, 65, 66, 67,\n",
       "       68, 69, 70, 71, 72, 73, 74, 75, 76, 77, 78, 79, 80, 81, 82, 83, 84,\n",
       "       85, 86, 87, 88, 89, 90, 91, 92, 93, 94, 95, 96, 97, 98])"
      ]
     },
     "execution_count": 83,
     "metadata": {},
     "output_type": "execute_result"
    }
   ],
   "source": [
    "arr.ravel()  # it has converted 2d array into 1d array"
   ]
  },
  {
   "cell_type": "code",
   "execution_count": 84,
   "id": "65e2443d",
   "metadata": {},
   "outputs": [
    {
     "data": {
      "text/plain": [
       "(99,)"
      ]
     },
     "execution_count": 84,
     "metadata": {},
     "output_type": "execute_result"
    }
   ],
   "source": [
    "arr.shape"
   ]
  },
  {
   "cell_type": "markdown",
   "id": "f64bd661",
   "metadata": {},
   "source": [
    "# AXIS IN ARRAYS"
   ]
  },
  {
   "cell_type": "markdown",
   "id": "b92702ba",
   "metadata": {},
   "source": [
    "**1-D ARRAYS HAVE ONLY ONE AXIS, THAT IS AXIS ZERO\n",
    "2-D ARRAYS HAVE TWO AXISES, THAT IS AXIS1 AND AXIS 2**\n",
    "\n",
    "*REMEMBER*\n",
    "**EVERY AXIS ELEMENTS START WITH ELEMENT ZERO ....**\n"
   ]
  },
  {
   "cell_type": "code",
   "execution_count": 85,
   "id": "4d6c79ad",
   "metadata": {},
   "outputs": [],
   "source": [
    "x = [[1,2,3],[4,5,6],[7,1,0]]"
   ]
  },
  {
   "cell_type": "code",
   "execution_count": 86,
   "id": "fe00592e",
   "metadata": {},
   "outputs": [],
   "source": [
    "ar = np.array(x)"
   ]
  },
  {
   "cell_type": "code",
   "execution_count": 87,
   "id": "b05f99a8",
   "metadata": {},
   "outputs": [
    {
     "data": {
      "text/plain": [
       "array([[1, 2, 3],\n",
       "       [4, 5, 6],\n",
       "       [7, 1, 0]])"
      ]
     },
     "execution_count": 87,
     "metadata": {},
     "output_type": "execute_result"
    }
   ],
   "source": [
    "ar"
   ]
  },
  {
   "cell_type": "code",
   "execution_count": 88,
   "id": "4993011f",
   "metadata": {},
   "outputs": [
    {
     "data": {
      "text/plain": [
       "array([12,  8,  9])"
      ]
     },
     "execution_count": 88,
     "metadata": {},
     "output_type": "execute_result"
    }
   ],
   "source": [
    "ar.sum(axis=0)"
   ]
  },
  {
   "cell_type": "code",
   "execution_count": 89,
   "id": "6c7a795c",
   "metadata": {},
   "outputs": [
    {
     "data": {
      "text/plain": [
       "array([ 6, 15,  8])"
      ]
     },
     "execution_count": 89,
     "metadata": {},
     "output_type": "execute_result"
    }
   ],
   "source": [
    "ar.sum(axis=1)"
   ]
  },
  {
   "cell_type": "markdown",
   "id": "c754d218",
   "metadata": {},
   "source": [
    "# ATTRIBUTES AND METHODS IN NUMPY"
   ]
  },
  {
   "cell_type": "markdown",
   "id": "f394e0c7",
   "metadata": {},
   "source": [
    "## TRANSPOSE (ROWS INTO COLUMN)"
   ]
  },
  {
   "cell_type": "code",
   "execution_count": 90,
   "id": "68310516",
   "metadata": {},
   "outputs": [
    {
     "data": {
      "text/plain": [
       "array([[1, 4, 7],\n",
       "       [2, 5, 1],\n",
       "       [3, 6, 0]])"
      ]
     },
     "execution_count": 90,
     "metadata": {},
     "output_type": "execute_result"
    }
   ],
   "source": [
    "ar.T    "
   ]
  },
  {
   "cell_type": "markdown",
   "id": "d312b1eb",
   "metadata": {},
   "source": [
    "## FLAT (IT ITERATE THROUGH ARRAYS AND GIVES US ALL ELEMENTS)"
   ]
  },
  {
   "cell_type": "code",
   "execution_count": 91,
   "id": "8846de4f",
   "metadata": {},
   "outputs": [
    {
     "data": {
      "text/plain": [
       "<numpy.flatiter at 0x3056ab0>"
      ]
     },
     "execution_count": 91,
     "metadata": {},
     "output_type": "execute_result"
    }
   ],
   "source": [
    "ar.flat"
   ]
  },
  {
   "cell_type": "code",
   "execution_count": 92,
   "id": "51889f9d",
   "metadata": {},
   "outputs": [
    {
     "name": "stdout",
     "output_type": "stream",
     "text": [
      "1\n",
      "2\n",
      "3\n",
      "4\n",
      "5\n",
      "6\n",
      "7\n",
      "1\n",
      "0\n"
     ]
    }
   ],
   "source": [
    "for item in ar.flat:\n",
    "    print(item)"
   ]
  },
  {
   "cell_type": "markdown",
   "id": "25c09901",
   "metadata": {},
   "source": [
    "## NDIM (GIVES US NO. OF DIMESNION)"
   ]
  },
  {
   "cell_type": "code",
   "execution_count": 93,
   "id": "5dc73c69",
   "metadata": {},
   "outputs": [
    {
     "data": {
      "text/plain": [
       "2"
      ]
     },
     "execution_count": 93,
     "metadata": {},
     "output_type": "execute_result"
    }
   ],
   "source": [
    "ar.ndim"
   ]
  },
  {
   "cell_type": "markdown",
   "id": "e1fe1598",
   "metadata": {},
   "source": [
    "## NBYTES"
   ]
  },
  {
   "cell_type": "code",
   "execution_count": 94,
   "id": "45d9b333",
   "metadata": {},
   "outputs": [
    {
     "data": {
      "text/plain": [
       "36"
      ]
     },
     "execution_count": 94,
     "metadata": {},
     "output_type": "execute_result"
    }
   ],
   "source": [
    "ar.nbytes #it shows total bytes consumed"
   ]
  },
  {
   "cell_type": "markdown",
   "id": "aefdd34f",
   "metadata": {},
   "source": [
    "# METHODS"
   ]
  },
  {
   "cell_type": "code",
   "execution_count": 95,
   "id": "ec29740d",
   "metadata": {},
   "outputs": [],
   "source": [
    "one = np.array([1,2,3,4,5])"
   ]
  },
  {
   "cell_type": "code",
   "execution_count": 96,
   "id": "b3c641a2",
   "metadata": {},
   "outputs": [
    {
     "data": {
      "text/plain": [
       "4"
      ]
     },
     "execution_count": 96,
     "metadata": {},
     "output_type": "execute_result"
    }
   ],
   "source": [
    "one.argmax() # it gives element which has maximum value"
   ]
  },
  {
   "cell_type": "code",
   "execution_count": 97,
   "id": "4eac7512",
   "metadata": {},
   "outputs": [
    {
     "data": {
      "text/plain": [
       "0"
      ]
     },
     "execution_count": 97,
     "metadata": {},
     "output_type": "execute_result"
    }
   ],
   "source": [
    "one.argmin() # it gives element which has minimum value"
   ]
  },
  {
   "cell_type": "code",
   "execution_count": 98,
   "id": "54d928b8",
   "metadata": {},
   "outputs": [
    {
     "data": {
      "text/plain": [
       "array([0, 1, 2, 3, 4], dtype=int64)"
      ]
     },
     "execution_count": 98,
     "metadata": {},
     "output_type": "execute_result"
    }
   ],
   "source": [
    "one.argsort() # it gives us array's indices, so that if arrange it in that way it will be sorted. "
   ]
  },
  {
   "cell_type": "code",
   "execution_count": 99,
   "id": "d795316e",
   "metadata": {},
   "outputs": [],
   "source": [
    "one1 = np.array([1,12,33,4,5])"
   ]
  },
  {
   "cell_type": "code",
   "execution_count": 100,
   "id": "5ede7750",
   "metadata": {},
   "outputs": [
    {
     "data": {
      "text/plain": [
       "array([0, 3, 4, 1, 2], dtype=int64)"
      ]
     },
     "execution_count": 100,
     "metadata": {},
     "output_type": "execute_result"
    }
   ],
   "source": [
    "one1.argsort()"
   ]
  },
  {
   "cell_type": "code",
   "execution_count": 101,
   "id": "2ba83f00",
   "metadata": {},
   "outputs": [
    {
     "data": {
      "text/plain": [
       "array([[1, 2, 3],\n",
       "       [4, 5, 6],\n",
       "       [7, 1, 0]])"
      ]
     },
     "execution_count": 101,
     "metadata": {},
     "output_type": "execute_result"
    }
   ],
   "source": [
    "ar "
   ]
  },
  {
   "cell_type": "code",
   "execution_count": 102,
   "id": "4e02297a",
   "metadata": {},
   "outputs": [
    {
     "data": {
      "text/plain": [
       "8"
      ]
     },
     "execution_count": 102,
     "metadata": {},
     "output_type": "execute_result"
    }
   ],
   "source": [
    "ar.argmin()"
   ]
  },
  {
   "cell_type": "code",
   "execution_count": 103,
   "id": "b21a6d8e",
   "metadata": {},
   "outputs": [
    {
     "data": {
      "text/plain": [
       "6"
      ]
     },
     "execution_count": 103,
     "metadata": {},
     "output_type": "execute_result"
    }
   ],
   "source": [
    "ar.argmax()"
   ]
  },
  {
   "cell_type": "code",
   "execution_count": 104,
   "id": "c37dc532",
   "metadata": {},
   "outputs": [
    {
     "data": {
      "text/plain": [
       "array([2, 1, 1], dtype=int64)"
      ]
     },
     "execution_count": 104,
     "metadata": {},
     "output_type": "execute_result"
    }
   ],
   "source": [
    "ar.argmax(axis=0)"
   ]
  },
  {
   "cell_type": "code",
   "execution_count": 105,
   "id": "fb836c8d",
   "metadata": {},
   "outputs": [
    {
     "data": {
      "text/plain": [
       "array([2, 2, 0], dtype=int64)"
      ]
     },
     "execution_count": 105,
     "metadata": {},
     "output_type": "execute_result"
    }
   ],
   "source": [
    "ar.argmax(axis=1)"
   ]
  },
  {
   "cell_type": "code",
   "execution_count": 106,
   "id": "50340a66",
   "metadata": {},
   "outputs": [
    {
     "data": {
      "text/plain": [
       "array([[1, 2, 3],\n",
       "       [4, 5, 6],\n",
       "       [7, 1, 0]])"
      ]
     },
     "execution_count": 106,
     "metadata": {},
     "output_type": "execute_result"
    }
   ],
   "source": [
    "ar "
   ]
  },
  {
   "cell_type": "code",
   "execution_count": 107,
   "id": "316577f9",
   "metadata": {},
   "outputs": [
    {
     "data": {
      "text/plain": [
       "array([[0, 1, 2],\n",
       "       [0, 1, 2],\n",
       "       [2, 1, 0]], dtype=int64)"
      ]
     },
     "execution_count": 107,
     "metadata": {},
     "output_type": "execute_result"
    }
   ],
   "source": [
    "ar.argsort() # see at column1,row3 = 2, means yeh array mai(3,3) pr minimum value hai"
   ]
  },
  {
   "cell_type": "code",
   "execution_count": 108,
   "id": "5d7cd534",
   "metadata": {},
   "outputs": [
    {
     "data": {
      "text/plain": [
       "array([[0, 2, 2],\n",
       "       [1, 0, 0],\n",
       "       [2, 1, 1]], dtype=int64)"
      ]
     },
     "execution_count": 108,
     "metadata": {},
     "output_type": "execute_result"
    }
   ],
   "source": [
    "ar.argsort(axis=0) # arraning elements index in assending order in axis zero."
   ]
  },
  {
   "cell_type": "code",
   "execution_count": 109,
   "id": "42c392af",
   "metadata": {},
   "outputs": [
    {
     "data": {
      "text/plain": [
       "array([[0, 1, 2],\n",
       "       [0, 1, 2],\n",
       "       [2, 1, 0]], dtype=int64)"
      ]
     },
     "execution_count": 109,
     "metadata": {},
     "output_type": "execute_result"
    }
   ],
   "source": [
    "ar.argsort(axis=1) # arraning elements index in assending order in axis one."
   ]
  },
  {
   "cell_type": "markdown",
   "id": "46c98613",
   "metadata": {},
   "source": [
    "# MATRIX OPERATIONS IN NUMPY"
   ]
  },
  {
   "cell_type": "code",
   "execution_count": 110,
   "id": "786308ee",
   "metadata": {},
   "outputs": [
    {
     "data": {
      "text/plain": [
       "array([[1, 2, 3],\n",
       "       [4, 5, 6],\n",
       "       [7, 1, 0]])"
      ]
     },
     "execution_count": 110,
     "metadata": {},
     "output_type": "execute_result"
    }
   ],
   "source": [
    "ar "
   ]
  },
  {
   "cell_type": "code",
   "execution_count": 111,
   "id": "ec57f121",
   "metadata": {},
   "outputs": [],
   "source": [
    "ar2=np.array([[1, 12, 3],\n",
    "       [42, 5, 6],\n",
    "       [7, 11, 0]])"
   ]
  },
  {
   "cell_type": "code",
   "execution_count": 112,
   "id": "1ae03b35",
   "metadata": {},
   "outputs": [
    {
     "data": {
      "text/plain": [
       "array([[ 1, 12,  3],\n",
       "       [42,  5,  6],\n",
       "       [ 7, 11,  0]])"
      ]
     },
     "execution_count": 112,
     "metadata": {},
     "output_type": "execute_result"
    }
   ],
   "source": [
    "ar2"
   ]
  },
  {
   "cell_type": "code",
   "execution_count": 113,
   "id": "95303830",
   "metadata": {},
   "outputs": [
    {
     "data": {
      "text/plain": [
       "array([[ 2, 14,  6],\n",
       "       [46, 10, 12],\n",
       "       [14, 12,  0]])"
      ]
     },
     "execution_count": 113,
     "metadata": {},
     "output_type": "execute_result"
    }
   ],
   "source": [
    "ar + ar2"
   ]
  },
  {
   "cell_type": "code",
   "execution_count": 114,
   "id": "3c6f516b",
   "metadata": {},
   "outputs": [
    {
     "data": {
      "text/plain": [
       "[321, 456, 898, 909]"
      ]
     },
     "execution_count": 114,
     "metadata": {},
     "output_type": "execute_result"
    }
   ],
   "source": [
    "[321,456] + [898,909] #list mai append ho rha hai,na ki add"
   ]
  },
  {
   "cell_type": "code",
   "execution_count": 115,
   "id": "22100519",
   "metadata": {},
   "outputs": [
    {
     "data": {
      "text/plain": [
       "array([[  1,  24,   9],\n",
       "       [168,  25,  36],\n",
       "       [ 49,  11,   0]])"
      ]
     },
     "execution_count": 115,
     "metadata": {},
     "output_type": "execute_result"
    }
   ],
   "source": [
    "ar * ar2"
   ]
  },
  {
   "cell_type": "code",
   "execution_count": 116,
   "id": "c7de85e5",
   "metadata": {},
   "outputs": [
    {
     "data": {
      "text/plain": [
       "array([[1.        , 1.41421356, 1.73205081],\n",
       "       [2.        , 2.23606798, 2.44948974],\n",
       "       [2.64575131, 1.        , 0.        ]])"
      ]
     },
     "execution_count": 116,
     "metadata": {},
     "output_type": "execute_result"
    }
   ],
   "source": [
    "np.sqrt(ar)    # it gives sruare root"
   ]
  },
  {
   "cell_type": "code",
   "execution_count": 117,
   "id": "38fcfbd0",
   "metadata": {},
   "outputs": [
    {
     "data": {
      "text/plain": [
       "29"
      ]
     },
     "execution_count": 117,
     "metadata": {},
     "output_type": "execute_result"
    }
   ],
   "source": [
    "ar.sum()"
   ]
  },
  {
   "cell_type": "code",
   "execution_count": 118,
   "id": "f6eecb9e",
   "metadata": {},
   "outputs": [
    {
     "data": {
      "text/plain": [
       "7"
      ]
     },
     "execution_count": 118,
     "metadata": {},
     "output_type": "execute_result"
    }
   ],
   "source": [
    "ar.max()"
   ]
  },
  {
   "cell_type": "code",
   "execution_count": 119,
   "id": "e4ddec51",
   "metadata": {},
   "outputs": [
    {
     "data": {
      "text/plain": [
       "0"
      ]
     },
     "execution_count": 119,
     "metadata": {},
     "output_type": "execute_result"
    }
   ],
   "source": [
    "ar.min()"
   ]
  },
  {
   "cell_type": "code",
   "execution_count": 120,
   "id": "dfddfc87",
   "metadata": {},
   "outputs": [
    {
     "data": {
      "text/plain": [
       "array([[1, 2, 3],\n",
       "       [4, 5, 6],\n",
       "       [7, 1, 0]])"
      ]
     },
     "execution_count": 120,
     "metadata": {},
     "output_type": "execute_result"
    }
   ],
   "source": [
    "ar "
   ]
  },
  {
   "cell_type": "code",
   "execution_count": 121,
   "id": "743bd42f",
   "metadata": {},
   "outputs": [
    {
     "data": {
      "text/plain": [
       "(array([1, 2], dtype=int64), array([2, 0], dtype=int64))"
      ]
     },
     "execution_count": 121,
     "metadata": {},
     "output_type": "execute_result"
    }
   ],
   "source": [
    "np.where(ar>5) #it gives us arrays in form of tuple, where elemts are grater than 5."
   ]
  },
  {
   "cell_type": "code",
   "execution_count": 122,
   "id": "07c6d694",
   "metadata": {},
   "outputs": [
    {
     "data": {
      "text/plain": [
       "tuple"
      ]
     },
     "execution_count": 122,
     "metadata": {},
     "output_type": "execute_result"
    }
   ],
   "source": [
    "type(np.where(ar>5))"
   ]
  },
  {
   "cell_type": "code",
   "execution_count": 123,
   "id": "3c91c805",
   "metadata": {},
   "outputs": [
    {
     "data": {
      "text/plain": [
       "8"
      ]
     },
     "execution_count": 123,
     "metadata": {},
     "output_type": "execute_result"
    }
   ],
   "source": [
    "np.count_nonzero(ar) #kitne non zero element present hai in this array"
   ]
  },
  {
   "cell_type": "code",
   "execution_count": 124,
   "id": "3a9d016e",
   "metadata": {},
   "outputs": [
    {
     "data": {
      "text/plain": [
       "'Return the indices of the elements that are non-zero.'"
      ]
     },
     "execution_count": 124,
     "metadata": {},
     "output_type": "execute_result"
    }
   ],
   "source": [
    "np.nonzero(ar)  #  2,\n",
    "                #  2,   inke alawa sab milega,becoz (2,2) pe zero hai\n",
    "    \n",
    "'''Return the indices of the elements that are non-zero.'''                  "
   ]
  },
  {
   "cell_type": "code",
   "execution_count": 125,
   "id": "6a9425de",
   "metadata": {},
   "outputs": [
    {
     "data": {
      "text/plain": [
       "tuple"
      ]
     },
     "execution_count": 125,
     "metadata": {},
     "output_type": "execute_result"
    }
   ],
   "source": [
    "type(np.nonzero(ar))"
   ]
  },
  {
   "cell_type": "code",
   "execution_count": 126,
   "id": "91fa6dcd",
   "metadata": {},
   "outputs": [],
   "source": [
    "ar[1,2]=0"
   ]
  },
  {
   "cell_type": "code",
   "execution_count": 127,
   "id": "f03cfcc1",
   "metadata": {},
   "outputs": [
    {
     "data": {
      "text/plain": [
       "(array([0, 0, 0, 1, 1, 2, 2], dtype=int64),\n",
       " array([0, 1, 2, 0, 1, 0, 1], dtype=int64))"
      ]
     },
     "execution_count": 127,
     "metadata": {},
     "output_type": "execute_result"
    }
   ],
   "source": [
    "np.nonzero(ar)  #(1,2) bhi hat chuka hai, becoz ab (1,2) pe zero hai"
   ]
  },
  {
   "cell_type": "markdown",
   "id": "d5d38d21",
   "metadata": {},
   "source": [
    "*REMEMBER*\n",
    "          ***PYTHON KI ARRAY, KI SIZE, NUMPY KI ARRAY KI SIZE, SE JYADA NBADI HOTI HAI\n",
    "        IT MEANS IT TAKE MORE MEMORY STORAGE***"
   ]
  },
  {
   "cell_type": "code",
   "execution_count": 128,
   "id": "7e60a6ae",
   "metadata": {},
   "outputs": [
    {
     "data": {
      "text/plain": [
       "[[1, 2, 3], [4, 5, 0], [7, 1, 0]]"
      ]
     },
     "execution_count": 128,
     "metadata": {},
     "output_type": "execute_result"
    }
   ],
   "source": [
    "ar.tolist()"
   ]
  },
  {
   "cell_type": "code",
   "execution_count": null,
   "id": "c4c4580e",
   "metadata": {},
   "outputs": [],
   "source": []
  }
 ],
 "metadata": {
  "kernelspec": {
   "display_name": "Python 3",
   "language": "python",
   "name": "python3"
  },
  "language_info": {
   "codemirror_mode": {
    "name": "ipython",
    "version": 3
   },
   "file_extension": ".py",
   "mimetype": "text/x-python",
   "name": "python",
   "nbconvert_exporter": "python",
   "pygments_lexer": "ipython3",
   "version": "3.7.4"
  }
 },
 "nbformat": 4,
 "nbformat_minor": 5
}
